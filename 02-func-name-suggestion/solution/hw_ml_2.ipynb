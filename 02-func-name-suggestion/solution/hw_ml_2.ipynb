{
  "cells": [
    {
      "cell_type": "code",
      "execution_count": 1,
      "metadata": {
        "colab": {
          "base_uri": "https://localhost:8080/"
        },
        "id": "i0Vf9tV3vvaz",
        "outputId": "c0612a02-fcf2-4bcd-fd8f-6067b3d8307a"
      },
      "outputs": [
        {
          "output_type": "stream",
          "name": "stdout",
          "text": [
            "Cloning into 'ai4se-hse-course-24-25'...\n",
            "remote: Enumerating objects: 22, done.\u001b[K\n",
            "remote: Counting objects: 100% (15/15), done.\u001b[K\n",
            "remote: Compressing objects: 100% (14/14), done.\u001b[K\n",
            "remote: Total 22 (delta 3), reused 1 (delta 1), pack-reused 7 (from 1)\u001b[K\n",
            "Receiving objects: 100% (22/22), 9.56 KiB | 181.00 KiB/s, done.\n",
            "Resolving deltas: 100% (3/3), done.\n"
          ]
        }
      ],
      "source": [
        "!git clone https://github.com/ai4se-course/ai4se-hse-course-24-25.git"
      ]
    },
    {
      "cell_type": "markdown",
      "metadata": {
        "id": "BbAJoptePuPF"
      },
      "source": [
        "Установите и настройте библиотеку tree-sitter для синтаксического анализа кода на Python и необходимые файлы для языка (пакеты tree-sitter и tree-sitter-python)."
      ]
    },
    {
      "cell_type": "code",
      "execution_count": 2,
      "metadata": {
        "colab": {
          "base_uri": "https://localhost:8080/"
        },
        "id": "D7CR9P5mvzBK",
        "outputId": "41d69a79-87fd-42cc-f2dc-1cb61d0d62d4",
        "collapsed": true
      },
      "outputs": [
        {
          "output_type": "stream",
          "name": "stdout",
          "text": [
            "Collecting tree-sitter==0.22.3 (from -r ai4se-hse-course-24-25/02-func-name-suggestion/requirements.txt (line 1))\n",
            "  Downloading tree_sitter-0.22.3-cp310-cp310-manylinux_2_17_x86_64.manylinux2014_x86_64.whl.metadata (10 kB)\n",
            "Collecting tree-sitter-python==0.21.0 (from -r ai4se-hse-course-24-25/02-func-name-suggestion/requirements.txt (line 2))\n",
            "  Downloading tree_sitter_python-0.21.0-cp38-abi3-manylinux_2_5_x86_64.manylinux1_x86_64.manylinux_2_17_x86_64.manylinux2014_x86_64.whl.metadata (1.8 kB)\n",
            "Collecting datasets==2.20.0 (from -r ai4se-hse-course-24-25/02-func-name-suggestion/requirements.txt (line 3))\n",
            "  Downloading datasets-2.20.0-py3-none-any.whl.metadata (19 kB)\n",
            "Collecting evaluate==0.4.2 (from -r ai4se-hse-course-24-25/02-func-name-suggestion/requirements.txt (line 4))\n",
            "  Downloading evaluate-0.4.2-py3-none-any.whl.metadata (9.3 kB)\n",
            "Collecting rouge_score==0.1.2 (from -r ai4se-hse-course-24-25/02-func-name-suggestion/requirements.txt (line 5))\n",
            "  Downloading rouge_score-0.1.2.tar.gz (17 kB)\n",
            "  Preparing metadata (setup.py) ... \u001b[?25l\u001b[?25hdone\n",
            "Requirement already satisfied: torch==2.5.1 in /usr/local/lib/python3.10/dist-packages (from -r ai4se-hse-course-24-25/02-func-name-suggestion/requirements.txt (line 6)) (2.5.1+cu121)\n",
            "Requirement already satisfied: transformers==4.46.2 in /usr/local/lib/python3.10/dist-packages (from -r ai4se-hse-course-24-25/02-func-name-suggestion/requirements.txt (line 7)) (4.46.2)\n",
            "Requirement already satisfied: filelock in /usr/local/lib/python3.10/dist-packages (from datasets==2.20.0->-r ai4se-hse-course-24-25/02-func-name-suggestion/requirements.txt (line 3)) (3.16.1)\n",
            "Requirement already satisfied: numpy>=1.17 in /usr/local/lib/python3.10/dist-packages (from datasets==2.20.0->-r ai4se-hse-course-24-25/02-func-name-suggestion/requirements.txt (line 3)) (1.26.4)\n",
            "Requirement already satisfied: pyarrow>=15.0.0 in /usr/local/lib/python3.10/dist-packages (from datasets==2.20.0->-r ai4se-hse-course-24-25/02-func-name-suggestion/requirements.txt (line 3)) (17.0.0)\n",
            "Requirement already satisfied: pyarrow-hotfix in /usr/local/lib/python3.10/dist-packages (from datasets==2.20.0->-r ai4se-hse-course-24-25/02-func-name-suggestion/requirements.txt (line 3)) (0.6)\n",
            "Collecting dill<0.3.9,>=0.3.0 (from datasets==2.20.0->-r ai4se-hse-course-24-25/02-func-name-suggestion/requirements.txt (line 3))\n",
            "  Downloading dill-0.3.8-py3-none-any.whl.metadata (10 kB)\n",
            "Requirement already satisfied: pandas in /usr/local/lib/python3.10/dist-packages (from datasets==2.20.0->-r ai4se-hse-course-24-25/02-func-name-suggestion/requirements.txt (line 3)) (2.2.2)\n",
            "Requirement already satisfied: requests>=2.32.2 in /usr/local/lib/python3.10/dist-packages (from datasets==2.20.0->-r ai4se-hse-course-24-25/02-func-name-suggestion/requirements.txt (line 3)) (2.32.3)\n",
            "Requirement already satisfied: tqdm>=4.66.3 in /usr/local/lib/python3.10/dist-packages (from datasets==2.20.0->-r ai4se-hse-course-24-25/02-func-name-suggestion/requirements.txt (line 3)) (4.66.6)\n",
            "Collecting xxhash (from datasets==2.20.0->-r ai4se-hse-course-24-25/02-func-name-suggestion/requirements.txt (line 3))\n",
            "  Downloading xxhash-3.5.0-cp310-cp310-manylinux_2_17_x86_64.manylinux2014_x86_64.whl.metadata (12 kB)\n",
            "Collecting multiprocess (from datasets==2.20.0->-r ai4se-hse-course-24-25/02-func-name-suggestion/requirements.txt (line 3))\n",
            "  Downloading multiprocess-0.70.17-py310-none-any.whl.metadata (7.2 kB)\n",
            "Collecting fsspec<=2024.5.0,>=2023.1.0 (from fsspec[http]<=2024.5.0,>=2023.1.0->datasets==2.20.0->-r ai4se-hse-course-24-25/02-func-name-suggestion/requirements.txt (line 3))\n",
            "  Downloading fsspec-2024.5.0-py3-none-any.whl.metadata (11 kB)\n",
            "Requirement already satisfied: aiohttp in /usr/local/lib/python3.10/dist-packages (from datasets==2.20.0->-r ai4se-hse-course-24-25/02-func-name-suggestion/requirements.txt (line 3)) (3.11.2)\n",
            "Requirement already satisfied: huggingface-hub>=0.21.2 in /usr/local/lib/python3.10/dist-packages (from datasets==2.20.0->-r ai4se-hse-course-24-25/02-func-name-suggestion/requirements.txt (line 3)) (0.26.2)\n",
            "Requirement already satisfied: packaging in /usr/local/lib/python3.10/dist-packages (from datasets==2.20.0->-r ai4se-hse-course-24-25/02-func-name-suggestion/requirements.txt (line 3)) (24.2)\n",
            "Requirement already satisfied: pyyaml>=5.1 in /usr/local/lib/python3.10/dist-packages (from datasets==2.20.0->-r ai4se-hse-course-24-25/02-func-name-suggestion/requirements.txt (line 3)) (6.0.2)\n",
            "Requirement already satisfied: absl-py in /usr/local/lib/python3.10/dist-packages (from rouge_score==0.1.2->-r ai4se-hse-course-24-25/02-func-name-suggestion/requirements.txt (line 5)) (1.4.0)\n",
            "Requirement already satisfied: nltk in /usr/local/lib/python3.10/dist-packages (from rouge_score==0.1.2->-r ai4se-hse-course-24-25/02-func-name-suggestion/requirements.txt (line 5)) (3.9.1)\n",
            "Requirement already satisfied: six>=1.14.0 in /usr/local/lib/python3.10/dist-packages (from rouge_score==0.1.2->-r ai4se-hse-course-24-25/02-func-name-suggestion/requirements.txt (line 5)) (1.16.0)\n",
            "Requirement already satisfied: typing-extensions>=4.8.0 in /usr/local/lib/python3.10/dist-packages (from torch==2.5.1->-r ai4se-hse-course-24-25/02-func-name-suggestion/requirements.txt (line 6)) (4.12.2)\n",
            "Requirement already satisfied: networkx in /usr/local/lib/python3.10/dist-packages (from torch==2.5.1->-r ai4se-hse-course-24-25/02-func-name-suggestion/requirements.txt (line 6)) (3.4.2)\n",
            "Requirement already satisfied: jinja2 in /usr/local/lib/python3.10/dist-packages (from torch==2.5.1->-r ai4se-hse-course-24-25/02-func-name-suggestion/requirements.txt (line 6)) (3.1.4)\n",
            "Requirement already satisfied: sympy==1.13.1 in /usr/local/lib/python3.10/dist-packages (from torch==2.5.1->-r ai4se-hse-course-24-25/02-func-name-suggestion/requirements.txt (line 6)) (1.13.1)\n",
            "Requirement already satisfied: regex!=2019.12.17 in /usr/local/lib/python3.10/dist-packages (from transformers==4.46.2->-r ai4se-hse-course-24-25/02-func-name-suggestion/requirements.txt (line 7)) (2024.9.11)\n",
            "Requirement already satisfied: safetensors>=0.4.1 in /usr/local/lib/python3.10/dist-packages (from transformers==4.46.2->-r ai4se-hse-course-24-25/02-func-name-suggestion/requirements.txt (line 7)) (0.4.5)\n",
            "Requirement already satisfied: tokenizers<0.21,>=0.20 in /usr/local/lib/python3.10/dist-packages (from transformers==4.46.2->-r ai4se-hse-course-24-25/02-func-name-suggestion/requirements.txt (line 7)) (0.20.3)\n",
            "Requirement already satisfied: mpmath<1.4,>=1.1.0 in /usr/local/lib/python3.10/dist-packages (from sympy==1.13.1->torch==2.5.1->-r ai4se-hse-course-24-25/02-func-name-suggestion/requirements.txt (line 6)) (1.3.0)\n",
            "Requirement already satisfied: aiohappyeyeballs>=2.3.0 in /usr/local/lib/python3.10/dist-packages (from aiohttp->datasets==2.20.0->-r ai4se-hse-course-24-25/02-func-name-suggestion/requirements.txt (line 3)) (2.4.3)\n",
            "Requirement already satisfied: aiosignal>=1.1.2 in /usr/local/lib/python3.10/dist-packages (from aiohttp->datasets==2.20.0->-r ai4se-hse-course-24-25/02-func-name-suggestion/requirements.txt (line 3)) (1.3.1)\n",
            "Requirement already satisfied: attrs>=17.3.0 in /usr/local/lib/python3.10/dist-packages (from aiohttp->datasets==2.20.0->-r ai4se-hse-course-24-25/02-func-name-suggestion/requirements.txt (line 3)) (24.2.0)\n",
            "Requirement already satisfied: frozenlist>=1.1.1 in /usr/local/lib/python3.10/dist-packages (from aiohttp->datasets==2.20.0->-r ai4se-hse-course-24-25/02-func-name-suggestion/requirements.txt (line 3)) (1.5.0)\n",
            "Requirement already satisfied: multidict<7.0,>=4.5 in /usr/local/lib/python3.10/dist-packages (from aiohttp->datasets==2.20.0->-r ai4se-hse-course-24-25/02-func-name-suggestion/requirements.txt (line 3)) (6.1.0)\n",
            "Requirement already satisfied: propcache>=0.2.0 in /usr/local/lib/python3.10/dist-packages (from aiohttp->datasets==2.20.0->-r ai4se-hse-course-24-25/02-func-name-suggestion/requirements.txt (line 3)) (0.2.0)\n",
            "Requirement already satisfied: yarl<2.0,>=1.17.0 in /usr/local/lib/python3.10/dist-packages (from aiohttp->datasets==2.20.0->-r ai4se-hse-course-24-25/02-func-name-suggestion/requirements.txt (line 3)) (1.17.2)\n",
            "Requirement already satisfied: async-timeout<6.0,>=4.0 in /usr/local/lib/python3.10/dist-packages (from aiohttp->datasets==2.20.0->-r ai4se-hse-course-24-25/02-func-name-suggestion/requirements.txt (line 3)) (4.0.3)\n",
            "Requirement already satisfied: charset-normalizer<4,>=2 in /usr/local/lib/python3.10/dist-packages (from requests>=2.32.2->datasets==2.20.0->-r ai4se-hse-course-24-25/02-func-name-suggestion/requirements.txt (line 3)) (3.4.0)\n",
            "Requirement already satisfied: idna<4,>=2.5 in /usr/local/lib/python3.10/dist-packages (from requests>=2.32.2->datasets==2.20.0->-r ai4se-hse-course-24-25/02-func-name-suggestion/requirements.txt (line 3)) (3.10)\n",
            "Requirement already satisfied: urllib3<3,>=1.21.1 in /usr/local/lib/python3.10/dist-packages (from requests>=2.32.2->datasets==2.20.0->-r ai4se-hse-course-24-25/02-func-name-suggestion/requirements.txt (line 3)) (2.2.3)\n",
            "Requirement already satisfied: certifi>=2017.4.17 in /usr/local/lib/python3.10/dist-packages (from requests>=2.32.2->datasets==2.20.0->-r ai4se-hse-course-24-25/02-func-name-suggestion/requirements.txt (line 3)) (2024.8.30)\n",
            "Requirement already satisfied: MarkupSafe>=2.0 in /usr/local/lib/python3.10/dist-packages (from jinja2->torch==2.5.1->-r ai4se-hse-course-24-25/02-func-name-suggestion/requirements.txt (line 6)) (3.0.2)\n",
            "INFO: pip is looking at multiple versions of multiprocess to determine which version is compatible with other requirements. This could take a while.\n",
            "Collecting multiprocess (from datasets==2.20.0->-r ai4se-hse-course-24-25/02-func-name-suggestion/requirements.txt (line 3))\n",
            "  Downloading multiprocess-0.70.16-py310-none-any.whl.metadata (7.2 kB)\n",
            "Requirement already satisfied: click in /usr/local/lib/python3.10/dist-packages (from nltk->rouge_score==0.1.2->-r ai4se-hse-course-24-25/02-func-name-suggestion/requirements.txt (line 5)) (8.1.7)\n",
            "Requirement already satisfied: joblib in /usr/local/lib/python3.10/dist-packages (from nltk->rouge_score==0.1.2->-r ai4se-hse-course-24-25/02-func-name-suggestion/requirements.txt (line 5)) (1.4.2)\n",
            "Requirement already satisfied: python-dateutil>=2.8.2 in /usr/local/lib/python3.10/dist-packages (from pandas->datasets==2.20.0->-r ai4se-hse-course-24-25/02-func-name-suggestion/requirements.txt (line 3)) (2.8.2)\n",
            "Requirement already satisfied: pytz>=2020.1 in /usr/local/lib/python3.10/dist-packages (from pandas->datasets==2.20.0->-r ai4se-hse-course-24-25/02-func-name-suggestion/requirements.txt (line 3)) (2024.2)\n",
            "Requirement already satisfied: tzdata>=2022.7 in /usr/local/lib/python3.10/dist-packages (from pandas->datasets==2.20.0->-r ai4se-hse-course-24-25/02-func-name-suggestion/requirements.txt (line 3)) (2024.2)\n",
            "Downloading tree_sitter-0.22.3-cp310-cp310-manylinux_2_17_x86_64.manylinux2014_x86_64.whl (542 kB)\n",
            "\u001b[2K   \u001b[90m━━━━━━━━━━━━━━━━━━━━━━━━━━━━━━━━━━━━━━━━\u001b[0m \u001b[32m542.6/542.6 kB\u001b[0m \u001b[31m17.1 MB/s\u001b[0m eta \u001b[36m0:00:00\u001b[0m\n",
            "\u001b[?25hDownloading tree_sitter_python-0.21.0-cp38-abi3-manylinux_2_5_x86_64.manylinux1_x86_64.manylinux_2_17_x86_64.manylinux2014_x86_64.whl (130 kB)\n",
            "\u001b[2K   \u001b[90m━━━━━━━━━━━━━━━━━━━━━━━━━━━━━━━━━━━━━━━━\u001b[0m \u001b[32m130.6/130.6 kB\u001b[0m \u001b[31m10.9 MB/s\u001b[0m eta \u001b[36m0:00:00\u001b[0m\n",
            "\u001b[?25hDownloading datasets-2.20.0-py3-none-any.whl (547 kB)\n",
            "\u001b[2K   \u001b[90m━━━━━━━━━━━━━━━━━━━━━━━━━━━━━━━━━━━━━━━━\u001b[0m \u001b[32m547.8/547.8 kB\u001b[0m \u001b[31m24.3 MB/s\u001b[0m eta \u001b[36m0:00:00\u001b[0m\n",
            "\u001b[?25hDownloading evaluate-0.4.2-py3-none-any.whl (84 kB)\n",
            "\u001b[2K   \u001b[90m━━━━━━━━━━━━━━━━━━━━━━━━━━━━━━━━━━━━━━━━\u001b[0m \u001b[32m84.1/84.1 kB\u001b[0m \u001b[31m4.7 MB/s\u001b[0m eta \u001b[36m0:00:00\u001b[0m\n",
            "\u001b[?25hDownloading dill-0.3.8-py3-none-any.whl (116 kB)\n",
            "\u001b[2K   \u001b[90m━━━━━━━━━━━━━━━━━━━━━━━━━━━━━━━━━━━━━━━━\u001b[0m \u001b[32m116.3/116.3 kB\u001b[0m \u001b[31m8.3 MB/s\u001b[0m eta \u001b[36m0:00:00\u001b[0m\n",
            "\u001b[?25hDownloading fsspec-2024.5.0-py3-none-any.whl (316 kB)\n",
            "\u001b[2K   \u001b[90m━━━━━━━━━━━━━━━━━━━━━━━━━━━━━━━━━━━━━━━━\u001b[0m \u001b[32m316.1/316.1 kB\u001b[0m \u001b[31m17.5 MB/s\u001b[0m eta \u001b[36m0:00:00\u001b[0m\n",
            "\u001b[?25hDownloading multiprocess-0.70.16-py310-none-any.whl (134 kB)\n",
            "\u001b[2K   \u001b[90m━━━━━━━━━━━━━━━━━━━━━━━━━━━━━━━━━━━━━━━━\u001b[0m \u001b[32m134.8/134.8 kB\u001b[0m \u001b[31m8.4 MB/s\u001b[0m eta \u001b[36m0:00:00\u001b[0m\n",
            "\u001b[?25hDownloading xxhash-3.5.0-cp310-cp310-manylinux_2_17_x86_64.manylinux2014_x86_64.whl (194 kB)\n",
            "\u001b[2K   \u001b[90m━━━━━━━━━━━━━━━━━━━━━━━━━━━━━━━━━━━━━━━━\u001b[0m \u001b[32m194.1/194.1 kB\u001b[0m \u001b[31m10.0 MB/s\u001b[0m eta \u001b[36m0:00:00\u001b[0m\n",
            "\u001b[?25hBuilding wheels for collected packages: rouge_score\n",
            "  Building wheel for rouge_score (setup.py) ... \u001b[?25l\u001b[?25hdone\n",
            "  Created wheel for rouge_score: filename=rouge_score-0.1.2-py3-none-any.whl size=24935 sha256=8f0797fd0e7037cd1362c4c3100ba63d76ef9c820b856dd7301441a407c007ee\n",
            "  Stored in directory: /root/.cache/pip/wheels/5f/dd/89/461065a73be61a532ff8599a28e9beef17985c9e9c31e541b4\n",
            "Successfully built rouge_score\n",
            "Installing collected packages: xxhash, tree-sitter-python, tree-sitter, fsspec, dill, rouge_score, multiprocess, datasets, evaluate\n",
            "  Attempting uninstall: fsspec\n",
            "    Found existing installation: fsspec 2024.10.0\n",
            "    Uninstalling fsspec-2024.10.0:\n",
            "      Successfully uninstalled fsspec-2024.10.0\n",
            "\u001b[31mERROR: pip's dependency resolver does not currently take into account all the packages that are installed. This behaviour is the source of the following dependency conflicts.\n",
            "gcsfs 2024.10.0 requires fsspec==2024.10.0, but you have fsspec 2024.5.0 which is incompatible.\u001b[0m\u001b[31m\n",
            "\u001b[0mSuccessfully installed datasets-2.20.0 dill-0.3.8 evaluate-0.4.2 fsspec-2024.5.0 multiprocess-0.70.16 rouge_score-0.1.2 tree-sitter-0.22.3 tree-sitter-python-0.21.0 xxhash-3.5.0\n",
            "Collecting black==22.3.0 (from -r ai4se-hse-course-24-25/02-func-name-suggestion/requirements_dev.txt (line 1))\n",
            "  Downloading black-22.3.0-cp310-cp310-manylinux_2_17_x86_64.manylinux2014_x86_64.whl.metadata (45 kB)\n",
            "\u001b[2K     \u001b[90m━━━━━━━━━━━━━━━━━━━━━━━━━━━━━━━━━━━━━━━━\u001b[0m \u001b[32m45.6/45.6 kB\u001b[0m \u001b[31m1.5 MB/s\u001b[0m eta \u001b[36m0:00:00\u001b[0m\n",
            "\u001b[?25hCollecting flake8==4.0.1 (from -r ai4se-hse-course-24-25/02-func-name-suggestion/requirements_dev.txt (line 2))\n",
            "  Downloading flake8-4.0.1-py2.py3-none-any.whl.metadata (4.0 kB)\n",
            "Collecting flake8-builtins==1.5.3 (from -r ai4se-hse-course-24-25/02-func-name-suggestion/requirements_dev.txt (line 3))\n",
            "  Downloading flake8_builtins-1.5.3-py2.py3-none-any.whl.metadata (7.7 kB)\n",
            "Collecting flake8-comprehensions==3.10.0 (from -r ai4se-hse-course-24-25/02-func-name-suggestion/requirements_dev.txt (line 4))\n",
            "  Downloading flake8_comprehensions-3.10.0-py3-none-any.whl.metadata (9.2 kB)\n",
            "Collecting flake8-docstrings==1.5.0 (from -r ai4se-hse-course-24-25/02-func-name-suggestion/requirements_dev.txt (line 5))\n",
            "  Downloading flake8_docstrings-1.5.0-py2.py3-none-any.whl.metadata (4.3 kB)\n",
            "Collecting flake8-import-order==0.18.1 (from -r ai4se-hse-course-24-25/02-func-name-suggestion/requirements_dev.txt (line 6))\n",
            "  Downloading flake8_import_order-0.18.1-py2.py3-none-any.whl.metadata (8.3 kB)\n",
            "Collecting flake8-pep585==0.1.5.1 (from -r ai4se-hse-course-24-25/02-func-name-suggestion/requirements_dev.txt (line 7))\n",
            "  Downloading flake8_pep585-0.1.5.1-py3-none-any.whl.metadata (2.3 kB)\n",
            "Collecting flake8-quotes==2.1.1 (from -r ai4se-hse-course-24-25/02-func-name-suggestion/requirements_dev.txt (line 8))\n",
            "  Downloading flake8-quotes-2.1.1.tar.gz (12 kB)\n",
            "  Preparing metadata (setup.py) ... \u001b[?25l\u001b[?25hdone\n",
            "Collecting flakeheaven==3.0.0 (from -r ai4se-hse-course-24-25/02-func-name-suggestion/requirements_dev.txt (line 9))\n",
            "  Downloading flakeheaven-3.0.0-py3-none-any.whl.metadata (7.4 kB)\n",
            "Requirement already satisfied: click>=8.0.0 in /usr/local/lib/python3.10/dist-packages (from black==22.3.0->-r ai4se-hse-course-24-25/02-func-name-suggestion/requirements_dev.txt (line 1)) (8.1.7)\n",
            "Requirement already satisfied: platformdirs>=2 in /usr/local/lib/python3.10/dist-packages (from black==22.3.0->-r ai4se-hse-course-24-25/02-func-name-suggestion/requirements_dev.txt (line 1)) (4.3.6)\n",
            "Collecting pathspec>=0.9.0 (from black==22.3.0->-r ai4se-hse-course-24-25/02-func-name-suggestion/requirements_dev.txt (line 1))\n",
            "  Downloading pathspec-0.12.1-py3-none-any.whl.metadata (21 kB)\n",
            "Collecting mypy-extensions>=0.4.3 (from black==22.3.0->-r ai4se-hse-course-24-25/02-func-name-suggestion/requirements_dev.txt (line 1))\n",
            "  Downloading mypy_extensions-1.0.0-py3-none-any.whl.metadata (1.1 kB)\n",
            "Requirement already satisfied: tomli>=1.1.0 in /usr/local/lib/python3.10/dist-packages (from black==22.3.0->-r ai4se-hse-course-24-25/02-func-name-suggestion/requirements_dev.txt (line 1)) (2.1.0)\n",
            "Collecting mccabe<0.7.0,>=0.6.0 (from flake8==4.0.1->-r ai4se-hse-course-24-25/02-func-name-suggestion/requirements_dev.txt (line 2))\n",
            "  Downloading mccabe-0.6.1-py2.py3-none-any.whl.metadata (4.3 kB)\n",
            "Collecting pycodestyle<2.9.0,>=2.8.0 (from flake8==4.0.1->-r ai4se-hse-course-24-25/02-func-name-suggestion/requirements_dev.txt (line 2))\n",
            "  Downloading pycodestyle-2.8.0-py2.py3-none-any.whl.metadata (31 kB)\n",
            "Collecting pyflakes<2.5.0,>=2.4.0 (from flake8==4.0.1->-r ai4se-hse-course-24-25/02-func-name-suggestion/requirements_dev.txt (line 2))\n",
            "  Downloading pyflakes-2.4.0-py2.py3-none-any.whl.metadata (3.9 kB)\n",
            "Collecting pydocstyle>=2.1 (from flake8-docstrings==1.5.0->-r ai4se-hse-course-24-25/02-func-name-suggestion/requirements_dev.txt (line 5))\n",
            "  Downloading pydocstyle-6.3.0-py3-none-any.whl.metadata (3.7 kB)\n",
            "Requirement already satisfied: setuptools in /usr/local/lib/python3.10/dist-packages (from flake8-import-order==0.18.1->-r ai4se-hse-course-24-25/02-func-name-suggestion/requirements_dev.txt (line 6)) (75.1.0)\n",
            "Collecting colorama (from flakeheaven==3.0.0->-r ai4se-hse-course-24-25/02-func-name-suggestion/requirements_dev.txt (line 9))\n",
            "  Downloading colorama-0.4.6-py2.py3-none-any.whl.metadata (17 kB)\n",
            "Requirement already satisfied: entrypoints in /usr/local/lib/python3.10/dist-packages (from flakeheaven==3.0.0->-r ai4se-hse-course-24-25/02-func-name-suggestion/requirements_dev.txt (line 9)) (0.4)\n",
            "Requirement already satisfied: pygments in /usr/local/lib/python3.10/dist-packages (from flakeheaven==3.0.0->-r ai4se-hse-course-24-25/02-func-name-suggestion/requirements_dev.txt (line 9)) (2.18.0)\n",
            "Requirement already satisfied: toml in /usr/local/lib/python3.10/dist-packages (from flakeheaven==3.0.0->-r ai4se-hse-course-24-25/02-func-name-suggestion/requirements_dev.txt (line 9)) (0.10.2)\n",
            "Requirement already satisfied: urllib3 in /usr/local/lib/python3.10/dist-packages (from flakeheaven==3.0.0->-r ai4se-hse-course-24-25/02-func-name-suggestion/requirements_dev.txt (line 9)) (2.2.3)\n",
            "Requirement already satisfied: snowballstemmer>=2.2.0 in /usr/local/lib/python3.10/dist-packages (from pydocstyle>=2.1->flake8-docstrings==1.5.0->-r ai4se-hse-course-24-25/02-func-name-suggestion/requirements_dev.txt (line 5)) (2.2.0)\n",
            "Downloading black-22.3.0-cp310-cp310-manylinux_2_17_x86_64.manylinux2014_x86_64.whl (1.5 MB)\n",
            "\u001b[2K   \u001b[90m━━━━━━━━━━━━━━━━━━━━━━━━━━━━━━━━━━━━━━━━\u001b[0m \u001b[32m1.5/1.5 MB\u001b[0m \u001b[31m6.4 MB/s\u001b[0m eta \u001b[36m0:00:00\u001b[0m\n",
            "\u001b[?25hDownloading flake8-4.0.1-py2.py3-none-any.whl (64 kB)\n",
            "\u001b[2K   \u001b[90m━━━━━━━━━━━━━━━━━━━━━━━━━━━━━━━━━━━━━━━━\u001b[0m \u001b[32m64.1/64.1 kB\u001b[0m \u001b[31m3.9 MB/s\u001b[0m eta \u001b[36m0:00:00\u001b[0m\n",
            "\u001b[?25hDownloading flake8_builtins-1.5.3-py2.py3-none-any.whl (12 kB)\n",
            "Downloading flake8_comprehensions-3.10.0-py3-none-any.whl (7.3 kB)\n",
            "Downloading flake8_docstrings-1.5.0-py2.py3-none-any.whl (5.5 kB)\n",
            "Downloading flake8_import_order-0.18.1-py2.py3-none-any.whl (15 kB)\n",
            "Downloading flake8_pep585-0.1.5.1-py3-none-any.whl (9.8 kB)\n",
            "Downloading flakeheaven-3.0.0-py3-none-any.whl (45 kB)\n",
            "\u001b[2K   \u001b[90m━━━━━━━━━━━━━━━━━━━━━━━━━━━━━━━━━━━━━━━━\u001b[0m \u001b[32m45.8/45.8 kB\u001b[0m \u001b[31m3.0 MB/s\u001b[0m eta \u001b[36m0:00:00\u001b[0m\n",
            "\u001b[?25hDownloading mccabe-0.6.1-py2.py3-none-any.whl (8.6 kB)\n",
            "Downloading mypy_extensions-1.0.0-py3-none-any.whl (4.7 kB)\n",
            "Downloading pathspec-0.12.1-py3-none-any.whl (31 kB)\n",
            "Downloading pycodestyle-2.8.0-py2.py3-none-any.whl (42 kB)\n",
            "\u001b[2K   \u001b[90m━━━━━━━━━━━━━━━━━━━━━━━━━━━━━━━━━━━━━━━━\u001b[0m \u001b[32m42.1/42.1 kB\u001b[0m \u001b[31m2.8 MB/s\u001b[0m eta \u001b[36m0:00:00\u001b[0m\n",
            "\u001b[?25hDownloading pydocstyle-6.3.0-py3-none-any.whl (38 kB)\n",
            "Downloading pyflakes-2.4.0-py2.py3-none-any.whl (69 kB)\n",
            "\u001b[2K   \u001b[90m━━━━━━━━━━━━━━━━━━━━━━━━━━━━━━━━━━━━━━━━\u001b[0m \u001b[32m69.7/69.7 kB\u001b[0m \u001b[31m3.3 MB/s\u001b[0m eta \u001b[36m0:00:00\u001b[0m\n",
            "\u001b[?25hDownloading colorama-0.4.6-py2.py3-none-any.whl (25 kB)\n",
            "Building wheels for collected packages: flake8-quotes\n",
            "  Building wheel for flake8-quotes (setup.py) ... \u001b[?25l\u001b[?25hdone\n",
            "  Created wheel for flake8-quotes: filename=flake8_quotes-2.1.1-py3-none-any.whl size=8376 sha256=6884068d2cc95dd453c6342d113aaf4a684e3d43661d7a05a80073bb22ee5587\n",
            "  Stored in directory: /root/.cache/pip/wheels/85/d2/2d/591df977f2124f527a2ed9fd9a127191516666f3be22b0a2f7\n",
            "Successfully built flake8-quotes\n",
            "Installing collected packages: mccabe, pyflakes, pydocstyle, pycodestyle, pathspec, mypy-extensions, flake8-pep585, colorama, flake8-import-order, flake8, black, flakeheaven, flake8-quotes, flake8-docstrings, flake8-comprehensions, flake8-builtins\n",
            "Successfully installed black-22.3.0 colorama-0.4.6 flake8-4.0.1 flake8-builtins-1.5.3 flake8-comprehensions-3.10.0 flake8-docstrings-1.5.0 flake8-import-order-0.18.1 flake8-pep585-0.1.5.1 flake8-quotes-2.1.1 flakeheaven-3.0.0 mccabe-0.6.1 mypy-extensions-1.0.0 pathspec-0.12.1 pycodestyle-2.8.0 pydocstyle-6.3.0 pyflakes-2.4.0\n"
          ]
        }
      ],
      "source": [
        "!pip install -r \"ai4se-hse-course-24-25/02-func-name-suggestion/requirements.txt\"\n",
        "!pip install -r \"ai4se-hse-course-24-25/02-func-name-suggestion/requirements_dev.txt\""
      ]
    },
    {
      "cell_type": "markdown",
      "metadata": {
        "id": "RhsleLu9P2AY"
      },
      "source": [
        "Загрузите данные из CodeSearchNet и проанализируйте их структуру (используйте load_dataset из библиотеки datasets из экосистемы HuggingFace, потребуется использовать флаг trust_remote_code=True, не забудьте выбрать язык python, в качестве аргумента splitможно сразу передать test). В процессе выполнения задания можно ограничить количество примеров, например, до первой 1000."
      ]
    },
    {
      "cell_type": "code",
      "execution_count": 3,
      "metadata": {
        "colab": {
          "base_uri": "https://localhost:8080/",
          "height": 400,
          "referenced_widgets": [
            "fb7b3fc443b041cbb66e3a224235f207",
            "186309796f064fcd931ff04e0142df2c",
            "1f0be00547e3417e990c23c288efa052",
            "9fdff473131d4e848284962363bde642",
            "ba0c301dcf4441e88594734f692dd7be",
            "6fc701635b384faf81c05febb76341ab",
            "6bd33e397d884c68a37105489901b7fd",
            "f0c006cdd0354a3ea701eff2a625af36",
            "3c3fc85071744e9fa08b0ca9987b09e8",
            "248a564d428344dc999837add61c7a2e",
            "699a153a89b64c49a8ea6958a159e274",
            "166a2114d45646b4bea53e21cacd2075",
            "ae0ff084da434a8daf5bec6a2436ec62",
            "c1a8dd1e90d445ee82e42be2b6b4b978",
            "352d7570aaa84b8eb5768ee338f998a8",
            "ea404532cddb4f5b9df8025fa660efed",
            "49fbbbc087714a018733591478a7c8f9",
            "9b1d66362a6542c982a7ca2bbbe677b3",
            "23f946b92acd452592d5ec0f88382f11",
            "5b837da03db54e0d94e3c57fd383ea06",
            "64cd70ef3f524145acf6e97581999679",
            "0cdef02aac434408b0e182388fd6d781",
            "f570e97a7b214021b9ec3438e258142d",
            "3f7fa9adce2d49c68e937cf943bf76b8",
            "5c068fd01ae64afc8c1698748a7e883a",
            "7012ec2ab3b5470faea6fa4bb12c9148",
            "e89292474d03451a998ca2d50a8bd1eb",
            "5742666135614bddaeb4d7b10cd5c63a",
            "a9a5c9cd83474e2892e842cad025535f",
            "66d014049dcd4c0097be7035b3f78c17",
            "450eb0bde86c4234b2a45d8e91be745d",
            "942b5cb900d8461eaeaa4362e2c2ff29",
            "5e8c99fe42764a9d959b200622f16fae",
            "4815945290834d5ca70e9b861f162362",
            "323c78fb4b1a42ebb06a2b324b8ed779",
            "bdddce12cb374dfa9f8b7d380e58b90c",
            "df6e37f7bde04c28afd79ca0870b6876",
            "bec4c4ce8a584360a8d39875d5e92faa",
            "0e79ebb10d08412d9a59851b90f9df19",
            "02742b9153374aff8f3fb28bdf090fd4",
            "eaebc041cf4748faaf638c9583f7f7db",
            "b4ef7425abed418f9a28e732537d3cad",
            "80b41769f2414fabbef9ad8f01d7d311",
            "1207f42423eb40e78981726956069160",
            "d0777685a000458189a8a804b7553bea",
            "666490826f914e85b67399d462b957ea",
            "43f9aa444e7b4c95825e6a94881ae994",
            "a96d3f3f33d943e28aeb71d57d872677",
            "cc7227b977604fe08f7eff7f9cffc251",
            "f0fef6cc536242b4bccc6d50d9f052bd",
            "b9952c5d71a34a3cae018a1e26536dc4",
            "4df8728bc5e04fb884361b13c1f99d78",
            "7150727c8a82471b93909ad2ca9ff8c6",
            "f09a173caf4a4aef8da7b3e52348117b",
            "8916274c02e343d88a17dbd4fb4b5c23",
            "9069b5b7bab44f7ab2d285aa583c2a60",
            "f9cb4131c2274dc18e8c7f5785f9d425",
            "4bfea79b3f2f487ca8748eece09d9ae7",
            "48ccbe5aa8b24b5da515507b6296afb3",
            "2ed6a71b14c84ec8b4237afedcc01875",
            "2fd33a7798d34820b65a9d67f8acdbfe",
            "6bc29d8c3ca84b7b8f4bd7cef2a31b9f",
            "d165032213244c82b7b22df8aa7640ff",
            "658ea0182bd143ca86f6c0e80ad73720",
            "89a016b087074fb5b7d96746aaf9c2b5",
            "97f2ecf3621f42a198cfb98bb08d0a7c"
          ]
        },
        "id": "7ALN62fYP2Zt",
        "outputId": "c7eb4629-1f21-4e2c-ef13-3d8dbe946c92"
      },
      "outputs": [
        {
          "output_type": "stream",
          "name": "stderr",
          "text": [
            "/usr/local/lib/python3.10/dist-packages/huggingface_hub/utils/_auth.py:94: UserWarning: \n",
            "The secret `HF_TOKEN` does not exist in your Colab secrets.\n",
            "To authenticate with the Hugging Face Hub, create a token in your settings tab (https://huggingface.co/settings/tokens), set it as secret in your Google Colab and restart your session.\n",
            "You will be able to reuse this secret in all of your notebooks.\n",
            "Please note that authentication is recommended but still optional to access public models or datasets.\n",
            "  warnings.warn(\n"
          ]
        },
        {
          "output_type": "display_data",
          "data": {
            "text/plain": [
              "Downloading builder script:   0%|          | 0.00/8.44k [00:00<?, ?B/s]"
            ],
            "application/vnd.jupyter.widget-view+json": {
              "version_major": 2,
              "version_minor": 0,
              "model_id": "fb7b3fc443b041cbb66e3a224235f207"
            }
          },
          "metadata": {}
        },
        {
          "output_type": "display_data",
          "data": {
            "text/plain": [
              "Downloading readme:   0%|          | 0.00/12.9k [00:00<?, ?B/s]"
            ],
            "application/vnd.jupyter.widget-view+json": {
              "version_major": 2,
              "version_minor": 0,
              "model_id": "166a2114d45646b4bea53e21cacd2075"
            }
          },
          "metadata": {}
        },
        {
          "output_type": "display_data",
          "data": {
            "text/plain": [
              "Downloading data:   0%|          | 0.00/941M [00:00<?, ?B/s]"
            ],
            "application/vnd.jupyter.widget-view+json": {
              "version_major": 2,
              "version_minor": 0,
              "model_id": "f570e97a7b214021b9ec3438e258142d"
            }
          },
          "metadata": {}
        },
        {
          "output_type": "display_data",
          "data": {
            "text/plain": [
              "Generating train split:   0%|          | 0/412178 [00:00<?, ? examples/s]"
            ],
            "application/vnd.jupyter.widget-view+json": {
              "version_major": 2,
              "version_minor": 0,
              "model_id": "4815945290834d5ca70e9b861f162362"
            }
          },
          "metadata": {}
        },
        {
          "output_type": "display_data",
          "data": {
            "text/plain": [
              "Generating test split:   0%|          | 0/22176 [00:00<?, ? examples/s]"
            ],
            "application/vnd.jupyter.widget-view+json": {
              "version_major": 2,
              "version_minor": 0,
              "model_id": "d0777685a000458189a8a804b7553bea"
            }
          },
          "metadata": {}
        },
        {
          "output_type": "display_data",
          "data": {
            "text/plain": [
              "Generating validation split:   0%|          | 0/23107 [00:00<?, ? examples/s]"
            ],
            "application/vnd.jupyter.widget-view+json": {
              "version_major": 2,
              "version_minor": 0,
              "model_id": "9069b5b7bab44f7ab2d285aa583c2a60"
            }
          },
          "metadata": {}
        },
        {
          "output_type": "execute_result",
          "data": {
            "text/plain": [
              "Dataset({\n",
              "    features: ['repository_name', 'func_path_in_repository', 'func_name', 'whole_func_string', 'language', 'func_code_string', 'func_code_tokens', 'func_documentation_string', 'func_documentation_tokens', 'split_name', 'func_code_url'],\n",
              "    num_rows: 1000\n",
              "})"
            ]
          },
          "metadata": {},
          "execution_count": 3
        }
      ],
      "source": [
        "from datasets import load_dataset\n",
        "ds = load_dataset('code-search-net/code_search_net', name=\"python\", split='test[:1000]', trust_remote_code=True)\n",
        "ds\n"
      ]
    },
    {
      "cell_type": "markdown",
      "metadata": {
        "id": "N2xIMyYoS7lB"
      },
      "source": [
        "С помощью библиотеки tree-sitter выполните синтаксический разбор полей whole_func_string и реализуйте извлечения следующих элементов из построенных деревьев:\n",
        "\n",
        "- имя функции\n",
        "- тело функции без комментариев и документации\n",
        "- тело функции с комментариями с документацией (docstrings)\n",
        "\n",
        "Реализация может быть выполнена, с помощью обходчика синтаксического дерева (AST-Visitor) или с использованием query API библиотеки tree-sitter\n"
      ]
    },
    {
      "cell_type": "code",
      "execution_count": 4,
      "metadata": {
        "id": "jd21OWfXTWSQ"
      },
      "outputs": [],
      "source": [
        "import tree_sitter_python as tspython\n",
        "from tree_sitter import Language, Parser, Tree, Node\n",
        "from typing import Generator\n",
        "from datasets import Dataset"
      ]
    },
    {
      "cell_type": "code",
      "execution_count": 5,
      "metadata": {
        "id": "DkuJo2osWJCW"
      },
      "outputs": [],
      "source": [
        "def traverse_tree(tree: Tree) -> Generator[Node, None, None]:\n",
        "    cursor = tree.walk()\n",
        "\n",
        "    visited_children = False\n",
        "    while True:\n",
        "        if not visited_children:\n",
        "            if cursor.node.type == 'comment':\n",
        "                yield [cursor.node.start_byte, cursor.node.end_byte + 1]\n",
        "            if not cursor.goto_first_child():\n",
        "                visited_children = True\n",
        "        elif cursor.goto_next_sibling():\n",
        "            visited_children = False\n",
        "        elif not cursor.goto_parent():\n",
        "            break"
      ]
    },
    {
      "cell_type": "code",
      "execution_count": 6,
      "metadata": {
        "id": "oIOLJhX1pIUF"
      },
      "outputs": [],
      "source": [
        "def get_function_body_node(stb):\n",
        "    PY_LANGUAGE = Language(tspython.language())\n",
        "    parser = Parser(PY_LANGUAGE)\n",
        "    tree = parser.parse(stb)\n",
        "\n",
        "    root_node = tree.root_node\n",
        "    assert root_node.type == 'module'\n",
        "\n",
        "    function_node = root_node.children[0]\n",
        "    assert function_node.type == 'function_definition'\n",
        "\n",
        "    function_name_node = function_node.children[1]\n",
        "    function_name = str(stb[function_name_node.start_byte:function_name_node.end_byte], \"utf8\")\n",
        "\n",
        "    function_body_node = function_node.child_by_field_name(\"body\")\n",
        "\n",
        "    function_parameters_node = function_node.child_by_field_name(\"parameters\")\n",
        "    function_arguments = str(stb[function_parameters_node.start_byte:function_parameters_node.end_byte], \"utf8\")\n",
        "\n",
        "    doc_string = \"\"\n",
        "    for i in range(len(function_body_node.children)):\n",
        "      if function_body_node.children[i].type == \"expression_statement\" and function_body_node.children[i].children[0].type == \"string\":\n",
        "        end_byte = function_body_node.children[i].children[0].children[1].end_byte\n",
        "        while end_byte > 0 and stb[end_byte-1] == 32 or stb[end_byte-1] == 10:\n",
        "          end_byte = end_byte-1\n",
        "        start_byte = function_body_node.children[i].children[0].children[1].start_byte\n",
        "        while end_byte > start_byte and stb[start_byte] == 32 or stb[start_byte] == 10:\n",
        "          start_byte = start_byte+1\n",
        "\n",
        "        doc_string = str(stb[start_byte:end_byte], \"utf8\")\n",
        "        break\n",
        "\n",
        "    return function_name, function_arguments, doc_string, function_body_node"
      ]
    },
    {
      "cell_type": "code",
      "execution_count": 7,
      "metadata": {
        "id": "_vnY5AQ-rRRM"
      },
      "outputs": [],
      "source": [
        "def get_function_body_without_comments(stb, function_body_node):\n",
        "    node_names = [function_body_node.start_byte]\n",
        "    for i in range(len(function_body_node.children)):\n",
        "      if function_body_node.children[i].type == \"expression_statement\" and function_body_node.children[i].children[0].type == \"string\":\n",
        "        node_names = [function_body_node.children[i].end_byte + 1]\n",
        "        break\n",
        "\n",
        "    node_names = node_names + [x for p in list(map(lambda node: node, traverse_tree(function_body_node))) for x in p] + [function_body_node.end_byte]\n",
        "    result = \"\"\n",
        "    for i in range(0, len(node_names), 2):\n",
        "      result = result + str(stb[node_names[i]:node_names[i + 1]], \"utf8\") + \"\\n\"\n",
        "\n",
        "    result = \"\\n\".join([line for line in result.split('\\n') if line.strip()])\n",
        "    return result"
      ]
    },
    {
      "cell_type": "code",
      "execution_count": 8,
      "metadata": {
        "id": "89l-Pa8z9OtC"
      },
      "outputs": [],
      "source": [
        "def get_function_body_with_comments(stb, function_body_node):\n",
        "    return str(stb[function_body_node.start_byte:function_body_node.end_byte], \"utf8\")"
      ]
    },
    {
      "cell_type": "markdown",
      "source": [
        "Приведите примеры извлеченных функций\n",
        "\n",
        "\n"
      ],
      "metadata": {
        "id": "AqlQWoAGtYsE"
      }
    },
    {
      "cell_type": "code",
      "execution_count": 9,
      "metadata": {
        "colab": {
          "base_uri": "https://localhost:8080/",
          "height": 53
        },
        "id": "jML0Bzq2a4AX",
        "outputId": "cbaa0039-18a7-48c2-aa1b-4d2dcdb46eb5"
      },
      "outputs": [
        {
          "output_type": "execute_result",
          "data": {
            "text/plain": [
              "'def sina_xml_to_url_list(xml_data):\\n    \"\"\"str->list\\n    Convert XML to URL List.\\n    From Biligrab.\\n    \"\"\"\\n    rawurl = []\\n    # Comment1\\n    # Comment 2\\n    dom = parseString(xml_data)\\n    for node in dom.getElementsByTagName(\\'durl\\'):\\n        url = node.getElementsByTagName(\\'url\\')[0]  # Comment 3\\n        rawurl.append(url.childNodes[0].data)\\n    return rawurl'"
            ],
            "application/vnd.google.colaboratory.intrinsic+json": {
              "type": "string"
            }
          },
          "metadata": {},
          "execution_count": 9
        }
      ],
      "source": [
        "st = 'def sina_xml_to_url_list(xml_data):\\n    \"\"\"str->list\\n    Convert XML to URL List.\\n    From Biligrab.\\n    \"\"\"\\n    rawurl = []\\n    # Comment1\\n    # Comment 2\\n    dom = parseString(xml_data)\\n    for node in dom.getElementsByTagName(\\'durl\\'):\\n        url = node.getElementsByTagName(\\'url\\')[0]  # Comment 3\\n        rawurl.append(url.childNodes[0].data)\\n    return rawurl'\n",
        "stb = bytes(st, \"utf8\")\n",
        "st"
      ]
    },
    {
      "cell_type": "code",
      "execution_count": 10,
      "metadata": {
        "colab": {
          "base_uri": "https://localhost:8080/"
        },
        "id": "Ub_5K1a39E6W",
        "outputId": "245bb642-a870-4061-89b8-756e406367b8"
      },
      "outputs": [
        {
          "output_type": "execute_result",
          "data": {
            "text/plain": [
              "('sina_xml_to_url_list',\n",
              " '(xml_data)',\n",
              " 'str->list\\n    Convert XML to URL List.\\n    From Biligrab.')"
            ]
          },
          "metadata": {},
          "execution_count": 10
        }
      ],
      "source": [
        "function_name, function_arguments, doc_string, function_body_node = get_function_body_node(stb)\n",
        "function_name, function_arguments, doc_string"
      ]
    },
    {
      "cell_type": "code",
      "execution_count": 11,
      "metadata": {
        "colab": {
          "base_uri": "https://localhost:8080/",
          "height": 53
        },
        "id": "FEuBhoH89Z-8",
        "outputId": "dfb542b2-c36c-4b93-a5f2-92036ea11520"
      },
      "outputs": [
        {
          "output_type": "execute_result",
          "data": {
            "text/plain": [
              "'\"\"\"str->list\\n    Convert XML to URL List.\\n    From Biligrab.\\n    \"\"\"\\n    rawurl = []\\n    # Comment1\\n    # Comment 2\\n    dom = parseString(xml_data)\\n    for node in dom.getElementsByTagName(\\'durl\\'):\\n        url = node.getElementsByTagName(\\'url\\')[0]  # Comment 3\\n        rawurl.append(url.childNodes[0].data)\\n    return rawurl'"
            ],
            "application/vnd.google.colaboratory.intrinsic+json": {
              "type": "string"
            }
          },
          "metadata": {},
          "execution_count": 11
        }
      ],
      "source": [
        "get_function_body_with_comments(stb, function_body_node)"
      ]
    },
    {
      "cell_type": "code",
      "execution_count": 12,
      "metadata": {
        "colab": {
          "base_uri": "https://localhost:8080/",
          "height": 53
        },
        "id": "kUzNQX0W8qgW",
        "outputId": "00c55edb-9152-48ff-c199-f00831947b6c"
      },
      "outputs": [
        {
          "output_type": "execute_result",
          "data": {
            "text/plain": [
              "\"    rawurl = []\\n    dom = parseString(xml_data)\\n    for node in dom.getElementsByTagName('durl'):\\n        url = node.getElementsByTagName('url')[0]  \\n        rawurl.append(url.childNodes[0].data)\\n    return rawurl\""
            ],
            "application/vnd.google.colaboratory.intrinsic+json": {
              "type": "string"
            }
          },
          "metadata": {},
          "execution_count": 12
        }
      ],
      "source": [
        "get_function_body_without_comments(stb, function_body_node)"
      ]
    },
    {
      "cell_type": "markdown",
      "metadata": {
        "id": "J8MVBUgSTbC3"
      },
      "source": [
        "Приведите примеры извлеченных функций\n",
        "\n",
        "\n"
      ]
    },
    {
      "cell_type": "code",
      "execution_count": 13,
      "metadata": {
        "colab": {
          "base_uri": "https://localhost:8080/",
          "height": 70
        },
        "id": "VMOVRIOq_Vru",
        "outputId": "3f96efba-7321-44ec-c3c9-3f6072a37c9b"
      },
      "outputs": [
        {
          "output_type": "execute_result",
          "data": {
            "text/plain": [
              "'def get_vid_from_url(url):\\n        \"\"\"Extracts video ID from URL.\\n        \"\"\"\\n        return match1(url, r\\'youtu\\\\.be/([^?/]+)\\') or \\\\\\n          match1(url, r\\'youtube\\\\.com/embed/([^/?]+)\\') or \\\\\\n          match1(url, r\\'youtube\\\\.com/v/([^/?]+)\\') or \\\\\\n          match1(url, r\\'youtube\\\\.com/watch/([^/?]+)\\') or \\\\\\n          parse_query_param(url, \\'v\\') or \\\\\\n          parse_query_param(parse_query_param(url, \\'u\\'), \\'v\\')'"
            ],
            "application/vnd.google.colaboratory.intrinsic+json": {
              "type": "string"
            }
          },
          "metadata": {},
          "execution_count": 13
        }
      ],
      "source": [
        "st = ds[\"whole_func_string\"][0]\n",
        "stb = bytes(st, \"utf8\")\n",
        "st"
      ]
    },
    {
      "cell_type": "code",
      "execution_count": 14,
      "metadata": {
        "colab": {
          "base_uri": "https://localhost:8080/"
        },
        "id": "CQlKnNUy_awr",
        "outputId": "276ef0b2-3ca0-4a8f-ecc5-e33740505e8d"
      },
      "outputs": [
        {
          "output_type": "execute_result",
          "data": {
            "text/plain": [
              "('get_vid_from_url', '(url)', 'Extracts video ID from URL.')"
            ]
          },
          "metadata": {},
          "execution_count": 14
        }
      ],
      "source": [
        "function_name, function_arguments, doc_string, function_body_node = get_function_body_node(stb)\n",
        "function_name, function_arguments, doc_string"
      ]
    },
    {
      "cell_type": "code",
      "execution_count": 15,
      "metadata": {
        "colab": {
          "base_uri": "https://localhost:8080/",
          "height": 70
        },
        "id": "o3v2o_T8AdKy",
        "outputId": "f74d44c6-5cc1-4991-8067-bd5f00dbfe73"
      },
      "outputs": [
        {
          "output_type": "execute_result",
          "data": {
            "text/plain": [
              "'\"\"\"Extracts video ID from URL.\\n        \"\"\"\\n        return match1(url, r\\'youtu\\\\.be/([^?/]+)\\') or \\\\\\n          match1(url, r\\'youtube\\\\.com/embed/([^/?]+)\\') or \\\\\\n          match1(url, r\\'youtube\\\\.com/v/([^/?]+)\\') or \\\\\\n          match1(url, r\\'youtube\\\\.com/watch/([^/?]+)\\') or \\\\\\n          parse_query_param(url, \\'v\\') or \\\\\\n          parse_query_param(parse_query_param(url, \\'u\\'), \\'v\\')'"
            ],
            "application/vnd.google.colaboratory.intrinsic+json": {
              "type": "string"
            }
          },
          "metadata": {},
          "execution_count": 15
        }
      ],
      "source": [
        "get_function_body_with_comments(stb, function_body_node)"
      ]
    },
    {
      "cell_type": "code",
      "execution_count": 16,
      "metadata": {
        "colab": {
          "base_uri": "https://localhost:8080/",
          "height": 53
        },
        "id": "xSy6HSHd_ZxU",
        "outputId": "9ec4c7be-3d5f-4569-aeb8-52286222e39a"
      },
      "outputs": [
        {
          "output_type": "execute_result",
          "data": {
            "text/plain": [
              "\"        return match1(url, r'youtu\\\\.be/([^?/]+)') or \\\\\\n          match1(url, r'youtube\\\\.com/embed/([^/?]+)') or \\\\\\n          match1(url, r'youtube\\\\.com/v/([^/?]+)') or \\\\\\n          match1(url, r'youtube\\\\.com/watch/([^/?]+)') or \\\\\\n          parse_query_param(url, 'v') or \\\\\\n          parse_query_param(parse_query_param(url, 'u'), 'v')\""
            ],
            "application/vnd.google.colaboratory.intrinsic+json": {
              "type": "string"
            }
          },
          "metadata": {},
          "execution_count": 16
        }
      ],
      "source": [
        "get_function_body_without_comments(stb, function_body_node)"
      ]
    },
    {
      "cell_type": "markdown",
      "metadata": {
        "id": "4o_7NW2eTjJV"
      },
      "source": [
        "Для проверки корректности извлечения сравните извлеченные имена с полем `func_name`, документацию с полем `func_documentation_string` в исходном датасете. Имейте ввиду, что оригинальное поле `func_name` содержит полное квалифицированное имя `(ClassA.foo)`, в задании этого не требуется, можно ограничиться просто именем `(foo)`."
      ]
    },
    {
      "cell_type": "code",
      "execution_count": 17,
      "metadata": {
        "id": "VFRfvQk9_zjS"
      },
      "outputs": [],
      "source": [
        "for i in range(100):\n",
        "  function_name, _, _, _ = get_function_body_node(bytes(ds[\"whole_func_string\"][i], \"utf8\"))\n",
        "  l = ds[\"func_name\"][i].split('.')\n",
        "  if len(l) > 1 :\n",
        "    a, b = l\n",
        "    assert b == function_name\n",
        "  else:\n",
        "    assert ds[\"func_name\"][i] == function_name"
      ]
    },
    {
      "cell_type": "code",
      "execution_count": 18,
      "metadata": {
        "id": "1JKAKuifBxpM"
      },
      "outputs": [],
      "source": [
        "for i in range(100):\n",
        "  _, _, doc_string, _ = get_function_body_node(bytes(ds[\"whole_func_string\"][i], \"utf8\"))\n",
        "  assert ds[\"func_documentation_string\"][i] == doc_string"
      ]
    },
    {
      "cell_type": "markdown",
      "metadata": {
        "id": "VdkNMLCkOCSJ"
      },
      "source": [
        "**Использование предобученных моделей только на исходном коде**"
      ]
    },
    {
      "cell_type": "markdown",
      "metadata": {
        "id": "LRqdFMpRNtzc"
      },
      "source": [
        "Загрузите предобученную модель (например, CodeT5+)"
      ]
    },
    {
      "cell_type": "code",
      "source": [
        "from transformers import T5ForConditionalGeneration, AutoTokenizer\n",
        "\n",
        "checkpoint = \"Salesforce/codet5p-220m\"\n",
        "device = \"cuda\"\n",
        "\n",
        "tokenizer = AutoTokenizer.from_pretrained(checkpoint)\n",
        "model = T5ForConditionalGeneration.from_pretrained(checkpoint).to(device)"
      ],
      "metadata": {
        "colab": {
          "base_uri": "https://localhost:8080/",
          "height": 241,
          "referenced_widgets": [
            "b2c300a90e414fa1825df44f3e979024",
            "83682023332d43b39a8819abf7c4b1cd",
            "e1c03eb0d13e44f0ba671e8b80a63888",
            "cc785aa5446c42d5a859424ab177a5fe",
            "9ec95016c7764d68a06a64c3df23cfae",
            "e765c8008c604b61b8049bb32bd39b54",
            "e38558fef14b4f148e8dee6176ec4b61",
            "4c567773dbf24a128fbbd2b1e45b628c",
            "7ca6d3e04efd4ce3a98ea0011239f154",
            "bbe63dda7cba48e491b8ca1958a07726",
            "f4d7513168164f9fb7fbcab3801d6b86",
            "0aef7125b32544e1a8ef11de9cf882bb",
            "2c0fd2084fe94cd89b9474644410fa00",
            "a83569c65010478d89951e2837bb2960",
            "dfcb01e0b7734fa4a98988d7207a0793",
            "fa7d7ec8a469447e91ce4a5e387ce92e",
            "4b708a0dbf924f9ea62b9bccfdda8acf",
            "ee1a0bb3583740aab360b445e9bb1bd4",
            "031f3a28be4a470b9afa06e117085d4c",
            "958ce130860447f0831d54e6a2de6960",
            "b900ef33f5d74b6c97c1280bb327551f",
            "89c80b5c47454d0b83dc09bbf4034575",
            "a22236ecebdc4d95b190f44b13a78064",
            "a3f7e4b3fd534171beddb1f8bcbbc1a0",
            "4c7bd81690a245f6a7422782961f8abf",
            "b47c083afa3545399fbea10a35cb98b1",
            "153e7ddd75ac4cf1bca31ffa8a4776cf",
            "ad16991300744912ad38bf10e5541fec",
            "a9f4ceb603b346d3a1e0694a354d9956",
            "75ee17b135cd42ed89848c755344c5ec",
            "c80264023b584f7aba2a30c7513688a3",
            "c322f8eff56240d396ee1425871f4c40",
            "e66263c660b54298ad54b6c141af26d6",
            "fbc383b0d2cc4ff0b10e8092885e80a9",
            "1ca2e76d877e4c6e80bb7ae85dc43efa",
            "71196cbba80c41e393a1716b3ba1e91f",
            "7c6f7893e3f649248de0bcc09a382c74",
            "147fbc2d5e5342bebe3c56ee66dd7132",
            "76713c019c804a2baa1d28359b97b477",
            "64a621da7970428697d955930ba4941d",
            "c151f9f6af9a4190bd01b5f1d4c374d8",
            "8c2cf9b9d9ae405b8ed84c21552f9c58",
            "ac82e9f5bd7b49e5a536f3eee1f517db",
            "5f8c338e7724496b8d843e4095383938",
            "cf366e5cd6b04a1f86c2eae7562df739",
            "45e3d3c1796642d69ea0fa249fee8913",
            "7718b0a4732d4d28af4e7bdc58bdb63e",
            "10e930c20d3343f9a71aede95ee4e66b",
            "bd802baaf36c47bbb6d9f41c12d2f85f",
            "d69c994fea5b4819a90af79c24cf92c8",
            "dcdbbd265657432d83b77e63fd241ca9",
            "c8a9d42d94ff4263b28cf97cff32a927",
            "78ef5bbe121d487ea3766782339e4f18",
            "a0db5d08e6f044c98bc39b25ad7a7060",
            "24612d6cc101491ab49ced6d2cc5f1c5",
            "20a190d268bb458ca20ddad35c92e978",
            "c0077e494768477c972299e684903dac",
            "ecbc1ad8b827482daa438348df35bcc2",
            "4f95f7bea32b47749f8f9663caecdcff",
            "73717385d85940778a4eeae0798ad868",
            "64e4833318c14aa6871f4b6b5c035a1b",
            "f9b29e45790247c38df352761377182c",
            "c5ee6440ea294e25b305bf950c031f7e",
            "5072accc781f44e0bba7c1275332e84c",
            "623711be1f14446e90bed0805585b6fa",
            "da17d9f3ee52439889012719a345c418",
            "b4657c57c71a41c1bacbaaca309a8444",
            "4aa54dcc99fb43ee80c26e6a232d4192",
            "95b88d233c9b46e7a75252b34efb0fcc",
            "fc75c3f9371047c1bf83b394c73ab1d1",
            "7ff1352d243348faa7777a7fb553368b",
            "f8f3ee7673b7485194bcc209de8967e3",
            "036c326cea00458d9e094d05cd63373d",
            "40ba2714348f4204a1cd81ce0f757fac",
            "5c9e0502ecb4456ebcb43bc69bc319a5",
            "4bffc7e8f9454736b4f33de58f5bd0e0",
            "bd136e40b8d9472c9da8364329d019de"
          ]
        },
        "id": "urjA_1o5SOO9",
        "outputId": "cb5ad349-b1b6-4c5a-ee2c-16e9e20fd301"
      },
      "execution_count": 19,
      "outputs": [
        {
          "output_type": "display_data",
          "data": {
            "text/plain": [
              "tokenizer_config.json:   0%|          | 0.00/1.48k [00:00<?, ?B/s]"
            ],
            "application/vnd.jupyter.widget-view+json": {
              "version_major": 2,
              "version_minor": 0,
              "model_id": "b2c300a90e414fa1825df44f3e979024"
            }
          },
          "metadata": {}
        },
        {
          "output_type": "display_data",
          "data": {
            "text/plain": [
              "vocab.json:   0%|          | 0.00/703k [00:00<?, ?B/s]"
            ],
            "application/vnd.jupyter.widget-view+json": {
              "version_major": 2,
              "version_minor": 0,
              "model_id": "0aef7125b32544e1a8ef11de9cf882bb"
            }
          },
          "metadata": {}
        },
        {
          "output_type": "display_data",
          "data": {
            "text/plain": [
              "merges.txt:   0%|          | 0.00/294k [00:00<?, ?B/s]"
            ],
            "application/vnd.jupyter.widget-view+json": {
              "version_major": 2,
              "version_minor": 0,
              "model_id": "a22236ecebdc4d95b190f44b13a78064"
            }
          },
          "metadata": {}
        },
        {
          "output_type": "display_data",
          "data": {
            "text/plain": [
              "added_tokens.json:   0%|          | 0.00/2.00 [00:00<?, ?B/s]"
            ],
            "application/vnd.jupyter.widget-view+json": {
              "version_major": 2,
              "version_minor": 0,
              "model_id": "fbc383b0d2cc4ff0b10e8092885e80a9"
            }
          },
          "metadata": {}
        },
        {
          "output_type": "display_data",
          "data": {
            "text/plain": [
              "special_tokens_map.json:   0%|          | 0.00/12.5k [00:00<?, ?B/s]"
            ],
            "application/vnd.jupyter.widget-view+json": {
              "version_major": 2,
              "version_minor": 0,
              "model_id": "cf366e5cd6b04a1f86c2eae7562df739"
            }
          },
          "metadata": {}
        },
        {
          "output_type": "display_data",
          "data": {
            "text/plain": [
              "config.json:   0%|          | 0.00/768 [00:00<?, ?B/s]"
            ],
            "application/vnd.jupyter.widget-view+json": {
              "version_major": 2,
              "version_minor": 0,
              "model_id": "20a190d268bb458ca20ddad35c92e978"
            }
          },
          "metadata": {}
        },
        {
          "output_type": "display_data",
          "data": {
            "text/plain": [
              "pytorch_model.bin:   0%|          | 0.00/446M [00:00<?, ?B/s]"
            ],
            "application/vnd.jupyter.widget-view+json": {
              "version_major": 2,
              "version_minor": 0,
              "model_id": "b4657c57c71a41c1bacbaaca309a8444"
            }
          },
          "metadata": {}
        }
      ]
    },
    {
      "cell_type": "markdown",
      "metadata": {
        "id": "YkZC5U4kN2QE"
      },
      "source": [
        "Используйте подготовленный на первом этапе датасет, содержащий только тела функций без каких либо комментариев и их имена, для предсказания имен функций.\n"
      ]
    },
    {
      "cell_type": "code",
      "execution_count": 20,
      "metadata": {
        "id": "03wRSLLw_Ifo"
      },
      "outputs": [],
      "source": [
        "def get_function_name_and_body_without_comments(i, stb):\n",
        "  function_name, function_arguments, doc_string, function_body_node = get_function_body_node(stb)\n",
        "  function_body_without_comments = get_function_body_without_comments(stb, function_body_node)\n",
        "  return function_name, f\"def <extra_id_0>\" + function_arguments + \":\\n\" + function_body_without_comments"
      ]
    },
    {
      "cell_type": "code",
      "execution_count": 21,
      "metadata": {
        "colab": {
          "base_uri": "https://localhost:8080/",
          "height": 118,
          "referenced_widgets": [
            "29d4088ea7424946bb3fc5643a177ffa",
            "eccfff3890f14c689cafd3c79b2c47d4",
            "c11a3a86768842658701ab631d0bd8f5",
            "4a7aac9ca0e34d35a93ca8066e95fc61",
            "2ede4f9e654c408dad770700bf3490ff",
            "ab1efbdcb06d41d09b08cba9c4224753",
            "b99021912e914fc49708e66bd0ae919f",
            "1e3d6107264344a19761a491325f1b08",
            "7725d7734fa349179de4f3a5fbc7ee1f",
            "4e17e1d3f35148b481f21e71f0009498",
            "592db0c7e85547388021da0a58fddb7c"
          ]
        },
        "collapsed": true,
        "id": "f24XZf9g_vbY",
        "outputId": "4c6fefc4-bc8d-4734-a33f-a5dc2c3b9929"
      },
      "outputs": [
        {
          "output_type": "display_data",
          "data": {
            "text/plain": [
              "Generating train split: 0 examples [00:00, ? examples/s]"
            ],
            "application/vnd.jupyter.widget-view+json": {
              "version_major": 2,
              "version_minor": 0,
              "model_id": "29d4088ea7424946bb3fc5643a177ffa"
            }
          },
          "metadata": {}
        },
        {
          "output_type": "execute_result",
          "data": {
            "text/plain": [
              "{'function_body_without_comments': \"def <extra_id_0>(url):\\n        return match1(url, r'youtu\\\\.be/([^?/]+)') or \\\\\\n          match1(url, r'youtube\\\\.com/embed/([^/?]+)') or \\\\\\n          match1(url, r'youtube\\\\.com/v/([^/?]+)') or \\\\\\n          match1(url, r'youtube\\\\.com/watch/([^/?]+)') or \\\\\\n          parse_query_param(url, 'v') or \\\\\\n          parse_query_param(parse_query_param(url, 'u'), 'v')\",\n",
              " 'function_name': 'get_vid_from_url'}"
            ]
          },
          "metadata": {},
          "execution_count": 21
        }
      ],
      "source": [
        "def gen():\n",
        "    for i in range(ds.num_rows):\n",
        "        function_name, function_body_without_comments = get_function_name_and_body_without_comments(i, bytes(ds[\"whole_func_string\"][i], \"utf8\"))\n",
        "        yield {\"function_body_without_comments\": function_body_without_comments, \"function_name\": function_name}\n",
        "ds1 = Dataset.from_generator(gen)\n",
        "ds1[0]"
      ]
    },
    {
      "cell_type": "code",
      "source": [
        "inputs = tokenizer(ds1[\"function_body_without_comments\"], truncation=True, padding=True, max_length=80, return_tensors=\"pt\").to(device)"
      ],
      "metadata": {
        "collapsed": true,
        "id": "0EM_Q020SQUx"
      },
      "execution_count": 22,
      "outputs": []
    },
    {
      "cell_type": "code",
      "source": [
        "outputs = model.generate(**inputs, max_length=80)"
      ],
      "metadata": {
        "id": "055mYb1mZYWj"
      },
      "execution_count": 23,
      "outputs": []
    },
    {
      "cell_type": "code",
      "source": [
        "predictions = tokenizer.batch_decode(outputs, skip_special_tokens=True)\n",
        "predictions = list(map(lambda s: s.split(' ')[:2][-1], predictions))"
      ],
      "metadata": {
        "id": "Bst8UbtsZkzw"
      },
      "execution_count": 24,
      "outputs": []
    },
    {
      "cell_type": "markdown",
      "metadata": {
        "id": "qBP83ahXN9ET"
      },
      "source": [
        "Оцените результаты работы моделей без тонкой настройки, используя метрики качества Exact Match (полное совпадение) и ROUGE-score (можно использовать реализацию из библиотеки `evaluate` `evaluate.load('exact_match')`, `evaluate.load('rouge')`. Показатель EM на первой 1000 примеров тестовой выборки должен быть в окрестности 0.145; ROUGE-1 в окрестности 0.38."
      ]
    },
    {
      "cell_type": "code",
      "source": [
        "from evaluate import load\n",
        "\n",
        "exact_match = load(\"exact_match\")\n",
        "results = exact_match.compute(references=ds1[\"function_name\"], predictions=predictions, ignore_case=True, ignore_punctuation=True, ignore_numbers=True)\n",
        "results"
      ],
      "metadata": {
        "colab": {
          "base_uri": "https://localhost:8080/",
          "height": 66,
          "referenced_widgets": [
            "7c6ccd1403014639bb5a81ab31173c5b",
            "9e41d22088814fd5bf00bfdc6b2de630",
            "0789639b8596460db4a77c35f125048f",
            "5ef41f58b8534db8b463f42531bc91c8",
            "804e9a48c5d14723a254cc12ccd9fb02",
            "f204e20026764a479feb0dcbdd964744",
            "025758d5d8364aef8c46728c60964a89",
            "9e6f880b3d1344aa8e8f4b926a8e12f6",
            "9914274ad8df4b1fa5f314310852d435",
            "e08a6504c9ed42f2a7a07ab4e5d58fe2",
            "9958707fb2d24df19a9339a2ab8f611d"
          ]
        },
        "id": "_hTjJBxvoCn1",
        "outputId": "40d1fb8a-592b-4a22-b014-53be4d7f121e"
      },
      "execution_count": 25,
      "outputs": [
        {
          "output_type": "display_data",
          "data": {
            "text/plain": [
              "Downloading builder script:   0%|          | 0.00/5.67k [00:00<?, ?B/s]"
            ],
            "application/vnd.jupyter.widget-view+json": {
              "version_major": 2,
              "version_minor": 0,
              "model_id": "7c6ccd1403014639bb5a81ab31173c5b"
            }
          },
          "metadata": {}
        },
        {
          "output_type": "execute_result",
          "data": {
            "text/plain": [
              "{'exact_match': 0.157}"
            ]
          },
          "metadata": {},
          "execution_count": 25
        }
      ]
    },
    {
      "cell_type": "code",
      "source": [
        "bad_exact = []\n",
        "for i in range(ds1.num_rows):\n",
        "  if exact_match.compute(references=[ds1[\"function_name\"][i]], predictions=[predictions[i]])[\"exact_match\"] == 0:\n",
        "      bad_exact.append(i)\n",
        "  if len(bad_exact) > 10 :\n",
        "    break\n",
        "bad_exact"
      ],
      "metadata": {
        "colab": {
          "base_uri": "https://localhost:8080/"
        },
        "id": "ysXHafoFCBnD",
        "outputId": "f453f283-6456-4269-9690-92ef6ab03135"
      },
      "execution_count": 26,
      "outputs": [
        {
          "output_type": "execute_result",
          "data": {
            "text/plain": [
              "[0, 1, 2, 3, 4, 6, 7, 8, 9, 10, 11]"
            ]
          },
          "metadata": {},
          "execution_count": 26
        }
      ]
    },
    {
      "cell_type": "code",
      "source": [
        "rouge_match = load(\"rouge\")\n",
        "results = rouge_match.compute(references=ds1[\"function_name\"], predictions=predictions)\n",
        "results"
      ],
      "metadata": {
        "colab": {
          "base_uri": "https://localhost:8080/",
          "height": 118,
          "referenced_widgets": [
            "a375833ed8c94bc886eb971672056894",
            "5c188412fd054ec1a05b4950544d04bc",
            "b69372816c144c5cb7413d0fb1dc09b6",
            "7bae499fe56f40e3a95e6923f416eeb6",
            "81b3ed8591e84a729defaab5f90d2bf7",
            "4e5642057b114535b48ace96003dde4e",
            "fde87ab81e744e179818580ef0e1874e",
            "63ba0d7a6556493ea3ab5b93914e0a2a",
            "cb7bff45da3c46dfba5812d1f8fcfd1c",
            "0bcbb07946c84c86bdcc56e89f91d19d",
            "c52b65d800ab48f69eba5f5ac4559c12"
          ]
        },
        "id": "9A0Wys8nonfd",
        "outputId": "7067ef65-457a-4b7a-fb29-78df5943c321"
      },
      "execution_count": 27,
      "outputs": [
        {
          "output_type": "display_data",
          "data": {
            "text/plain": [
              "Downloading builder script:   0%|          | 0.00/6.27k [00:00<?, ?B/s]"
            ],
            "application/vnd.jupyter.widget-view+json": {
              "version_major": 2,
              "version_minor": 0,
              "model_id": "a375833ed8c94bc886eb971672056894"
            }
          },
          "metadata": {}
        },
        {
          "output_type": "execute_result",
          "data": {
            "text/plain": [
              "{'rouge1': 0.3459225274725278,\n",
              " 'rouge2': 0.16446904761904768,\n",
              " 'rougeL': 0.34539618437118436,\n",
              " 'rougeLsum': 0.34510442612942616}"
            ]
          },
          "metadata": {},
          "execution_count": 27
        }
      ]
    },
    {
      "cell_type": "code",
      "source": [
        "bad_rouge1 = []\n",
        "for i in range(ds1.num_rows):\n",
        "  if rouge_match.compute(references=[ds1[\"function_name\"][i]], predictions=[predictions[i]])[\"rouge1\"] == 0:\n",
        "      bad_rouge1.append(i)\n",
        "  if len(bad_rouge1) > 10 :\n",
        "    break\n",
        "bad_rouge1"
      ],
      "metadata": {
        "colab": {
          "base_uri": "https://localhost:8080/"
        },
        "id": "defSWY2cCD7X",
        "outputId": "ccd2e2b3-ef00-4e01-c842-399a9c9d9fb7"
      },
      "execution_count": 28,
      "outputs": [
        {
          "output_type": "execute_result",
          "data": {
            "text/plain": [
              "[0, 2, 3, 4, 6, 7, 8, 9, 11, 12, 13]"
            ]
          },
          "metadata": {},
          "execution_count": 28
        }
      ]
    },
    {
      "cell_type": "markdown",
      "source": [
        "Посмотрим на случайные худшие примеры по метрикам\n",
        "`[0, 2, 7, 10, 11]`"
      ],
      "metadata": {
        "id": "d3uPloIgCMHf"
      }
    },
    {
      "cell_type": "code",
      "source": [
        "for i in [0, 2, 7, 10, 11]:\n",
        "  print(i, ds1[\"function_name\"][i], predictions[i], \"\\n---------------------------------------\\n\", ds1[\"function_body_without_comments\"][i])"
      ],
      "metadata": {
        "colab": {
          "base_uri": "https://localhost:8080/"
        },
        "id": "aJnILnILCNPG",
        "outputId": "3dccdaaf-b86f-42bf-ed1f-aac678c5b010"
      },
      "execution_count": 32,
      "outputs": [
        {
          "output_type": "stream",
          "name": "stdout",
          "text": [
            "0 get_vid_from_url match1 \n",
            "---------------------------------------\n",
            " def <extra_id_0>(url):\n",
            "        return match1(url, r'youtu\\.be/([^?/]+)') or \\\n",
            "          match1(url, r'youtube\\.com/embed/([^/?]+)') or \\\n",
            "          match1(url, r'youtube\\.com/v/([^/?]+)') or \\\n",
            "          match1(url, r'youtube\\.com/watch/([^/?]+)') or \\\n",
            "          parse_query_param(url, 'v') or \\\n",
            "          parse_query_param(parse_query_param(url, 'u'), 'v')\n",
            "2 makeMimi md5 \n",
            "---------------------------------------\n",
            " def <extra_id_0>(upid):\n",
            "    strSeed = \"gGddgPfeaf_gzyr\"\n",
            "    prehash = upid + \"_\" + strSeed\n",
            "    return md5(prehash.encode('utf-8')).hexdigest()\n",
            "7 ucas_download_playlist get_playtitle \n",
            "---------------------------------------\n",
            " def <extra_id_0>(url, output_dir = '.', merge = False, info_only = False, **kwargs):\n",
            "    html = get_content(url)\n",
            "    parts = re.findall( r'(getplaytitle.do\\?.+)\"', html)\n",
            "    assert parts, 'No part found!'\n",
            "    for part_path in parts:\n",
            "        ucas_download('http://v.ucas.ac.cn/course/' + part_path, output_dir=output_dir, merge=merge, info_only=info_only)\n",
            "10 sina_download sina_zxt \n",
            "---------------------------------------\n",
            " def <extra_id_0>(url, output_dir='.', merge=True, info_only=False, **kwargs):\n",
            "    if 'news.sina.com.cn/zxt' in url:\n",
            "        sina_zxt(url, output_dir=output_dir, merge=merge, info_only=info_only, **kwargs)\n",
            "        return\n",
            "    vid = match1(url, r'vid=(\\d+)')\n",
            "    if vid is None:\n",
            "        video_page = get_content(url)\n",
            "        vid = hd_vid = match1(video_page, r'hd_vid\\s*:\\s*\\'([^\\']+)\\'')\n",
            "        if hd_vid == '0':\n",
            "            vids = match1(video_page, r'[^\\w]vid\\s*:\\s*\\'([^\\']+)\\'').split('|')\n",
            "            vid = vids[-1]\n",
            "    if vid is None:\n",
            "        vid = match1(video_page, r'vid:\"?(\\d+)\"?')\n",
            "    if vid:\n",
            "        sina_download_by_vid(vid, output_dir=output_dir, merge=merge, info_only=info_only)\n",
            "    else:\n",
            "        vkey = match1(video_page, r'vkey\\s*:\\s*\"([^\"]+)\"')\n",
            "        if vkey is None:\n",
            "            vid = match1(url, r'#(\\d+)')\n",
            "            sina_download_by_vid(vid, output_dir=output_dir, merge=merge, info_only=info_only)\n",
            "            return\n",
            "        title = match1(video_page, r'title\\s*:\\s*\"([^\"]+)\"')\n",
            "        sina_download_by_vkey(vkey, title=title, output_dir=output_dir, merge=merge, info_only=info_only)\n",
            "11 yixia_download match1 \n",
            "---------------------------------------\n",
            " def <extra_id_0>(url, output_dir = '.', merge = True, info_only = False, **kwargs):\n",
            "    hostname = urlparse(url).hostname\n",
            "    if 'n.miaopai.com' == hostname: \n",
            "        smid = match1(url, r'n\\.miaopai\\.com/media/([^.]+)') \n",
            "        miaopai_download_by_smid(smid, output_dir, merge, info_only)\n",
            "        return\n",
            "    elif 'miaopai.com' in hostname:  \n",
            "        yixia_download_by_scid = yixia_miaopai_download_by_scid\n",
            "        site_info = \"Yixia Miaopai\"\n",
            "        scid = match1(url, r'miaopai\\.com/show/channel/([^.]+)\\.htm') or \\\n",
            "               match1(url, r'miaopai\\.com/show/([^.]+)\\.htm') or \\\n",
            "               match1(url, r'm\\.miaopai\\.com/show/channel/([^.]+)\\.htm') or \\\n",
            "               match1(url, r'm\\.miaopai\\.com/show/channel/([^.]+)')\n",
            "    elif 'xiaokaxiu.com' in hostname:  \n",
            "        yixia_download_by_scid = yixia_xiaokaxiu_download_by_scid\n",
            "        site_info = \"Yixia Xiaokaxiu\"\n",
            "        if re.match(r'http://v.xiaokaxiu.com/v/.+\\.html', url):  \n",
            "            scid = match1(url, r'http://v.xiaokaxiu.com/v/(.+)\\.html')\n",
            "        elif re.match(r'http://m.xiaokaxiu.com/m/.+\\.html', url):  \n",
            "            scid = match1(url, r'http://m.xiaokaxiu.com/m/(.+)\\.html')\n",
            "    else:\n",
            "        pass\n",
            "    yixia_download_by_scid(scid, output_dir, merge, info_only)\n"
          ]
        }
      ]
    },
    {
      "cell_type": "markdown",
      "source": [
        "0 - модель нашла что-то вообще странное \\\\\n",
        "2 - без комментариев текст функции вообще не связан с названием \\\\\n",
        "7 - похоже, метрики не отражают, что не все так плохо \\\\\n",
        "10 - предложенное решение похоже по смыслу, но не отражает смысл функции, не совсем плохо, но есть сильно куда улучшать \\\\\n",
        "11 - модель нашла что-то вообще странное\n"
      ],
      "metadata": {
        "id": "adM8kM8GTyWz"
      }
    },
    {
      "cell_type": "markdown",
      "metadata": {
        "id": "m6U4FUIXOGun"
      },
      "source": [
        "**Использование предобученных моделей на исходном коде, документации и комментариях**"
      ]
    },
    {
      "cell_type": "markdown",
      "metadata": {
        "id": "QB2LEVp8ORLr"
      },
      "source": [
        "Загрузите предобученную модель (например, CodeT5+)\n",
        "\n"
      ]
    },
    {
      "cell_type": "code",
      "source": [
        "from transformers import T5ForConditionalGeneration, AutoTokenizer\n",
        "\n",
        "checkpoint = \"Salesforce/codet5p-220m\"\n",
        "device = \"cuda\"\n",
        "\n",
        "tokenizer = AutoTokenizer.from_pretrained(checkpoint)\n",
        "model = T5ForConditionalGeneration.from_pretrained(checkpoint).to(device)"
      ],
      "metadata": {
        "id": "c6ptVOzmmtGe"
      },
      "execution_count": 33,
      "outputs": []
    },
    {
      "cell_type": "markdown",
      "metadata": {
        "id": "iHsS0EALOSIN"
      },
      "source": [
        "Используйте подготовленный на первом этапе датасет, содержащий тела функций, их имена, документацию и комментарии.\n",
        "\n"
      ]
    },
    {
      "cell_type": "code",
      "source": [
        "def get_function_name_and_body_with_comments(i, stb):\n",
        "  function_name, function_arguments, doc_string, function_body_node = get_function_body_node(stb)\n",
        "  function_body_with_comments = get_function_body_with_comments(stb, function_body_node)\n",
        "  return function_name, f\"def <extra_id_0>\" + function_arguments + \":\\n\" + function_body_with_comments"
      ],
      "metadata": {
        "id": "98GhvFismyAE"
      },
      "execution_count": 34,
      "outputs": []
    },
    {
      "cell_type": "code",
      "source": [
        "get_function_name_and_body_with_comments(0, bytes(ds[\"whole_func_string\"][0], \"utf8\"))"
      ],
      "metadata": {
        "colab": {
          "base_uri": "https://localhost:8080/"
        },
        "id": "eMU-fwPSpZKK",
        "outputId": "31fc5aa8-a99f-457f-ff31-404919fc5134"
      },
      "execution_count": 35,
      "outputs": [
        {
          "output_type": "execute_result",
          "data": {
            "text/plain": [
              "('get_vid_from_url',\n",
              " 'def <extra_id_0>(url):\\n\"\"\"Extracts video ID from URL.\\n        \"\"\"\\n        return match1(url, r\\'youtu\\\\.be/([^?/]+)\\') or \\\\\\n          match1(url, r\\'youtube\\\\.com/embed/([^/?]+)\\') or \\\\\\n          match1(url, r\\'youtube\\\\.com/v/([^/?]+)\\') or \\\\\\n          match1(url, r\\'youtube\\\\.com/watch/([^/?]+)\\') or \\\\\\n          parse_query_param(url, \\'v\\') or \\\\\\n          parse_query_param(parse_query_param(url, \\'u\\'), \\'v\\')')"
            ]
          },
          "metadata": {},
          "execution_count": 35
        }
      ]
    },
    {
      "cell_type": "code",
      "source": [
        "from datasets import Dataset\n",
        "def gen():\n",
        "    for i in range(ds.num_rows):\n",
        "        function_name, function_body_with_comments = get_function_name_and_body_with_comments(i, bytes(ds[\"whole_func_string\"][i], \"utf8\"))\n",
        "        yield {\"function_body_with_comments\": function_body_with_comments, \"function_name\": function_name}\n",
        "ds2 = Dataset.from_generator(gen)\n",
        "ds2[0]"
      ],
      "metadata": {
        "colab": {
          "base_uri": "https://localhost:8080/",
          "height": 118,
          "referenced_widgets": [
            "56f471d05d46461ea53a380042eefa44",
            "fb3a31ed91ad490ea5d96412b52ac300",
            "b52f827f69674c119eb3f54d02abe531",
            "9348e80c438540cf8ce2806a1a371ea9",
            "f51059e118d04e0e9a60621c796ba48a",
            "fa779634d77443b8a461b8dccf2b00e6",
            "a77635a56617457b96f818185a66e86f",
            "70806060d6a440c3a65f47b52575759c",
            "754ceceb386848958c9fa695008c223d",
            "a8a307646aed44ca81c9ad7609304bae",
            "f4bf1d027d0a491495d1752f3acfe41b"
          ]
        },
        "id": "GKFnYexUpb9g",
        "outputId": "3ecc8b85-a89e-4a19-b228-326b1f4c6f4c"
      },
      "execution_count": 36,
      "outputs": [
        {
          "output_type": "display_data",
          "data": {
            "text/plain": [
              "Generating train split: 0 examples [00:00, ? examples/s]"
            ],
            "application/vnd.jupyter.widget-view+json": {
              "version_major": 2,
              "version_minor": 0,
              "model_id": "56f471d05d46461ea53a380042eefa44"
            }
          },
          "metadata": {}
        },
        {
          "output_type": "execute_result",
          "data": {
            "text/plain": [
              "{'function_body_with_comments': 'def <extra_id_0>(url):\\n\"\"\"Extracts video ID from URL.\\n        \"\"\"\\n        return match1(url, r\\'youtu\\\\.be/([^?/]+)\\') or \\\\\\n          match1(url, r\\'youtube\\\\.com/embed/([^/?]+)\\') or \\\\\\n          match1(url, r\\'youtube\\\\.com/v/([^/?]+)\\') or \\\\\\n          match1(url, r\\'youtube\\\\.com/watch/([^/?]+)\\') or \\\\\\n          parse_query_param(url, \\'v\\') or \\\\\\n          parse_query_param(parse_query_param(url, \\'u\\'), \\'v\\')',\n",
              " 'function_name': 'get_vid_from_url'}"
            ]
          },
          "metadata": {},
          "execution_count": 36
        }
      ]
    },
    {
      "cell_type": "code",
      "source": [
        "inputs = tokenizer(ds2[\"function_body_with_comments\"], truncation=True, padding=True, max_length=80, return_tensors=\"pt\").to(device)"
      ],
      "metadata": {
        "collapsed": true,
        "id": "iFuxB83wq9FR"
      },
      "execution_count": 37,
      "outputs": []
    },
    {
      "cell_type": "code",
      "source": [
        "outputs = model.generate(**inputs, max_length=80)\n",
        "tokenizer.decode(outputs[5], skip_special_tokens=True)"
      ],
      "metadata": {
        "colab": {
          "base_uri": "https://localhost:8080/",
          "height": 35
        },
        "id": "WBTGPZX0rDhe",
        "outputId": "2f2a4c15-de48-4e2c-d188-9d1e3349aaa5"
      },
      "execution_count": 38,
      "outputs": [
        {
          "output_type": "execute_result",
          "data": {
            "text/plain": [
              "' dictify dictify_xml dictify dictify_xml dictify_xml dictify_xml dictify_xml dictify_xml dictify_xml dictify_xml dictify_xml dictify_xml dictify_xml dictify_xml dictify_xml dictify_xml dictify'"
            ],
            "application/vnd.google.colaboratory.intrinsic+json": {
              "type": "string"
            }
          },
          "metadata": {},
          "execution_count": 38
        }
      ]
    },
    {
      "cell_type": "code",
      "source": [
        "predictions = tokenizer.batch_decode(outputs, skip_special_tokens=True)\n",
        "predictions = list(map(lambda s: s.split(' ')[:2][-1], predictions))"
      ],
      "metadata": {
        "id": "ohPzIQRQrkEM"
      },
      "execution_count": 39,
      "outputs": []
    },
    {
      "cell_type": "markdown",
      "metadata": {
        "id": "AkEXGdcpOTSf"
      },
      "source": [
        "Оцените результаты работы моделей без тонкой настройки на таких расширенных примерах с использованием тех же метрик. Показатель EM на первой 1000 примеров тестовой выборки должен быть в окрестности 0.209; ROUGE-1 в окрестности 0.49.\n",
        "\n"
      ]
    },
    {
      "cell_type": "code",
      "execution_count": 40,
      "metadata": {
        "id": "-E90cZJq-id3",
        "colab": {
          "base_uri": "https://localhost:8080/"
        },
        "outputId": "990ced30-8669-4255-9ba1-23f519b47bc7"
      },
      "outputs": [
        {
          "output_type": "execute_result",
          "data": {
            "text/plain": [
              "{'exact_match': 0.215}"
            ]
          },
          "metadata": {},
          "execution_count": 40
        }
      ],
      "source": [
        "exact_match = load(\"exact_match\")\n",
        "results = exact_match.compute(references=ds2[\"function_name\"], predictions=predictions, ignore_case=True, ignore_punctuation=True, ignore_numbers=True)\n",
        "results"
      ]
    },
    {
      "cell_type": "code",
      "source": [
        "bad_exact = []\n",
        "for i in range(ds2.num_rows):\n",
        "  if exact_match.compute(references=[ds2[\"function_name\"][i]], predictions=[predictions[i]])[\"exact_match\"] == 0:\n",
        "      bad_exact.append(i)\n",
        "  if len(bad_exact) > 10 :\n",
        "    break\n",
        "bad_exact"
      ],
      "metadata": {
        "colab": {
          "base_uri": "https://localhost:8080/"
        },
        "id": "bnt_peW3AaS_",
        "outputId": "33e5e230-909f-4a05-973a-0b0dba801729"
      },
      "execution_count": 41,
      "outputs": [
        {
          "output_type": "execute_result",
          "data": {
            "text/plain": [
              "[0, 1, 2, 3, 4, 6, 7, 8, 9, 10, 11]"
            ]
          },
          "metadata": {},
          "execution_count": 41
        }
      ]
    },
    {
      "cell_type": "code",
      "source": [
        "rouge_match = load(\"rouge\")\n",
        "results = rouge_match.compute(references=ds2[\"function_name\"], predictions=predictions)\n",
        "results"
      ],
      "metadata": {
        "colab": {
          "base_uri": "https://localhost:8080/"
        },
        "id": "eQkmVJb1roxp",
        "outputId": "9c54d4cf-5aab-4049-a461-96a93d40ca31"
      },
      "execution_count": 42,
      "outputs": [
        {
          "output_type": "execute_result",
          "data": {
            "text/plain": [
              "{'rouge1': 0.47189603174603223,\n",
              " 'rouge2': 0.23468690476190468,\n",
              " 'rougeL': 0.4689229076479078,\n",
              " 'rougeLsum': 0.468839177489178}"
            ]
          },
          "metadata": {},
          "execution_count": 42
        }
      ]
    },
    {
      "cell_type": "code",
      "source": [
        "bad_rouge1 = []\n",
        "for i in range(ds2.num_rows):\n",
        "  if rouge_match.compute(references=[ds2[\"function_name\"][i]], predictions=[predictions[i]])[\"rouge1\"] == 0:\n",
        "      bad_rouge1.append(i)\n",
        "  if len(bad_rouge1) > 10 :\n",
        "    break\n",
        "bad_rouge1"
      ],
      "metadata": {
        "colab": {
          "base_uri": "https://localhost:8080/"
        },
        "id": "hogPvp38-bKP",
        "outputId": "4b4ed967-1d0b-41a7-b514-587bb1ec9c58"
      },
      "execution_count": 43,
      "outputs": [
        {
          "output_type": "execute_result",
          "data": {
            "text/plain": [
              "[0, 2, 3, 6, 7, 10, 11, 12, 15, 16, 18]"
            ]
          },
          "metadata": {},
          "execution_count": 43
        }
      ]
    },
    {
      "cell_type": "markdown",
      "source": [
        "Посмотрим на случайные худшие примеры по метрикам\n",
        "`[0, 2, 7, 11]`"
      ],
      "metadata": {
        "id": "XF50BKKeBQ5W"
      }
    },
    {
      "cell_type": "code",
      "source": [
        "for i in [0, 2, 7, 10, 11]:\n",
        "  print(i, ds2[\"function_name\"][i], predictions[i], \"\\n---------------------------------------\\n\", ds2[\"function_body_with_comments\"][i])"
      ],
      "metadata": {
        "colab": {
          "base_uri": "https://localhost:8080/"
        },
        "id": "KO0yqbidBYt4",
        "outputId": "e652ccc8-2522-411f-d14d-909259f67129"
      },
      "execution_count": 44,
      "outputs": [
        {
          "output_type": "stream",
          "name": "stdout",
          "text": [
            "0 get_vid_from_url extract_video_id \n",
            "---------------------------------------\n",
            " def <extra_id_0>(url):\n",
            "\"\"\"Extracts video ID from URL.\n",
            "        \"\"\"\n",
            "        return match1(url, r'youtu\\.be/([^?/]+)') or \\\n",
            "          match1(url, r'youtube\\.com/embed/([^/?]+)') or \\\n",
            "          match1(url, r'youtube\\.com/v/([^/?]+)') or \\\n",
            "          match1(url, r'youtube\\.com/watch/([^/?]+)') or \\\n",
            "          parse_query_param(url, 'v') or \\\n",
            "          parse_query_param(parse_query_param(url, 'u'), 'v')\n",
            "2 makeMimi makeMimiLocal \n",
            "---------------------------------------\n",
            " def <extra_id_0>(upid):\n",
            "\"\"\"From http://cdn37.atwikiimg.com/sitescript/pub/dksitescript/FC2.site.js\n",
            "    Also com.hps.util.fc2.FC2EncrptUtil.makeMimiLocal\n",
            "    L110\"\"\"\n",
            "    strSeed = \"gGddgPfeaf_gzyr\"\n",
            "    prehash = upid + \"_\" + strSeed\n",
            "    return md5(prehash.encode('utf-8')).hexdigest()\n",
            "7 ucas_download_playlist get_course_page \n",
            "---------------------------------------\n",
            " def <extra_id_0>(url, output_dir = '.', merge = False, info_only = False, **kwargs):\n",
            "'''course page'''\n",
            "    html = get_content(url)\n",
            "\n",
            "    parts = re.findall( r'(getplaytitle.do\\?.+)\"', html)\n",
            "    assert parts, 'No part found!'\n",
            "\n",
            "    for part_path in parts:\n",
            "        ucas_download('http://v.ucas.ac.cn/course/' + part_path, output_dir=output_dir, merge=merge, info_only=info_only)\n",
            "10 sina_download **kwargs)\n",
            " \n",
            "---------------------------------------\n",
            " def <extra_id_0>(url, output_dir='.', merge=True, info_only=False, **kwargs):\n",
            "\"\"\"Downloads Sina videos by URL.\n",
            "    \"\"\"\n",
            "    if 'news.sina.com.cn/zxt' in url:\n",
            "        sina_zxt(url, output_dir=output_dir, merge=merge, info_only=info_only, **kwargs)\n",
            "        return\n",
            "\n",
            "    vid = match1(url, r'vid=(\\d+)')\n",
            "    if vid is None:\n",
            "        video_page = get_content(url)\n",
            "        vid = hd_vid = match1(video_page, r'hd_vid\\s*:\\s*\\'([^\\']+)\\'')\n",
            "        if hd_vid == '0':\n",
            "            vids = match1(video_page, r'[^\\w]vid\\s*:\\s*\\'([^\\']+)\\'').split('|')\n",
            "            vid = vids[-1]\n",
            "\n",
            "    if vid is None:\n",
            "        vid = match1(video_page, r'vid:\"?(\\d+)\"?')\n",
            "    if vid:\n",
            "        #title = match1(video_page, r'title\\s*:\\s*\\'([^\\']+)\\'')\n",
            "        sina_download_by_vid(vid, output_dir=output_dir, merge=merge, info_only=info_only)\n",
            "    else:\n",
            "        vkey = match1(video_page, r'vkey\\s*:\\s*\"([^\"]+)\"')\n",
            "        if vkey is None:\n",
            "            vid = match1(url, r'#(\\d+)')\n",
            "            sina_download_by_vid(vid, output_dir=output_dir, merge=merge, info_only=info_only)\n",
            "            return\n",
            "        title = match1(video_page, r'title\\s*:\\s*\"([^\"]+)\"')\n",
            "        sina_download_by_vkey(vkey, title=title, output_dir=output_dir, merge=merge, info_only=info_only)\n",
            "11 yixia_download get_media_url \n",
            "---------------------------------------\n",
            " def <extra_id_0>(url, output_dir = '.', merge = True, info_only = False, **kwargs):\n",
            "\"\"\"wrapper\"\"\"\n",
            "    hostname = urlparse(url).hostname\n",
            "    if 'n.miaopai.com' == hostname: \n",
            "        smid = match1(url, r'n\\.miaopai\\.com/media/([^.]+)') \n",
            "        miaopai_download_by_smid(smid, output_dir, merge, info_only)\n",
            "        return\n",
            "    elif 'miaopai.com' in hostname:  #Miaopai\n",
            "        yixia_download_by_scid = yixia_miaopai_download_by_scid\n",
            "        site_info = \"Yixia Miaopai\"\n",
            "\n",
            "        scid = match1(url, r'miaopai\\.com/show/channel/([^.]+)\\.htm') or \\\n",
            "               match1(url, r'miaopai\\.com/show/([^.]+)\\.htm') or \\\n",
            "               match1(url, r'm\\.miaopai\\.com/show/channel/([^.]+)\\.htm') or \\\n",
            "               match1(url, r'm\\.miaopai\\.com/show/channel/([^.]+)')\n",
            "\n",
            "    elif 'xiaokaxiu.com' in hostname:  #Xiaokaxiu\n",
            "        yixia_download_by_scid = yixia_xiaokaxiu_download_by_scid\n",
            "        site_info = \"Yixia Xiaokaxiu\"\n",
            "\n",
            "        if re.match(r'http://v.xiaokaxiu.com/v/.+\\.html', url):  #PC\n",
            "            scid = match1(url, r'http://v.xiaokaxiu.com/v/(.+)\\.html')\n",
            "        elif re.match(r'http://m.xiaokaxiu.com/m/.+\\.html', url):  #Mobile\n",
            "            scid = match1(url, r'http://m.xiaokaxiu.com/m/(.+)\\.html')\n",
            "\n",
            "    else:\n",
            "        pass\n",
            "\n",
            "    yixia_download_by_scid(scid, output_dir, merge, info_only)\n"
          ]
        }
      ]
    },
    {
      "cell_type": "markdown",
      "source": [
        "0 - модель нашла название получше чем было \\\\\n",
        "2 - очень похоже, метрики не отражают \\\\\n",
        "7 - предложенное решение похоже по смыслу, но по тексту совсем другое \\\\\n",
        "10 - модель предложила не только имя функции, но и дописать перед функцией еще кучу кода, а мы делили по проблеам и взяли кусок этого кода. Не совсем то, чего хотелось бы (без комментариев тоже такое видела, но при финальной отчетности не смогла откопать пример) \\\\\n",
        "11 - предложенное решение похоже по смыслу, но совсем не идеально и есть куда улучшать"
      ],
      "metadata": {
        "id": "Z9SI7mMBUpJq"
      }
    },
    {
      "cell_type": "markdown",
      "metadata": {
        "id": "fgMTPASFOUWI"
      },
      "source": [
        "**Анлогично первому практическому заданию подготовьте краткий отчет, который будет включать сравнение по метрикам Exact Match и ROUGE-score результатов работы с использованием документации и комментариев с результатами, полученными только на основе исходного кода. В отчет также включите анализ небольшого числа примеров с наихудшими значениями метрик.**"
      ]
    },
    {
      "cell_type": "markdown",
      "source": [
        "**Без комментов** \\\\\n",
        "0 - модель нашла что-то вообще странное \\\\\n",
        "2 - без комментариев текст функции вообще не связан с названием \\\\\n",
        "7 - похоже, метрики не отражают, что не все так плохо \\\\\n",
        "10 - предложенное решение похоже по смыслу, но не отражает смысл функции, не совсем плохо, но есть сильно куда улучшать \\\\\n",
        "11 - модель нашла что-то вообще странное\n",
        "\n",
        "\n",
        "**С комментами** \\\\\n",
        "0 - модель нашла название получше чем было \\\\\n",
        "2 - очень похоже, метрики не отражают \\\\\n",
        "7 - предложенное решение похоже по смыслу, но по тексту совсем другое \\\\\n",
        "10 - модель предложила не только имя функции, но и дописать перед функцией еще кучу кода, а мы делили по проблеам и взяли кусок этого кода. Не совсем то, чего хотелось бы (без комментариев тоже такое видела, но при финальной отчетности не смогла откопать пример) \\\\\n",
        "11 - предложенное решение похоже по смыслу, но совсем не идеально и есть куда улучшать"
      ],
      "metadata": {
        "id": "HnBbwLdyVYvd"
      }
    },
    {
      "cell_type": "markdown",
      "source": [
        "**Без комментов** \\\\\n",
        "```\n",
        "{'exact_match': 0.157}\n",
        "\n",
        "{'rouge1': 0.3459225274725278,\n",
        " 'rouge2': 0.16446904761904768,\n",
        " 'rougeL': 0.34539618437118436,\n",
        " 'rougeLsum': 0.34510442612942616}\n",
        "```\n",
        "\n",
        "**С комментами** \\\\\n",
        "```\n",
        "{'exact_match': 0.215}\n",
        "\n",
        "{'rouge1': 0.47189603174603223,\n",
        " 'rouge2': 0.23468690476190468,\n",
        " 'rougeL': 0.4689229076479078,\n",
        " 'rougeLsum': 0.468839177489178}\n",
        "```"
      ],
      "metadata": {
        "id": "mB6oUlF-VuRY"
      }
    },
    {
      "cell_type": "markdown",
      "source": [
        "Видим, что все метрики стали ожидаемо **лучше** **при добавлении комментов**. Кроме того, на случайно выбранных 5 примерах тоже видно улучшение. 0 и 11 из чего-то странного превратились во что-то осмысленное. 2 стало лучше. 7 ухудшился не критично."
      ],
      "metadata": {
        "id": "WGGAFhlyV-OO"
      }
    },
    {
      "cell_type": "markdown",
      "source": [
        "**Сложности**\n",
        "\n",
        "- Много пришлось повозиться с tree_sitter, да и в целом времени много занимает все аккуратно проделать\n",
        "- Google Сolab не хватает памяти на GPU, чтобы работать со всем датасетом. Чтобы запускать несколько моделей в одну итерацию. Если не ограничить параметры запуска `max_length`, `truncation=True`, `padding=True`"
      ],
      "metadata": {
        "id": "Its6bL3xrt5s"
      }
    }
  ],
  "metadata": {
    "colab": {
      "gpuType": "T4",
      "provenance": []
    },
    "kaggle": {
      "accelerator": "nvidiaTeslaT4",
      "dataSources": [
        {
          "datasetId": 5827593,
          "sourceId": 9562591,
          "sourceType": "datasetVersion"
        }
      ],
      "dockerImageVersionId": 30786,
      "isGpuEnabled": true,
      "isInternetEnabled": true,
      "language": "python",
      "sourceType": "notebook"
    },
    "kernelspec": {
      "display_name": "Python 3",
      "name": "python3"
    },
    "language_info": {
      "codemirror_mode": {
        "name": "ipython",
        "version": 3
      },
      "file_extension": ".py",
      "mimetype": "text/x-python",
      "name": "python",
      "nbconvert_exporter": "python",
      "pygments_lexer": "ipython3",
      "version": "3.10.14"
    },
    "widgets": {
      "application/vnd.jupyter.widget-state+json": {
        "fb7b3fc443b041cbb66e3a224235f207": {
          "model_module": "@jupyter-widgets/controls",
          "model_name": "HBoxModel",
          "model_module_version": "1.5.0",
          "state": {
            "_dom_classes": [],
            "_model_module": "@jupyter-widgets/controls",
            "_model_module_version": "1.5.0",
            "_model_name": "HBoxModel",
            "_view_count": null,
            "_view_module": "@jupyter-widgets/controls",
            "_view_module_version": "1.5.0",
            "_view_name": "HBoxView",
            "box_style": "",
            "children": [
              "IPY_MODEL_186309796f064fcd931ff04e0142df2c",
              "IPY_MODEL_1f0be00547e3417e990c23c288efa052",
              "IPY_MODEL_9fdff473131d4e848284962363bde642"
            ],
            "layout": "IPY_MODEL_ba0c301dcf4441e88594734f692dd7be"
          }
        },
        "186309796f064fcd931ff04e0142df2c": {
          "model_module": "@jupyter-widgets/controls",
          "model_name": "HTMLModel",
          "model_module_version": "1.5.0",
          "state": {
            "_dom_classes": [],
            "_model_module": "@jupyter-widgets/controls",
            "_model_module_version": "1.5.0",
            "_model_name": "HTMLModel",
            "_view_count": null,
            "_view_module": "@jupyter-widgets/controls",
            "_view_module_version": "1.5.0",
            "_view_name": "HTMLView",
            "description": "",
            "description_tooltip": null,
            "layout": "IPY_MODEL_6fc701635b384faf81c05febb76341ab",
            "placeholder": "​",
            "style": "IPY_MODEL_6bd33e397d884c68a37105489901b7fd",
            "value": "Downloading builder script: 100%"
          }
        },
        "1f0be00547e3417e990c23c288efa052": {
          "model_module": "@jupyter-widgets/controls",
          "model_name": "FloatProgressModel",
          "model_module_version": "1.5.0",
          "state": {
            "_dom_classes": [],
            "_model_module": "@jupyter-widgets/controls",
            "_model_module_version": "1.5.0",
            "_model_name": "FloatProgressModel",
            "_view_count": null,
            "_view_module": "@jupyter-widgets/controls",
            "_view_module_version": "1.5.0",
            "_view_name": "ProgressView",
            "bar_style": "success",
            "description": "",
            "description_tooltip": null,
            "layout": "IPY_MODEL_f0c006cdd0354a3ea701eff2a625af36",
            "max": 8440,
            "min": 0,
            "orientation": "horizontal",
            "style": "IPY_MODEL_3c3fc85071744e9fa08b0ca9987b09e8",
            "value": 8440
          }
        },
        "9fdff473131d4e848284962363bde642": {
          "model_module": "@jupyter-widgets/controls",
          "model_name": "HTMLModel",
          "model_module_version": "1.5.0",
          "state": {
            "_dom_classes": [],
            "_model_module": "@jupyter-widgets/controls",
            "_model_module_version": "1.5.0",
            "_model_name": "HTMLModel",
            "_view_count": null,
            "_view_module": "@jupyter-widgets/controls",
            "_view_module_version": "1.5.0",
            "_view_name": "HTMLView",
            "description": "",
            "description_tooltip": null,
            "layout": "IPY_MODEL_248a564d428344dc999837add61c7a2e",
            "placeholder": "​",
            "style": "IPY_MODEL_699a153a89b64c49a8ea6958a159e274",
            "value": " 8.44k/8.44k [00:00&lt;00:00, 206kB/s]"
          }
        },
        "ba0c301dcf4441e88594734f692dd7be": {
          "model_module": "@jupyter-widgets/base",
          "model_name": "LayoutModel",
          "model_module_version": "1.2.0",
          "state": {
            "_model_module": "@jupyter-widgets/base",
            "_model_module_version": "1.2.0",
            "_model_name": "LayoutModel",
            "_view_count": null,
            "_view_module": "@jupyter-widgets/base",
            "_view_module_version": "1.2.0",
            "_view_name": "LayoutView",
            "align_content": null,
            "align_items": null,
            "align_self": null,
            "border": null,
            "bottom": null,
            "display": null,
            "flex": null,
            "flex_flow": null,
            "grid_area": null,
            "grid_auto_columns": null,
            "grid_auto_flow": null,
            "grid_auto_rows": null,
            "grid_column": null,
            "grid_gap": null,
            "grid_row": null,
            "grid_template_areas": null,
            "grid_template_columns": null,
            "grid_template_rows": null,
            "height": null,
            "justify_content": null,
            "justify_items": null,
            "left": null,
            "margin": null,
            "max_height": null,
            "max_width": null,
            "min_height": null,
            "min_width": null,
            "object_fit": null,
            "object_position": null,
            "order": null,
            "overflow": null,
            "overflow_x": null,
            "overflow_y": null,
            "padding": null,
            "right": null,
            "top": null,
            "visibility": null,
            "width": null
          }
        },
        "6fc701635b384faf81c05febb76341ab": {
          "model_module": "@jupyter-widgets/base",
          "model_name": "LayoutModel",
          "model_module_version": "1.2.0",
          "state": {
            "_model_module": "@jupyter-widgets/base",
            "_model_module_version": "1.2.0",
            "_model_name": "LayoutModel",
            "_view_count": null,
            "_view_module": "@jupyter-widgets/base",
            "_view_module_version": "1.2.0",
            "_view_name": "LayoutView",
            "align_content": null,
            "align_items": null,
            "align_self": null,
            "border": null,
            "bottom": null,
            "display": null,
            "flex": null,
            "flex_flow": null,
            "grid_area": null,
            "grid_auto_columns": null,
            "grid_auto_flow": null,
            "grid_auto_rows": null,
            "grid_column": null,
            "grid_gap": null,
            "grid_row": null,
            "grid_template_areas": null,
            "grid_template_columns": null,
            "grid_template_rows": null,
            "height": null,
            "justify_content": null,
            "justify_items": null,
            "left": null,
            "margin": null,
            "max_height": null,
            "max_width": null,
            "min_height": null,
            "min_width": null,
            "object_fit": null,
            "object_position": null,
            "order": null,
            "overflow": null,
            "overflow_x": null,
            "overflow_y": null,
            "padding": null,
            "right": null,
            "top": null,
            "visibility": null,
            "width": null
          }
        },
        "6bd33e397d884c68a37105489901b7fd": {
          "model_module": "@jupyter-widgets/controls",
          "model_name": "DescriptionStyleModel",
          "model_module_version": "1.5.0",
          "state": {
            "_model_module": "@jupyter-widgets/controls",
            "_model_module_version": "1.5.0",
            "_model_name": "DescriptionStyleModel",
            "_view_count": null,
            "_view_module": "@jupyter-widgets/base",
            "_view_module_version": "1.2.0",
            "_view_name": "StyleView",
            "description_width": ""
          }
        },
        "f0c006cdd0354a3ea701eff2a625af36": {
          "model_module": "@jupyter-widgets/base",
          "model_name": "LayoutModel",
          "model_module_version": "1.2.0",
          "state": {
            "_model_module": "@jupyter-widgets/base",
            "_model_module_version": "1.2.0",
            "_model_name": "LayoutModel",
            "_view_count": null,
            "_view_module": "@jupyter-widgets/base",
            "_view_module_version": "1.2.0",
            "_view_name": "LayoutView",
            "align_content": null,
            "align_items": null,
            "align_self": null,
            "border": null,
            "bottom": null,
            "display": null,
            "flex": null,
            "flex_flow": null,
            "grid_area": null,
            "grid_auto_columns": null,
            "grid_auto_flow": null,
            "grid_auto_rows": null,
            "grid_column": null,
            "grid_gap": null,
            "grid_row": null,
            "grid_template_areas": null,
            "grid_template_columns": null,
            "grid_template_rows": null,
            "height": null,
            "justify_content": null,
            "justify_items": null,
            "left": null,
            "margin": null,
            "max_height": null,
            "max_width": null,
            "min_height": null,
            "min_width": null,
            "object_fit": null,
            "object_position": null,
            "order": null,
            "overflow": null,
            "overflow_x": null,
            "overflow_y": null,
            "padding": null,
            "right": null,
            "top": null,
            "visibility": null,
            "width": null
          }
        },
        "3c3fc85071744e9fa08b0ca9987b09e8": {
          "model_module": "@jupyter-widgets/controls",
          "model_name": "ProgressStyleModel",
          "model_module_version": "1.5.0",
          "state": {
            "_model_module": "@jupyter-widgets/controls",
            "_model_module_version": "1.5.0",
            "_model_name": "ProgressStyleModel",
            "_view_count": null,
            "_view_module": "@jupyter-widgets/base",
            "_view_module_version": "1.2.0",
            "_view_name": "StyleView",
            "bar_color": null,
            "description_width": ""
          }
        },
        "248a564d428344dc999837add61c7a2e": {
          "model_module": "@jupyter-widgets/base",
          "model_name": "LayoutModel",
          "model_module_version": "1.2.0",
          "state": {
            "_model_module": "@jupyter-widgets/base",
            "_model_module_version": "1.2.0",
            "_model_name": "LayoutModel",
            "_view_count": null,
            "_view_module": "@jupyter-widgets/base",
            "_view_module_version": "1.2.0",
            "_view_name": "LayoutView",
            "align_content": null,
            "align_items": null,
            "align_self": null,
            "border": null,
            "bottom": null,
            "display": null,
            "flex": null,
            "flex_flow": null,
            "grid_area": null,
            "grid_auto_columns": null,
            "grid_auto_flow": null,
            "grid_auto_rows": null,
            "grid_column": null,
            "grid_gap": null,
            "grid_row": null,
            "grid_template_areas": null,
            "grid_template_columns": null,
            "grid_template_rows": null,
            "height": null,
            "justify_content": null,
            "justify_items": null,
            "left": null,
            "margin": null,
            "max_height": null,
            "max_width": null,
            "min_height": null,
            "min_width": null,
            "object_fit": null,
            "object_position": null,
            "order": null,
            "overflow": null,
            "overflow_x": null,
            "overflow_y": null,
            "padding": null,
            "right": null,
            "top": null,
            "visibility": null,
            "width": null
          }
        },
        "699a153a89b64c49a8ea6958a159e274": {
          "model_module": "@jupyter-widgets/controls",
          "model_name": "DescriptionStyleModel",
          "model_module_version": "1.5.0",
          "state": {
            "_model_module": "@jupyter-widgets/controls",
            "_model_module_version": "1.5.0",
            "_model_name": "DescriptionStyleModel",
            "_view_count": null,
            "_view_module": "@jupyter-widgets/base",
            "_view_module_version": "1.2.0",
            "_view_name": "StyleView",
            "description_width": ""
          }
        },
        "166a2114d45646b4bea53e21cacd2075": {
          "model_module": "@jupyter-widgets/controls",
          "model_name": "HBoxModel",
          "model_module_version": "1.5.0",
          "state": {
            "_dom_classes": [],
            "_model_module": "@jupyter-widgets/controls",
            "_model_module_version": "1.5.0",
            "_model_name": "HBoxModel",
            "_view_count": null,
            "_view_module": "@jupyter-widgets/controls",
            "_view_module_version": "1.5.0",
            "_view_name": "HBoxView",
            "box_style": "",
            "children": [
              "IPY_MODEL_ae0ff084da434a8daf5bec6a2436ec62",
              "IPY_MODEL_c1a8dd1e90d445ee82e42be2b6b4b978",
              "IPY_MODEL_352d7570aaa84b8eb5768ee338f998a8"
            ],
            "layout": "IPY_MODEL_ea404532cddb4f5b9df8025fa660efed"
          }
        },
        "ae0ff084da434a8daf5bec6a2436ec62": {
          "model_module": "@jupyter-widgets/controls",
          "model_name": "HTMLModel",
          "model_module_version": "1.5.0",
          "state": {
            "_dom_classes": [],
            "_model_module": "@jupyter-widgets/controls",
            "_model_module_version": "1.5.0",
            "_model_name": "HTMLModel",
            "_view_count": null,
            "_view_module": "@jupyter-widgets/controls",
            "_view_module_version": "1.5.0",
            "_view_name": "HTMLView",
            "description": "",
            "description_tooltip": null,
            "layout": "IPY_MODEL_49fbbbc087714a018733591478a7c8f9",
            "placeholder": "​",
            "style": "IPY_MODEL_9b1d66362a6542c982a7ca2bbbe677b3",
            "value": "Downloading readme: 100%"
          }
        },
        "c1a8dd1e90d445ee82e42be2b6b4b978": {
          "model_module": "@jupyter-widgets/controls",
          "model_name": "FloatProgressModel",
          "model_module_version": "1.5.0",
          "state": {
            "_dom_classes": [],
            "_model_module": "@jupyter-widgets/controls",
            "_model_module_version": "1.5.0",
            "_model_name": "FloatProgressModel",
            "_view_count": null,
            "_view_module": "@jupyter-widgets/controls",
            "_view_module_version": "1.5.0",
            "_view_name": "ProgressView",
            "bar_style": "success",
            "description": "",
            "description_tooltip": null,
            "layout": "IPY_MODEL_23f946b92acd452592d5ec0f88382f11",
            "max": 12909,
            "min": 0,
            "orientation": "horizontal",
            "style": "IPY_MODEL_5b837da03db54e0d94e3c57fd383ea06",
            "value": 12909
          }
        },
        "352d7570aaa84b8eb5768ee338f998a8": {
          "model_module": "@jupyter-widgets/controls",
          "model_name": "HTMLModel",
          "model_module_version": "1.5.0",
          "state": {
            "_dom_classes": [],
            "_model_module": "@jupyter-widgets/controls",
            "_model_module_version": "1.5.0",
            "_model_name": "HTMLModel",
            "_view_count": null,
            "_view_module": "@jupyter-widgets/controls",
            "_view_module_version": "1.5.0",
            "_view_name": "HTMLView",
            "description": "",
            "description_tooltip": null,
            "layout": "IPY_MODEL_64cd70ef3f524145acf6e97581999679",
            "placeholder": "​",
            "style": "IPY_MODEL_0cdef02aac434408b0e182388fd6d781",
            "value": " 12.9k/12.9k [00:00&lt;00:00, 210kB/s]"
          }
        },
        "ea404532cddb4f5b9df8025fa660efed": {
          "model_module": "@jupyter-widgets/base",
          "model_name": "LayoutModel",
          "model_module_version": "1.2.0",
          "state": {
            "_model_module": "@jupyter-widgets/base",
            "_model_module_version": "1.2.0",
            "_model_name": "LayoutModel",
            "_view_count": null,
            "_view_module": "@jupyter-widgets/base",
            "_view_module_version": "1.2.0",
            "_view_name": "LayoutView",
            "align_content": null,
            "align_items": null,
            "align_self": null,
            "border": null,
            "bottom": null,
            "display": null,
            "flex": null,
            "flex_flow": null,
            "grid_area": null,
            "grid_auto_columns": null,
            "grid_auto_flow": null,
            "grid_auto_rows": null,
            "grid_column": null,
            "grid_gap": null,
            "grid_row": null,
            "grid_template_areas": null,
            "grid_template_columns": null,
            "grid_template_rows": null,
            "height": null,
            "justify_content": null,
            "justify_items": null,
            "left": null,
            "margin": null,
            "max_height": null,
            "max_width": null,
            "min_height": null,
            "min_width": null,
            "object_fit": null,
            "object_position": null,
            "order": null,
            "overflow": null,
            "overflow_x": null,
            "overflow_y": null,
            "padding": null,
            "right": null,
            "top": null,
            "visibility": null,
            "width": null
          }
        },
        "49fbbbc087714a018733591478a7c8f9": {
          "model_module": "@jupyter-widgets/base",
          "model_name": "LayoutModel",
          "model_module_version": "1.2.0",
          "state": {
            "_model_module": "@jupyter-widgets/base",
            "_model_module_version": "1.2.0",
            "_model_name": "LayoutModel",
            "_view_count": null,
            "_view_module": "@jupyter-widgets/base",
            "_view_module_version": "1.2.0",
            "_view_name": "LayoutView",
            "align_content": null,
            "align_items": null,
            "align_self": null,
            "border": null,
            "bottom": null,
            "display": null,
            "flex": null,
            "flex_flow": null,
            "grid_area": null,
            "grid_auto_columns": null,
            "grid_auto_flow": null,
            "grid_auto_rows": null,
            "grid_column": null,
            "grid_gap": null,
            "grid_row": null,
            "grid_template_areas": null,
            "grid_template_columns": null,
            "grid_template_rows": null,
            "height": null,
            "justify_content": null,
            "justify_items": null,
            "left": null,
            "margin": null,
            "max_height": null,
            "max_width": null,
            "min_height": null,
            "min_width": null,
            "object_fit": null,
            "object_position": null,
            "order": null,
            "overflow": null,
            "overflow_x": null,
            "overflow_y": null,
            "padding": null,
            "right": null,
            "top": null,
            "visibility": null,
            "width": null
          }
        },
        "9b1d66362a6542c982a7ca2bbbe677b3": {
          "model_module": "@jupyter-widgets/controls",
          "model_name": "DescriptionStyleModel",
          "model_module_version": "1.5.0",
          "state": {
            "_model_module": "@jupyter-widgets/controls",
            "_model_module_version": "1.5.0",
            "_model_name": "DescriptionStyleModel",
            "_view_count": null,
            "_view_module": "@jupyter-widgets/base",
            "_view_module_version": "1.2.0",
            "_view_name": "StyleView",
            "description_width": ""
          }
        },
        "23f946b92acd452592d5ec0f88382f11": {
          "model_module": "@jupyter-widgets/base",
          "model_name": "LayoutModel",
          "model_module_version": "1.2.0",
          "state": {
            "_model_module": "@jupyter-widgets/base",
            "_model_module_version": "1.2.0",
            "_model_name": "LayoutModel",
            "_view_count": null,
            "_view_module": "@jupyter-widgets/base",
            "_view_module_version": "1.2.0",
            "_view_name": "LayoutView",
            "align_content": null,
            "align_items": null,
            "align_self": null,
            "border": null,
            "bottom": null,
            "display": null,
            "flex": null,
            "flex_flow": null,
            "grid_area": null,
            "grid_auto_columns": null,
            "grid_auto_flow": null,
            "grid_auto_rows": null,
            "grid_column": null,
            "grid_gap": null,
            "grid_row": null,
            "grid_template_areas": null,
            "grid_template_columns": null,
            "grid_template_rows": null,
            "height": null,
            "justify_content": null,
            "justify_items": null,
            "left": null,
            "margin": null,
            "max_height": null,
            "max_width": null,
            "min_height": null,
            "min_width": null,
            "object_fit": null,
            "object_position": null,
            "order": null,
            "overflow": null,
            "overflow_x": null,
            "overflow_y": null,
            "padding": null,
            "right": null,
            "top": null,
            "visibility": null,
            "width": null
          }
        },
        "5b837da03db54e0d94e3c57fd383ea06": {
          "model_module": "@jupyter-widgets/controls",
          "model_name": "ProgressStyleModel",
          "model_module_version": "1.5.0",
          "state": {
            "_model_module": "@jupyter-widgets/controls",
            "_model_module_version": "1.5.0",
            "_model_name": "ProgressStyleModel",
            "_view_count": null,
            "_view_module": "@jupyter-widgets/base",
            "_view_module_version": "1.2.0",
            "_view_name": "StyleView",
            "bar_color": null,
            "description_width": ""
          }
        },
        "64cd70ef3f524145acf6e97581999679": {
          "model_module": "@jupyter-widgets/base",
          "model_name": "LayoutModel",
          "model_module_version": "1.2.0",
          "state": {
            "_model_module": "@jupyter-widgets/base",
            "_model_module_version": "1.2.0",
            "_model_name": "LayoutModel",
            "_view_count": null,
            "_view_module": "@jupyter-widgets/base",
            "_view_module_version": "1.2.0",
            "_view_name": "LayoutView",
            "align_content": null,
            "align_items": null,
            "align_self": null,
            "border": null,
            "bottom": null,
            "display": null,
            "flex": null,
            "flex_flow": null,
            "grid_area": null,
            "grid_auto_columns": null,
            "grid_auto_flow": null,
            "grid_auto_rows": null,
            "grid_column": null,
            "grid_gap": null,
            "grid_row": null,
            "grid_template_areas": null,
            "grid_template_columns": null,
            "grid_template_rows": null,
            "height": null,
            "justify_content": null,
            "justify_items": null,
            "left": null,
            "margin": null,
            "max_height": null,
            "max_width": null,
            "min_height": null,
            "min_width": null,
            "object_fit": null,
            "object_position": null,
            "order": null,
            "overflow": null,
            "overflow_x": null,
            "overflow_y": null,
            "padding": null,
            "right": null,
            "top": null,
            "visibility": null,
            "width": null
          }
        },
        "0cdef02aac434408b0e182388fd6d781": {
          "model_module": "@jupyter-widgets/controls",
          "model_name": "DescriptionStyleModel",
          "model_module_version": "1.5.0",
          "state": {
            "_model_module": "@jupyter-widgets/controls",
            "_model_module_version": "1.5.0",
            "_model_name": "DescriptionStyleModel",
            "_view_count": null,
            "_view_module": "@jupyter-widgets/base",
            "_view_module_version": "1.2.0",
            "_view_name": "StyleView",
            "description_width": ""
          }
        },
        "f570e97a7b214021b9ec3438e258142d": {
          "model_module": "@jupyter-widgets/controls",
          "model_name": "HBoxModel",
          "model_module_version": "1.5.0",
          "state": {
            "_dom_classes": [],
            "_model_module": "@jupyter-widgets/controls",
            "_model_module_version": "1.5.0",
            "_model_name": "HBoxModel",
            "_view_count": null,
            "_view_module": "@jupyter-widgets/controls",
            "_view_module_version": "1.5.0",
            "_view_name": "HBoxView",
            "box_style": "",
            "children": [
              "IPY_MODEL_3f7fa9adce2d49c68e937cf943bf76b8",
              "IPY_MODEL_5c068fd01ae64afc8c1698748a7e883a",
              "IPY_MODEL_7012ec2ab3b5470faea6fa4bb12c9148"
            ],
            "layout": "IPY_MODEL_e89292474d03451a998ca2d50a8bd1eb"
          }
        },
        "3f7fa9adce2d49c68e937cf943bf76b8": {
          "model_module": "@jupyter-widgets/controls",
          "model_name": "HTMLModel",
          "model_module_version": "1.5.0",
          "state": {
            "_dom_classes": [],
            "_model_module": "@jupyter-widgets/controls",
            "_model_module_version": "1.5.0",
            "_model_name": "HTMLModel",
            "_view_count": null,
            "_view_module": "@jupyter-widgets/controls",
            "_view_module_version": "1.5.0",
            "_view_name": "HTMLView",
            "description": "",
            "description_tooltip": null,
            "layout": "IPY_MODEL_5742666135614bddaeb4d7b10cd5c63a",
            "placeholder": "​",
            "style": "IPY_MODEL_a9a5c9cd83474e2892e842cad025535f",
            "value": "Downloading data: 100%"
          }
        },
        "5c068fd01ae64afc8c1698748a7e883a": {
          "model_module": "@jupyter-widgets/controls",
          "model_name": "FloatProgressModel",
          "model_module_version": "1.5.0",
          "state": {
            "_dom_classes": [],
            "_model_module": "@jupyter-widgets/controls",
            "_model_module_version": "1.5.0",
            "_model_name": "FloatProgressModel",
            "_view_count": null,
            "_view_module": "@jupyter-widgets/controls",
            "_view_module_version": "1.5.0",
            "_view_name": "ProgressView",
            "bar_style": "success",
            "description": "",
            "description_tooltip": null,
            "layout": "IPY_MODEL_66d014049dcd4c0097be7035b3f78c17",
            "max": 940909997,
            "min": 0,
            "orientation": "horizontal",
            "style": "IPY_MODEL_450eb0bde86c4234b2a45d8e91be745d",
            "value": 940909997
          }
        },
        "7012ec2ab3b5470faea6fa4bb12c9148": {
          "model_module": "@jupyter-widgets/controls",
          "model_name": "HTMLModel",
          "model_module_version": "1.5.0",
          "state": {
            "_dom_classes": [],
            "_model_module": "@jupyter-widgets/controls",
            "_model_module_version": "1.5.0",
            "_model_name": "HTMLModel",
            "_view_count": null,
            "_view_module": "@jupyter-widgets/controls",
            "_view_module_version": "1.5.0",
            "_view_name": "HTMLView",
            "description": "",
            "description_tooltip": null,
            "layout": "IPY_MODEL_942b5cb900d8461eaeaa4362e2c2ff29",
            "placeholder": "​",
            "style": "IPY_MODEL_5e8c99fe42764a9d959b200622f16fae",
            "value": " 941M/941M [00:24&lt;00:00, 43.4MB/s]"
          }
        },
        "e89292474d03451a998ca2d50a8bd1eb": {
          "model_module": "@jupyter-widgets/base",
          "model_name": "LayoutModel",
          "model_module_version": "1.2.0",
          "state": {
            "_model_module": "@jupyter-widgets/base",
            "_model_module_version": "1.2.0",
            "_model_name": "LayoutModel",
            "_view_count": null,
            "_view_module": "@jupyter-widgets/base",
            "_view_module_version": "1.2.0",
            "_view_name": "LayoutView",
            "align_content": null,
            "align_items": null,
            "align_self": null,
            "border": null,
            "bottom": null,
            "display": null,
            "flex": null,
            "flex_flow": null,
            "grid_area": null,
            "grid_auto_columns": null,
            "grid_auto_flow": null,
            "grid_auto_rows": null,
            "grid_column": null,
            "grid_gap": null,
            "grid_row": null,
            "grid_template_areas": null,
            "grid_template_columns": null,
            "grid_template_rows": null,
            "height": null,
            "justify_content": null,
            "justify_items": null,
            "left": null,
            "margin": null,
            "max_height": null,
            "max_width": null,
            "min_height": null,
            "min_width": null,
            "object_fit": null,
            "object_position": null,
            "order": null,
            "overflow": null,
            "overflow_x": null,
            "overflow_y": null,
            "padding": null,
            "right": null,
            "top": null,
            "visibility": null,
            "width": null
          }
        },
        "5742666135614bddaeb4d7b10cd5c63a": {
          "model_module": "@jupyter-widgets/base",
          "model_name": "LayoutModel",
          "model_module_version": "1.2.0",
          "state": {
            "_model_module": "@jupyter-widgets/base",
            "_model_module_version": "1.2.0",
            "_model_name": "LayoutModel",
            "_view_count": null,
            "_view_module": "@jupyter-widgets/base",
            "_view_module_version": "1.2.0",
            "_view_name": "LayoutView",
            "align_content": null,
            "align_items": null,
            "align_self": null,
            "border": null,
            "bottom": null,
            "display": null,
            "flex": null,
            "flex_flow": null,
            "grid_area": null,
            "grid_auto_columns": null,
            "grid_auto_flow": null,
            "grid_auto_rows": null,
            "grid_column": null,
            "grid_gap": null,
            "grid_row": null,
            "grid_template_areas": null,
            "grid_template_columns": null,
            "grid_template_rows": null,
            "height": null,
            "justify_content": null,
            "justify_items": null,
            "left": null,
            "margin": null,
            "max_height": null,
            "max_width": null,
            "min_height": null,
            "min_width": null,
            "object_fit": null,
            "object_position": null,
            "order": null,
            "overflow": null,
            "overflow_x": null,
            "overflow_y": null,
            "padding": null,
            "right": null,
            "top": null,
            "visibility": null,
            "width": null
          }
        },
        "a9a5c9cd83474e2892e842cad025535f": {
          "model_module": "@jupyter-widgets/controls",
          "model_name": "DescriptionStyleModel",
          "model_module_version": "1.5.0",
          "state": {
            "_model_module": "@jupyter-widgets/controls",
            "_model_module_version": "1.5.0",
            "_model_name": "DescriptionStyleModel",
            "_view_count": null,
            "_view_module": "@jupyter-widgets/base",
            "_view_module_version": "1.2.0",
            "_view_name": "StyleView",
            "description_width": ""
          }
        },
        "66d014049dcd4c0097be7035b3f78c17": {
          "model_module": "@jupyter-widgets/base",
          "model_name": "LayoutModel",
          "model_module_version": "1.2.0",
          "state": {
            "_model_module": "@jupyter-widgets/base",
            "_model_module_version": "1.2.0",
            "_model_name": "LayoutModel",
            "_view_count": null,
            "_view_module": "@jupyter-widgets/base",
            "_view_module_version": "1.2.0",
            "_view_name": "LayoutView",
            "align_content": null,
            "align_items": null,
            "align_self": null,
            "border": null,
            "bottom": null,
            "display": null,
            "flex": null,
            "flex_flow": null,
            "grid_area": null,
            "grid_auto_columns": null,
            "grid_auto_flow": null,
            "grid_auto_rows": null,
            "grid_column": null,
            "grid_gap": null,
            "grid_row": null,
            "grid_template_areas": null,
            "grid_template_columns": null,
            "grid_template_rows": null,
            "height": null,
            "justify_content": null,
            "justify_items": null,
            "left": null,
            "margin": null,
            "max_height": null,
            "max_width": null,
            "min_height": null,
            "min_width": null,
            "object_fit": null,
            "object_position": null,
            "order": null,
            "overflow": null,
            "overflow_x": null,
            "overflow_y": null,
            "padding": null,
            "right": null,
            "top": null,
            "visibility": null,
            "width": null
          }
        },
        "450eb0bde86c4234b2a45d8e91be745d": {
          "model_module": "@jupyter-widgets/controls",
          "model_name": "ProgressStyleModel",
          "model_module_version": "1.5.0",
          "state": {
            "_model_module": "@jupyter-widgets/controls",
            "_model_module_version": "1.5.0",
            "_model_name": "ProgressStyleModel",
            "_view_count": null,
            "_view_module": "@jupyter-widgets/base",
            "_view_module_version": "1.2.0",
            "_view_name": "StyleView",
            "bar_color": null,
            "description_width": ""
          }
        },
        "942b5cb900d8461eaeaa4362e2c2ff29": {
          "model_module": "@jupyter-widgets/base",
          "model_name": "LayoutModel",
          "model_module_version": "1.2.0",
          "state": {
            "_model_module": "@jupyter-widgets/base",
            "_model_module_version": "1.2.0",
            "_model_name": "LayoutModel",
            "_view_count": null,
            "_view_module": "@jupyter-widgets/base",
            "_view_module_version": "1.2.0",
            "_view_name": "LayoutView",
            "align_content": null,
            "align_items": null,
            "align_self": null,
            "border": null,
            "bottom": null,
            "display": null,
            "flex": null,
            "flex_flow": null,
            "grid_area": null,
            "grid_auto_columns": null,
            "grid_auto_flow": null,
            "grid_auto_rows": null,
            "grid_column": null,
            "grid_gap": null,
            "grid_row": null,
            "grid_template_areas": null,
            "grid_template_columns": null,
            "grid_template_rows": null,
            "height": null,
            "justify_content": null,
            "justify_items": null,
            "left": null,
            "margin": null,
            "max_height": null,
            "max_width": null,
            "min_height": null,
            "min_width": null,
            "object_fit": null,
            "object_position": null,
            "order": null,
            "overflow": null,
            "overflow_x": null,
            "overflow_y": null,
            "padding": null,
            "right": null,
            "top": null,
            "visibility": null,
            "width": null
          }
        },
        "5e8c99fe42764a9d959b200622f16fae": {
          "model_module": "@jupyter-widgets/controls",
          "model_name": "DescriptionStyleModel",
          "model_module_version": "1.5.0",
          "state": {
            "_model_module": "@jupyter-widgets/controls",
            "_model_module_version": "1.5.0",
            "_model_name": "DescriptionStyleModel",
            "_view_count": null,
            "_view_module": "@jupyter-widgets/base",
            "_view_module_version": "1.2.0",
            "_view_name": "StyleView",
            "description_width": ""
          }
        },
        "4815945290834d5ca70e9b861f162362": {
          "model_module": "@jupyter-widgets/controls",
          "model_name": "HBoxModel",
          "model_module_version": "1.5.0",
          "state": {
            "_dom_classes": [],
            "_model_module": "@jupyter-widgets/controls",
            "_model_module_version": "1.5.0",
            "_model_name": "HBoxModel",
            "_view_count": null,
            "_view_module": "@jupyter-widgets/controls",
            "_view_module_version": "1.5.0",
            "_view_name": "HBoxView",
            "box_style": "",
            "children": [
              "IPY_MODEL_323c78fb4b1a42ebb06a2b324b8ed779",
              "IPY_MODEL_bdddce12cb374dfa9f8b7d380e58b90c",
              "IPY_MODEL_df6e37f7bde04c28afd79ca0870b6876"
            ],
            "layout": "IPY_MODEL_bec4c4ce8a584360a8d39875d5e92faa"
          }
        },
        "323c78fb4b1a42ebb06a2b324b8ed779": {
          "model_module": "@jupyter-widgets/controls",
          "model_name": "HTMLModel",
          "model_module_version": "1.5.0",
          "state": {
            "_dom_classes": [],
            "_model_module": "@jupyter-widgets/controls",
            "_model_module_version": "1.5.0",
            "_model_name": "HTMLModel",
            "_view_count": null,
            "_view_module": "@jupyter-widgets/controls",
            "_view_module_version": "1.5.0",
            "_view_name": "HTMLView",
            "description": "",
            "description_tooltip": null,
            "layout": "IPY_MODEL_0e79ebb10d08412d9a59851b90f9df19",
            "placeholder": "​",
            "style": "IPY_MODEL_02742b9153374aff8f3fb28bdf090fd4",
            "value": "Generating train split: 100%"
          }
        },
        "bdddce12cb374dfa9f8b7d380e58b90c": {
          "model_module": "@jupyter-widgets/controls",
          "model_name": "FloatProgressModel",
          "model_module_version": "1.5.0",
          "state": {
            "_dom_classes": [],
            "_model_module": "@jupyter-widgets/controls",
            "_model_module_version": "1.5.0",
            "_model_name": "FloatProgressModel",
            "_view_count": null,
            "_view_module": "@jupyter-widgets/controls",
            "_view_module_version": "1.5.0",
            "_view_name": "ProgressView",
            "bar_style": "success",
            "description": "",
            "description_tooltip": null,
            "layout": "IPY_MODEL_eaebc041cf4748faaf638c9583f7f7db",
            "max": 412178,
            "min": 0,
            "orientation": "horizontal",
            "style": "IPY_MODEL_b4ef7425abed418f9a28e732537d3cad",
            "value": 412178
          }
        },
        "df6e37f7bde04c28afd79ca0870b6876": {
          "model_module": "@jupyter-widgets/controls",
          "model_name": "HTMLModel",
          "model_module_version": "1.5.0",
          "state": {
            "_dom_classes": [],
            "_model_module": "@jupyter-widgets/controls",
            "_model_module_version": "1.5.0",
            "_model_name": "HTMLModel",
            "_view_count": null,
            "_view_module": "@jupyter-widgets/controls",
            "_view_module_version": "1.5.0",
            "_view_name": "HTMLView",
            "description": "",
            "description_tooltip": null,
            "layout": "IPY_MODEL_80b41769f2414fabbef9ad8f01d7d311",
            "placeholder": "​",
            "style": "IPY_MODEL_1207f42423eb40e78981726956069160",
            "value": " 412178/412178 [03:11&lt;00:00, 2474.60 examples/s]"
          }
        },
        "bec4c4ce8a584360a8d39875d5e92faa": {
          "model_module": "@jupyter-widgets/base",
          "model_name": "LayoutModel",
          "model_module_version": "1.2.0",
          "state": {
            "_model_module": "@jupyter-widgets/base",
            "_model_module_version": "1.2.0",
            "_model_name": "LayoutModel",
            "_view_count": null,
            "_view_module": "@jupyter-widgets/base",
            "_view_module_version": "1.2.0",
            "_view_name": "LayoutView",
            "align_content": null,
            "align_items": null,
            "align_self": null,
            "border": null,
            "bottom": null,
            "display": null,
            "flex": null,
            "flex_flow": null,
            "grid_area": null,
            "grid_auto_columns": null,
            "grid_auto_flow": null,
            "grid_auto_rows": null,
            "grid_column": null,
            "grid_gap": null,
            "grid_row": null,
            "grid_template_areas": null,
            "grid_template_columns": null,
            "grid_template_rows": null,
            "height": null,
            "justify_content": null,
            "justify_items": null,
            "left": null,
            "margin": null,
            "max_height": null,
            "max_width": null,
            "min_height": null,
            "min_width": null,
            "object_fit": null,
            "object_position": null,
            "order": null,
            "overflow": null,
            "overflow_x": null,
            "overflow_y": null,
            "padding": null,
            "right": null,
            "top": null,
            "visibility": null,
            "width": null
          }
        },
        "0e79ebb10d08412d9a59851b90f9df19": {
          "model_module": "@jupyter-widgets/base",
          "model_name": "LayoutModel",
          "model_module_version": "1.2.0",
          "state": {
            "_model_module": "@jupyter-widgets/base",
            "_model_module_version": "1.2.0",
            "_model_name": "LayoutModel",
            "_view_count": null,
            "_view_module": "@jupyter-widgets/base",
            "_view_module_version": "1.2.0",
            "_view_name": "LayoutView",
            "align_content": null,
            "align_items": null,
            "align_self": null,
            "border": null,
            "bottom": null,
            "display": null,
            "flex": null,
            "flex_flow": null,
            "grid_area": null,
            "grid_auto_columns": null,
            "grid_auto_flow": null,
            "grid_auto_rows": null,
            "grid_column": null,
            "grid_gap": null,
            "grid_row": null,
            "grid_template_areas": null,
            "grid_template_columns": null,
            "grid_template_rows": null,
            "height": null,
            "justify_content": null,
            "justify_items": null,
            "left": null,
            "margin": null,
            "max_height": null,
            "max_width": null,
            "min_height": null,
            "min_width": null,
            "object_fit": null,
            "object_position": null,
            "order": null,
            "overflow": null,
            "overflow_x": null,
            "overflow_y": null,
            "padding": null,
            "right": null,
            "top": null,
            "visibility": null,
            "width": null
          }
        },
        "02742b9153374aff8f3fb28bdf090fd4": {
          "model_module": "@jupyter-widgets/controls",
          "model_name": "DescriptionStyleModel",
          "model_module_version": "1.5.0",
          "state": {
            "_model_module": "@jupyter-widgets/controls",
            "_model_module_version": "1.5.0",
            "_model_name": "DescriptionStyleModel",
            "_view_count": null,
            "_view_module": "@jupyter-widgets/base",
            "_view_module_version": "1.2.0",
            "_view_name": "StyleView",
            "description_width": ""
          }
        },
        "eaebc041cf4748faaf638c9583f7f7db": {
          "model_module": "@jupyter-widgets/base",
          "model_name": "LayoutModel",
          "model_module_version": "1.2.0",
          "state": {
            "_model_module": "@jupyter-widgets/base",
            "_model_module_version": "1.2.0",
            "_model_name": "LayoutModel",
            "_view_count": null,
            "_view_module": "@jupyter-widgets/base",
            "_view_module_version": "1.2.0",
            "_view_name": "LayoutView",
            "align_content": null,
            "align_items": null,
            "align_self": null,
            "border": null,
            "bottom": null,
            "display": null,
            "flex": null,
            "flex_flow": null,
            "grid_area": null,
            "grid_auto_columns": null,
            "grid_auto_flow": null,
            "grid_auto_rows": null,
            "grid_column": null,
            "grid_gap": null,
            "grid_row": null,
            "grid_template_areas": null,
            "grid_template_columns": null,
            "grid_template_rows": null,
            "height": null,
            "justify_content": null,
            "justify_items": null,
            "left": null,
            "margin": null,
            "max_height": null,
            "max_width": null,
            "min_height": null,
            "min_width": null,
            "object_fit": null,
            "object_position": null,
            "order": null,
            "overflow": null,
            "overflow_x": null,
            "overflow_y": null,
            "padding": null,
            "right": null,
            "top": null,
            "visibility": null,
            "width": null
          }
        },
        "b4ef7425abed418f9a28e732537d3cad": {
          "model_module": "@jupyter-widgets/controls",
          "model_name": "ProgressStyleModel",
          "model_module_version": "1.5.0",
          "state": {
            "_model_module": "@jupyter-widgets/controls",
            "_model_module_version": "1.5.0",
            "_model_name": "ProgressStyleModel",
            "_view_count": null,
            "_view_module": "@jupyter-widgets/base",
            "_view_module_version": "1.2.0",
            "_view_name": "StyleView",
            "bar_color": null,
            "description_width": ""
          }
        },
        "80b41769f2414fabbef9ad8f01d7d311": {
          "model_module": "@jupyter-widgets/base",
          "model_name": "LayoutModel",
          "model_module_version": "1.2.0",
          "state": {
            "_model_module": "@jupyter-widgets/base",
            "_model_module_version": "1.2.0",
            "_model_name": "LayoutModel",
            "_view_count": null,
            "_view_module": "@jupyter-widgets/base",
            "_view_module_version": "1.2.0",
            "_view_name": "LayoutView",
            "align_content": null,
            "align_items": null,
            "align_self": null,
            "border": null,
            "bottom": null,
            "display": null,
            "flex": null,
            "flex_flow": null,
            "grid_area": null,
            "grid_auto_columns": null,
            "grid_auto_flow": null,
            "grid_auto_rows": null,
            "grid_column": null,
            "grid_gap": null,
            "grid_row": null,
            "grid_template_areas": null,
            "grid_template_columns": null,
            "grid_template_rows": null,
            "height": null,
            "justify_content": null,
            "justify_items": null,
            "left": null,
            "margin": null,
            "max_height": null,
            "max_width": null,
            "min_height": null,
            "min_width": null,
            "object_fit": null,
            "object_position": null,
            "order": null,
            "overflow": null,
            "overflow_x": null,
            "overflow_y": null,
            "padding": null,
            "right": null,
            "top": null,
            "visibility": null,
            "width": null
          }
        },
        "1207f42423eb40e78981726956069160": {
          "model_module": "@jupyter-widgets/controls",
          "model_name": "DescriptionStyleModel",
          "model_module_version": "1.5.0",
          "state": {
            "_model_module": "@jupyter-widgets/controls",
            "_model_module_version": "1.5.0",
            "_model_name": "DescriptionStyleModel",
            "_view_count": null,
            "_view_module": "@jupyter-widgets/base",
            "_view_module_version": "1.2.0",
            "_view_name": "StyleView",
            "description_width": ""
          }
        },
        "d0777685a000458189a8a804b7553bea": {
          "model_module": "@jupyter-widgets/controls",
          "model_name": "HBoxModel",
          "model_module_version": "1.5.0",
          "state": {
            "_dom_classes": [],
            "_model_module": "@jupyter-widgets/controls",
            "_model_module_version": "1.5.0",
            "_model_name": "HBoxModel",
            "_view_count": null,
            "_view_module": "@jupyter-widgets/controls",
            "_view_module_version": "1.5.0",
            "_view_name": "HBoxView",
            "box_style": "",
            "children": [
              "IPY_MODEL_666490826f914e85b67399d462b957ea",
              "IPY_MODEL_43f9aa444e7b4c95825e6a94881ae994",
              "IPY_MODEL_a96d3f3f33d943e28aeb71d57d872677"
            ],
            "layout": "IPY_MODEL_cc7227b977604fe08f7eff7f9cffc251"
          }
        },
        "666490826f914e85b67399d462b957ea": {
          "model_module": "@jupyter-widgets/controls",
          "model_name": "HTMLModel",
          "model_module_version": "1.5.0",
          "state": {
            "_dom_classes": [],
            "_model_module": "@jupyter-widgets/controls",
            "_model_module_version": "1.5.0",
            "_model_name": "HTMLModel",
            "_view_count": null,
            "_view_module": "@jupyter-widgets/controls",
            "_view_module_version": "1.5.0",
            "_view_name": "HTMLView",
            "description": "",
            "description_tooltip": null,
            "layout": "IPY_MODEL_f0fef6cc536242b4bccc6d50d9f052bd",
            "placeholder": "​",
            "style": "IPY_MODEL_b9952c5d71a34a3cae018a1e26536dc4",
            "value": "Generating test split: 100%"
          }
        },
        "43f9aa444e7b4c95825e6a94881ae994": {
          "model_module": "@jupyter-widgets/controls",
          "model_name": "FloatProgressModel",
          "model_module_version": "1.5.0",
          "state": {
            "_dom_classes": [],
            "_model_module": "@jupyter-widgets/controls",
            "_model_module_version": "1.5.0",
            "_model_name": "FloatProgressModel",
            "_view_count": null,
            "_view_module": "@jupyter-widgets/controls",
            "_view_module_version": "1.5.0",
            "_view_name": "ProgressView",
            "bar_style": "success",
            "description": "",
            "description_tooltip": null,
            "layout": "IPY_MODEL_4df8728bc5e04fb884361b13c1f99d78",
            "max": 22176,
            "min": 0,
            "orientation": "horizontal",
            "style": "IPY_MODEL_7150727c8a82471b93909ad2ca9ff8c6",
            "value": 22176
          }
        },
        "a96d3f3f33d943e28aeb71d57d872677": {
          "model_module": "@jupyter-widgets/controls",
          "model_name": "HTMLModel",
          "model_module_version": "1.5.0",
          "state": {
            "_dom_classes": [],
            "_model_module": "@jupyter-widgets/controls",
            "_model_module_version": "1.5.0",
            "_model_name": "HTMLModel",
            "_view_count": null,
            "_view_module": "@jupyter-widgets/controls",
            "_view_module_version": "1.5.0",
            "_view_name": "HTMLView",
            "description": "",
            "description_tooltip": null,
            "layout": "IPY_MODEL_f09a173caf4a4aef8da7b3e52348117b",
            "placeholder": "​",
            "style": "IPY_MODEL_8916274c02e343d88a17dbd4fb4b5c23",
            "value": " 22176/22176 [00:10&lt;00:00, 2659.52 examples/s]"
          }
        },
        "cc7227b977604fe08f7eff7f9cffc251": {
          "model_module": "@jupyter-widgets/base",
          "model_name": "LayoutModel",
          "model_module_version": "1.2.0",
          "state": {
            "_model_module": "@jupyter-widgets/base",
            "_model_module_version": "1.2.0",
            "_model_name": "LayoutModel",
            "_view_count": null,
            "_view_module": "@jupyter-widgets/base",
            "_view_module_version": "1.2.0",
            "_view_name": "LayoutView",
            "align_content": null,
            "align_items": null,
            "align_self": null,
            "border": null,
            "bottom": null,
            "display": null,
            "flex": null,
            "flex_flow": null,
            "grid_area": null,
            "grid_auto_columns": null,
            "grid_auto_flow": null,
            "grid_auto_rows": null,
            "grid_column": null,
            "grid_gap": null,
            "grid_row": null,
            "grid_template_areas": null,
            "grid_template_columns": null,
            "grid_template_rows": null,
            "height": null,
            "justify_content": null,
            "justify_items": null,
            "left": null,
            "margin": null,
            "max_height": null,
            "max_width": null,
            "min_height": null,
            "min_width": null,
            "object_fit": null,
            "object_position": null,
            "order": null,
            "overflow": null,
            "overflow_x": null,
            "overflow_y": null,
            "padding": null,
            "right": null,
            "top": null,
            "visibility": null,
            "width": null
          }
        },
        "f0fef6cc536242b4bccc6d50d9f052bd": {
          "model_module": "@jupyter-widgets/base",
          "model_name": "LayoutModel",
          "model_module_version": "1.2.0",
          "state": {
            "_model_module": "@jupyter-widgets/base",
            "_model_module_version": "1.2.0",
            "_model_name": "LayoutModel",
            "_view_count": null,
            "_view_module": "@jupyter-widgets/base",
            "_view_module_version": "1.2.0",
            "_view_name": "LayoutView",
            "align_content": null,
            "align_items": null,
            "align_self": null,
            "border": null,
            "bottom": null,
            "display": null,
            "flex": null,
            "flex_flow": null,
            "grid_area": null,
            "grid_auto_columns": null,
            "grid_auto_flow": null,
            "grid_auto_rows": null,
            "grid_column": null,
            "grid_gap": null,
            "grid_row": null,
            "grid_template_areas": null,
            "grid_template_columns": null,
            "grid_template_rows": null,
            "height": null,
            "justify_content": null,
            "justify_items": null,
            "left": null,
            "margin": null,
            "max_height": null,
            "max_width": null,
            "min_height": null,
            "min_width": null,
            "object_fit": null,
            "object_position": null,
            "order": null,
            "overflow": null,
            "overflow_x": null,
            "overflow_y": null,
            "padding": null,
            "right": null,
            "top": null,
            "visibility": null,
            "width": null
          }
        },
        "b9952c5d71a34a3cae018a1e26536dc4": {
          "model_module": "@jupyter-widgets/controls",
          "model_name": "DescriptionStyleModel",
          "model_module_version": "1.5.0",
          "state": {
            "_model_module": "@jupyter-widgets/controls",
            "_model_module_version": "1.5.0",
            "_model_name": "DescriptionStyleModel",
            "_view_count": null,
            "_view_module": "@jupyter-widgets/base",
            "_view_module_version": "1.2.0",
            "_view_name": "StyleView",
            "description_width": ""
          }
        },
        "4df8728bc5e04fb884361b13c1f99d78": {
          "model_module": "@jupyter-widgets/base",
          "model_name": "LayoutModel",
          "model_module_version": "1.2.0",
          "state": {
            "_model_module": "@jupyter-widgets/base",
            "_model_module_version": "1.2.0",
            "_model_name": "LayoutModel",
            "_view_count": null,
            "_view_module": "@jupyter-widgets/base",
            "_view_module_version": "1.2.0",
            "_view_name": "LayoutView",
            "align_content": null,
            "align_items": null,
            "align_self": null,
            "border": null,
            "bottom": null,
            "display": null,
            "flex": null,
            "flex_flow": null,
            "grid_area": null,
            "grid_auto_columns": null,
            "grid_auto_flow": null,
            "grid_auto_rows": null,
            "grid_column": null,
            "grid_gap": null,
            "grid_row": null,
            "grid_template_areas": null,
            "grid_template_columns": null,
            "grid_template_rows": null,
            "height": null,
            "justify_content": null,
            "justify_items": null,
            "left": null,
            "margin": null,
            "max_height": null,
            "max_width": null,
            "min_height": null,
            "min_width": null,
            "object_fit": null,
            "object_position": null,
            "order": null,
            "overflow": null,
            "overflow_x": null,
            "overflow_y": null,
            "padding": null,
            "right": null,
            "top": null,
            "visibility": null,
            "width": null
          }
        },
        "7150727c8a82471b93909ad2ca9ff8c6": {
          "model_module": "@jupyter-widgets/controls",
          "model_name": "ProgressStyleModel",
          "model_module_version": "1.5.0",
          "state": {
            "_model_module": "@jupyter-widgets/controls",
            "_model_module_version": "1.5.0",
            "_model_name": "ProgressStyleModel",
            "_view_count": null,
            "_view_module": "@jupyter-widgets/base",
            "_view_module_version": "1.2.0",
            "_view_name": "StyleView",
            "bar_color": null,
            "description_width": ""
          }
        },
        "f09a173caf4a4aef8da7b3e52348117b": {
          "model_module": "@jupyter-widgets/base",
          "model_name": "LayoutModel",
          "model_module_version": "1.2.0",
          "state": {
            "_model_module": "@jupyter-widgets/base",
            "_model_module_version": "1.2.0",
            "_model_name": "LayoutModel",
            "_view_count": null,
            "_view_module": "@jupyter-widgets/base",
            "_view_module_version": "1.2.0",
            "_view_name": "LayoutView",
            "align_content": null,
            "align_items": null,
            "align_self": null,
            "border": null,
            "bottom": null,
            "display": null,
            "flex": null,
            "flex_flow": null,
            "grid_area": null,
            "grid_auto_columns": null,
            "grid_auto_flow": null,
            "grid_auto_rows": null,
            "grid_column": null,
            "grid_gap": null,
            "grid_row": null,
            "grid_template_areas": null,
            "grid_template_columns": null,
            "grid_template_rows": null,
            "height": null,
            "justify_content": null,
            "justify_items": null,
            "left": null,
            "margin": null,
            "max_height": null,
            "max_width": null,
            "min_height": null,
            "min_width": null,
            "object_fit": null,
            "object_position": null,
            "order": null,
            "overflow": null,
            "overflow_x": null,
            "overflow_y": null,
            "padding": null,
            "right": null,
            "top": null,
            "visibility": null,
            "width": null
          }
        },
        "8916274c02e343d88a17dbd4fb4b5c23": {
          "model_module": "@jupyter-widgets/controls",
          "model_name": "DescriptionStyleModel",
          "model_module_version": "1.5.0",
          "state": {
            "_model_module": "@jupyter-widgets/controls",
            "_model_module_version": "1.5.0",
            "_model_name": "DescriptionStyleModel",
            "_view_count": null,
            "_view_module": "@jupyter-widgets/base",
            "_view_module_version": "1.2.0",
            "_view_name": "StyleView",
            "description_width": ""
          }
        },
        "9069b5b7bab44f7ab2d285aa583c2a60": {
          "model_module": "@jupyter-widgets/controls",
          "model_name": "HBoxModel",
          "model_module_version": "1.5.0",
          "state": {
            "_dom_classes": [],
            "_model_module": "@jupyter-widgets/controls",
            "_model_module_version": "1.5.0",
            "_model_name": "HBoxModel",
            "_view_count": null,
            "_view_module": "@jupyter-widgets/controls",
            "_view_module_version": "1.5.0",
            "_view_name": "HBoxView",
            "box_style": "",
            "children": [
              "IPY_MODEL_f9cb4131c2274dc18e8c7f5785f9d425",
              "IPY_MODEL_4bfea79b3f2f487ca8748eece09d9ae7",
              "IPY_MODEL_48ccbe5aa8b24b5da515507b6296afb3"
            ],
            "layout": "IPY_MODEL_2ed6a71b14c84ec8b4237afedcc01875"
          }
        },
        "f9cb4131c2274dc18e8c7f5785f9d425": {
          "model_module": "@jupyter-widgets/controls",
          "model_name": "HTMLModel",
          "model_module_version": "1.5.0",
          "state": {
            "_dom_classes": [],
            "_model_module": "@jupyter-widgets/controls",
            "_model_module_version": "1.5.0",
            "_model_name": "HTMLModel",
            "_view_count": null,
            "_view_module": "@jupyter-widgets/controls",
            "_view_module_version": "1.5.0",
            "_view_name": "HTMLView",
            "description": "",
            "description_tooltip": null,
            "layout": "IPY_MODEL_2fd33a7798d34820b65a9d67f8acdbfe",
            "placeholder": "​",
            "style": "IPY_MODEL_6bc29d8c3ca84b7b8f4bd7cef2a31b9f",
            "value": "Generating validation split: 100%"
          }
        },
        "4bfea79b3f2f487ca8748eece09d9ae7": {
          "model_module": "@jupyter-widgets/controls",
          "model_name": "FloatProgressModel",
          "model_module_version": "1.5.0",
          "state": {
            "_dom_classes": [],
            "_model_module": "@jupyter-widgets/controls",
            "_model_module_version": "1.5.0",
            "_model_name": "FloatProgressModel",
            "_view_count": null,
            "_view_module": "@jupyter-widgets/controls",
            "_view_module_version": "1.5.0",
            "_view_name": "ProgressView",
            "bar_style": "success",
            "description": "",
            "description_tooltip": null,
            "layout": "IPY_MODEL_d165032213244c82b7b22df8aa7640ff",
            "max": 23107,
            "min": 0,
            "orientation": "horizontal",
            "style": "IPY_MODEL_658ea0182bd143ca86f6c0e80ad73720",
            "value": 23107
          }
        },
        "48ccbe5aa8b24b5da515507b6296afb3": {
          "model_module": "@jupyter-widgets/controls",
          "model_name": "HTMLModel",
          "model_module_version": "1.5.0",
          "state": {
            "_dom_classes": [],
            "_model_module": "@jupyter-widgets/controls",
            "_model_module_version": "1.5.0",
            "_model_name": "HTMLModel",
            "_view_count": null,
            "_view_module": "@jupyter-widgets/controls",
            "_view_module_version": "1.5.0",
            "_view_name": "HTMLView",
            "description": "",
            "description_tooltip": null,
            "layout": "IPY_MODEL_89a016b087074fb5b7d96746aaf9c2b5",
            "placeholder": "​",
            "style": "IPY_MODEL_97f2ecf3621f42a198cfb98bb08d0a7c",
            "value": " 23107/23107 [00:11&lt;00:00, 2434.36 examples/s]"
          }
        },
        "2ed6a71b14c84ec8b4237afedcc01875": {
          "model_module": "@jupyter-widgets/base",
          "model_name": "LayoutModel",
          "model_module_version": "1.2.0",
          "state": {
            "_model_module": "@jupyter-widgets/base",
            "_model_module_version": "1.2.0",
            "_model_name": "LayoutModel",
            "_view_count": null,
            "_view_module": "@jupyter-widgets/base",
            "_view_module_version": "1.2.0",
            "_view_name": "LayoutView",
            "align_content": null,
            "align_items": null,
            "align_self": null,
            "border": null,
            "bottom": null,
            "display": null,
            "flex": null,
            "flex_flow": null,
            "grid_area": null,
            "grid_auto_columns": null,
            "grid_auto_flow": null,
            "grid_auto_rows": null,
            "grid_column": null,
            "grid_gap": null,
            "grid_row": null,
            "grid_template_areas": null,
            "grid_template_columns": null,
            "grid_template_rows": null,
            "height": null,
            "justify_content": null,
            "justify_items": null,
            "left": null,
            "margin": null,
            "max_height": null,
            "max_width": null,
            "min_height": null,
            "min_width": null,
            "object_fit": null,
            "object_position": null,
            "order": null,
            "overflow": null,
            "overflow_x": null,
            "overflow_y": null,
            "padding": null,
            "right": null,
            "top": null,
            "visibility": null,
            "width": null
          }
        },
        "2fd33a7798d34820b65a9d67f8acdbfe": {
          "model_module": "@jupyter-widgets/base",
          "model_name": "LayoutModel",
          "model_module_version": "1.2.0",
          "state": {
            "_model_module": "@jupyter-widgets/base",
            "_model_module_version": "1.2.0",
            "_model_name": "LayoutModel",
            "_view_count": null,
            "_view_module": "@jupyter-widgets/base",
            "_view_module_version": "1.2.0",
            "_view_name": "LayoutView",
            "align_content": null,
            "align_items": null,
            "align_self": null,
            "border": null,
            "bottom": null,
            "display": null,
            "flex": null,
            "flex_flow": null,
            "grid_area": null,
            "grid_auto_columns": null,
            "grid_auto_flow": null,
            "grid_auto_rows": null,
            "grid_column": null,
            "grid_gap": null,
            "grid_row": null,
            "grid_template_areas": null,
            "grid_template_columns": null,
            "grid_template_rows": null,
            "height": null,
            "justify_content": null,
            "justify_items": null,
            "left": null,
            "margin": null,
            "max_height": null,
            "max_width": null,
            "min_height": null,
            "min_width": null,
            "object_fit": null,
            "object_position": null,
            "order": null,
            "overflow": null,
            "overflow_x": null,
            "overflow_y": null,
            "padding": null,
            "right": null,
            "top": null,
            "visibility": null,
            "width": null
          }
        },
        "6bc29d8c3ca84b7b8f4bd7cef2a31b9f": {
          "model_module": "@jupyter-widgets/controls",
          "model_name": "DescriptionStyleModel",
          "model_module_version": "1.5.0",
          "state": {
            "_model_module": "@jupyter-widgets/controls",
            "_model_module_version": "1.5.0",
            "_model_name": "DescriptionStyleModel",
            "_view_count": null,
            "_view_module": "@jupyter-widgets/base",
            "_view_module_version": "1.2.0",
            "_view_name": "StyleView",
            "description_width": ""
          }
        },
        "d165032213244c82b7b22df8aa7640ff": {
          "model_module": "@jupyter-widgets/base",
          "model_name": "LayoutModel",
          "model_module_version": "1.2.0",
          "state": {
            "_model_module": "@jupyter-widgets/base",
            "_model_module_version": "1.2.0",
            "_model_name": "LayoutModel",
            "_view_count": null,
            "_view_module": "@jupyter-widgets/base",
            "_view_module_version": "1.2.0",
            "_view_name": "LayoutView",
            "align_content": null,
            "align_items": null,
            "align_self": null,
            "border": null,
            "bottom": null,
            "display": null,
            "flex": null,
            "flex_flow": null,
            "grid_area": null,
            "grid_auto_columns": null,
            "grid_auto_flow": null,
            "grid_auto_rows": null,
            "grid_column": null,
            "grid_gap": null,
            "grid_row": null,
            "grid_template_areas": null,
            "grid_template_columns": null,
            "grid_template_rows": null,
            "height": null,
            "justify_content": null,
            "justify_items": null,
            "left": null,
            "margin": null,
            "max_height": null,
            "max_width": null,
            "min_height": null,
            "min_width": null,
            "object_fit": null,
            "object_position": null,
            "order": null,
            "overflow": null,
            "overflow_x": null,
            "overflow_y": null,
            "padding": null,
            "right": null,
            "top": null,
            "visibility": null,
            "width": null
          }
        },
        "658ea0182bd143ca86f6c0e80ad73720": {
          "model_module": "@jupyter-widgets/controls",
          "model_name": "ProgressStyleModel",
          "model_module_version": "1.5.0",
          "state": {
            "_model_module": "@jupyter-widgets/controls",
            "_model_module_version": "1.5.0",
            "_model_name": "ProgressStyleModel",
            "_view_count": null,
            "_view_module": "@jupyter-widgets/base",
            "_view_module_version": "1.2.0",
            "_view_name": "StyleView",
            "bar_color": null,
            "description_width": ""
          }
        },
        "89a016b087074fb5b7d96746aaf9c2b5": {
          "model_module": "@jupyter-widgets/base",
          "model_name": "LayoutModel",
          "model_module_version": "1.2.0",
          "state": {
            "_model_module": "@jupyter-widgets/base",
            "_model_module_version": "1.2.0",
            "_model_name": "LayoutModel",
            "_view_count": null,
            "_view_module": "@jupyter-widgets/base",
            "_view_module_version": "1.2.0",
            "_view_name": "LayoutView",
            "align_content": null,
            "align_items": null,
            "align_self": null,
            "border": null,
            "bottom": null,
            "display": null,
            "flex": null,
            "flex_flow": null,
            "grid_area": null,
            "grid_auto_columns": null,
            "grid_auto_flow": null,
            "grid_auto_rows": null,
            "grid_column": null,
            "grid_gap": null,
            "grid_row": null,
            "grid_template_areas": null,
            "grid_template_columns": null,
            "grid_template_rows": null,
            "height": null,
            "justify_content": null,
            "justify_items": null,
            "left": null,
            "margin": null,
            "max_height": null,
            "max_width": null,
            "min_height": null,
            "min_width": null,
            "object_fit": null,
            "object_position": null,
            "order": null,
            "overflow": null,
            "overflow_x": null,
            "overflow_y": null,
            "padding": null,
            "right": null,
            "top": null,
            "visibility": null,
            "width": null
          }
        },
        "97f2ecf3621f42a198cfb98bb08d0a7c": {
          "model_module": "@jupyter-widgets/controls",
          "model_name": "DescriptionStyleModel",
          "model_module_version": "1.5.0",
          "state": {
            "_model_module": "@jupyter-widgets/controls",
            "_model_module_version": "1.5.0",
            "_model_name": "DescriptionStyleModel",
            "_view_count": null,
            "_view_module": "@jupyter-widgets/base",
            "_view_module_version": "1.2.0",
            "_view_name": "StyleView",
            "description_width": ""
          }
        },
        "b2c300a90e414fa1825df44f3e979024": {
          "model_module": "@jupyter-widgets/controls",
          "model_name": "HBoxModel",
          "model_module_version": "1.5.0",
          "state": {
            "_dom_classes": [],
            "_model_module": "@jupyter-widgets/controls",
            "_model_module_version": "1.5.0",
            "_model_name": "HBoxModel",
            "_view_count": null,
            "_view_module": "@jupyter-widgets/controls",
            "_view_module_version": "1.5.0",
            "_view_name": "HBoxView",
            "box_style": "",
            "children": [
              "IPY_MODEL_83682023332d43b39a8819abf7c4b1cd",
              "IPY_MODEL_e1c03eb0d13e44f0ba671e8b80a63888",
              "IPY_MODEL_cc785aa5446c42d5a859424ab177a5fe"
            ],
            "layout": "IPY_MODEL_9ec95016c7764d68a06a64c3df23cfae"
          }
        },
        "83682023332d43b39a8819abf7c4b1cd": {
          "model_module": "@jupyter-widgets/controls",
          "model_name": "HTMLModel",
          "model_module_version": "1.5.0",
          "state": {
            "_dom_classes": [],
            "_model_module": "@jupyter-widgets/controls",
            "_model_module_version": "1.5.0",
            "_model_name": "HTMLModel",
            "_view_count": null,
            "_view_module": "@jupyter-widgets/controls",
            "_view_module_version": "1.5.0",
            "_view_name": "HTMLView",
            "description": "",
            "description_tooltip": null,
            "layout": "IPY_MODEL_e765c8008c604b61b8049bb32bd39b54",
            "placeholder": "​",
            "style": "IPY_MODEL_e38558fef14b4f148e8dee6176ec4b61",
            "value": "tokenizer_config.json: 100%"
          }
        },
        "e1c03eb0d13e44f0ba671e8b80a63888": {
          "model_module": "@jupyter-widgets/controls",
          "model_name": "FloatProgressModel",
          "model_module_version": "1.5.0",
          "state": {
            "_dom_classes": [],
            "_model_module": "@jupyter-widgets/controls",
            "_model_module_version": "1.5.0",
            "_model_name": "FloatProgressModel",
            "_view_count": null,
            "_view_module": "@jupyter-widgets/controls",
            "_view_module_version": "1.5.0",
            "_view_name": "ProgressView",
            "bar_style": "success",
            "description": "",
            "description_tooltip": null,
            "layout": "IPY_MODEL_4c567773dbf24a128fbbd2b1e45b628c",
            "max": 1477,
            "min": 0,
            "orientation": "horizontal",
            "style": "IPY_MODEL_7ca6d3e04efd4ce3a98ea0011239f154",
            "value": 1477
          }
        },
        "cc785aa5446c42d5a859424ab177a5fe": {
          "model_module": "@jupyter-widgets/controls",
          "model_name": "HTMLModel",
          "model_module_version": "1.5.0",
          "state": {
            "_dom_classes": [],
            "_model_module": "@jupyter-widgets/controls",
            "_model_module_version": "1.5.0",
            "_model_name": "HTMLModel",
            "_view_count": null,
            "_view_module": "@jupyter-widgets/controls",
            "_view_module_version": "1.5.0",
            "_view_name": "HTMLView",
            "description": "",
            "description_tooltip": null,
            "layout": "IPY_MODEL_bbe63dda7cba48e491b8ca1958a07726",
            "placeholder": "​",
            "style": "IPY_MODEL_f4d7513168164f9fb7fbcab3801d6b86",
            "value": " 1.48k/1.48k [00:00&lt;00:00, 36.2kB/s]"
          }
        },
        "9ec95016c7764d68a06a64c3df23cfae": {
          "model_module": "@jupyter-widgets/base",
          "model_name": "LayoutModel",
          "model_module_version": "1.2.0",
          "state": {
            "_model_module": "@jupyter-widgets/base",
            "_model_module_version": "1.2.0",
            "_model_name": "LayoutModel",
            "_view_count": null,
            "_view_module": "@jupyter-widgets/base",
            "_view_module_version": "1.2.0",
            "_view_name": "LayoutView",
            "align_content": null,
            "align_items": null,
            "align_self": null,
            "border": null,
            "bottom": null,
            "display": null,
            "flex": null,
            "flex_flow": null,
            "grid_area": null,
            "grid_auto_columns": null,
            "grid_auto_flow": null,
            "grid_auto_rows": null,
            "grid_column": null,
            "grid_gap": null,
            "grid_row": null,
            "grid_template_areas": null,
            "grid_template_columns": null,
            "grid_template_rows": null,
            "height": null,
            "justify_content": null,
            "justify_items": null,
            "left": null,
            "margin": null,
            "max_height": null,
            "max_width": null,
            "min_height": null,
            "min_width": null,
            "object_fit": null,
            "object_position": null,
            "order": null,
            "overflow": null,
            "overflow_x": null,
            "overflow_y": null,
            "padding": null,
            "right": null,
            "top": null,
            "visibility": null,
            "width": null
          }
        },
        "e765c8008c604b61b8049bb32bd39b54": {
          "model_module": "@jupyter-widgets/base",
          "model_name": "LayoutModel",
          "model_module_version": "1.2.0",
          "state": {
            "_model_module": "@jupyter-widgets/base",
            "_model_module_version": "1.2.0",
            "_model_name": "LayoutModel",
            "_view_count": null,
            "_view_module": "@jupyter-widgets/base",
            "_view_module_version": "1.2.0",
            "_view_name": "LayoutView",
            "align_content": null,
            "align_items": null,
            "align_self": null,
            "border": null,
            "bottom": null,
            "display": null,
            "flex": null,
            "flex_flow": null,
            "grid_area": null,
            "grid_auto_columns": null,
            "grid_auto_flow": null,
            "grid_auto_rows": null,
            "grid_column": null,
            "grid_gap": null,
            "grid_row": null,
            "grid_template_areas": null,
            "grid_template_columns": null,
            "grid_template_rows": null,
            "height": null,
            "justify_content": null,
            "justify_items": null,
            "left": null,
            "margin": null,
            "max_height": null,
            "max_width": null,
            "min_height": null,
            "min_width": null,
            "object_fit": null,
            "object_position": null,
            "order": null,
            "overflow": null,
            "overflow_x": null,
            "overflow_y": null,
            "padding": null,
            "right": null,
            "top": null,
            "visibility": null,
            "width": null
          }
        },
        "e38558fef14b4f148e8dee6176ec4b61": {
          "model_module": "@jupyter-widgets/controls",
          "model_name": "DescriptionStyleModel",
          "model_module_version": "1.5.0",
          "state": {
            "_model_module": "@jupyter-widgets/controls",
            "_model_module_version": "1.5.0",
            "_model_name": "DescriptionStyleModel",
            "_view_count": null,
            "_view_module": "@jupyter-widgets/base",
            "_view_module_version": "1.2.0",
            "_view_name": "StyleView",
            "description_width": ""
          }
        },
        "4c567773dbf24a128fbbd2b1e45b628c": {
          "model_module": "@jupyter-widgets/base",
          "model_name": "LayoutModel",
          "model_module_version": "1.2.0",
          "state": {
            "_model_module": "@jupyter-widgets/base",
            "_model_module_version": "1.2.0",
            "_model_name": "LayoutModel",
            "_view_count": null,
            "_view_module": "@jupyter-widgets/base",
            "_view_module_version": "1.2.0",
            "_view_name": "LayoutView",
            "align_content": null,
            "align_items": null,
            "align_self": null,
            "border": null,
            "bottom": null,
            "display": null,
            "flex": null,
            "flex_flow": null,
            "grid_area": null,
            "grid_auto_columns": null,
            "grid_auto_flow": null,
            "grid_auto_rows": null,
            "grid_column": null,
            "grid_gap": null,
            "grid_row": null,
            "grid_template_areas": null,
            "grid_template_columns": null,
            "grid_template_rows": null,
            "height": null,
            "justify_content": null,
            "justify_items": null,
            "left": null,
            "margin": null,
            "max_height": null,
            "max_width": null,
            "min_height": null,
            "min_width": null,
            "object_fit": null,
            "object_position": null,
            "order": null,
            "overflow": null,
            "overflow_x": null,
            "overflow_y": null,
            "padding": null,
            "right": null,
            "top": null,
            "visibility": null,
            "width": null
          }
        },
        "7ca6d3e04efd4ce3a98ea0011239f154": {
          "model_module": "@jupyter-widgets/controls",
          "model_name": "ProgressStyleModel",
          "model_module_version": "1.5.0",
          "state": {
            "_model_module": "@jupyter-widgets/controls",
            "_model_module_version": "1.5.0",
            "_model_name": "ProgressStyleModel",
            "_view_count": null,
            "_view_module": "@jupyter-widgets/base",
            "_view_module_version": "1.2.0",
            "_view_name": "StyleView",
            "bar_color": null,
            "description_width": ""
          }
        },
        "bbe63dda7cba48e491b8ca1958a07726": {
          "model_module": "@jupyter-widgets/base",
          "model_name": "LayoutModel",
          "model_module_version": "1.2.0",
          "state": {
            "_model_module": "@jupyter-widgets/base",
            "_model_module_version": "1.2.0",
            "_model_name": "LayoutModel",
            "_view_count": null,
            "_view_module": "@jupyter-widgets/base",
            "_view_module_version": "1.2.0",
            "_view_name": "LayoutView",
            "align_content": null,
            "align_items": null,
            "align_self": null,
            "border": null,
            "bottom": null,
            "display": null,
            "flex": null,
            "flex_flow": null,
            "grid_area": null,
            "grid_auto_columns": null,
            "grid_auto_flow": null,
            "grid_auto_rows": null,
            "grid_column": null,
            "grid_gap": null,
            "grid_row": null,
            "grid_template_areas": null,
            "grid_template_columns": null,
            "grid_template_rows": null,
            "height": null,
            "justify_content": null,
            "justify_items": null,
            "left": null,
            "margin": null,
            "max_height": null,
            "max_width": null,
            "min_height": null,
            "min_width": null,
            "object_fit": null,
            "object_position": null,
            "order": null,
            "overflow": null,
            "overflow_x": null,
            "overflow_y": null,
            "padding": null,
            "right": null,
            "top": null,
            "visibility": null,
            "width": null
          }
        },
        "f4d7513168164f9fb7fbcab3801d6b86": {
          "model_module": "@jupyter-widgets/controls",
          "model_name": "DescriptionStyleModel",
          "model_module_version": "1.5.0",
          "state": {
            "_model_module": "@jupyter-widgets/controls",
            "_model_module_version": "1.5.0",
            "_model_name": "DescriptionStyleModel",
            "_view_count": null,
            "_view_module": "@jupyter-widgets/base",
            "_view_module_version": "1.2.0",
            "_view_name": "StyleView",
            "description_width": ""
          }
        },
        "0aef7125b32544e1a8ef11de9cf882bb": {
          "model_module": "@jupyter-widgets/controls",
          "model_name": "HBoxModel",
          "model_module_version": "1.5.0",
          "state": {
            "_dom_classes": [],
            "_model_module": "@jupyter-widgets/controls",
            "_model_module_version": "1.5.0",
            "_model_name": "HBoxModel",
            "_view_count": null,
            "_view_module": "@jupyter-widgets/controls",
            "_view_module_version": "1.5.0",
            "_view_name": "HBoxView",
            "box_style": "",
            "children": [
              "IPY_MODEL_2c0fd2084fe94cd89b9474644410fa00",
              "IPY_MODEL_a83569c65010478d89951e2837bb2960",
              "IPY_MODEL_dfcb01e0b7734fa4a98988d7207a0793"
            ],
            "layout": "IPY_MODEL_fa7d7ec8a469447e91ce4a5e387ce92e"
          }
        },
        "2c0fd2084fe94cd89b9474644410fa00": {
          "model_module": "@jupyter-widgets/controls",
          "model_name": "HTMLModel",
          "model_module_version": "1.5.0",
          "state": {
            "_dom_classes": [],
            "_model_module": "@jupyter-widgets/controls",
            "_model_module_version": "1.5.0",
            "_model_name": "HTMLModel",
            "_view_count": null,
            "_view_module": "@jupyter-widgets/controls",
            "_view_module_version": "1.5.0",
            "_view_name": "HTMLView",
            "description": "",
            "description_tooltip": null,
            "layout": "IPY_MODEL_4b708a0dbf924f9ea62b9bccfdda8acf",
            "placeholder": "​",
            "style": "IPY_MODEL_ee1a0bb3583740aab360b445e9bb1bd4",
            "value": "vocab.json: 100%"
          }
        },
        "a83569c65010478d89951e2837bb2960": {
          "model_module": "@jupyter-widgets/controls",
          "model_name": "FloatProgressModel",
          "model_module_version": "1.5.0",
          "state": {
            "_dom_classes": [],
            "_model_module": "@jupyter-widgets/controls",
            "_model_module_version": "1.5.0",
            "_model_name": "FloatProgressModel",
            "_view_count": null,
            "_view_module": "@jupyter-widgets/controls",
            "_view_module_version": "1.5.0",
            "_view_name": "ProgressView",
            "bar_style": "success",
            "description": "",
            "description_tooltip": null,
            "layout": "IPY_MODEL_031f3a28be4a470b9afa06e117085d4c",
            "max": 703051,
            "min": 0,
            "orientation": "horizontal",
            "style": "IPY_MODEL_958ce130860447f0831d54e6a2de6960",
            "value": 703051
          }
        },
        "dfcb01e0b7734fa4a98988d7207a0793": {
          "model_module": "@jupyter-widgets/controls",
          "model_name": "HTMLModel",
          "model_module_version": "1.5.0",
          "state": {
            "_dom_classes": [],
            "_model_module": "@jupyter-widgets/controls",
            "_model_module_version": "1.5.0",
            "_model_name": "HTMLModel",
            "_view_count": null,
            "_view_module": "@jupyter-widgets/controls",
            "_view_module_version": "1.5.0",
            "_view_name": "HTMLView",
            "description": "",
            "description_tooltip": null,
            "layout": "IPY_MODEL_b900ef33f5d74b6c97c1280bb327551f",
            "placeholder": "​",
            "style": "IPY_MODEL_89c80b5c47454d0b83dc09bbf4034575",
            "value": " 703k/703k [00:00&lt;00:00, 3.64MB/s]"
          }
        },
        "fa7d7ec8a469447e91ce4a5e387ce92e": {
          "model_module": "@jupyter-widgets/base",
          "model_name": "LayoutModel",
          "model_module_version": "1.2.0",
          "state": {
            "_model_module": "@jupyter-widgets/base",
            "_model_module_version": "1.2.0",
            "_model_name": "LayoutModel",
            "_view_count": null,
            "_view_module": "@jupyter-widgets/base",
            "_view_module_version": "1.2.0",
            "_view_name": "LayoutView",
            "align_content": null,
            "align_items": null,
            "align_self": null,
            "border": null,
            "bottom": null,
            "display": null,
            "flex": null,
            "flex_flow": null,
            "grid_area": null,
            "grid_auto_columns": null,
            "grid_auto_flow": null,
            "grid_auto_rows": null,
            "grid_column": null,
            "grid_gap": null,
            "grid_row": null,
            "grid_template_areas": null,
            "grid_template_columns": null,
            "grid_template_rows": null,
            "height": null,
            "justify_content": null,
            "justify_items": null,
            "left": null,
            "margin": null,
            "max_height": null,
            "max_width": null,
            "min_height": null,
            "min_width": null,
            "object_fit": null,
            "object_position": null,
            "order": null,
            "overflow": null,
            "overflow_x": null,
            "overflow_y": null,
            "padding": null,
            "right": null,
            "top": null,
            "visibility": null,
            "width": null
          }
        },
        "4b708a0dbf924f9ea62b9bccfdda8acf": {
          "model_module": "@jupyter-widgets/base",
          "model_name": "LayoutModel",
          "model_module_version": "1.2.0",
          "state": {
            "_model_module": "@jupyter-widgets/base",
            "_model_module_version": "1.2.0",
            "_model_name": "LayoutModel",
            "_view_count": null,
            "_view_module": "@jupyter-widgets/base",
            "_view_module_version": "1.2.0",
            "_view_name": "LayoutView",
            "align_content": null,
            "align_items": null,
            "align_self": null,
            "border": null,
            "bottom": null,
            "display": null,
            "flex": null,
            "flex_flow": null,
            "grid_area": null,
            "grid_auto_columns": null,
            "grid_auto_flow": null,
            "grid_auto_rows": null,
            "grid_column": null,
            "grid_gap": null,
            "grid_row": null,
            "grid_template_areas": null,
            "grid_template_columns": null,
            "grid_template_rows": null,
            "height": null,
            "justify_content": null,
            "justify_items": null,
            "left": null,
            "margin": null,
            "max_height": null,
            "max_width": null,
            "min_height": null,
            "min_width": null,
            "object_fit": null,
            "object_position": null,
            "order": null,
            "overflow": null,
            "overflow_x": null,
            "overflow_y": null,
            "padding": null,
            "right": null,
            "top": null,
            "visibility": null,
            "width": null
          }
        },
        "ee1a0bb3583740aab360b445e9bb1bd4": {
          "model_module": "@jupyter-widgets/controls",
          "model_name": "DescriptionStyleModel",
          "model_module_version": "1.5.0",
          "state": {
            "_model_module": "@jupyter-widgets/controls",
            "_model_module_version": "1.5.0",
            "_model_name": "DescriptionStyleModel",
            "_view_count": null,
            "_view_module": "@jupyter-widgets/base",
            "_view_module_version": "1.2.0",
            "_view_name": "StyleView",
            "description_width": ""
          }
        },
        "031f3a28be4a470b9afa06e117085d4c": {
          "model_module": "@jupyter-widgets/base",
          "model_name": "LayoutModel",
          "model_module_version": "1.2.0",
          "state": {
            "_model_module": "@jupyter-widgets/base",
            "_model_module_version": "1.2.0",
            "_model_name": "LayoutModel",
            "_view_count": null,
            "_view_module": "@jupyter-widgets/base",
            "_view_module_version": "1.2.0",
            "_view_name": "LayoutView",
            "align_content": null,
            "align_items": null,
            "align_self": null,
            "border": null,
            "bottom": null,
            "display": null,
            "flex": null,
            "flex_flow": null,
            "grid_area": null,
            "grid_auto_columns": null,
            "grid_auto_flow": null,
            "grid_auto_rows": null,
            "grid_column": null,
            "grid_gap": null,
            "grid_row": null,
            "grid_template_areas": null,
            "grid_template_columns": null,
            "grid_template_rows": null,
            "height": null,
            "justify_content": null,
            "justify_items": null,
            "left": null,
            "margin": null,
            "max_height": null,
            "max_width": null,
            "min_height": null,
            "min_width": null,
            "object_fit": null,
            "object_position": null,
            "order": null,
            "overflow": null,
            "overflow_x": null,
            "overflow_y": null,
            "padding": null,
            "right": null,
            "top": null,
            "visibility": null,
            "width": null
          }
        },
        "958ce130860447f0831d54e6a2de6960": {
          "model_module": "@jupyter-widgets/controls",
          "model_name": "ProgressStyleModel",
          "model_module_version": "1.5.0",
          "state": {
            "_model_module": "@jupyter-widgets/controls",
            "_model_module_version": "1.5.0",
            "_model_name": "ProgressStyleModel",
            "_view_count": null,
            "_view_module": "@jupyter-widgets/base",
            "_view_module_version": "1.2.0",
            "_view_name": "StyleView",
            "bar_color": null,
            "description_width": ""
          }
        },
        "b900ef33f5d74b6c97c1280bb327551f": {
          "model_module": "@jupyter-widgets/base",
          "model_name": "LayoutModel",
          "model_module_version": "1.2.0",
          "state": {
            "_model_module": "@jupyter-widgets/base",
            "_model_module_version": "1.2.0",
            "_model_name": "LayoutModel",
            "_view_count": null,
            "_view_module": "@jupyter-widgets/base",
            "_view_module_version": "1.2.0",
            "_view_name": "LayoutView",
            "align_content": null,
            "align_items": null,
            "align_self": null,
            "border": null,
            "bottom": null,
            "display": null,
            "flex": null,
            "flex_flow": null,
            "grid_area": null,
            "grid_auto_columns": null,
            "grid_auto_flow": null,
            "grid_auto_rows": null,
            "grid_column": null,
            "grid_gap": null,
            "grid_row": null,
            "grid_template_areas": null,
            "grid_template_columns": null,
            "grid_template_rows": null,
            "height": null,
            "justify_content": null,
            "justify_items": null,
            "left": null,
            "margin": null,
            "max_height": null,
            "max_width": null,
            "min_height": null,
            "min_width": null,
            "object_fit": null,
            "object_position": null,
            "order": null,
            "overflow": null,
            "overflow_x": null,
            "overflow_y": null,
            "padding": null,
            "right": null,
            "top": null,
            "visibility": null,
            "width": null
          }
        },
        "89c80b5c47454d0b83dc09bbf4034575": {
          "model_module": "@jupyter-widgets/controls",
          "model_name": "DescriptionStyleModel",
          "model_module_version": "1.5.0",
          "state": {
            "_model_module": "@jupyter-widgets/controls",
            "_model_module_version": "1.5.0",
            "_model_name": "DescriptionStyleModel",
            "_view_count": null,
            "_view_module": "@jupyter-widgets/base",
            "_view_module_version": "1.2.0",
            "_view_name": "StyleView",
            "description_width": ""
          }
        },
        "a22236ecebdc4d95b190f44b13a78064": {
          "model_module": "@jupyter-widgets/controls",
          "model_name": "HBoxModel",
          "model_module_version": "1.5.0",
          "state": {
            "_dom_classes": [],
            "_model_module": "@jupyter-widgets/controls",
            "_model_module_version": "1.5.0",
            "_model_name": "HBoxModel",
            "_view_count": null,
            "_view_module": "@jupyter-widgets/controls",
            "_view_module_version": "1.5.0",
            "_view_name": "HBoxView",
            "box_style": "",
            "children": [
              "IPY_MODEL_a3f7e4b3fd534171beddb1f8bcbbc1a0",
              "IPY_MODEL_4c7bd81690a245f6a7422782961f8abf",
              "IPY_MODEL_b47c083afa3545399fbea10a35cb98b1"
            ],
            "layout": "IPY_MODEL_153e7ddd75ac4cf1bca31ffa8a4776cf"
          }
        },
        "a3f7e4b3fd534171beddb1f8bcbbc1a0": {
          "model_module": "@jupyter-widgets/controls",
          "model_name": "HTMLModel",
          "model_module_version": "1.5.0",
          "state": {
            "_dom_classes": [],
            "_model_module": "@jupyter-widgets/controls",
            "_model_module_version": "1.5.0",
            "_model_name": "HTMLModel",
            "_view_count": null,
            "_view_module": "@jupyter-widgets/controls",
            "_view_module_version": "1.5.0",
            "_view_name": "HTMLView",
            "description": "",
            "description_tooltip": null,
            "layout": "IPY_MODEL_ad16991300744912ad38bf10e5541fec",
            "placeholder": "​",
            "style": "IPY_MODEL_a9f4ceb603b346d3a1e0694a354d9956",
            "value": "merges.txt: 100%"
          }
        },
        "4c7bd81690a245f6a7422782961f8abf": {
          "model_module": "@jupyter-widgets/controls",
          "model_name": "FloatProgressModel",
          "model_module_version": "1.5.0",
          "state": {
            "_dom_classes": [],
            "_model_module": "@jupyter-widgets/controls",
            "_model_module_version": "1.5.0",
            "_model_name": "FloatProgressModel",
            "_view_count": null,
            "_view_module": "@jupyter-widgets/controls",
            "_view_module_version": "1.5.0",
            "_view_name": "ProgressView",
            "bar_style": "success",
            "description": "",
            "description_tooltip": null,
            "layout": "IPY_MODEL_75ee17b135cd42ed89848c755344c5ec",
            "max": 294364,
            "min": 0,
            "orientation": "horizontal",
            "style": "IPY_MODEL_c80264023b584f7aba2a30c7513688a3",
            "value": 294364
          }
        },
        "b47c083afa3545399fbea10a35cb98b1": {
          "model_module": "@jupyter-widgets/controls",
          "model_name": "HTMLModel",
          "model_module_version": "1.5.0",
          "state": {
            "_dom_classes": [],
            "_model_module": "@jupyter-widgets/controls",
            "_model_module_version": "1.5.0",
            "_model_name": "HTMLModel",
            "_view_count": null,
            "_view_module": "@jupyter-widgets/controls",
            "_view_module_version": "1.5.0",
            "_view_name": "HTMLView",
            "description": "",
            "description_tooltip": null,
            "layout": "IPY_MODEL_c322f8eff56240d396ee1425871f4c40",
            "placeholder": "​",
            "style": "IPY_MODEL_e66263c660b54298ad54b6c141af26d6",
            "value": " 294k/294k [00:00&lt;00:00, 2.27MB/s]"
          }
        },
        "153e7ddd75ac4cf1bca31ffa8a4776cf": {
          "model_module": "@jupyter-widgets/base",
          "model_name": "LayoutModel",
          "model_module_version": "1.2.0",
          "state": {
            "_model_module": "@jupyter-widgets/base",
            "_model_module_version": "1.2.0",
            "_model_name": "LayoutModel",
            "_view_count": null,
            "_view_module": "@jupyter-widgets/base",
            "_view_module_version": "1.2.0",
            "_view_name": "LayoutView",
            "align_content": null,
            "align_items": null,
            "align_self": null,
            "border": null,
            "bottom": null,
            "display": null,
            "flex": null,
            "flex_flow": null,
            "grid_area": null,
            "grid_auto_columns": null,
            "grid_auto_flow": null,
            "grid_auto_rows": null,
            "grid_column": null,
            "grid_gap": null,
            "grid_row": null,
            "grid_template_areas": null,
            "grid_template_columns": null,
            "grid_template_rows": null,
            "height": null,
            "justify_content": null,
            "justify_items": null,
            "left": null,
            "margin": null,
            "max_height": null,
            "max_width": null,
            "min_height": null,
            "min_width": null,
            "object_fit": null,
            "object_position": null,
            "order": null,
            "overflow": null,
            "overflow_x": null,
            "overflow_y": null,
            "padding": null,
            "right": null,
            "top": null,
            "visibility": null,
            "width": null
          }
        },
        "ad16991300744912ad38bf10e5541fec": {
          "model_module": "@jupyter-widgets/base",
          "model_name": "LayoutModel",
          "model_module_version": "1.2.0",
          "state": {
            "_model_module": "@jupyter-widgets/base",
            "_model_module_version": "1.2.0",
            "_model_name": "LayoutModel",
            "_view_count": null,
            "_view_module": "@jupyter-widgets/base",
            "_view_module_version": "1.2.0",
            "_view_name": "LayoutView",
            "align_content": null,
            "align_items": null,
            "align_self": null,
            "border": null,
            "bottom": null,
            "display": null,
            "flex": null,
            "flex_flow": null,
            "grid_area": null,
            "grid_auto_columns": null,
            "grid_auto_flow": null,
            "grid_auto_rows": null,
            "grid_column": null,
            "grid_gap": null,
            "grid_row": null,
            "grid_template_areas": null,
            "grid_template_columns": null,
            "grid_template_rows": null,
            "height": null,
            "justify_content": null,
            "justify_items": null,
            "left": null,
            "margin": null,
            "max_height": null,
            "max_width": null,
            "min_height": null,
            "min_width": null,
            "object_fit": null,
            "object_position": null,
            "order": null,
            "overflow": null,
            "overflow_x": null,
            "overflow_y": null,
            "padding": null,
            "right": null,
            "top": null,
            "visibility": null,
            "width": null
          }
        },
        "a9f4ceb603b346d3a1e0694a354d9956": {
          "model_module": "@jupyter-widgets/controls",
          "model_name": "DescriptionStyleModel",
          "model_module_version": "1.5.0",
          "state": {
            "_model_module": "@jupyter-widgets/controls",
            "_model_module_version": "1.5.0",
            "_model_name": "DescriptionStyleModel",
            "_view_count": null,
            "_view_module": "@jupyter-widgets/base",
            "_view_module_version": "1.2.0",
            "_view_name": "StyleView",
            "description_width": ""
          }
        },
        "75ee17b135cd42ed89848c755344c5ec": {
          "model_module": "@jupyter-widgets/base",
          "model_name": "LayoutModel",
          "model_module_version": "1.2.0",
          "state": {
            "_model_module": "@jupyter-widgets/base",
            "_model_module_version": "1.2.0",
            "_model_name": "LayoutModel",
            "_view_count": null,
            "_view_module": "@jupyter-widgets/base",
            "_view_module_version": "1.2.0",
            "_view_name": "LayoutView",
            "align_content": null,
            "align_items": null,
            "align_self": null,
            "border": null,
            "bottom": null,
            "display": null,
            "flex": null,
            "flex_flow": null,
            "grid_area": null,
            "grid_auto_columns": null,
            "grid_auto_flow": null,
            "grid_auto_rows": null,
            "grid_column": null,
            "grid_gap": null,
            "grid_row": null,
            "grid_template_areas": null,
            "grid_template_columns": null,
            "grid_template_rows": null,
            "height": null,
            "justify_content": null,
            "justify_items": null,
            "left": null,
            "margin": null,
            "max_height": null,
            "max_width": null,
            "min_height": null,
            "min_width": null,
            "object_fit": null,
            "object_position": null,
            "order": null,
            "overflow": null,
            "overflow_x": null,
            "overflow_y": null,
            "padding": null,
            "right": null,
            "top": null,
            "visibility": null,
            "width": null
          }
        },
        "c80264023b584f7aba2a30c7513688a3": {
          "model_module": "@jupyter-widgets/controls",
          "model_name": "ProgressStyleModel",
          "model_module_version": "1.5.0",
          "state": {
            "_model_module": "@jupyter-widgets/controls",
            "_model_module_version": "1.5.0",
            "_model_name": "ProgressStyleModel",
            "_view_count": null,
            "_view_module": "@jupyter-widgets/base",
            "_view_module_version": "1.2.0",
            "_view_name": "StyleView",
            "bar_color": null,
            "description_width": ""
          }
        },
        "c322f8eff56240d396ee1425871f4c40": {
          "model_module": "@jupyter-widgets/base",
          "model_name": "LayoutModel",
          "model_module_version": "1.2.0",
          "state": {
            "_model_module": "@jupyter-widgets/base",
            "_model_module_version": "1.2.0",
            "_model_name": "LayoutModel",
            "_view_count": null,
            "_view_module": "@jupyter-widgets/base",
            "_view_module_version": "1.2.0",
            "_view_name": "LayoutView",
            "align_content": null,
            "align_items": null,
            "align_self": null,
            "border": null,
            "bottom": null,
            "display": null,
            "flex": null,
            "flex_flow": null,
            "grid_area": null,
            "grid_auto_columns": null,
            "grid_auto_flow": null,
            "grid_auto_rows": null,
            "grid_column": null,
            "grid_gap": null,
            "grid_row": null,
            "grid_template_areas": null,
            "grid_template_columns": null,
            "grid_template_rows": null,
            "height": null,
            "justify_content": null,
            "justify_items": null,
            "left": null,
            "margin": null,
            "max_height": null,
            "max_width": null,
            "min_height": null,
            "min_width": null,
            "object_fit": null,
            "object_position": null,
            "order": null,
            "overflow": null,
            "overflow_x": null,
            "overflow_y": null,
            "padding": null,
            "right": null,
            "top": null,
            "visibility": null,
            "width": null
          }
        },
        "e66263c660b54298ad54b6c141af26d6": {
          "model_module": "@jupyter-widgets/controls",
          "model_name": "DescriptionStyleModel",
          "model_module_version": "1.5.0",
          "state": {
            "_model_module": "@jupyter-widgets/controls",
            "_model_module_version": "1.5.0",
            "_model_name": "DescriptionStyleModel",
            "_view_count": null,
            "_view_module": "@jupyter-widgets/base",
            "_view_module_version": "1.2.0",
            "_view_name": "StyleView",
            "description_width": ""
          }
        },
        "fbc383b0d2cc4ff0b10e8092885e80a9": {
          "model_module": "@jupyter-widgets/controls",
          "model_name": "HBoxModel",
          "model_module_version": "1.5.0",
          "state": {
            "_dom_classes": [],
            "_model_module": "@jupyter-widgets/controls",
            "_model_module_version": "1.5.0",
            "_model_name": "HBoxModel",
            "_view_count": null,
            "_view_module": "@jupyter-widgets/controls",
            "_view_module_version": "1.5.0",
            "_view_name": "HBoxView",
            "box_style": "",
            "children": [
              "IPY_MODEL_1ca2e76d877e4c6e80bb7ae85dc43efa",
              "IPY_MODEL_71196cbba80c41e393a1716b3ba1e91f",
              "IPY_MODEL_7c6f7893e3f649248de0bcc09a382c74"
            ],
            "layout": "IPY_MODEL_147fbc2d5e5342bebe3c56ee66dd7132"
          }
        },
        "1ca2e76d877e4c6e80bb7ae85dc43efa": {
          "model_module": "@jupyter-widgets/controls",
          "model_name": "HTMLModel",
          "model_module_version": "1.5.0",
          "state": {
            "_dom_classes": [],
            "_model_module": "@jupyter-widgets/controls",
            "_model_module_version": "1.5.0",
            "_model_name": "HTMLModel",
            "_view_count": null,
            "_view_module": "@jupyter-widgets/controls",
            "_view_module_version": "1.5.0",
            "_view_name": "HTMLView",
            "description": "",
            "description_tooltip": null,
            "layout": "IPY_MODEL_76713c019c804a2baa1d28359b97b477",
            "placeholder": "​",
            "style": "IPY_MODEL_64a621da7970428697d955930ba4941d",
            "value": "added_tokens.json: 100%"
          }
        },
        "71196cbba80c41e393a1716b3ba1e91f": {
          "model_module": "@jupyter-widgets/controls",
          "model_name": "FloatProgressModel",
          "model_module_version": "1.5.0",
          "state": {
            "_dom_classes": [],
            "_model_module": "@jupyter-widgets/controls",
            "_model_module_version": "1.5.0",
            "_model_name": "FloatProgressModel",
            "_view_count": null,
            "_view_module": "@jupyter-widgets/controls",
            "_view_module_version": "1.5.0",
            "_view_name": "ProgressView",
            "bar_style": "success",
            "description": "",
            "description_tooltip": null,
            "layout": "IPY_MODEL_c151f9f6af9a4190bd01b5f1d4c374d8",
            "max": 2,
            "min": 0,
            "orientation": "horizontal",
            "style": "IPY_MODEL_8c2cf9b9d9ae405b8ed84c21552f9c58",
            "value": 2
          }
        },
        "7c6f7893e3f649248de0bcc09a382c74": {
          "model_module": "@jupyter-widgets/controls",
          "model_name": "HTMLModel",
          "model_module_version": "1.5.0",
          "state": {
            "_dom_classes": [],
            "_model_module": "@jupyter-widgets/controls",
            "_model_module_version": "1.5.0",
            "_model_name": "HTMLModel",
            "_view_count": null,
            "_view_module": "@jupyter-widgets/controls",
            "_view_module_version": "1.5.0",
            "_view_name": "HTMLView",
            "description": "",
            "description_tooltip": null,
            "layout": "IPY_MODEL_ac82e9f5bd7b49e5a536f3eee1f517db",
            "placeholder": "​",
            "style": "IPY_MODEL_5f8c338e7724496b8d843e4095383938",
            "value": " 2.00/2.00 [00:00&lt;00:00, 31.3B/s]"
          }
        },
        "147fbc2d5e5342bebe3c56ee66dd7132": {
          "model_module": "@jupyter-widgets/base",
          "model_name": "LayoutModel",
          "model_module_version": "1.2.0",
          "state": {
            "_model_module": "@jupyter-widgets/base",
            "_model_module_version": "1.2.0",
            "_model_name": "LayoutModel",
            "_view_count": null,
            "_view_module": "@jupyter-widgets/base",
            "_view_module_version": "1.2.0",
            "_view_name": "LayoutView",
            "align_content": null,
            "align_items": null,
            "align_self": null,
            "border": null,
            "bottom": null,
            "display": null,
            "flex": null,
            "flex_flow": null,
            "grid_area": null,
            "grid_auto_columns": null,
            "grid_auto_flow": null,
            "grid_auto_rows": null,
            "grid_column": null,
            "grid_gap": null,
            "grid_row": null,
            "grid_template_areas": null,
            "grid_template_columns": null,
            "grid_template_rows": null,
            "height": null,
            "justify_content": null,
            "justify_items": null,
            "left": null,
            "margin": null,
            "max_height": null,
            "max_width": null,
            "min_height": null,
            "min_width": null,
            "object_fit": null,
            "object_position": null,
            "order": null,
            "overflow": null,
            "overflow_x": null,
            "overflow_y": null,
            "padding": null,
            "right": null,
            "top": null,
            "visibility": null,
            "width": null
          }
        },
        "76713c019c804a2baa1d28359b97b477": {
          "model_module": "@jupyter-widgets/base",
          "model_name": "LayoutModel",
          "model_module_version": "1.2.0",
          "state": {
            "_model_module": "@jupyter-widgets/base",
            "_model_module_version": "1.2.0",
            "_model_name": "LayoutModel",
            "_view_count": null,
            "_view_module": "@jupyter-widgets/base",
            "_view_module_version": "1.2.0",
            "_view_name": "LayoutView",
            "align_content": null,
            "align_items": null,
            "align_self": null,
            "border": null,
            "bottom": null,
            "display": null,
            "flex": null,
            "flex_flow": null,
            "grid_area": null,
            "grid_auto_columns": null,
            "grid_auto_flow": null,
            "grid_auto_rows": null,
            "grid_column": null,
            "grid_gap": null,
            "grid_row": null,
            "grid_template_areas": null,
            "grid_template_columns": null,
            "grid_template_rows": null,
            "height": null,
            "justify_content": null,
            "justify_items": null,
            "left": null,
            "margin": null,
            "max_height": null,
            "max_width": null,
            "min_height": null,
            "min_width": null,
            "object_fit": null,
            "object_position": null,
            "order": null,
            "overflow": null,
            "overflow_x": null,
            "overflow_y": null,
            "padding": null,
            "right": null,
            "top": null,
            "visibility": null,
            "width": null
          }
        },
        "64a621da7970428697d955930ba4941d": {
          "model_module": "@jupyter-widgets/controls",
          "model_name": "DescriptionStyleModel",
          "model_module_version": "1.5.0",
          "state": {
            "_model_module": "@jupyter-widgets/controls",
            "_model_module_version": "1.5.0",
            "_model_name": "DescriptionStyleModel",
            "_view_count": null,
            "_view_module": "@jupyter-widgets/base",
            "_view_module_version": "1.2.0",
            "_view_name": "StyleView",
            "description_width": ""
          }
        },
        "c151f9f6af9a4190bd01b5f1d4c374d8": {
          "model_module": "@jupyter-widgets/base",
          "model_name": "LayoutModel",
          "model_module_version": "1.2.0",
          "state": {
            "_model_module": "@jupyter-widgets/base",
            "_model_module_version": "1.2.0",
            "_model_name": "LayoutModel",
            "_view_count": null,
            "_view_module": "@jupyter-widgets/base",
            "_view_module_version": "1.2.0",
            "_view_name": "LayoutView",
            "align_content": null,
            "align_items": null,
            "align_self": null,
            "border": null,
            "bottom": null,
            "display": null,
            "flex": null,
            "flex_flow": null,
            "grid_area": null,
            "grid_auto_columns": null,
            "grid_auto_flow": null,
            "grid_auto_rows": null,
            "grid_column": null,
            "grid_gap": null,
            "grid_row": null,
            "grid_template_areas": null,
            "grid_template_columns": null,
            "grid_template_rows": null,
            "height": null,
            "justify_content": null,
            "justify_items": null,
            "left": null,
            "margin": null,
            "max_height": null,
            "max_width": null,
            "min_height": null,
            "min_width": null,
            "object_fit": null,
            "object_position": null,
            "order": null,
            "overflow": null,
            "overflow_x": null,
            "overflow_y": null,
            "padding": null,
            "right": null,
            "top": null,
            "visibility": null,
            "width": null
          }
        },
        "8c2cf9b9d9ae405b8ed84c21552f9c58": {
          "model_module": "@jupyter-widgets/controls",
          "model_name": "ProgressStyleModel",
          "model_module_version": "1.5.0",
          "state": {
            "_model_module": "@jupyter-widgets/controls",
            "_model_module_version": "1.5.0",
            "_model_name": "ProgressStyleModel",
            "_view_count": null,
            "_view_module": "@jupyter-widgets/base",
            "_view_module_version": "1.2.0",
            "_view_name": "StyleView",
            "bar_color": null,
            "description_width": ""
          }
        },
        "ac82e9f5bd7b49e5a536f3eee1f517db": {
          "model_module": "@jupyter-widgets/base",
          "model_name": "LayoutModel",
          "model_module_version": "1.2.0",
          "state": {
            "_model_module": "@jupyter-widgets/base",
            "_model_module_version": "1.2.0",
            "_model_name": "LayoutModel",
            "_view_count": null,
            "_view_module": "@jupyter-widgets/base",
            "_view_module_version": "1.2.0",
            "_view_name": "LayoutView",
            "align_content": null,
            "align_items": null,
            "align_self": null,
            "border": null,
            "bottom": null,
            "display": null,
            "flex": null,
            "flex_flow": null,
            "grid_area": null,
            "grid_auto_columns": null,
            "grid_auto_flow": null,
            "grid_auto_rows": null,
            "grid_column": null,
            "grid_gap": null,
            "grid_row": null,
            "grid_template_areas": null,
            "grid_template_columns": null,
            "grid_template_rows": null,
            "height": null,
            "justify_content": null,
            "justify_items": null,
            "left": null,
            "margin": null,
            "max_height": null,
            "max_width": null,
            "min_height": null,
            "min_width": null,
            "object_fit": null,
            "object_position": null,
            "order": null,
            "overflow": null,
            "overflow_x": null,
            "overflow_y": null,
            "padding": null,
            "right": null,
            "top": null,
            "visibility": null,
            "width": null
          }
        },
        "5f8c338e7724496b8d843e4095383938": {
          "model_module": "@jupyter-widgets/controls",
          "model_name": "DescriptionStyleModel",
          "model_module_version": "1.5.0",
          "state": {
            "_model_module": "@jupyter-widgets/controls",
            "_model_module_version": "1.5.0",
            "_model_name": "DescriptionStyleModel",
            "_view_count": null,
            "_view_module": "@jupyter-widgets/base",
            "_view_module_version": "1.2.0",
            "_view_name": "StyleView",
            "description_width": ""
          }
        },
        "cf366e5cd6b04a1f86c2eae7562df739": {
          "model_module": "@jupyter-widgets/controls",
          "model_name": "HBoxModel",
          "model_module_version": "1.5.0",
          "state": {
            "_dom_classes": [],
            "_model_module": "@jupyter-widgets/controls",
            "_model_module_version": "1.5.0",
            "_model_name": "HBoxModel",
            "_view_count": null,
            "_view_module": "@jupyter-widgets/controls",
            "_view_module_version": "1.5.0",
            "_view_name": "HBoxView",
            "box_style": "",
            "children": [
              "IPY_MODEL_45e3d3c1796642d69ea0fa249fee8913",
              "IPY_MODEL_7718b0a4732d4d28af4e7bdc58bdb63e",
              "IPY_MODEL_10e930c20d3343f9a71aede95ee4e66b"
            ],
            "layout": "IPY_MODEL_bd802baaf36c47bbb6d9f41c12d2f85f"
          }
        },
        "45e3d3c1796642d69ea0fa249fee8913": {
          "model_module": "@jupyter-widgets/controls",
          "model_name": "HTMLModel",
          "model_module_version": "1.5.0",
          "state": {
            "_dom_classes": [],
            "_model_module": "@jupyter-widgets/controls",
            "_model_module_version": "1.5.0",
            "_model_name": "HTMLModel",
            "_view_count": null,
            "_view_module": "@jupyter-widgets/controls",
            "_view_module_version": "1.5.0",
            "_view_name": "HTMLView",
            "description": "",
            "description_tooltip": null,
            "layout": "IPY_MODEL_d69c994fea5b4819a90af79c24cf92c8",
            "placeholder": "​",
            "style": "IPY_MODEL_dcdbbd265657432d83b77e63fd241ca9",
            "value": "special_tokens_map.json: 100%"
          }
        },
        "7718b0a4732d4d28af4e7bdc58bdb63e": {
          "model_module": "@jupyter-widgets/controls",
          "model_name": "FloatProgressModel",
          "model_module_version": "1.5.0",
          "state": {
            "_dom_classes": [],
            "_model_module": "@jupyter-widgets/controls",
            "_model_module_version": "1.5.0",
            "_model_name": "FloatProgressModel",
            "_view_count": null,
            "_view_module": "@jupyter-widgets/controls",
            "_view_module_version": "1.5.0",
            "_view_name": "ProgressView",
            "bar_style": "success",
            "description": "",
            "description_tooltip": null,
            "layout": "IPY_MODEL_c8a9d42d94ff4263b28cf97cff32a927",
            "max": 12512,
            "min": 0,
            "orientation": "horizontal",
            "style": "IPY_MODEL_78ef5bbe121d487ea3766782339e4f18",
            "value": 12512
          }
        },
        "10e930c20d3343f9a71aede95ee4e66b": {
          "model_module": "@jupyter-widgets/controls",
          "model_name": "HTMLModel",
          "model_module_version": "1.5.0",
          "state": {
            "_dom_classes": [],
            "_model_module": "@jupyter-widgets/controls",
            "_model_module_version": "1.5.0",
            "_model_name": "HTMLModel",
            "_view_count": null,
            "_view_module": "@jupyter-widgets/controls",
            "_view_module_version": "1.5.0",
            "_view_name": "HTMLView",
            "description": "",
            "description_tooltip": null,
            "layout": "IPY_MODEL_a0db5d08e6f044c98bc39b25ad7a7060",
            "placeholder": "​",
            "style": "IPY_MODEL_24612d6cc101491ab49ced6d2cc5f1c5",
            "value": " 12.5k/12.5k [00:00&lt;00:00, 278kB/s]"
          }
        },
        "bd802baaf36c47bbb6d9f41c12d2f85f": {
          "model_module": "@jupyter-widgets/base",
          "model_name": "LayoutModel",
          "model_module_version": "1.2.0",
          "state": {
            "_model_module": "@jupyter-widgets/base",
            "_model_module_version": "1.2.0",
            "_model_name": "LayoutModel",
            "_view_count": null,
            "_view_module": "@jupyter-widgets/base",
            "_view_module_version": "1.2.0",
            "_view_name": "LayoutView",
            "align_content": null,
            "align_items": null,
            "align_self": null,
            "border": null,
            "bottom": null,
            "display": null,
            "flex": null,
            "flex_flow": null,
            "grid_area": null,
            "grid_auto_columns": null,
            "grid_auto_flow": null,
            "grid_auto_rows": null,
            "grid_column": null,
            "grid_gap": null,
            "grid_row": null,
            "grid_template_areas": null,
            "grid_template_columns": null,
            "grid_template_rows": null,
            "height": null,
            "justify_content": null,
            "justify_items": null,
            "left": null,
            "margin": null,
            "max_height": null,
            "max_width": null,
            "min_height": null,
            "min_width": null,
            "object_fit": null,
            "object_position": null,
            "order": null,
            "overflow": null,
            "overflow_x": null,
            "overflow_y": null,
            "padding": null,
            "right": null,
            "top": null,
            "visibility": null,
            "width": null
          }
        },
        "d69c994fea5b4819a90af79c24cf92c8": {
          "model_module": "@jupyter-widgets/base",
          "model_name": "LayoutModel",
          "model_module_version": "1.2.0",
          "state": {
            "_model_module": "@jupyter-widgets/base",
            "_model_module_version": "1.2.0",
            "_model_name": "LayoutModel",
            "_view_count": null,
            "_view_module": "@jupyter-widgets/base",
            "_view_module_version": "1.2.0",
            "_view_name": "LayoutView",
            "align_content": null,
            "align_items": null,
            "align_self": null,
            "border": null,
            "bottom": null,
            "display": null,
            "flex": null,
            "flex_flow": null,
            "grid_area": null,
            "grid_auto_columns": null,
            "grid_auto_flow": null,
            "grid_auto_rows": null,
            "grid_column": null,
            "grid_gap": null,
            "grid_row": null,
            "grid_template_areas": null,
            "grid_template_columns": null,
            "grid_template_rows": null,
            "height": null,
            "justify_content": null,
            "justify_items": null,
            "left": null,
            "margin": null,
            "max_height": null,
            "max_width": null,
            "min_height": null,
            "min_width": null,
            "object_fit": null,
            "object_position": null,
            "order": null,
            "overflow": null,
            "overflow_x": null,
            "overflow_y": null,
            "padding": null,
            "right": null,
            "top": null,
            "visibility": null,
            "width": null
          }
        },
        "dcdbbd265657432d83b77e63fd241ca9": {
          "model_module": "@jupyter-widgets/controls",
          "model_name": "DescriptionStyleModel",
          "model_module_version": "1.5.0",
          "state": {
            "_model_module": "@jupyter-widgets/controls",
            "_model_module_version": "1.5.0",
            "_model_name": "DescriptionStyleModel",
            "_view_count": null,
            "_view_module": "@jupyter-widgets/base",
            "_view_module_version": "1.2.0",
            "_view_name": "StyleView",
            "description_width": ""
          }
        },
        "c8a9d42d94ff4263b28cf97cff32a927": {
          "model_module": "@jupyter-widgets/base",
          "model_name": "LayoutModel",
          "model_module_version": "1.2.0",
          "state": {
            "_model_module": "@jupyter-widgets/base",
            "_model_module_version": "1.2.0",
            "_model_name": "LayoutModel",
            "_view_count": null,
            "_view_module": "@jupyter-widgets/base",
            "_view_module_version": "1.2.0",
            "_view_name": "LayoutView",
            "align_content": null,
            "align_items": null,
            "align_self": null,
            "border": null,
            "bottom": null,
            "display": null,
            "flex": null,
            "flex_flow": null,
            "grid_area": null,
            "grid_auto_columns": null,
            "grid_auto_flow": null,
            "grid_auto_rows": null,
            "grid_column": null,
            "grid_gap": null,
            "grid_row": null,
            "grid_template_areas": null,
            "grid_template_columns": null,
            "grid_template_rows": null,
            "height": null,
            "justify_content": null,
            "justify_items": null,
            "left": null,
            "margin": null,
            "max_height": null,
            "max_width": null,
            "min_height": null,
            "min_width": null,
            "object_fit": null,
            "object_position": null,
            "order": null,
            "overflow": null,
            "overflow_x": null,
            "overflow_y": null,
            "padding": null,
            "right": null,
            "top": null,
            "visibility": null,
            "width": null
          }
        },
        "78ef5bbe121d487ea3766782339e4f18": {
          "model_module": "@jupyter-widgets/controls",
          "model_name": "ProgressStyleModel",
          "model_module_version": "1.5.0",
          "state": {
            "_model_module": "@jupyter-widgets/controls",
            "_model_module_version": "1.5.0",
            "_model_name": "ProgressStyleModel",
            "_view_count": null,
            "_view_module": "@jupyter-widgets/base",
            "_view_module_version": "1.2.0",
            "_view_name": "StyleView",
            "bar_color": null,
            "description_width": ""
          }
        },
        "a0db5d08e6f044c98bc39b25ad7a7060": {
          "model_module": "@jupyter-widgets/base",
          "model_name": "LayoutModel",
          "model_module_version": "1.2.0",
          "state": {
            "_model_module": "@jupyter-widgets/base",
            "_model_module_version": "1.2.0",
            "_model_name": "LayoutModel",
            "_view_count": null,
            "_view_module": "@jupyter-widgets/base",
            "_view_module_version": "1.2.0",
            "_view_name": "LayoutView",
            "align_content": null,
            "align_items": null,
            "align_self": null,
            "border": null,
            "bottom": null,
            "display": null,
            "flex": null,
            "flex_flow": null,
            "grid_area": null,
            "grid_auto_columns": null,
            "grid_auto_flow": null,
            "grid_auto_rows": null,
            "grid_column": null,
            "grid_gap": null,
            "grid_row": null,
            "grid_template_areas": null,
            "grid_template_columns": null,
            "grid_template_rows": null,
            "height": null,
            "justify_content": null,
            "justify_items": null,
            "left": null,
            "margin": null,
            "max_height": null,
            "max_width": null,
            "min_height": null,
            "min_width": null,
            "object_fit": null,
            "object_position": null,
            "order": null,
            "overflow": null,
            "overflow_x": null,
            "overflow_y": null,
            "padding": null,
            "right": null,
            "top": null,
            "visibility": null,
            "width": null
          }
        },
        "24612d6cc101491ab49ced6d2cc5f1c5": {
          "model_module": "@jupyter-widgets/controls",
          "model_name": "DescriptionStyleModel",
          "model_module_version": "1.5.0",
          "state": {
            "_model_module": "@jupyter-widgets/controls",
            "_model_module_version": "1.5.0",
            "_model_name": "DescriptionStyleModel",
            "_view_count": null,
            "_view_module": "@jupyter-widgets/base",
            "_view_module_version": "1.2.0",
            "_view_name": "StyleView",
            "description_width": ""
          }
        },
        "20a190d268bb458ca20ddad35c92e978": {
          "model_module": "@jupyter-widgets/controls",
          "model_name": "HBoxModel",
          "model_module_version": "1.5.0",
          "state": {
            "_dom_classes": [],
            "_model_module": "@jupyter-widgets/controls",
            "_model_module_version": "1.5.0",
            "_model_name": "HBoxModel",
            "_view_count": null,
            "_view_module": "@jupyter-widgets/controls",
            "_view_module_version": "1.5.0",
            "_view_name": "HBoxView",
            "box_style": "",
            "children": [
              "IPY_MODEL_c0077e494768477c972299e684903dac",
              "IPY_MODEL_ecbc1ad8b827482daa438348df35bcc2",
              "IPY_MODEL_4f95f7bea32b47749f8f9663caecdcff"
            ],
            "layout": "IPY_MODEL_73717385d85940778a4eeae0798ad868"
          }
        },
        "c0077e494768477c972299e684903dac": {
          "model_module": "@jupyter-widgets/controls",
          "model_name": "HTMLModel",
          "model_module_version": "1.5.0",
          "state": {
            "_dom_classes": [],
            "_model_module": "@jupyter-widgets/controls",
            "_model_module_version": "1.5.0",
            "_model_name": "HTMLModel",
            "_view_count": null,
            "_view_module": "@jupyter-widgets/controls",
            "_view_module_version": "1.5.0",
            "_view_name": "HTMLView",
            "description": "",
            "description_tooltip": null,
            "layout": "IPY_MODEL_64e4833318c14aa6871f4b6b5c035a1b",
            "placeholder": "​",
            "style": "IPY_MODEL_f9b29e45790247c38df352761377182c",
            "value": "config.json: 100%"
          }
        },
        "ecbc1ad8b827482daa438348df35bcc2": {
          "model_module": "@jupyter-widgets/controls",
          "model_name": "FloatProgressModel",
          "model_module_version": "1.5.0",
          "state": {
            "_dom_classes": [],
            "_model_module": "@jupyter-widgets/controls",
            "_model_module_version": "1.5.0",
            "_model_name": "FloatProgressModel",
            "_view_count": null,
            "_view_module": "@jupyter-widgets/controls",
            "_view_module_version": "1.5.0",
            "_view_name": "ProgressView",
            "bar_style": "success",
            "description": "",
            "description_tooltip": null,
            "layout": "IPY_MODEL_c5ee6440ea294e25b305bf950c031f7e",
            "max": 768,
            "min": 0,
            "orientation": "horizontal",
            "style": "IPY_MODEL_5072accc781f44e0bba7c1275332e84c",
            "value": 768
          }
        },
        "4f95f7bea32b47749f8f9663caecdcff": {
          "model_module": "@jupyter-widgets/controls",
          "model_name": "HTMLModel",
          "model_module_version": "1.5.0",
          "state": {
            "_dom_classes": [],
            "_model_module": "@jupyter-widgets/controls",
            "_model_module_version": "1.5.0",
            "_model_name": "HTMLModel",
            "_view_count": null,
            "_view_module": "@jupyter-widgets/controls",
            "_view_module_version": "1.5.0",
            "_view_name": "HTMLView",
            "description": "",
            "description_tooltip": null,
            "layout": "IPY_MODEL_623711be1f14446e90bed0805585b6fa",
            "placeholder": "​",
            "style": "IPY_MODEL_da17d9f3ee52439889012719a345c418",
            "value": " 768/768 [00:00&lt;00:00, 13.8kB/s]"
          }
        },
        "73717385d85940778a4eeae0798ad868": {
          "model_module": "@jupyter-widgets/base",
          "model_name": "LayoutModel",
          "model_module_version": "1.2.0",
          "state": {
            "_model_module": "@jupyter-widgets/base",
            "_model_module_version": "1.2.0",
            "_model_name": "LayoutModel",
            "_view_count": null,
            "_view_module": "@jupyter-widgets/base",
            "_view_module_version": "1.2.0",
            "_view_name": "LayoutView",
            "align_content": null,
            "align_items": null,
            "align_self": null,
            "border": null,
            "bottom": null,
            "display": null,
            "flex": null,
            "flex_flow": null,
            "grid_area": null,
            "grid_auto_columns": null,
            "grid_auto_flow": null,
            "grid_auto_rows": null,
            "grid_column": null,
            "grid_gap": null,
            "grid_row": null,
            "grid_template_areas": null,
            "grid_template_columns": null,
            "grid_template_rows": null,
            "height": null,
            "justify_content": null,
            "justify_items": null,
            "left": null,
            "margin": null,
            "max_height": null,
            "max_width": null,
            "min_height": null,
            "min_width": null,
            "object_fit": null,
            "object_position": null,
            "order": null,
            "overflow": null,
            "overflow_x": null,
            "overflow_y": null,
            "padding": null,
            "right": null,
            "top": null,
            "visibility": null,
            "width": null
          }
        },
        "64e4833318c14aa6871f4b6b5c035a1b": {
          "model_module": "@jupyter-widgets/base",
          "model_name": "LayoutModel",
          "model_module_version": "1.2.0",
          "state": {
            "_model_module": "@jupyter-widgets/base",
            "_model_module_version": "1.2.0",
            "_model_name": "LayoutModel",
            "_view_count": null,
            "_view_module": "@jupyter-widgets/base",
            "_view_module_version": "1.2.0",
            "_view_name": "LayoutView",
            "align_content": null,
            "align_items": null,
            "align_self": null,
            "border": null,
            "bottom": null,
            "display": null,
            "flex": null,
            "flex_flow": null,
            "grid_area": null,
            "grid_auto_columns": null,
            "grid_auto_flow": null,
            "grid_auto_rows": null,
            "grid_column": null,
            "grid_gap": null,
            "grid_row": null,
            "grid_template_areas": null,
            "grid_template_columns": null,
            "grid_template_rows": null,
            "height": null,
            "justify_content": null,
            "justify_items": null,
            "left": null,
            "margin": null,
            "max_height": null,
            "max_width": null,
            "min_height": null,
            "min_width": null,
            "object_fit": null,
            "object_position": null,
            "order": null,
            "overflow": null,
            "overflow_x": null,
            "overflow_y": null,
            "padding": null,
            "right": null,
            "top": null,
            "visibility": null,
            "width": null
          }
        },
        "f9b29e45790247c38df352761377182c": {
          "model_module": "@jupyter-widgets/controls",
          "model_name": "DescriptionStyleModel",
          "model_module_version": "1.5.0",
          "state": {
            "_model_module": "@jupyter-widgets/controls",
            "_model_module_version": "1.5.0",
            "_model_name": "DescriptionStyleModel",
            "_view_count": null,
            "_view_module": "@jupyter-widgets/base",
            "_view_module_version": "1.2.0",
            "_view_name": "StyleView",
            "description_width": ""
          }
        },
        "c5ee6440ea294e25b305bf950c031f7e": {
          "model_module": "@jupyter-widgets/base",
          "model_name": "LayoutModel",
          "model_module_version": "1.2.0",
          "state": {
            "_model_module": "@jupyter-widgets/base",
            "_model_module_version": "1.2.0",
            "_model_name": "LayoutModel",
            "_view_count": null,
            "_view_module": "@jupyter-widgets/base",
            "_view_module_version": "1.2.0",
            "_view_name": "LayoutView",
            "align_content": null,
            "align_items": null,
            "align_self": null,
            "border": null,
            "bottom": null,
            "display": null,
            "flex": null,
            "flex_flow": null,
            "grid_area": null,
            "grid_auto_columns": null,
            "grid_auto_flow": null,
            "grid_auto_rows": null,
            "grid_column": null,
            "grid_gap": null,
            "grid_row": null,
            "grid_template_areas": null,
            "grid_template_columns": null,
            "grid_template_rows": null,
            "height": null,
            "justify_content": null,
            "justify_items": null,
            "left": null,
            "margin": null,
            "max_height": null,
            "max_width": null,
            "min_height": null,
            "min_width": null,
            "object_fit": null,
            "object_position": null,
            "order": null,
            "overflow": null,
            "overflow_x": null,
            "overflow_y": null,
            "padding": null,
            "right": null,
            "top": null,
            "visibility": null,
            "width": null
          }
        },
        "5072accc781f44e0bba7c1275332e84c": {
          "model_module": "@jupyter-widgets/controls",
          "model_name": "ProgressStyleModel",
          "model_module_version": "1.5.0",
          "state": {
            "_model_module": "@jupyter-widgets/controls",
            "_model_module_version": "1.5.0",
            "_model_name": "ProgressStyleModel",
            "_view_count": null,
            "_view_module": "@jupyter-widgets/base",
            "_view_module_version": "1.2.0",
            "_view_name": "StyleView",
            "bar_color": null,
            "description_width": ""
          }
        },
        "623711be1f14446e90bed0805585b6fa": {
          "model_module": "@jupyter-widgets/base",
          "model_name": "LayoutModel",
          "model_module_version": "1.2.0",
          "state": {
            "_model_module": "@jupyter-widgets/base",
            "_model_module_version": "1.2.0",
            "_model_name": "LayoutModel",
            "_view_count": null,
            "_view_module": "@jupyter-widgets/base",
            "_view_module_version": "1.2.0",
            "_view_name": "LayoutView",
            "align_content": null,
            "align_items": null,
            "align_self": null,
            "border": null,
            "bottom": null,
            "display": null,
            "flex": null,
            "flex_flow": null,
            "grid_area": null,
            "grid_auto_columns": null,
            "grid_auto_flow": null,
            "grid_auto_rows": null,
            "grid_column": null,
            "grid_gap": null,
            "grid_row": null,
            "grid_template_areas": null,
            "grid_template_columns": null,
            "grid_template_rows": null,
            "height": null,
            "justify_content": null,
            "justify_items": null,
            "left": null,
            "margin": null,
            "max_height": null,
            "max_width": null,
            "min_height": null,
            "min_width": null,
            "object_fit": null,
            "object_position": null,
            "order": null,
            "overflow": null,
            "overflow_x": null,
            "overflow_y": null,
            "padding": null,
            "right": null,
            "top": null,
            "visibility": null,
            "width": null
          }
        },
        "da17d9f3ee52439889012719a345c418": {
          "model_module": "@jupyter-widgets/controls",
          "model_name": "DescriptionStyleModel",
          "model_module_version": "1.5.0",
          "state": {
            "_model_module": "@jupyter-widgets/controls",
            "_model_module_version": "1.5.0",
            "_model_name": "DescriptionStyleModel",
            "_view_count": null,
            "_view_module": "@jupyter-widgets/base",
            "_view_module_version": "1.2.0",
            "_view_name": "StyleView",
            "description_width": ""
          }
        },
        "b4657c57c71a41c1bacbaaca309a8444": {
          "model_module": "@jupyter-widgets/controls",
          "model_name": "HBoxModel",
          "model_module_version": "1.5.0",
          "state": {
            "_dom_classes": [],
            "_model_module": "@jupyter-widgets/controls",
            "_model_module_version": "1.5.0",
            "_model_name": "HBoxModel",
            "_view_count": null,
            "_view_module": "@jupyter-widgets/controls",
            "_view_module_version": "1.5.0",
            "_view_name": "HBoxView",
            "box_style": "",
            "children": [
              "IPY_MODEL_4aa54dcc99fb43ee80c26e6a232d4192",
              "IPY_MODEL_95b88d233c9b46e7a75252b34efb0fcc",
              "IPY_MODEL_fc75c3f9371047c1bf83b394c73ab1d1"
            ],
            "layout": "IPY_MODEL_7ff1352d243348faa7777a7fb553368b"
          }
        },
        "4aa54dcc99fb43ee80c26e6a232d4192": {
          "model_module": "@jupyter-widgets/controls",
          "model_name": "HTMLModel",
          "model_module_version": "1.5.0",
          "state": {
            "_dom_classes": [],
            "_model_module": "@jupyter-widgets/controls",
            "_model_module_version": "1.5.0",
            "_model_name": "HTMLModel",
            "_view_count": null,
            "_view_module": "@jupyter-widgets/controls",
            "_view_module_version": "1.5.0",
            "_view_name": "HTMLView",
            "description": "",
            "description_tooltip": null,
            "layout": "IPY_MODEL_f8f3ee7673b7485194bcc209de8967e3",
            "placeholder": "​",
            "style": "IPY_MODEL_036c326cea00458d9e094d05cd63373d",
            "value": "pytorch_model.bin: 100%"
          }
        },
        "95b88d233c9b46e7a75252b34efb0fcc": {
          "model_module": "@jupyter-widgets/controls",
          "model_name": "FloatProgressModel",
          "model_module_version": "1.5.0",
          "state": {
            "_dom_classes": [],
            "_model_module": "@jupyter-widgets/controls",
            "_model_module_version": "1.5.0",
            "_model_name": "FloatProgressModel",
            "_view_count": null,
            "_view_module": "@jupyter-widgets/controls",
            "_view_module_version": "1.5.0",
            "_view_name": "ProgressView",
            "bar_style": "success",
            "description": "",
            "description_tooltip": null,
            "layout": "IPY_MODEL_40ba2714348f4204a1cd81ce0f757fac",
            "max": 445800957,
            "min": 0,
            "orientation": "horizontal",
            "style": "IPY_MODEL_5c9e0502ecb4456ebcb43bc69bc319a5",
            "value": 445800957
          }
        },
        "fc75c3f9371047c1bf83b394c73ab1d1": {
          "model_module": "@jupyter-widgets/controls",
          "model_name": "HTMLModel",
          "model_module_version": "1.5.0",
          "state": {
            "_dom_classes": [],
            "_model_module": "@jupyter-widgets/controls",
            "_model_module_version": "1.5.0",
            "_model_name": "HTMLModel",
            "_view_count": null,
            "_view_module": "@jupyter-widgets/controls",
            "_view_module_version": "1.5.0",
            "_view_name": "HTMLView",
            "description": "",
            "description_tooltip": null,
            "layout": "IPY_MODEL_4bffc7e8f9454736b4f33de58f5bd0e0",
            "placeholder": "​",
            "style": "IPY_MODEL_bd136e40b8d9472c9da8364329d019de",
            "value": " 446M/446M [00:04&lt;00:00, 95.9MB/s]"
          }
        },
        "7ff1352d243348faa7777a7fb553368b": {
          "model_module": "@jupyter-widgets/base",
          "model_name": "LayoutModel",
          "model_module_version": "1.2.0",
          "state": {
            "_model_module": "@jupyter-widgets/base",
            "_model_module_version": "1.2.0",
            "_model_name": "LayoutModel",
            "_view_count": null,
            "_view_module": "@jupyter-widgets/base",
            "_view_module_version": "1.2.0",
            "_view_name": "LayoutView",
            "align_content": null,
            "align_items": null,
            "align_self": null,
            "border": null,
            "bottom": null,
            "display": null,
            "flex": null,
            "flex_flow": null,
            "grid_area": null,
            "grid_auto_columns": null,
            "grid_auto_flow": null,
            "grid_auto_rows": null,
            "grid_column": null,
            "grid_gap": null,
            "grid_row": null,
            "grid_template_areas": null,
            "grid_template_columns": null,
            "grid_template_rows": null,
            "height": null,
            "justify_content": null,
            "justify_items": null,
            "left": null,
            "margin": null,
            "max_height": null,
            "max_width": null,
            "min_height": null,
            "min_width": null,
            "object_fit": null,
            "object_position": null,
            "order": null,
            "overflow": null,
            "overflow_x": null,
            "overflow_y": null,
            "padding": null,
            "right": null,
            "top": null,
            "visibility": null,
            "width": null
          }
        },
        "f8f3ee7673b7485194bcc209de8967e3": {
          "model_module": "@jupyter-widgets/base",
          "model_name": "LayoutModel",
          "model_module_version": "1.2.0",
          "state": {
            "_model_module": "@jupyter-widgets/base",
            "_model_module_version": "1.2.0",
            "_model_name": "LayoutModel",
            "_view_count": null,
            "_view_module": "@jupyter-widgets/base",
            "_view_module_version": "1.2.0",
            "_view_name": "LayoutView",
            "align_content": null,
            "align_items": null,
            "align_self": null,
            "border": null,
            "bottom": null,
            "display": null,
            "flex": null,
            "flex_flow": null,
            "grid_area": null,
            "grid_auto_columns": null,
            "grid_auto_flow": null,
            "grid_auto_rows": null,
            "grid_column": null,
            "grid_gap": null,
            "grid_row": null,
            "grid_template_areas": null,
            "grid_template_columns": null,
            "grid_template_rows": null,
            "height": null,
            "justify_content": null,
            "justify_items": null,
            "left": null,
            "margin": null,
            "max_height": null,
            "max_width": null,
            "min_height": null,
            "min_width": null,
            "object_fit": null,
            "object_position": null,
            "order": null,
            "overflow": null,
            "overflow_x": null,
            "overflow_y": null,
            "padding": null,
            "right": null,
            "top": null,
            "visibility": null,
            "width": null
          }
        },
        "036c326cea00458d9e094d05cd63373d": {
          "model_module": "@jupyter-widgets/controls",
          "model_name": "DescriptionStyleModel",
          "model_module_version": "1.5.0",
          "state": {
            "_model_module": "@jupyter-widgets/controls",
            "_model_module_version": "1.5.0",
            "_model_name": "DescriptionStyleModel",
            "_view_count": null,
            "_view_module": "@jupyter-widgets/base",
            "_view_module_version": "1.2.0",
            "_view_name": "StyleView",
            "description_width": ""
          }
        },
        "40ba2714348f4204a1cd81ce0f757fac": {
          "model_module": "@jupyter-widgets/base",
          "model_name": "LayoutModel",
          "model_module_version": "1.2.0",
          "state": {
            "_model_module": "@jupyter-widgets/base",
            "_model_module_version": "1.2.0",
            "_model_name": "LayoutModel",
            "_view_count": null,
            "_view_module": "@jupyter-widgets/base",
            "_view_module_version": "1.2.0",
            "_view_name": "LayoutView",
            "align_content": null,
            "align_items": null,
            "align_self": null,
            "border": null,
            "bottom": null,
            "display": null,
            "flex": null,
            "flex_flow": null,
            "grid_area": null,
            "grid_auto_columns": null,
            "grid_auto_flow": null,
            "grid_auto_rows": null,
            "grid_column": null,
            "grid_gap": null,
            "grid_row": null,
            "grid_template_areas": null,
            "grid_template_columns": null,
            "grid_template_rows": null,
            "height": null,
            "justify_content": null,
            "justify_items": null,
            "left": null,
            "margin": null,
            "max_height": null,
            "max_width": null,
            "min_height": null,
            "min_width": null,
            "object_fit": null,
            "object_position": null,
            "order": null,
            "overflow": null,
            "overflow_x": null,
            "overflow_y": null,
            "padding": null,
            "right": null,
            "top": null,
            "visibility": null,
            "width": null
          }
        },
        "5c9e0502ecb4456ebcb43bc69bc319a5": {
          "model_module": "@jupyter-widgets/controls",
          "model_name": "ProgressStyleModel",
          "model_module_version": "1.5.0",
          "state": {
            "_model_module": "@jupyter-widgets/controls",
            "_model_module_version": "1.5.0",
            "_model_name": "ProgressStyleModel",
            "_view_count": null,
            "_view_module": "@jupyter-widgets/base",
            "_view_module_version": "1.2.0",
            "_view_name": "StyleView",
            "bar_color": null,
            "description_width": ""
          }
        },
        "4bffc7e8f9454736b4f33de58f5bd0e0": {
          "model_module": "@jupyter-widgets/base",
          "model_name": "LayoutModel",
          "model_module_version": "1.2.0",
          "state": {
            "_model_module": "@jupyter-widgets/base",
            "_model_module_version": "1.2.0",
            "_model_name": "LayoutModel",
            "_view_count": null,
            "_view_module": "@jupyter-widgets/base",
            "_view_module_version": "1.2.0",
            "_view_name": "LayoutView",
            "align_content": null,
            "align_items": null,
            "align_self": null,
            "border": null,
            "bottom": null,
            "display": null,
            "flex": null,
            "flex_flow": null,
            "grid_area": null,
            "grid_auto_columns": null,
            "grid_auto_flow": null,
            "grid_auto_rows": null,
            "grid_column": null,
            "grid_gap": null,
            "grid_row": null,
            "grid_template_areas": null,
            "grid_template_columns": null,
            "grid_template_rows": null,
            "height": null,
            "justify_content": null,
            "justify_items": null,
            "left": null,
            "margin": null,
            "max_height": null,
            "max_width": null,
            "min_height": null,
            "min_width": null,
            "object_fit": null,
            "object_position": null,
            "order": null,
            "overflow": null,
            "overflow_x": null,
            "overflow_y": null,
            "padding": null,
            "right": null,
            "top": null,
            "visibility": null,
            "width": null
          }
        },
        "bd136e40b8d9472c9da8364329d019de": {
          "model_module": "@jupyter-widgets/controls",
          "model_name": "DescriptionStyleModel",
          "model_module_version": "1.5.0",
          "state": {
            "_model_module": "@jupyter-widgets/controls",
            "_model_module_version": "1.5.0",
            "_model_name": "DescriptionStyleModel",
            "_view_count": null,
            "_view_module": "@jupyter-widgets/base",
            "_view_module_version": "1.2.0",
            "_view_name": "StyleView",
            "description_width": ""
          }
        },
        "29d4088ea7424946bb3fc5643a177ffa": {
          "model_module": "@jupyter-widgets/controls",
          "model_name": "HBoxModel",
          "model_module_version": "1.5.0",
          "state": {
            "_dom_classes": [],
            "_model_module": "@jupyter-widgets/controls",
            "_model_module_version": "1.5.0",
            "_model_name": "HBoxModel",
            "_view_count": null,
            "_view_module": "@jupyter-widgets/controls",
            "_view_module_version": "1.5.0",
            "_view_name": "HBoxView",
            "box_style": "",
            "children": [
              "IPY_MODEL_eccfff3890f14c689cafd3c79b2c47d4",
              "IPY_MODEL_c11a3a86768842658701ab631d0bd8f5",
              "IPY_MODEL_4a7aac9ca0e34d35a93ca8066e95fc61"
            ],
            "layout": "IPY_MODEL_2ede4f9e654c408dad770700bf3490ff"
          }
        },
        "eccfff3890f14c689cafd3c79b2c47d4": {
          "model_module": "@jupyter-widgets/controls",
          "model_name": "HTMLModel",
          "model_module_version": "1.5.0",
          "state": {
            "_dom_classes": [],
            "_model_module": "@jupyter-widgets/controls",
            "_model_module_version": "1.5.0",
            "_model_name": "HTMLModel",
            "_view_count": null,
            "_view_module": "@jupyter-widgets/controls",
            "_view_module_version": "1.5.0",
            "_view_name": "HTMLView",
            "description": "",
            "description_tooltip": null,
            "layout": "IPY_MODEL_ab1efbdcb06d41d09b08cba9c4224753",
            "placeholder": "​",
            "style": "IPY_MODEL_b99021912e914fc49708e66bd0ae919f",
            "value": "Generating train split: "
          }
        },
        "c11a3a86768842658701ab631d0bd8f5": {
          "model_module": "@jupyter-widgets/controls",
          "model_name": "FloatProgressModel",
          "model_module_version": "1.5.0",
          "state": {
            "_dom_classes": [],
            "_model_module": "@jupyter-widgets/controls",
            "_model_module_version": "1.5.0",
            "_model_name": "FloatProgressModel",
            "_view_count": null,
            "_view_module": "@jupyter-widgets/controls",
            "_view_module_version": "1.5.0",
            "_view_name": "ProgressView",
            "bar_style": "success",
            "description": "",
            "description_tooltip": null,
            "layout": "IPY_MODEL_1e3d6107264344a19761a491325f1b08",
            "max": 1,
            "min": 0,
            "orientation": "horizontal",
            "style": "IPY_MODEL_7725d7734fa349179de4f3a5fbc7ee1f",
            "value": 1
          }
        },
        "4a7aac9ca0e34d35a93ca8066e95fc61": {
          "model_module": "@jupyter-widgets/controls",
          "model_name": "HTMLModel",
          "model_module_version": "1.5.0",
          "state": {
            "_dom_classes": [],
            "_model_module": "@jupyter-widgets/controls",
            "_model_module_version": "1.5.0",
            "_model_name": "HTMLModel",
            "_view_count": null,
            "_view_module": "@jupyter-widgets/controls",
            "_view_module_version": "1.5.0",
            "_view_name": "HTMLView",
            "description": "",
            "description_tooltip": null,
            "layout": "IPY_MODEL_4e17e1d3f35148b481f21e71f0009498",
            "placeholder": "​",
            "style": "IPY_MODEL_592db0c7e85547388021da0a58fddb7c",
            "value": " 1000/0 [00:01&lt;00:00, 552.33 examples/s]"
          }
        },
        "2ede4f9e654c408dad770700bf3490ff": {
          "model_module": "@jupyter-widgets/base",
          "model_name": "LayoutModel",
          "model_module_version": "1.2.0",
          "state": {
            "_model_module": "@jupyter-widgets/base",
            "_model_module_version": "1.2.0",
            "_model_name": "LayoutModel",
            "_view_count": null,
            "_view_module": "@jupyter-widgets/base",
            "_view_module_version": "1.2.0",
            "_view_name": "LayoutView",
            "align_content": null,
            "align_items": null,
            "align_self": null,
            "border": null,
            "bottom": null,
            "display": null,
            "flex": null,
            "flex_flow": null,
            "grid_area": null,
            "grid_auto_columns": null,
            "grid_auto_flow": null,
            "grid_auto_rows": null,
            "grid_column": null,
            "grid_gap": null,
            "grid_row": null,
            "grid_template_areas": null,
            "grid_template_columns": null,
            "grid_template_rows": null,
            "height": null,
            "justify_content": null,
            "justify_items": null,
            "left": null,
            "margin": null,
            "max_height": null,
            "max_width": null,
            "min_height": null,
            "min_width": null,
            "object_fit": null,
            "object_position": null,
            "order": null,
            "overflow": null,
            "overflow_x": null,
            "overflow_y": null,
            "padding": null,
            "right": null,
            "top": null,
            "visibility": null,
            "width": null
          }
        },
        "ab1efbdcb06d41d09b08cba9c4224753": {
          "model_module": "@jupyter-widgets/base",
          "model_name": "LayoutModel",
          "model_module_version": "1.2.0",
          "state": {
            "_model_module": "@jupyter-widgets/base",
            "_model_module_version": "1.2.0",
            "_model_name": "LayoutModel",
            "_view_count": null,
            "_view_module": "@jupyter-widgets/base",
            "_view_module_version": "1.2.0",
            "_view_name": "LayoutView",
            "align_content": null,
            "align_items": null,
            "align_self": null,
            "border": null,
            "bottom": null,
            "display": null,
            "flex": null,
            "flex_flow": null,
            "grid_area": null,
            "grid_auto_columns": null,
            "grid_auto_flow": null,
            "grid_auto_rows": null,
            "grid_column": null,
            "grid_gap": null,
            "grid_row": null,
            "grid_template_areas": null,
            "grid_template_columns": null,
            "grid_template_rows": null,
            "height": null,
            "justify_content": null,
            "justify_items": null,
            "left": null,
            "margin": null,
            "max_height": null,
            "max_width": null,
            "min_height": null,
            "min_width": null,
            "object_fit": null,
            "object_position": null,
            "order": null,
            "overflow": null,
            "overflow_x": null,
            "overflow_y": null,
            "padding": null,
            "right": null,
            "top": null,
            "visibility": null,
            "width": null
          }
        },
        "b99021912e914fc49708e66bd0ae919f": {
          "model_module": "@jupyter-widgets/controls",
          "model_name": "DescriptionStyleModel",
          "model_module_version": "1.5.0",
          "state": {
            "_model_module": "@jupyter-widgets/controls",
            "_model_module_version": "1.5.0",
            "_model_name": "DescriptionStyleModel",
            "_view_count": null,
            "_view_module": "@jupyter-widgets/base",
            "_view_module_version": "1.2.0",
            "_view_name": "StyleView",
            "description_width": ""
          }
        },
        "1e3d6107264344a19761a491325f1b08": {
          "model_module": "@jupyter-widgets/base",
          "model_name": "LayoutModel",
          "model_module_version": "1.2.0",
          "state": {
            "_model_module": "@jupyter-widgets/base",
            "_model_module_version": "1.2.0",
            "_model_name": "LayoutModel",
            "_view_count": null,
            "_view_module": "@jupyter-widgets/base",
            "_view_module_version": "1.2.0",
            "_view_name": "LayoutView",
            "align_content": null,
            "align_items": null,
            "align_self": null,
            "border": null,
            "bottom": null,
            "display": null,
            "flex": null,
            "flex_flow": null,
            "grid_area": null,
            "grid_auto_columns": null,
            "grid_auto_flow": null,
            "grid_auto_rows": null,
            "grid_column": null,
            "grid_gap": null,
            "grid_row": null,
            "grid_template_areas": null,
            "grid_template_columns": null,
            "grid_template_rows": null,
            "height": null,
            "justify_content": null,
            "justify_items": null,
            "left": null,
            "margin": null,
            "max_height": null,
            "max_width": null,
            "min_height": null,
            "min_width": null,
            "object_fit": null,
            "object_position": null,
            "order": null,
            "overflow": null,
            "overflow_x": null,
            "overflow_y": null,
            "padding": null,
            "right": null,
            "top": null,
            "visibility": null,
            "width": "20px"
          }
        },
        "7725d7734fa349179de4f3a5fbc7ee1f": {
          "model_module": "@jupyter-widgets/controls",
          "model_name": "ProgressStyleModel",
          "model_module_version": "1.5.0",
          "state": {
            "_model_module": "@jupyter-widgets/controls",
            "_model_module_version": "1.5.0",
            "_model_name": "ProgressStyleModel",
            "_view_count": null,
            "_view_module": "@jupyter-widgets/base",
            "_view_module_version": "1.2.0",
            "_view_name": "StyleView",
            "bar_color": null,
            "description_width": ""
          }
        },
        "4e17e1d3f35148b481f21e71f0009498": {
          "model_module": "@jupyter-widgets/base",
          "model_name": "LayoutModel",
          "model_module_version": "1.2.0",
          "state": {
            "_model_module": "@jupyter-widgets/base",
            "_model_module_version": "1.2.0",
            "_model_name": "LayoutModel",
            "_view_count": null,
            "_view_module": "@jupyter-widgets/base",
            "_view_module_version": "1.2.0",
            "_view_name": "LayoutView",
            "align_content": null,
            "align_items": null,
            "align_self": null,
            "border": null,
            "bottom": null,
            "display": null,
            "flex": null,
            "flex_flow": null,
            "grid_area": null,
            "grid_auto_columns": null,
            "grid_auto_flow": null,
            "grid_auto_rows": null,
            "grid_column": null,
            "grid_gap": null,
            "grid_row": null,
            "grid_template_areas": null,
            "grid_template_columns": null,
            "grid_template_rows": null,
            "height": null,
            "justify_content": null,
            "justify_items": null,
            "left": null,
            "margin": null,
            "max_height": null,
            "max_width": null,
            "min_height": null,
            "min_width": null,
            "object_fit": null,
            "object_position": null,
            "order": null,
            "overflow": null,
            "overflow_x": null,
            "overflow_y": null,
            "padding": null,
            "right": null,
            "top": null,
            "visibility": null,
            "width": null
          }
        },
        "592db0c7e85547388021da0a58fddb7c": {
          "model_module": "@jupyter-widgets/controls",
          "model_name": "DescriptionStyleModel",
          "model_module_version": "1.5.0",
          "state": {
            "_model_module": "@jupyter-widgets/controls",
            "_model_module_version": "1.5.0",
            "_model_name": "DescriptionStyleModel",
            "_view_count": null,
            "_view_module": "@jupyter-widgets/base",
            "_view_module_version": "1.2.0",
            "_view_name": "StyleView",
            "description_width": ""
          }
        },
        "7c6ccd1403014639bb5a81ab31173c5b": {
          "model_module": "@jupyter-widgets/controls",
          "model_name": "HBoxModel",
          "model_module_version": "1.5.0",
          "state": {
            "_dom_classes": [],
            "_model_module": "@jupyter-widgets/controls",
            "_model_module_version": "1.5.0",
            "_model_name": "HBoxModel",
            "_view_count": null,
            "_view_module": "@jupyter-widgets/controls",
            "_view_module_version": "1.5.0",
            "_view_name": "HBoxView",
            "box_style": "",
            "children": [
              "IPY_MODEL_9e41d22088814fd5bf00bfdc6b2de630",
              "IPY_MODEL_0789639b8596460db4a77c35f125048f",
              "IPY_MODEL_5ef41f58b8534db8b463f42531bc91c8"
            ],
            "layout": "IPY_MODEL_804e9a48c5d14723a254cc12ccd9fb02"
          }
        },
        "9e41d22088814fd5bf00bfdc6b2de630": {
          "model_module": "@jupyter-widgets/controls",
          "model_name": "HTMLModel",
          "model_module_version": "1.5.0",
          "state": {
            "_dom_classes": [],
            "_model_module": "@jupyter-widgets/controls",
            "_model_module_version": "1.5.0",
            "_model_name": "HTMLModel",
            "_view_count": null,
            "_view_module": "@jupyter-widgets/controls",
            "_view_module_version": "1.5.0",
            "_view_name": "HTMLView",
            "description": "",
            "description_tooltip": null,
            "layout": "IPY_MODEL_f204e20026764a479feb0dcbdd964744",
            "placeholder": "​",
            "style": "IPY_MODEL_025758d5d8364aef8c46728c60964a89",
            "value": "Downloading builder script: 100%"
          }
        },
        "0789639b8596460db4a77c35f125048f": {
          "model_module": "@jupyter-widgets/controls",
          "model_name": "FloatProgressModel",
          "model_module_version": "1.5.0",
          "state": {
            "_dom_classes": [],
            "_model_module": "@jupyter-widgets/controls",
            "_model_module_version": "1.5.0",
            "_model_name": "FloatProgressModel",
            "_view_count": null,
            "_view_module": "@jupyter-widgets/controls",
            "_view_module_version": "1.5.0",
            "_view_name": "ProgressView",
            "bar_style": "success",
            "description": "",
            "description_tooltip": null,
            "layout": "IPY_MODEL_9e6f880b3d1344aa8e8f4b926a8e12f6",
            "max": 5669,
            "min": 0,
            "orientation": "horizontal",
            "style": "IPY_MODEL_9914274ad8df4b1fa5f314310852d435",
            "value": 5669
          }
        },
        "5ef41f58b8534db8b463f42531bc91c8": {
          "model_module": "@jupyter-widgets/controls",
          "model_name": "HTMLModel",
          "model_module_version": "1.5.0",
          "state": {
            "_dom_classes": [],
            "_model_module": "@jupyter-widgets/controls",
            "_model_module_version": "1.5.0",
            "_model_name": "HTMLModel",
            "_view_count": null,
            "_view_module": "@jupyter-widgets/controls",
            "_view_module_version": "1.5.0",
            "_view_name": "HTMLView",
            "description": "",
            "description_tooltip": null,
            "layout": "IPY_MODEL_e08a6504c9ed42f2a7a07ab4e5d58fe2",
            "placeholder": "​",
            "style": "IPY_MODEL_9958707fb2d24df19a9339a2ab8f611d",
            "value": " 5.67k/5.67k [00:00&lt;00:00, 382kB/s]"
          }
        },
        "804e9a48c5d14723a254cc12ccd9fb02": {
          "model_module": "@jupyter-widgets/base",
          "model_name": "LayoutModel",
          "model_module_version": "1.2.0",
          "state": {
            "_model_module": "@jupyter-widgets/base",
            "_model_module_version": "1.2.0",
            "_model_name": "LayoutModel",
            "_view_count": null,
            "_view_module": "@jupyter-widgets/base",
            "_view_module_version": "1.2.0",
            "_view_name": "LayoutView",
            "align_content": null,
            "align_items": null,
            "align_self": null,
            "border": null,
            "bottom": null,
            "display": null,
            "flex": null,
            "flex_flow": null,
            "grid_area": null,
            "grid_auto_columns": null,
            "grid_auto_flow": null,
            "grid_auto_rows": null,
            "grid_column": null,
            "grid_gap": null,
            "grid_row": null,
            "grid_template_areas": null,
            "grid_template_columns": null,
            "grid_template_rows": null,
            "height": null,
            "justify_content": null,
            "justify_items": null,
            "left": null,
            "margin": null,
            "max_height": null,
            "max_width": null,
            "min_height": null,
            "min_width": null,
            "object_fit": null,
            "object_position": null,
            "order": null,
            "overflow": null,
            "overflow_x": null,
            "overflow_y": null,
            "padding": null,
            "right": null,
            "top": null,
            "visibility": null,
            "width": null
          }
        },
        "f204e20026764a479feb0dcbdd964744": {
          "model_module": "@jupyter-widgets/base",
          "model_name": "LayoutModel",
          "model_module_version": "1.2.0",
          "state": {
            "_model_module": "@jupyter-widgets/base",
            "_model_module_version": "1.2.0",
            "_model_name": "LayoutModel",
            "_view_count": null,
            "_view_module": "@jupyter-widgets/base",
            "_view_module_version": "1.2.0",
            "_view_name": "LayoutView",
            "align_content": null,
            "align_items": null,
            "align_self": null,
            "border": null,
            "bottom": null,
            "display": null,
            "flex": null,
            "flex_flow": null,
            "grid_area": null,
            "grid_auto_columns": null,
            "grid_auto_flow": null,
            "grid_auto_rows": null,
            "grid_column": null,
            "grid_gap": null,
            "grid_row": null,
            "grid_template_areas": null,
            "grid_template_columns": null,
            "grid_template_rows": null,
            "height": null,
            "justify_content": null,
            "justify_items": null,
            "left": null,
            "margin": null,
            "max_height": null,
            "max_width": null,
            "min_height": null,
            "min_width": null,
            "object_fit": null,
            "object_position": null,
            "order": null,
            "overflow": null,
            "overflow_x": null,
            "overflow_y": null,
            "padding": null,
            "right": null,
            "top": null,
            "visibility": null,
            "width": null
          }
        },
        "025758d5d8364aef8c46728c60964a89": {
          "model_module": "@jupyter-widgets/controls",
          "model_name": "DescriptionStyleModel",
          "model_module_version": "1.5.0",
          "state": {
            "_model_module": "@jupyter-widgets/controls",
            "_model_module_version": "1.5.0",
            "_model_name": "DescriptionStyleModel",
            "_view_count": null,
            "_view_module": "@jupyter-widgets/base",
            "_view_module_version": "1.2.0",
            "_view_name": "StyleView",
            "description_width": ""
          }
        },
        "9e6f880b3d1344aa8e8f4b926a8e12f6": {
          "model_module": "@jupyter-widgets/base",
          "model_name": "LayoutModel",
          "model_module_version": "1.2.0",
          "state": {
            "_model_module": "@jupyter-widgets/base",
            "_model_module_version": "1.2.0",
            "_model_name": "LayoutModel",
            "_view_count": null,
            "_view_module": "@jupyter-widgets/base",
            "_view_module_version": "1.2.0",
            "_view_name": "LayoutView",
            "align_content": null,
            "align_items": null,
            "align_self": null,
            "border": null,
            "bottom": null,
            "display": null,
            "flex": null,
            "flex_flow": null,
            "grid_area": null,
            "grid_auto_columns": null,
            "grid_auto_flow": null,
            "grid_auto_rows": null,
            "grid_column": null,
            "grid_gap": null,
            "grid_row": null,
            "grid_template_areas": null,
            "grid_template_columns": null,
            "grid_template_rows": null,
            "height": null,
            "justify_content": null,
            "justify_items": null,
            "left": null,
            "margin": null,
            "max_height": null,
            "max_width": null,
            "min_height": null,
            "min_width": null,
            "object_fit": null,
            "object_position": null,
            "order": null,
            "overflow": null,
            "overflow_x": null,
            "overflow_y": null,
            "padding": null,
            "right": null,
            "top": null,
            "visibility": null,
            "width": null
          }
        },
        "9914274ad8df4b1fa5f314310852d435": {
          "model_module": "@jupyter-widgets/controls",
          "model_name": "ProgressStyleModel",
          "model_module_version": "1.5.0",
          "state": {
            "_model_module": "@jupyter-widgets/controls",
            "_model_module_version": "1.5.0",
            "_model_name": "ProgressStyleModel",
            "_view_count": null,
            "_view_module": "@jupyter-widgets/base",
            "_view_module_version": "1.2.0",
            "_view_name": "StyleView",
            "bar_color": null,
            "description_width": ""
          }
        },
        "e08a6504c9ed42f2a7a07ab4e5d58fe2": {
          "model_module": "@jupyter-widgets/base",
          "model_name": "LayoutModel",
          "model_module_version": "1.2.0",
          "state": {
            "_model_module": "@jupyter-widgets/base",
            "_model_module_version": "1.2.0",
            "_model_name": "LayoutModel",
            "_view_count": null,
            "_view_module": "@jupyter-widgets/base",
            "_view_module_version": "1.2.0",
            "_view_name": "LayoutView",
            "align_content": null,
            "align_items": null,
            "align_self": null,
            "border": null,
            "bottom": null,
            "display": null,
            "flex": null,
            "flex_flow": null,
            "grid_area": null,
            "grid_auto_columns": null,
            "grid_auto_flow": null,
            "grid_auto_rows": null,
            "grid_column": null,
            "grid_gap": null,
            "grid_row": null,
            "grid_template_areas": null,
            "grid_template_columns": null,
            "grid_template_rows": null,
            "height": null,
            "justify_content": null,
            "justify_items": null,
            "left": null,
            "margin": null,
            "max_height": null,
            "max_width": null,
            "min_height": null,
            "min_width": null,
            "object_fit": null,
            "object_position": null,
            "order": null,
            "overflow": null,
            "overflow_x": null,
            "overflow_y": null,
            "padding": null,
            "right": null,
            "top": null,
            "visibility": null,
            "width": null
          }
        },
        "9958707fb2d24df19a9339a2ab8f611d": {
          "model_module": "@jupyter-widgets/controls",
          "model_name": "DescriptionStyleModel",
          "model_module_version": "1.5.0",
          "state": {
            "_model_module": "@jupyter-widgets/controls",
            "_model_module_version": "1.5.0",
            "_model_name": "DescriptionStyleModel",
            "_view_count": null,
            "_view_module": "@jupyter-widgets/base",
            "_view_module_version": "1.2.0",
            "_view_name": "StyleView",
            "description_width": ""
          }
        },
        "a375833ed8c94bc886eb971672056894": {
          "model_module": "@jupyter-widgets/controls",
          "model_name": "HBoxModel",
          "model_module_version": "1.5.0",
          "state": {
            "_dom_classes": [],
            "_model_module": "@jupyter-widgets/controls",
            "_model_module_version": "1.5.0",
            "_model_name": "HBoxModel",
            "_view_count": null,
            "_view_module": "@jupyter-widgets/controls",
            "_view_module_version": "1.5.0",
            "_view_name": "HBoxView",
            "box_style": "",
            "children": [
              "IPY_MODEL_5c188412fd054ec1a05b4950544d04bc",
              "IPY_MODEL_b69372816c144c5cb7413d0fb1dc09b6",
              "IPY_MODEL_7bae499fe56f40e3a95e6923f416eeb6"
            ],
            "layout": "IPY_MODEL_81b3ed8591e84a729defaab5f90d2bf7"
          }
        },
        "5c188412fd054ec1a05b4950544d04bc": {
          "model_module": "@jupyter-widgets/controls",
          "model_name": "HTMLModel",
          "model_module_version": "1.5.0",
          "state": {
            "_dom_classes": [],
            "_model_module": "@jupyter-widgets/controls",
            "_model_module_version": "1.5.0",
            "_model_name": "HTMLModel",
            "_view_count": null,
            "_view_module": "@jupyter-widgets/controls",
            "_view_module_version": "1.5.0",
            "_view_name": "HTMLView",
            "description": "",
            "description_tooltip": null,
            "layout": "IPY_MODEL_4e5642057b114535b48ace96003dde4e",
            "placeholder": "​",
            "style": "IPY_MODEL_fde87ab81e744e179818580ef0e1874e",
            "value": "Downloading builder script: 100%"
          }
        },
        "b69372816c144c5cb7413d0fb1dc09b6": {
          "model_module": "@jupyter-widgets/controls",
          "model_name": "FloatProgressModel",
          "model_module_version": "1.5.0",
          "state": {
            "_dom_classes": [],
            "_model_module": "@jupyter-widgets/controls",
            "_model_module_version": "1.5.0",
            "_model_name": "FloatProgressModel",
            "_view_count": null,
            "_view_module": "@jupyter-widgets/controls",
            "_view_module_version": "1.5.0",
            "_view_name": "ProgressView",
            "bar_style": "success",
            "description": "",
            "description_tooltip": null,
            "layout": "IPY_MODEL_63ba0d7a6556493ea3ab5b93914e0a2a",
            "max": 6270,
            "min": 0,
            "orientation": "horizontal",
            "style": "IPY_MODEL_cb7bff45da3c46dfba5812d1f8fcfd1c",
            "value": 6270
          }
        },
        "7bae499fe56f40e3a95e6923f416eeb6": {
          "model_module": "@jupyter-widgets/controls",
          "model_name": "HTMLModel",
          "model_module_version": "1.5.0",
          "state": {
            "_dom_classes": [],
            "_model_module": "@jupyter-widgets/controls",
            "_model_module_version": "1.5.0",
            "_model_name": "HTMLModel",
            "_view_count": null,
            "_view_module": "@jupyter-widgets/controls",
            "_view_module_version": "1.5.0",
            "_view_name": "HTMLView",
            "description": "",
            "description_tooltip": null,
            "layout": "IPY_MODEL_0bcbb07946c84c86bdcc56e89f91d19d",
            "placeholder": "​",
            "style": "IPY_MODEL_c52b65d800ab48f69eba5f5ac4559c12",
            "value": " 6.27k/6.27k [00:00&lt;00:00, 384kB/s]"
          }
        },
        "81b3ed8591e84a729defaab5f90d2bf7": {
          "model_module": "@jupyter-widgets/base",
          "model_name": "LayoutModel",
          "model_module_version": "1.2.0",
          "state": {
            "_model_module": "@jupyter-widgets/base",
            "_model_module_version": "1.2.0",
            "_model_name": "LayoutModel",
            "_view_count": null,
            "_view_module": "@jupyter-widgets/base",
            "_view_module_version": "1.2.0",
            "_view_name": "LayoutView",
            "align_content": null,
            "align_items": null,
            "align_self": null,
            "border": null,
            "bottom": null,
            "display": null,
            "flex": null,
            "flex_flow": null,
            "grid_area": null,
            "grid_auto_columns": null,
            "grid_auto_flow": null,
            "grid_auto_rows": null,
            "grid_column": null,
            "grid_gap": null,
            "grid_row": null,
            "grid_template_areas": null,
            "grid_template_columns": null,
            "grid_template_rows": null,
            "height": null,
            "justify_content": null,
            "justify_items": null,
            "left": null,
            "margin": null,
            "max_height": null,
            "max_width": null,
            "min_height": null,
            "min_width": null,
            "object_fit": null,
            "object_position": null,
            "order": null,
            "overflow": null,
            "overflow_x": null,
            "overflow_y": null,
            "padding": null,
            "right": null,
            "top": null,
            "visibility": null,
            "width": null
          }
        },
        "4e5642057b114535b48ace96003dde4e": {
          "model_module": "@jupyter-widgets/base",
          "model_name": "LayoutModel",
          "model_module_version": "1.2.0",
          "state": {
            "_model_module": "@jupyter-widgets/base",
            "_model_module_version": "1.2.0",
            "_model_name": "LayoutModel",
            "_view_count": null,
            "_view_module": "@jupyter-widgets/base",
            "_view_module_version": "1.2.0",
            "_view_name": "LayoutView",
            "align_content": null,
            "align_items": null,
            "align_self": null,
            "border": null,
            "bottom": null,
            "display": null,
            "flex": null,
            "flex_flow": null,
            "grid_area": null,
            "grid_auto_columns": null,
            "grid_auto_flow": null,
            "grid_auto_rows": null,
            "grid_column": null,
            "grid_gap": null,
            "grid_row": null,
            "grid_template_areas": null,
            "grid_template_columns": null,
            "grid_template_rows": null,
            "height": null,
            "justify_content": null,
            "justify_items": null,
            "left": null,
            "margin": null,
            "max_height": null,
            "max_width": null,
            "min_height": null,
            "min_width": null,
            "object_fit": null,
            "object_position": null,
            "order": null,
            "overflow": null,
            "overflow_x": null,
            "overflow_y": null,
            "padding": null,
            "right": null,
            "top": null,
            "visibility": null,
            "width": null
          }
        },
        "fde87ab81e744e179818580ef0e1874e": {
          "model_module": "@jupyter-widgets/controls",
          "model_name": "DescriptionStyleModel",
          "model_module_version": "1.5.0",
          "state": {
            "_model_module": "@jupyter-widgets/controls",
            "_model_module_version": "1.5.0",
            "_model_name": "DescriptionStyleModel",
            "_view_count": null,
            "_view_module": "@jupyter-widgets/base",
            "_view_module_version": "1.2.0",
            "_view_name": "StyleView",
            "description_width": ""
          }
        },
        "63ba0d7a6556493ea3ab5b93914e0a2a": {
          "model_module": "@jupyter-widgets/base",
          "model_name": "LayoutModel",
          "model_module_version": "1.2.0",
          "state": {
            "_model_module": "@jupyter-widgets/base",
            "_model_module_version": "1.2.0",
            "_model_name": "LayoutModel",
            "_view_count": null,
            "_view_module": "@jupyter-widgets/base",
            "_view_module_version": "1.2.0",
            "_view_name": "LayoutView",
            "align_content": null,
            "align_items": null,
            "align_self": null,
            "border": null,
            "bottom": null,
            "display": null,
            "flex": null,
            "flex_flow": null,
            "grid_area": null,
            "grid_auto_columns": null,
            "grid_auto_flow": null,
            "grid_auto_rows": null,
            "grid_column": null,
            "grid_gap": null,
            "grid_row": null,
            "grid_template_areas": null,
            "grid_template_columns": null,
            "grid_template_rows": null,
            "height": null,
            "justify_content": null,
            "justify_items": null,
            "left": null,
            "margin": null,
            "max_height": null,
            "max_width": null,
            "min_height": null,
            "min_width": null,
            "object_fit": null,
            "object_position": null,
            "order": null,
            "overflow": null,
            "overflow_x": null,
            "overflow_y": null,
            "padding": null,
            "right": null,
            "top": null,
            "visibility": null,
            "width": null
          }
        },
        "cb7bff45da3c46dfba5812d1f8fcfd1c": {
          "model_module": "@jupyter-widgets/controls",
          "model_name": "ProgressStyleModel",
          "model_module_version": "1.5.0",
          "state": {
            "_model_module": "@jupyter-widgets/controls",
            "_model_module_version": "1.5.0",
            "_model_name": "ProgressStyleModel",
            "_view_count": null,
            "_view_module": "@jupyter-widgets/base",
            "_view_module_version": "1.2.0",
            "_view_name": "StyleView",
            "bar_color": null,
            "description_width": ""
          }
        },
        "0bcbb07946c84c86bdcc56e89f91d19d": {
          "model_module": "@jupyter-widgets/base",
          "model_name": "LayoutModel",
          "model_module_version": "1.2.0",
          "state": {
            "_model_module": "@jupyter-widgets/base",
            "_model_module_version": "1.2.0",
            "_model_name": "LayoutModel",
            "_view_count": null,
            "_view_module": "@jupyter-widgets/base",
            "_view_module_version": "1.2.0",
            "_view_name": "LayoutView",
            "align_content": null,
            "align_items": null,
            "align_self": null,
            "border": null,
            "bottom": null,
            "display": null,
            "flex": null,
            "flex_flow": null,
            "grid_area": null,
            "grid_auto_columns": null,
            "grid_auto_flow": null,
            "grid_auto_rows": null,
            "grid_column": null,
            "grid_gap": null,
            "grid_row": null,
            "grid_template_areas": null,
            "grid_template_columns": null,
            "grid_template_rows": null,
            "height": null,
            "justify_content": null,
            "justify_items": null,
            "left": null,
            "margin": null,
            "max_height": null,
            "max_width": null,
            "min_height": null,
            "min_width": null,
            "object_fit": null,
            "object_position": null,
            "order": null,
            "overflow": null,
            "overflow_x": null,
            "overflow_y": null,
            "padding": null,
            "right": null,
            "top": null,
            "visibility": null,
            "width": null
          }
        },
        "c52b65d800ab48f69eba5f5ac4559c12": {
          "model_module": "@jupyter-widgets/controls",
          "model_name": "DescriptionStyleModel",
          "model_module_version": "1.5.0",
          "state": {
            "_model_module": "@jupyter-widgets/controls",
            "_model_module_version": "1.5.0",
            "_model_name": "DescriptionStyleModel",
            "_view_count": null,
            "_view_module": "@jupyter-widgets/base",
            "_view_module_version": "1.2.0",
            "_view_name": "StyleView",
            "description_width": ""
          }
        },
        "56f471d05d46461ea53a380042eefa44": {
          "model_module": "@jupyter-widgets/controls",
          "model_name": "HBoxModel",
          "model_module_version": "1.5.0",
          "state": {
            "_dom_classes": [],
            "_model_module": "@jupyter-widgets/controls",
            "_model_module_version": "1.5.0",
            "_model_name": "HBoxModel",
            "_view_count": null,
            "_view_module": "@jupyter-widgets/controls",
            "_view_module_version": "1.5.0",
            "_view_name": "HBoxView",
            "box_style": "",
            "children": [
              "IPY_MODEL_fb3a31ed91ad490ea5d96412b52ac300",
              "IPY_MODEL_b52f827f69674c119eb3f54d02abe531",
              "IPY_MODEL_9348e80c438540cf8ce2806a1a371ea9"
            ],
            "layout": "IPY_MODEL_f51059e118d04e0e9a60621c796ba48a"
          }
        },
        "fb3a31ed91ad490ea5d96412b52ac300": {
          "model_module": "@jupyter-widgets/controls",
          "model_name": "HTMLModel",
          "model_module_version": "1.5.0",
          "state": {
            "_dom_classes": [],
            "_model_module": "@jupyter-widgets/controls",
            "_model_module_version": "1.5.0",
            "_model_name": "HTMLModel",
            "_view_count": null,
            "_view_module": "@jupyter-widgets/controls",
            "_view_module_version": "1.5.0",
            "_view_name": "HTMLView",
            "description": "",
            "description_tooltip": null,
            "layout": "IPY_MODEL_fa779634d77443b8a461b8dccf2b00e6",
            "placeholder": "​",
            "style": "IPY_MODEL_a77635a56617457b96f818185a66e86f",
            "value": "Generating train split: "
          }
        },
        "b52f827f69674c119eb3f54d02abe531": {
          "model_module": "@jupyter-widgets/controls",
          "model_name": "FloatProgressModel",
          "model_module_version": "1.5.0",
          "state": {
            "_dom_classes": [],
            "_model_module": "@jupyter-widgets/controls",
            "_model_module_version": "1.5.0",
            "_model_name": "FloatProgressModel",
            "_view_count": null,
            "_view_module": "@jupyter-widgets/controls",
            "_view_module_version": "1.5.0",
            "_view_name": "ProgressView",
            "bar_style": "success",
            "description": "",
            "description_tooltip": null,
            "layout": "IPY_MODEL_70806060d6a440c3a65f47b52575759c",
            "max": 1,
            "min": 0,
            "orientation": "horizontal",
            "style": "IPY_MODEL_754ceceb386848958c9fa695008c223d",
            "value": 1
          }
        },
        "9348e80c438540cf8ce2806a1a371ea9": {
          "model_module": "@jupyter-widgets/controls",
          "model_name": "HTMLModel",
          "model_module_version": "1.5.0",
          "state": {
            "_dom_classes": [],
            "_model_module": "@jupyter-widgets/controls",
            "_model_module_version": "1.5.0",
            "_model_name": "HTMLModel",
            "_view_count": null,
            "_view_module": "@jupyter-widgets/controls",
            "_view_module_version": "1.5.0",
            "_view_name": "HTMLView",
            "description": "",
            "description_tooltip": null,
            "layout": "IPY_MODEL_a8a307646aed44ca81c9ad7609304bae",
            "placeholder": "​",
            "style": "IPY_MODEL_f4bf1d027d0a491495d1752f3acfe41b",
            "value": " 1000/0 [00:03&lt;00:00, 292.17 examples/s]"
          }
        },
        "f51059e118d04e0e9a60621c796ba48a": {
          "model_module": "@jupyter-widgets/base",
          "model_name": "LayoutModel",
          "model_module_version": "1.2.0",
          "state": {
            "_model_module": "@jupyter-widgets/base",
            "_model_module_version": "1.2.0",
            "_model_name": "LayoutModel",
            "_view_count": null,
            "_view_module": "@jupyter-widgets/base",
            "_view_module_version": "1.2.0",
            "_view_name": "LayoutView",
            "align_content": null,
            "align_items": null,
            "align_self": null,
            "border": null,
            "bottom": null,
            "display": null,
            "flex": null,
            "flex_flow": null,
            "grid_area": null,
            "grid_auto_columns": null,
            "grid_auto_flow": null,
            "grid_auto_rows": null,
            "grid_column": null,
            "grid_gap": null,
            "grid_row": null,
            "grid_template_areas": null,
            "grid_template_columns": null,
            "grid_template_rows": null,
            "height": null,
            "justify_content": null,
            "justify_items": null,
            "left": null,
            "margin": null,
            "max_height": null,
            "max_width": null,
            "min_height": null,
            "min_width": null,
            "object_fit": null,
            "object_position": null,
            "order": null,
            "overflow": null,
            "overflow_x": null,
            "overflow_y": null,
            "padding": null,
            "right": null,
            "top": null,
            "visibility": null,
            "width": null
          }
        },
        "fa779634d77443b8a461b8dccf2b00e6": {
          "model_module": "@jupyter-widgets/base",
          "model_name": "LayoutModel",
          "model_module_version": "1.2.0",
          "state": {
            "_model_module": "@jupyter-widgets/base",
            "_model_module_version": "1.2.0",
            "_model_name": "LayoutModel",
            "_view_count": null,
            "_view_module": "@jupyter-widgets/base",
            "_view_module_version": "1.2.0",
            "_view_name": "LayoutView",
            "align_content": null,
            "align_items": null,
            "align_self": null,
            "border": null,
            "bottom": null,
            "display": null,
            "flex": null,
            "flex_flow": null,
            "grid_area": null,
            "grid_auto_columns": null,
            "grid_auto_flow": null,
            "grid_auto_rows": null,
            "grid_column": null,
            "grid_gap": null,
            "grid_row": null,
            "grid_template_areas": null,
            "grid_template_columns": null,
            "grid_template_rows": null,
            "height": null,
            "justify_content": null,
            "justify_items": null,
            "left": null,
            "margin": null,
            "max_height": null,
            "max_width": null,
            "min_height": null,
            "min_width": null,
            "object_fit": null,
            "object_position": null,
            "order": null,
            "overflow": null,
            "overflow_x": null,
            "overflow_y": null,
            "padding": null,
            "right": null,
            "top": null,
            "visibility": null,
            "width": null
          }
        },
        "a77635a56617457b96f818185a66e86f": {
          "model_module": "@jupyter-widgets/controls",
          "model_name": "DescriptionStyleModel",
          "model_module_version": "1.5.0",
          "state": {
            "_model_module": "@jupyter-widgets/controls",
            "_model_module_version": "1.5.0",
            "_model_name": "DescriptionStyleModel",
            "_view_count": null,
            "_view_module": "@jupyter-widgets/base",
            "_view_module_version": "1.2.0",
            "_view_name": "StyleView",
            "description_width": ""
          }
        },
        "70806060d6a440c3a65f47b52575759c": {
          "model_module": "@jupyter-widgets/base",
          "model_name": "LayoutModel",
          "model_module_version": "1.2.0",
          "state": {
            "_model_module": "@jupyter-widgets/base",
            "_model_module_version": "1.2.0",
            "_model_name": "LayoutModel",
            "_view_count": null,
            "_view_module": "@jupyter-widgets/base",
            "_view_module_version": "1.2.0",
            "_view_name": "LayoutView",
            "align_content": null,
            "align_items": null,
            "align_self": null,
            "border": null,
            "bottom": null,
            "display": null,
            "flex": null,
            "flex_flow": null,
            "grid_area": null,
            "grid_auto_columns": null,
            "grid_auto_flow": null,
            "grid_auto_rows": null,
            "grid_column": null,
            "grid_gap": null,
            "grid_row": null,
            "grid_template_areas": null,
            "grid_template_columns": null,
            "grid_template_rows": null,
            "height": null,
            "justify_content": null,
            "justify_items": null,
            "left": null,
            "margin": null,
            "max_height": null,
            "max_width": null,
            "min_height": null,
            "min_width": null,
            "object_fit": null,
            "object_position": null,
            "order": null,
            "overflow": null,
            "overflow_x": null,
            "overflow_y": null,
            "padding": null,
            "right": null,
            "top": null,
            "visibility": null,
            "width": "20px"
          }
        },
        "754ceceb386848958c9fa695008c223d": {
          "model_module": "@jupyter-widgets/controls",
          "model_name": "ProgressStyleModel",
          "model_module_version": "1.5.0",
          "state": {
            "_model_module": "@jupyter-widgets/controls",
            "_model_module_version": "1.5.0",
            "_model_name": "ProgressStyleModel",
            "_view_count": null,
            "_view_module": "@jupyter-widgets/base",
            "_view_module_version": "1.2.0",
            "_view_name": "StyleView",
            "bar_color": null,
            "description_width": ""
          }
        },
        "a8a307646aed44ca81c9ad7609304bae": {
          "model_module": "@jupyter-widgets/base",
          "model_name": "LayoutModel",
          "model_module_version": "1.2.0",
          "state": {
            "_model_module": "@jupyter-widgets/base",
            "_model_module_version": "1.2.0",
            "_model_name": "LayoutModel",
            "_view_count": null,
            "_view_module": "@jupyter-widgets/base",
            "_view_module_version": "1.2.0",
            "_view_name": "LayoutView",
            "align_content": null,
            "align_items": null,
            "align_self": null,
            "border": null,
            "bottom": null,
            "display": null,
            "flex": null,
            "flex_flow": null,
            "grid_area": null,
            "grid_auto_columns": null,
            "grid_auto_flow": null,
            "grid_auto_rows": null,
            "grid_column": null,
            "grid_gap": null,
            "grid_row": null,
            "grid_template_areas": null,
            "grid_template_columns": null,
            "grid_template_rows": null,
            "height": null,
            "justify_content": null,
            "justify_items": null,
            "left": null,
            "margin": null,
            "max_height": null,
            "max_width": null,
            "min_height": null,
            "min_width": null,
            "object_fit": null,
            "object_position": null,
            "order": null,
            "overflow": null,
            "overflow_x": null,
            "overflow_y": null,
            "padding": null,
            "right": null,
            "top": null,
            "visibility": null,
            "width": null
          }
        },
        "f4bf1d027d0a491495d1752f3acfe41b": {
          "model_module": "@jupyter-widgets/controls",
          "model_name": "DescriptionStyleModel",
          "model_module_version": "1.5.0",
          "state": {
            "_model_module": "@jupyter-widgets/controls",
            "_model_module_version": "1.5.0",
            "_model_name": "DescriptionStyleModel",
            "_view_count": null,
            "_view_module": "@jupyter-widgets/base",
            "_view_module_version": "1.2.0",
            "_view_name": "StyleView",
            "description_width": ""
          }
        }
      }
    },
    "accelerator": "GPU"
  },
  "nbformat": 4,
  "nbformat_minor": 0
}