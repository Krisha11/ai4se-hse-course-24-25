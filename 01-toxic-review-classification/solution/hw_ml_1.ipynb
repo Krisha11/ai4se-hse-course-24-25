{
  "metadata": {
    "colab": {
      "provenance": [],
      "gpuType": "T4"
    },
    "kernelspec": {
      "name": "python3",
      "display_name": "Python 3",
      "language": "python"
    },
    "language_info": {
      "name": "python",
      "version": "3.10.14",
      "mimetype": "text/x-python",
      "codemirror_mode": {
        "name": "ipython",
        "version": 3
      },
      "pygments_lexer": "ipython3",
      "nbconvert_exporter": "python",
      "file_extension": ".py"
    },
    "accelerator": "GPU",
    "widgets": {
      "application/vnd.jupyter.widget-state+json": {
        "adbb94103cdf4151ad70baa5686baffe": {
          "model_module": "@jupyter-widgets/controls",
          "model_name": "HBoxModel",
          "model_module_version": "1.5.0",
          "state": {
            "_dom_classes": [],
            "_model_module": "@jupyter-widgets/controls",
            "_model_module_version": "1.5.0",
            "_model_name": "HBoxModel",
            "_view_count": null,
            "_view_module": "@jupyter-widgets/controls",
            "_view_module_version": "1.5.0",
            "_view_name": "HBoxView",
            "box_style": "",
            "children": [
              "IPY_MODEL_f02c4935d6de47e78aa3be47245381cb",
              "IPY_MODEL_3b532ef65b114c4dbbb82c13e513615c",
              "IPY_MODEL_365f246932ee496cad6ee18e31cc0c73"
            ],
            "layout": "IPY_MODEL_fcab6733e1b8449786293dc01373502b"
          }
        },
        "f02c4935d6de47e78aa3be47245381cb": {
          "model_module": "@jupyter-widgets/controls",
          "model_name": "HTMLModel",
          "model_module_version": "1.5.0",
          "state": {
            "_dom_classes": [],
            "_model_module": "@jupyter-widgets/controls",
            "_model_module_version": "1.5.0",
            "_model_name": "HTMLModel",
            "_view_count": null,
            "_view_module": "@jupyter-widgets/controls",
            "_view_module_version": "1.5.0",
            "_view_name": "HTMLView",
            "description": "",
            "description_tooltip": null,
            "layout": "IPY_MODEL_66ef0d3e5d0942759e9088a01811d588",
            "placeholder": "​",
            "style": "IPY_MODEL_c7be41e8afd241f9adbcc5b3ac1c63ca",
            "value": "Map: 100%"
          }
        },
        "3b532ef65b114c4dbbb82c13e513615c": {
          "model_module": "@jupyter-widgets/controls",
          "model_name": "FloatProgressModel",
          "model_module_version": "1.5.0",
          "state": {
            "_dom_classes": [],
            "_model_module": "@jupyter-widgets/controls",
            "_model_module_version": "1.5.0",
            "_model_name": "FloatProgressModel",
            "_view_count": null,
            "_view_module": "@jupyter-widgets/controls",
            "_view_module_version": "1.5.0",
            "_view_name": "ProgressView",
            "bar_style": "success",
            "description": "",
            "description_tooltip": null,
            "layout": "IPY_MODEL_01285c5314dd446d8585b4c840187649",
            "max": 7258,
            "min": 0,
            "orientation": "horizontal",
            "style": "IPY_MODEL_07083cbca00b4eb4916fdda6137733c6",
            "value": 7258
          }
        },
        "365f246932ee496cad6ee18e31cc0c73": {
          "model_module": "@jupyter-widgets/controls",
          "model_name": "HTMLModel",
          "model_module_version": "1.5.0",
          "state": {
            "_dom_classes": [],
            "_model_module": "@jupyter-widgets/controls",
            "_model_module_version": "1.5.0",
            "_model_name": "HTMLModel",
            "_view_count": null,
            "_view_module": "@jupyter-widgets/controls",
            "_view_module_version": "1.5.0",
            "_view_name": "HTMLView",
            "description": "",
            "description_tooltip": null,
            "layout": "IPY_MODEL_609430af98104ec982eadb84d6e5dabc",
            "placeholder": "​",
            "style": "IPY_MODEL_04e15ff028284c489b9e184db365c601",
            "value": " 7258/7258 [00:02&lt;00:00, 3251.03 examples/s]"
          }
        },
        "fcab6733e1b8449786293dc01373502b": {
          "model_module": "@jupyter-widgets/base",
          "model_name": "LayoutModel",
          "model_module_version": "1.2.0",
          "state": {
            "_model_module": "@jupyter-widgets/base",
            "_model_module_version": "1.2.0",
            "_model_name": "LayoutModel",
            "_view_count": null,
            "_view_module": "@jupyter-widgets/base",
            "_view_module_version": "1.2.0",
            "_view_name": "LayoutView",
            "align_content": null,
            "align_items": null,
            "align_self": null,
            "border": null,
            "bottom": null,
            "display": null,
            "flex": null,
            "flex_flow": null,
            "grid_area": null,
            "grid_auto_columns": null,
            "grid_auto_flow": null,
            "grid_auto_rows": null,
            "grid_column": null,
            "grid_gap": null,
            "grid_row": null,
            "grid_template_areas": null,
            "grid_template_columns": null,
            "grid_template_rows": null,
            "height": null,
            "justify_content": null,
            "justify_items": null,
            "left": null,
            "margin": null,
            "max_height": null,
            "max_width": null,
            "min_height": null,
            "min_width": null,
            "object_fit": null,
            "object_position": null,
            "order": null,
            "overflow": null,
            "overflow_x": null,
            "overflow_y": null,
            "padding": null,
            "right": null,
            "top": null,
            "visibility": null,
            "width": null
          }
        },
        "66ef0d3e5d0942759e9088a01811d588": {
          "model_module": "@jupyter-widgets/base",
          "model_name": "LayoutModel",
          "model_module_version": "1.2.0",
          "state": {
            "_model_module": "@jupyter-widgets/base",
            "_model_module_version": "1.2.0",
            "_model_name": "LayoutModel",
            "_view_count": null,
            "_view_module": "@jupyter-widgets/base",
            "_view_module_version": "1.2.0",
            "_view_name": "LayoutView",
            "align_content": null,
            "align_items": null,
            "align_self": null,
            "border": null,
            "bottom": null,
            "display": null,
            "flex": null,
            "flex_flow": null,
            "grid_area": null,
            "grid_auto_columns": null,
            "grid_auto_flow": null,
            "grid_auto_rows": null,
            "grid_column": null,
            "grid_gap": null,
            "grid_row": null,
            "grid_template_areas": null,
            "grid_template_columns": null,
            "grid_template_rows": null,
            "height": null,
            "justify_content": null,
            "justify_items": null,
            "left": null,
            "margin": null,
            "max_height": null,
            "max_width": null,
            "min_height": null,
            "min_width": null,
            "object_fit": null,
            "object_position": null,
            "order": null,
            "overflow": null,
            "overflow_x": null,
            "overflow_y": null,
            "padding": null,
            "right": null,
            "top": null,
            "visibility": null,
            "width": null
          }
        },
        "c7be41e8afd241f9adbcc5b3ac1c63ca": {
          "model_module": "@jupyter-widgets/controls",
          "model_name": "DescriptionStyleModel",
          "model_module_version": "1.5.0",
          "state": {
            "_model_module": "@jupyter-widgets/controls",
            "_model_module_version": "1.5.0",
            "_model_name": "DescriptionStyleModel",
            "_view_count": null,
            "_view_module": "@jupyter-widgets/base",
            "_view_module_version": "1.2.0",
            "_view_name": "StyleView",
            "description_width": ""
          }
        },
        "01285c5314dd446d8585b4c840187649": {
          "model_module": "@jupyter-widgets/base",
          "model_name": "LayoutModel",
          "model_module_version": "1.2.0",
          "state": {
            "_model_module": "@jupyter-widgets/base",
            "_model_module_version": "1.2.0",
            "_model_name": "LayoutModel",
            "_view_count": null,
            "_view_module": "@jupyter-widgets/base",
            "_view_module_version": "1.2.0",
            "_view_name": "LayoutView",
            "align_content": null,
            "align_items": null,
            "align_self": null,
            "border": null,
            "bottom": null,
            "display": null,
            "flex": null,
            "flex_flow": null,
            "grid_area": null,
            "grid_auto_columns": null,
            "grid_auto_flow": null,
            "grid_auto_rows": null,
            "grid_column": null,
            "grid_gap": null,
            "grid_row": null,
            "grid_template_areas": null,
            "grid_template_columns": null,
            "grid_template_rows": null,
            "height": null,
            "justify_content": null,
            "justify_items": null,
            "left": null,
            "margin": null,
            "max_height": null,
            "max_width": null,
            "min_height": null,
            "min_width": null,
            "object_fit": null,
            "object_position": null,
            "order": null,
            "overflow": null,
            "overflow_x": null,
            "overflow_y": null,
            "padding": null,
            "right": null,
            "top": null,
            "visibility": null,
            "width": null
          }
        },
        "07083cbca00b4eb4916fdda6137733c6": {
          "model_module": "@jupyter-widgets/controls",
          "model_name": "ProgressStyleModel",
          "model_module_version": "1.5.0",
          "state": {
            "_model_module": "@jupyter-widgets/controls",
            "_model_module_version": "1.5.0",
            "_model_name": "ProgressStyleModel",
            "_view_count": null,
            "_view_module": "@jupyter-widgets/base",
            "_view_module_version": "1.2.0",
            "_view_name": "StyleView",
            "bar_color": null,
            "description_width": ""
          }
        },
        "609430af98104ec982eadb84d6e5dabc": {
          "model_module": "@jupyter-widgets/base",
          "model_name": "LayoutModel",
          "model_module_version": "1.2.0",
          "state": {
            "_model_module": "@jupyter-widgets/base",
            "_model_module_version": "1.2.0",
            "_model_name": "LayoutModel",
            "_view_count": null,
            "_view_module": "@jupyter-widgets/base",
            "_view_module_version": "1.2.0",
            "_view_name": "LayoutView",
            "align_content": null,
            "align_items": null,
            "align_self": null,
            "border": null,
            "bottom": null,
            "display": null,
            "flex": null,
            "flex_flow": null,
            "grid_area": null,
            "grid_auto_columns": null,
            "grid_auto_flow": null,
            "grid_auto_rows": null,
            "grid_column": null,
            "grid_gap": null,
            "grid_row": null,
            "grid_template_areas": null,
            "grid_template_columns": null,
            "grid_template_rows": null,
            "height": null,
            "justify_content": null,
            "justify_items": null,
            "left": null,
            "margin": null,
            "max_height": null,
            "max_width": null,
            "min_height": null,
            "min_width": null,
            "object_fit": null,
            "object_position": null,
            "order": null,
            "overflow": null,
            "overflow_x": null,
            "overflow_y": null,
            "padding": null,
            "right": null,
            "top": null,
            "visibility": null,
            "width": null
          }
        },
        "04e15ff028284c489b9e184db365c601": {
          "model_module": "@jupyter-widgets/controls",
          "model_name": "DescriptionStyleModel",
          "model_module_version": "1.5.0",
          "state": {
            "_model_module": "@jupyter-widgets/controls",
            "_model_module_version": "1.5.0",
            "_model_name": "DescriptionStyleModel",
            "_view_count": null,
            "_view_module": "@jupyter-widgets/base",
            "_view_module_version": "1.2.0",
            "_view_name": "StyleView",
            "description_width": ""
          }
        },
        "9475e6ec7fa04b2390b4093da3b1dcf1": {
          "model_module": "@jupyter-widgets/controls",
          "model_name": "HBoxModel",
          "model_module_version": "1.5.0",
          "state": {
            "_dom_classes": [],
            "_model_module": "@jupyter-widgets/controls",
            "_model_module_version": "1.5.0",
            "_model_name": "HBoxModel",
            "_view_count": null,
            "_view_module": "@jupyter-widgets/controls",
            "_view_module_version": "1.5.0",
            "_view_name": "HBoxView",
            "box_style": "",
            "children": [
              "IPY_MODEL_3ab5e1d7aa264a32b2e4c282aabd4757",
              "IPY_MODEL_94ffdca7818f48859f369b83f67c1b5b",
              "IPY_MODEL_d9a1ab2738314b17a71dc986425a3de6"
            ],
            "layout": "IPY_MODEL_dab0d0a414154c4c830cf467f7fe693c"
          }
        },
        "3ab5e1d7aa264a32b2e4c282aabd4757": {
          "model_module": "@jupyter-widgets/controls",
          "model_name": "HTMLModel",
          "model_module_version": "1.5.0",
          "state": {
            "_dom_classes": [],
            "_model_module": "@jupyter-widgets/controls",
            "_model_module_version": "1.5.0",
            "_model_name": "HTMLModel",
            "_view_count": null,
            "_view_module": "@jupyter-widgets/controls",
            "_view_module_version": "1.5.0",
            "_view_name": "HTMLView",
            "description": "",
            "description_tooltip": null,
            "layout": "IPY_MODEL_1f487d2852374517bab84009bb3cf6bf",
            "placeholder": "​",
            "style": "IPY_MODEL_ab377e9bec234054ba964be47511df31",
            "value": "Map: 100%"
          }
        },
        "94ffdca7818f48859f369b83f67c1b5b": {
          "model_module": "@jupyter-widgets/controls",
          "model_name": "FloatProgressModel",
          "model_module_version": "1.5.0",
          "state": {
            "_dom_classes": [],
            "_model_module": "@jupyter-widgets/controls",
            "_model_module_version": "1.5.0",
            "_model_name": "FloatProgressModel",
            "_view_count": null,
            "_view_module": "@jupyter-widgets/controls",
            "_view_module_version": "1.5.0",
            "_view_name": "ProgressView",
            "bar_style": "success",
            "description": "",
            "description_tooltip": null,
            "layout": "IPY_MODEL_599616570891486db44c11c14ff7149e",
            "max": 2420,
            "min": 0,
            "orientation": "horizontal",
            "style": "IPY_MODEL_57b4c2eeba7e4a8fa3ac5c31b91d42ff",
            "value": 2420
          }
        },
        "d9a1ab2738314b17a71dc986425a3de6": {
          "model_module": "@jupyter-widgets/controls",
          "model_name": "HTMLModel",
          "model_module_version": "1.5.0",
          "state": {
            "_dom_classes": [],
            "_model_module": "@jupyter-widgets/controls",
            "_model_module_version": "1.5.0",
            "_model_name": "HTMLModel",
            "_view_count": null,
            "_view_module": "@jupyter-widgets/controls",
            "_view_module_version": "1.5.0",
            "_view_name": "HTMLView",
            "description": "",
            "description_tooltip": null,
            "layout": "IPY_MODEL_fe8d603953bc4acf9dc79218e17adb93",
            "placeholder": "​",
            "style": "IPY_MODEL_0a51a086fc7b4343b94fd49e9f994ee5",
            "value": " 2420/2420 [00:00&lt;00:00, 3254.45 examples/s]"
          }
        },
        "dab0d0a414154c4c830cf467f7fe693c": {
          "model_module": "@jupyter-widgets/base",
          "model_name": "LayoutModel",
          "model_module_version": "1.2.0",
          "state": {
            "_model_module": "@jupyter-widgets/base",
            "_model_module_version": "1.2.0",
            "_model_name": "LayoutModel",
            "_view_count": null,
            "_view_module": "@jupyter-widgets/base",
            "_view_module_version": "1.2.0",
            "_view_name": "LayoutView",
            "align_content": null,
            "align_items": null,
            "align_self": null,
            "border": null,
            "bottom": null,
            "display": null,
            "flex": null,
            "flex_flow": null,
            "grid_area": null,
            "grid_auto_columns": null,
            "grid_auto_flow": null,
            "grid_auto_rows": null,
            "grid_column": null,
            "grid_gap": null,
            "grid_row": null,
            "grid_template_areas": null,
            "grid_template_columns": null,
            "grid_template_rows": null,
            "height": null,
            "justify_content": null,
            "justify_items": null,
            "left": null,
            "margin": null,
            "max_height": null,
            "max_width": null,
            "min_height": null,
            "min_width": null,
            "object_fit": null,
            "object_position": null,
            "order": null,
            "overflow": null,
            "overflow_x": null,
            "overflow_y": null,
            "padding": null,
            "right": null,
            "top": null,
            "visibility": null,
            "width": null
          }
        },
        "1f487d2852374517bab84009bb3cf6bf": {
          "model_module": "@jupyter-widgets/base",
          "model_name": "LayoutModel",
          "model_module_version": "1.2.0",
          "state": {
            "_model_module": "@jupyter-widgets/base",
            "_model_module_version": "1.2.0",
            "_model_name": "LayoutModel",
            "_view_count": null,
            "_view_module": "@jupyter-widgets/base",
            "_view_module_version": "1.2.0",
            "_view_name": "LayoutView",
            "align_content": null,
            "align_items": null,
            "align_self": null,
            "border": null,
            "bottom": null,
            "display": null,
            "flex": null,
            "flex_flow": null,
            "grid_area": null,
            "grid_auto_columns": null,
            "grid_auto_flow": null,
            "grid_auto_rows": null,
            "grid_column": null,
            "grid_gap": null,
            "grid_row": null,
            "grid_template_areas": null,
            "grid_template_columns": null,
            "grid_template_rows": null,
            "height": null,
            "justify_content": null,
            "justify_items": null,
            "left": null,
            "margin": null,
            "max_height": null,
            "max_width": null,
            "min_height": null,
            "min_width": null,
            "object_fit": null,
            "object_position": null,
            "order": null,
            "overflow": null,
            "overflow_x": null,
            "overflow_y": null,
            "padding": null,
            "right": null,
            "top": null,
            "visibility": null,
            "width": null
          }
        },
        "ab377e9bec234054ba964be47511df31": {
          "model_module": "@jupyter-widgets/controls",
          "model_name": "DescriptionStyleModel",
          "model_module_version": "1.5.0",
          "state": {
            "_model_module": "@jupyter-widgets/controls",
            "_model_module_version": "1.5.0",
            "_model_name": "DescriptionStyleModel",
            "_view_count": null,
            "_view_module": "@jupyter-widgets/base",
            "_view_module_version": "1.2.0",
            "_view_name": "StyleView",
            "description_width": ""
          }
        },
        "599616570891486db44c11c14ff7149e": {
          "model_module": "@jupyter-widgets/base",
          "model_name": "LayoutModel",
          "model_module_version": "1.2.0",
          "state": {
            "_model_module": "@jupyter-widgets/base",
            "_model_module_version": "1.2.0",
            "_model_name": "LayoutModel",
            "_view_count": null,
            "_view_module": "@jupyter-widgets/base",
            "_view_module_version": "1.2.0",
            "_view_name": "LayoutView",
            "align_content": null,
            "align_items": null,
            "align_self": null,
            "border": null,
            "bottom": null,
            "display": null,
            "flex": null,
            "flex_flow": null,
            "grid_area": null,
            "grid_auto_columns": null,
            "grid_auto_flow": null,
            "grid_auto_rows": null,
            "grid_column": null,
            "grid_gap": null,
            "grid_row": null,
            "grid_template_areas": null,
            "grid_template_columns": null,
            "grid_template_rows": null,
            "height": null,
            "justify_content": null,
            "justify_items": null,
            "left": null,
            "margin": null,
            "max_height": null,
            "max_width": null,
            "min_height": null,
            "min_width": null,
            "object_fit": null,
            "object_position": null,
            "order": null,
            "overflow": null,
            "overflow_x": null,
            "overflow_y": null,
            "padding": null,
            "right": null,
            "top": null,
            "visibility": null,
            "width": null
          }
        },
        "57b4c2eeba7e4a8fa3ac5c31b91d42ff": {
          "model_module": "@jupyter-widgets/controls",
          "model_name": "ProgressStyleModel",
          "model_module_version": "1.5.0",
          "state": {
            "_model_module": "@jupyter-widgets/controls",
            "_model_module_version": "1.5.0",
            "_model_name": "ProgressStyleModel",
            "_view_count": null,
            "_view_module": "@jupyter-widgets/base",
            "_view_module_version": "1.2.0",
            "_view_name": "StyleView",
            "bar_color": null,
            "description_width": ""
          }
        },
        "fe8d603953bc4acf9dc79218e17adb93": {
          "model_module": "@jupyter-widgets/base",
          "model_name": "LayoutModel",
          "model_module_version": "1.2.0",
          "state": {
            "_model_module": "@jupyter-widgets/base",
            "_model_module_version": "1.2.0",
            "_model_name": "LayoutModel",
            "_view_count": null,
            "_view_module": "@jupyter-widgets/base",
            "_view_module_version": "1.2.0",
            "_view_name": "LayoutView",
            "align_content": null,
            "align_items": null,
            "align_self": null,
            "border": null,
            "bottom": null,
            "display": null,
            "flex": null,
            "flex_flow": null,
            "grid_area": null,
            "grid_auto_columns": null,
            "grid_auto_flow": null,
            "grid_auto_rows": null,
            "grid_column": null,
            "grid_gap": null,
            "grid_row": null,
            "grid_template_areas": null,
            "grid_template_columns": null,
            "grid_template_rows": null,
            "height": null,
            "justify_content": null,
            "justify_items": null,
            "left": null,
            "margin": null,
            "max_height": null,
            "max_width": null,
            "min_height": null,
            "min_width": null,
            "object_fit": null,
            "object_position": null,
            "order": null,
            "overflow": null,
            "overflow_x": null,
            "overflow_y": null,
            "padding": null,
            "right": null,
            "top": null,
            "visibility": null,
            "width": null
          }
        },
        "0a51a086fc7b4343b94fd49e9f994ee5": {
          "model_module": "@jupyter-widgets/controls",
          "model_name": "DescriptionStyleModel",
          "model_module_version": "1.5.0",
          "state": {
            "_model_module": "@jupyter-widgets/controls",
            "_model_module_version": "1.5.0",
            "_model_name": "DescriptionStyleModel",
            "_view_count": null,
            "_view_module": "@jupyter-widgets/base",
            "_view_module_version": "1.2.0",
            "_view_name": "StyleView",
            "description_width": ""
          }
        },
        "e9e7521aea7d41628bc078f1a5d23185": {
          "model_module": "@jupyter-widgets/controls",
          "model_name": "HBoxModel",
          "model_module_version": "1.5.0",
          "state": {
            "_dom_classes": [],
            "_model_module": "@jupyter-widgets/controls",
            "_model_module_version": "1.5.0",
            "_model_name": "HBoxModel",
            "_view_count": null,
            "_view_module": "@jupyter-widgets/controls",
            "_view_module_version": "1.5.0",
            "_view_name": "HBoxView",
            "box_style": "",
            "children": [
              "IPY_MODEL_1cbfc9e8d7444434bb4196c538f5a493",
              "IPY_MODEL_008c429fe3dc460e80474778556f9b5d",
              "IPY_MODEL_47ff0d394e0940d9b0f5cec8a908aaf6"
            ],
            "layout": "IPY_MODEL_56f74e30372344c1942ab83a06e4bd15"
          }
        },
        "1cbfc9e8d7444434bb4196c538f5a493": {
          "model_module": "@jupyter-widgets/controls",
          "model_name": "HTMLModel",
          "model_module_version": "1.5.0",
          "state": {
            "_dom_classes": [],
            "_model_module": "@jupyter-widgets/controls",
            "_model_module_version": "1.5.0",
            "_model_name": "HTMLModel",
            "_view_count": null,
            "_view_module": "@jupyter-widgets/controls",
            "_view_module_version": "1.5.0",
            "_view_name": "HTMLView",
            "description": "",
            "description_tooltip": null,
            "layout": "IPY_MODEL_fc158e0bb7204f12bf611c40ba96dfa8",
            "placeholder": "​",
            "style": "IPY_MODEL_91789fb676d945f8916b34354edf8bf3",
            "value": "Map: 100%"
          }
        },
        "008c429fe3dc460e80474778556f9b5d": {
          "model_module": "@jupyter-widgets/controls",
          "model_name": "FloatProgressModel",
          "model_module_version": "1.5.0",
          "state": {
            "_dom_classes": [],
            "_model_module": "@jupyter-widgets/controls",
            "_model_module_version": "1.5.0",
            "_model_name": "FloatProgressModel",
            "_view_count": null,
            "_view_module": "@jupyter-widgets/controls",
            "_view_module_version": "1.5.0",
            "_view_name": "ProgressView",
            "bar_style": "success",
            "description": "",
            "description_tooltip": null,
            "layout": "IPY_MODEL_5012e8bd78c84e6d90758b5001de10a0",
            "max": 3226,
            "min": 0,
            "orientation": "horizontal",
            "style": "IPY_MODEL_75ce766e34424d04937661b385b9f4f3",
            "value": 3226
          }
        },
        "47ff0d394e0940d9b0f5cec8a908aaf6": {
          "model_module": "@jupyter-widgets/controls",
          "model_name": "HTMLModel",
          "model_module_version": "1.5.0",
          "state": {
            "_dom_classes": [],
            "_model_module": "@jupyter-widgets/controls",
            "_model_module_version": "1.5.0",
            "_model_name": "HTMLModel",
            "_view_count": null,
            "_view_module": "@jupyter-widgets/controls",
            "_view_module_version": "1.5.0",
            "_view_name": "HTMLView",
            "description": "",
            "description_tooltip": null,
            "layout": "IPY_MODEL_429487d5abf64356becaf9d626f07d10",
            "placeholder": "​",
            "style": "IPY_MODEL_06c97767d05b49d5830b747fe0ca8561",
            "value": " 3226/3226 [00:01&lt;00:00, 3026.46 examples/s]"
          }
        },
        "56f74e30372344c1942ab83a06e4bd15": {
          "model_module": "@jupyter-widgets/base",
          "model_name": "LayoutModel",
          "model_module_version": "1.2.0",
          "state": {
            "_model_module": "@jupyter-widgets/base",
            "_model_module_version": "1.2.0",
            "_model_name": "LayoutModel",
            "_view_count": null,
            "_view_module": "@jupyter-widgets/base",
            "_view_module_version": "1.2.0",
            "_view_name": "LayoutView",
            "align_content": null,
            "align_items": null,
            "align_self": null,
            "border": null,
            "bottom": null,
            "display": null,
            "flex": null,
            "flex_flow": null,
            "grid_area": null,
            "grid_auto_columns": null,
            "grid_auto_flow": null,
            "grid_auto_rows": null,
            "grid_column": null,
            "grid_gap": null,
            "grid_row": null,
            "grid_template_areas": null,
            "grid_template_columns": null,
            "grid_template_rows": null,
            "height": null,
            "justify_content": null,
            "justify_items": null,
            "left": null,
            "margin": null,
            "max_height": null,
            "max_width": null,
            "min_height": null,
            "min_width": null,
            "object_fit": null,
            "object_position": null,
            "order": null,
            "overflow": null,
            "overflow_x": null,
            "overflow_y": null,
            "padding": null,
            "right": null,
            "top": null,
            "visibility": null,
            "width": null
          }
        },
        "fc158e0bb7204f12bf611c40ba96dfa8": {
          "model_module": "@jupyter-widgets/base",
          "model_name": "LayoutModel",
          "model_module_version": "1.2.0",
          "state": {
            "_model_module": "@jupyter-widgets/base",
            "_model_module_version": "1.2.0",
            "_model_name": "LayoutModel",
            "_view_count": null,
            "_view_module": "@jupyter-widgets/base",
            "_view_module_version": "1.2.0",
            "_view_name": "LayoutView",
            "align_content": null,
            "align_items": null,
            "align_self": null,
            "border": null,
            "bottom": null,
            "display": null,
            "flex": null,
            "flex_flow": null,
            "grid_area": null,
            "grid_auto_columns": null,
            "grid_auto_flow": null,
            "grid_auto_rows": null,
            "grid_column": null,
            "grid_gap": null,
            "grid_row": null,
            "grid_template_areas": null,
            "grid_template_columns": null,
            "grid_template_rows": null,
            "height": null,
            "justify_content": null,
            "justify_items": null,
            "left": null,
            "margin": null,
            "max_height": null,
            "max_width": null,
            "min_height": null,
            "min_width": null,
            "object_fit": null,
            "object_position": null,
            "order": null,
            "overflow": null,
            "overflow_x": null,
            "overflow_y": null,
            "padding": null,
            "right": null,
            "top": null,
            "visibility": null,
            "width": null
          }
        },
        "91789fb676d945f8916b34354edf8bf3": {
          "model_module": "@jupyter-widgets/controls",
          "model_name": "DescriptionStyleModel",
          "model_module_version": "1.5.0",
          "state": {
            "_model_module": "@jupyter-widgets/controls",
            "_model_module_version": "1.5.0",
            "_model_name": "DescriptionStyleModel",
            "_view_count": null,
            "_view_module": "@jupyter-widgets/base",
            "_view_module_version": "1.2.0",
            "_view_name": "StyleView",
            "description_width": ""
          }
        },
        "5012e8bd78c84e6d90758b5001de10a0": {
          "model_module": "@jupyter-widgets/base",
          "model_name": "LayoutModel",
          "model_module_version": "1.2.0",
          "state": {
            "_model_module": "@jupyter-widgets/base",
            "_model_module_version": "1.2.0",
            "_model_name": "LayoutModel",
            "_view_count": null,
            "_view_module": "@jupyter-widgets/base",
            "_view_module_version": "1.2.0",
            "_view_name": "LayoutView",
            "align_content": null,
            "align_items": null,
            "align_self": null,
            "border": null,
            "bottom": null,
            "display": null,
            "flex": null,
            "flex_flow": null,
            "grid_area": null,
            "grid_auto_columns": null,
            "grid_auto_flow": null,
            "grid_auto_rows": null,
            "grid_column": null,
            "grid_gap": null,
            "grid_row": null,
            "grid_template_areas": null,
            "grid_template_columns": null,
            "grid_template_rows": null,
            "height": null,
            "justify_content": null,
            "justify_items": null,
            "left": null,
            "margin": null,
            "max_height": null,
            "max_width": null,
            "min_height": null,
            "min_width": null,
            "object_fit": null,
            "object_position": null,
            "order": null,
            "overflow": null,
            "overflow_x": null,
            "overflow_y": null,
            "padding": null,
            "right": null,
            "top": null,
            "visibility": null,
            "width": null
          }
        },
        "75ce766e34424d04937661b385b9f4f3": {
          "model_module": "@jupyter-widgets/controls",
          "model_name": "ProgressStyleModel",
          "model_module_version": "1.5.0",
          "state": {
            "_model_module": "@jupyter-widgets/controls",
            "_model_module_version": "1.5.0",
            "_model_name": "ProgressStyleModel",
            "_view_count": null,
            "_view_module": "@jupyter-widgets/base",
            "_view_module_version": "1.2.0",
            "_view_name": "StyleView",
            "bar_color": null,
            "description_width": ""
          }
        },
        "429487d5abf64356becaf9d626f07d10": {
          "model_module": "@jupyter-widgets/base",
          "model_name": "LayoutModel",
          "model_module_version": "1.2.0",
          "state": {
            "_model_module": "@jupyter-widgets/base",
            "_model_module_version": "1.2.0",
            "_model_name": "LayoutModel",
            "_view_count": null,
            "_view_module": "@jupyter-widgets/base",
            "_view_module_version": "1.2.0",
            "_view_name": "LayoutView",
            "align_content": null,
            "align_items": null,
            "align_self": null,
            "border": null,
            "bottom": null,
            "display": null,
            "flex": null,
            "flex_flow": null,
            "grid_area": null,
            "grid_auto_columns": null,
            "grid_auto_flow": null,
            "grid_auto_rows": null,
            "grid_column": null,
            "grid_gap": null,
            "grid_row": null,
            "grid_template_areas": null,
            "grid_template_columns": null,
            "grid_template_rows": null,
            "height": null,
            "justify_content": null,
            "justify_items": null,
            "left": null,
            "margin": null,
            "max_height": null,
            "max_width": null,
            "min_height": null,
            "min_width": null,
            "object_fit": null,
            "object_position": null,
            "order": null,
            "overflow": null,
            "overflow_x": null,
            "overflow_y": null,
            "padding": null,
            "right": null,
            "top": null,
            "visibility": null,
            "width": null
          }
        },
        "06c97767d05b49d5830b747fe0ca8561": {
          "model_module": "@jupyter-widgets/controls",
          "model_name": "DescriptionStyleModel",
          "model_module_version": "1.5.0",
          "state": {
            "_model_module": "@jupyter-widgets/controls",
            "_model_module_version": "1.5.0",
            "_model_name": "DescriptionStyleModel",
            "_view_count": null,
            "_view_module": "@jupyter-widgets/base",
            "_view_module_version": "1.2.0",
            "_view_name": "StyleView",
            "description_width": ""
          }
        },
        "f55f676eab7c47bbae81d648f0844544": {
          "model_module": "@jupyter-widgets/controls",
          "model_name": "HBoxModel",
          "model_module_version": "1.5.0",
          "state": {
            "_dom_classes": [],
            "_model_module": "@jupyter-widgets/controls",
            "_model_module_version": "1.5.0",
            "_model_name": "HBoxModel",
            "_view_count": null,
            "_view_module": "@jupyter-widgets/controls",
            "_view_module_version": "1.5.0",
            "_view_name": "HBoxView",
            "box_style": "",
            "children": [
              "IPY_MODEL_ad9e1fbff5d34034af453f77212efbc0",
              "IPY_MODEL_3ad3f18fe2954f4d93befdea56835df6",
              "IPY_MODEL_a960ba400521459fbd6f59217ed37da4"
            ],
            "layout": "IPY_MODEL_c71f33b2056440f796f9d9a80e2e6b79"
          }
        },
        "ad9e1fbff5d34034af453f77212efbc0": {
          "model_module": "@jupyter-widgets/controls",
          "model_name": "HTMLModel",
          "model_module_version": "1.5.0",
          "state": {
            "_dom_classes": [],
            "_model_module": "@jupyter-widgets/controls",
            "_model_module_version": "1.5.0",
            "_model_name": "HTMLModel",
            "_view_count": null,
            "_view_module": "@jupyter-widgets/controls",
            "_view_module_version": "1.5.0",
            "_view_name": "HTMLView",
            "description": "",
            "description_tooltip": null,
            "layout": "IPY_MODEL_0a669e29f03a497289b65136776307bd",
            "placeholder": "​",
            "style": "IPY_MODEL_2830f22502404ff8a24c4dc8955762d3",
            "value": "model.safetensors: 100%"
          }
        },
        "3ad3f18fe2954f4d93befdea56835df6": {
          "model_module": "@jupyter-widgets/controls",
          "model_name": "FloatProgressModel",
          "model_module_version": "1.5.0",
          "state": {
            "_dom_classes": [],
            "_model_module": "@jupyter-widgets/controls",
            "_model_module_version": "1.5.0",
            "_model_name": "FloatProgressModel",
            "_view_count": null,
            "_view_module": "@jupyter-widgets/controls",
            "_view_module_version": "1.5.0",
            "_view_name": "ProgressView",
            "bar_style": "success",
            "description": "",
            "description_tooltip": null,
            "layout": "IPY_MODEL_3559e206c7684acb9b5e9fc9c60082ff",
            "max": 498818054,
            "min": 0,
            "orientation": "horizontal",
            "style": "IPY_MODEL_56b893bf9f8d445895db2b1e050b06ee",
            "value": 498818054
          }
        },
        "a960ba400521459fbd6f59217ed37da4": {
          "model_module": "@jupyter-widgets/controls",
          "model_name": "HTMLModel",
          "model_module_version": "1.5.0",
          "state": {
            "_dom_classes": [],
            "_model_module": "@jupyter-widgets/controls",
            "_model_module_version": "1.5.0",
            "_model_name": "HTMLModel",
            "_view_count": null,
            "_view_module": "@jupyter-widgets/controls",
            "_view_module_version": "1.5.0",
            "_view_name": "HTMLView",
            "description": "",
            "description_tooltip": null,
            "layout": "IPY_MODEL_561b16cdd8a64bf3a90b7bc84524157a",
            "placeholder": "​",
            "style": "IPY_MODEL_63f7e8ea1d064b9b8b9520305cff5736",
            "value": " 499M/499M [00:06&lt;00:00, 33.5MB/s]"
          }
        },
        "c71f33b2056440f796f9d9a80e2e6b79": {
          "model_module": "@jupyter-widgets/base",
          "model_name": "LayoutModel",
          "model_module_version": "1.2.0",
          "state": {
            "_model_module": "@jupyter-widgets/base",
            "_model_module_version": "1.2.0",
            "_model_name": "LayoutModel",
            "_view_count": null,
            "_view_module": "@jupyter-widgets/base",
            "_view_module_version": "1.2.0",
            "_view_name": "LayoutView",
            "align_content": null,
            "align_items": null,
            "align_self": null,
            "border": null,
            "bottom": null,
            "display": null,
            "flex": null,
            "flex_flow": null,
            "grid_area": null,
            "grid_auto_columns": null,
            "grid_auto_flow": null,
            "grid_auto_rows": null,
            "grid_column": null,
            "grid_gap": null,
            "grid_row": null,
            "grid_template_areas": null,
            "grid_template_columns": null,
            "grid_template_rows": null,
            "height": null,
            "justify_content": null,
            "justify_items": null,
            "left": null,
            "margin": null,
            "max_height": null,
            "max_width": null,
            "min_height": null,
            "min_width": null,
            "object_fit": null,
            "object_position": null,
            "order": null,
            "overflow": null,
            "overflow_x": null,
            "overflow_y": null,
            "padding": null,
            "right": null,
            "top": null,
            "visibility": null,
            "width": null
          }
        },
        "0a669e29f03a497289b65136776307bd": {
          "model_module": "@jupyter-widgets/base",
          "model_name": "LayoutModel",
          "model_module_version": "1.2.0",
          "state": {
            "_model_module": "@jupyter-widgets/base",
            "_model_module_version": "1.2.0",
            "_model_name": "LayoutModel",
            "_view_count": null,
            "_view_module": "@jupyter-widgets/base",
            "_view_module_version": "1.2.0",
            "_view_name": "LayoutView",
            "align_content": null,
            "align_items": null,
            "align_self": null,
            "border": null,
            "bottom": null,
            "display": null,
            "flex": null,
            "flex_flow": null,
            "grid_area": null,
            "grid_auto_columns": null,
            "grid_auto_flow": null,
            "grid_auto_rows": null,
            "grid_column": null,
            "grid_gap": null,
            "grid_row": null,
            "grid_template_areas": null,
            "grid_template_columns": null,
            "grid_template_rows": null,
            "height": null,
            "justify_content": null,
            "justify_items": null,
            "left": null,
            "margin": null,
            "max_height": null,
            "max_width": null,
            "min_height": null,
            "min_width": null,
            "object_fit": null,
            "object_position": null,
            "order": null,
            "overflow": null,
            "overflow_x": null,
            "overflow_y": null,
            "padding": null,
            "right": null,
            "top": null,
            "visibility": null,
            "width": null
          }
        },
        "2830f22502404ff8a24c4dc8955762d3": {
          "model_module": "@jupyter-widgets/controls",
          "model_name": "DescriptionStyleModel",
          "model_module_version": "1.5.0",
          "state": {
            "_model_module": "@jupyter-widgets/controls",
            "_model_module_version": "1.5.0",
            "_model_name": "DescriptionStyleModel",
            "_view_count": null,
            "_view_module": "@jupyter-widgets/base",
            "_view_module_version": "1.2.0",
            "_view_name": "StyleView",
            "description_width": ""
          }
        },
        "3559e206c7684acb9b5e9fc9c60082ff": {
          "model_module": "@jupyter-widgets/base",
          "model_name": "LayoutModel",
          "model_module_version": "1.2.0",
          "state": {
            "_model_module": "@jupyter-widgets/base",
            "_model_module_version": "1.2.0",
            "_model_name": "LayoutModel",
            "_view_count": null,
            "_view_module": "@jupyter-widgets/base",
            "_view_module_version": "1.2.0",
            "_view_name": "LayoutView",
            "align_content": null,
            "align_items": null,
            "align_self": null,
            "border": null,
            "bottom": null,
            "display": null,
            "flex": null,
            "flex_flow": null,
            "grid_area": null,
            "grid_auto_columns": null,
            "grid_auto_flow": null,
            "grid_auto_rows": null,
            "grid_column": null,
            "grid_gap": null,
            "grid_row": null,
            "grid_template_areas": null,
            "grid_template_columns": null,
            "grid_template_rows": null,
            "height": null,
            "justify_content": null,
            "justify_items": null,
            "left": null,
            "margin": null,
            "max_height": null,
            "max_width": null,
            "min_height": null,
            "min_width": null,
            "object_fit": null,
            "object_position": null,
            "order": null,
            "overflow": null,
            "overflow_x": null,
            "overflow_y": null,
            "padding": null,
            "right": null,
            "top": null,
            "visibility": null,
            "width": null
          }
        },
        "56b893bf9f8d445895db2b1e050b06ee": {
          "model_module": "@jupyter-widgets/controls",
          "model_name": "ProgressStyleModel",
          "model_module_version": "1.5.0",
          "state": {
            "_model_module": "@jupyter-widgets/controls",
            "_model_module_version": "1.5.0",
            "_model_name": "ProgressStyleModel",
            "_view_count": null,
            "_view_module": "@jupyter-widgets/base",
            "_view_module_version": "1.2.0",
            "_view_name": "StyleView",
            "bar_color": null,
            "description_width": ""
          }
        },
        "561b16cdd8a64bf3a90b7bc84524157a": {
          "model_module": "@jupyter-widgets/base",
          "model_name": "LayoutModel",
          "model_module_version": "1.2.0",
          "state": {
            "_model_module": "@jupyter-widgets/base",
            "_model_module_version": "1.2.0",
            "_model_name": "LayoutModel",
            "_view_count": null,
            "_view_module": "@jupyter-widgets/base",
            "_view_module_version": "1.2.0",
            "_view_name": "LayoutView",
            "align_content": null,
            "align_items": null,
            "align_self": null,
            "border": null,
            "bottom": null,
            "display": null,
            "flex": null,
            "flex_flow": null,
            "grid_area": null,
            "grid_auto_columns": null,
            "grid_auto_flow": null,
            "grid_auto_rows": null,
            "grid_column": null,
            "grid_gap": null,
            "grid_row": null,
            "grid_template_areas": null,
            "grid_template_columns": null,
            "grid_template_rows": null,
            "height": null,
            "justify_content": null,
            "justify_items": null,
            "left": null,
            "margin": null,
            "max_height": null,
            "max_width": null,
            "min_height": null,
            "min_width": null,
            "object_fit": null,
            "object_position": null,
            "order": null,
            "overflow": null,
            "overflow_x": null,
            "overflow_y": null,
            "padding": null,
            "right": null,
            "top": null,
            "visibility": null,
            "width": null
          }
        },
        "63f7e8ea1d064b9b8b9520305cff5736": {
          "model_module": "@jupyter-widgets/controls",
          "model_name": "DescriptionStyleModel",
          "model_module_version": "1.5.0",
          "state": {
            "_model_module": "@jupyter-widgets/controls",
            "_model_module_version": "1.5.0",
            "_model_name": "DescriptionStyleModel",
            "_view_count": null,
            "_view_module": "@jupyter-widgets/base",
            "_view_module_version": "1.2.0",
            "_view_name": "StyleView",
            "description_width": ""
          }
        }
      }
    },
    "kaggle": {
      "accelerator": "nvidiaTeslaT4",
      "dataSources": [
        {
          "sourceId": 9562591,
          "sourceType": "datasetVersion",
          "datasetId": 5827593
        }
      ],
      "dockerImageVersionId": 30786,
      "isInternetEnabled": true,
      "language": "python",
      "sourceType": "notebook",
      "isGpuEnabled": true
    }
  },
  "nbformat_minor": 0,
  "nbformat": 4,
  "cells": [
    {
      "cell_type": "code",
      "source": [
        "import warnings\n",
        "warnings.filterwarnings('ignore')"
      ],
      "metadata": {
        "execution": {
          "iopub.status.busy": "2024-10-07T09:26:34.109374Z",
          "iopub.execute_input": "2024-10-07T09:26:34.109799Z",
          "iopub.status.idle": "2024-10-07T09:26:34.116267Z",
          "shell.execute_reply.started": "2024-10-07T09:26:34.109758Z",
          "shell.execute_reply": "2024-10-07T09:26:34.115258Z"
        },
        "trusted": true,
        "id": "Fdxwg0d8bBAJ"
      },
      "execution_count": null,
      "outputs": []
    },
    {
      "cell_type": "code",
      "source": [
        "import os\n",
        "os.environ[\"TOKENIZERS_PARALLELISM\"] = \"false\""
      ],
      "metadata": {
        "execution": {
          "iopub.status.busy": "2024-10-07T09:26:35.329082Z",
          "iopub.execute_input": "2024-10-07T09:26:35.329895Z",
          "iopub.status.idle": "2024-10-07T09:26:35.335255Z",
          "shell.execute_reply.started": "2024-10-07T09:26:35.329853Z",
          "shell.execute_reply": "2024-10-07T09:26:35.334192Z"
        },
        "trusted": true,
        "id": "Jjj7GziJbBAL"
      },
      "execution_count": null,
      "outputs": []
    },
    {
      "cell_type": "code",
      "source": [
        "!git clone https://github.com/ai4se-course/ai4se-hse-course-24-25.git"
      ],
      "metadata": {
        "colab": {
          "base_uri": "https://localhost:8080/"
        },
        "id": "i0Vf9tV3vvaz",
        "outputId": "1d5ccfa8-8398-4752-da4a-9b370f590ff2",
        "execution": {
          "iopub.status.busy": "2024-10-07T09:26:36.346032Z",
          "iopub.execute_input": "2024-10-07T09:26:36.346682Z",
          "iopub.status.idle": "2024-10-07T09:26:37.377509Z",
          "shell.execute_reply.started": "2024-10-07T09:26:36.346637Z",
          "shell.execute_reply": "2024-10-07T09:26:37.376531Z"
        },
        "trusted": true
      },
      "execution_count": null,
      "outputs": [
        {
          "name": "stdout",
          "text": "fatal: destination path 'ai4se-hse-course-24-25' already exists and is not an empty directory.\n",
          "output_type": "stream"
        }
      ]
    },
    {
      "cell_type": "code",
      "source": [
        "!ls ai4se-hse-course-24-25/01-toxic-review-classification"
      ],
      "metadata": {
        "colab": {
          "base_uri": "https://localhost:8080/"
        },
        "id": "h3Al1ejjvyAf",
        "outputId": "816e3c4b-a5de-4606-fad3-ca4d02c0c89b",
        "execution": {
          "iopub.status.busy": "2024-10-07T09:26:38.178195Z",
          "iopub.execute_input": "2024-10-07T09:26:38.178629Z",
          "iopub.status.idle": "2024-10-07T09:26:39.210009Z",
          "shell.execute_reply.started": "2024-10-07T09:26:38.178588Z",
          "shell.execute_reply": "2024-10-07T09:26:39.208821Z"
        },
        "trusted": true
      },
      "execution_count": null,
      "outputs": [
        {
          "name": "stdout",
          "text": "README.md  main.py  requirements.txt  requirements_dev.txt  toxic_clf\n",
          "output_type": "stream"
        }
      ]
    },
    {
      "cell_type": "code",
      "source": [
        "# # виртуальное окружение для установки всех зависимостей\n",
        "# !apt install python3.10-venv\n",
        "# !python -m venv env"
      ],
      "metadata": {
        "id": "xucHZF19Rx3x",
        "execution": {
          "iopub.status.busy": "2024-10-07T09:26:40.786268Z",
          "iopub.execute_input": "2024-10-07T09:26:40.787259Z",
          "iopub.status.idle": "2024-10-07T09:26:40.792751Z",
          "shell.execute_reply.started": "2024-10-07T09:26:40.787213Z",
          "shell.execute_reply": "2024-10-07T09:26:40.791703Z"
        },
        "trusted": true
      },
      "execution_count": null,
      "outputs": []
    },
    {
      "cell_type": "code",
      "source": [
        "!pip install -r \"ai4se-hse-course-24-25/01-toxic-review-classification/requirements.txt\"\n",
        "!pip install -r \"ai4se-hse-course-24-25/01-toxic-review-classification/requirements_dev.txt\""
      ],
      "metadata": {
        "colab": {
          "base_uri": "https://localhost:8080/"
        },
        "id": "D7CR9P5mvzBK",
        "outputId": "206dc34d-bc4c-4803-d433-90b0dcd275a6",
        "execution": {
          "iopub.status.busy": "2024-10-07T09:26:42.987971Z",
          "iopub.execute_input": "2024-10-07T09:26:42.988932Z",
          "iopub.status.idle": "2024-10-07T09:27:06.763702Z",
          "shell.execute_reply.started": "2024-10-07T09:26:42.988887Z",
          "shell.execute_reply": "2024-10-07T09:27:06.762706Z"
        },
        "trusted": true
      },
      "execution_count": null,
      "outputs": [
        {
          "name": "stdout",
          "text": "Requirement already satisfied: datasets==2.20.0 in /opt/conda/lib/python3.10/site-packages (from -r ai4se-hse-course-24-25/01-toxic-review-classification/requirements.txt (line 1)) (2.20.0)\nRequirement already satisfied: evaluate==0.4.2 in /opt/conda/lib/python3.10/site-packages (from -r ai4se-hse-course-24-25/01-toxic-review-classification/requirements.txt (line 2)) (0.4.2)\nRequirement already satisfied: numpy==1.26.4 in /opt/conda/lib/python3.10/site-packages (from -r ai4se-hse-course-24-25/01-toxic-review-classification/requirements.txt (line 3)) (1.26.4)\nRequirement already satisfied: scikit-learn==1.5.1 in /opt/conda/lib/python3.10/site-packages (from -r ai4se-hse-course-24-25/01-toxic-review-classification/requirements.txt (line 4)) (1.5.1)\nRequirement already satisfied: tqdm==4.66.4 in /opt/conda/lib/python3.10/site-packages (from -r ai4se-hse-course-24-25/01-toxic-review-classification/requirements.txt (line 5)) (4.66.4)\nRequirement already satisfied: filelock in /opt/conda/lib/python3.10/site-packages (from datasets==2.20.0->-r ai4se-hse-course-24-25/01-toxic-review-classification/requirements.txt (line 1)) (3.15.1)\nRequirement already satisfied: pyarrow>=15.0.0 in /opt/conda/lib/python3.10/site-packages (from datasets==2.20.0->-r ai4se-hse-course-24-25/01-toxic-review-classification/requirements.txt (line 1)) (16.1.0)\nRequirement already satisfied: pyarrow-hotfix in /opt/conda/lib/python3.10/site-packages (from datasets==2.20.0->-r ai4se-hse-course-24-25/01-toxic-review-classification/requirements.txt (line 1)) (0.6)\nRequirement already satisfied: dill<0.3.9,>=0.3.0 in /opt/conda/lib/python3.10/site-packages (from datasets==2.20.0->-r ai4se-hse-course-24-25/01-toxic-review-classification/requirements.txt (line 1)) (0.3.8)\nRequirement already satisfied: pandas in /opt/conda/lib/python3.10/site-packages (from datasets==2.20.0->-r ai4se-hse-course-24-25/01-toxic-review-classification/requirements.txt (line 1)) (2.2.2)\nRequirement already satisfied: requests>=2.32.2 in /opt/conda/lib/python3.10/site-packages (from datasets==2.20.0->-r ai4se-hse-course-24-25/01-toxic-review-classification/requirements.txt (line 1)) (2.32.3)\nRequirement already satisfied: xxhash in /opt/conda/lib/python3.10/site-packages (from datasets==2.20.0->-r ai4se-hse-course-24-25/01-toxic-review-classification/requirements.txt (line 1)) (3.4.1)\nRequirement already satisfied: multiprocess in /opt/conda/lib/python3.10/site-packages (from datasets==2.20.0->-r ai4se-hse-course-24-25/01-toxic-review-classification/requirements.txt (line 1)) (0.70.16)\nRequirement already satisfied: fsspec<=2024.5.0,>=2023.1.0 in /opt/conda/lib/python3.10/site-packages (from fsspec[http]<=2024.5.0,>=2023.1.0->datasets==2.20.0->-r ai4se-hse-course-24-25/01-toxic-review-classification/requirements.txt (line 1)) (2024.5.0)\nRequirement already satisfied: aiohttp in /opt/conda/lib/python3.10/site-packages (from datasets==2.20.0->-r ai4se-hse-course-24-25/01-toxic-review-classification/requirements.txt (line 1)) (3.9.5)\nRequirement already satisfied: huggingface-hub>=0.21.2 in /opt/conda/lib/python3.10/site-packages (from datasets==2.20.0->-r ai4se-hse-course-24-25/01-toxic-review-classification/requirements.txt (line 1)) (0.25.1)\nRequirement already satisfied: packaging in /opt/conda/lib/python3.10/site-packages (from datasets==2.20.0->-r ai4se-hse-course-24-25/01-toxic-review-classification/requirements.txt (line 1)) (21.3)\nRequirement already satisfied: pyyaml>=5.1 in /opt/conda/lib/python3.10/site-packages (from datasets==2.20.0->-r ai4se-hse-course-24-25/01-toxic-review-classification/requirements.txt (line 1)) (6.0.2)\nRequirement already satisfied: scipy>=1.6.0 in /opt/conda/lib/python3.10/site-packages (from scikit-learn==1.5.1->-r ai4se-hse-course-24-25/01-toxic-review-classification/requirements.txt (line 4)) (1.14.1)\nRequirement already satisfied: joblib>=1.2.0 in /opt/conda/lib/python3.10/site-packages (from scikit-learn==1.5.1->-r ai4se-hse-course-24-25/01-toxic-review-classification/requirements.txt (line 4)) (1.4.2)\nRequirement already satisfied: threadpoolctl>=3.1.0 in /opt/conda/lib/python3.10/site-packages (from scikit-learn==1.5.1->-r ai4se-hse-course-24-25/01-toxic-review-classification/requirements.txt (line 4)) (3.5.0)\nRequirement already satisfied: aiosignal>=1.1.2 in /opt/conda/lib/python3.10/site-packages (from aiohttp->datasets==2.20.0->-r ai4se-hse-course-24-25/01-toxic-review-classification/requirements.txt (line 1)) (1.3.1)\nRequirement already satisfied: attrs>=17.3.0 in /opt/conda/lib/python3.10/site-packages (from aiohttp->datasets==2.20.0->-r ai4se-hse-course-24-25/01-toxic-review-classification/requirements.txt (line 1)) (23.2.0)\nRequirement already satisfied: frozenlist>=1.1.1 in /opt/conda/lib/python3.10/site-packages (from aiohttp->datasets==2.20.0->-r ai4se-hse-course-24-25/01-toxic-review-classification/requirements.txt (line 1)) (1.4.1)\nRequirement already satisfied: multidict<7.0,>=4.5 in /opt/conda/lib/python3.10/site-packages (from aiohttp->datasets==2.20.0->-r ai4se-hse-course-24-25/01-toxic-review-classification/requirements.txt (line 1)) (6.0.5)\nRequirement already satisfied: yarl<2.0,>=1.0 in /opt/conda/lib/python3.10/site-packages (from aiohttp->datasets==2.20.0->-r ai4se-hse-course-24-25/01-toxic-review-classification/requirements.txt (line 1)) (1.9.4)\nRequirement already satisfied: async-timeout<5.0,>=4.0 in /opt/conda/lib/python3.10/site-packages (from aiohttp->datasets==2.20.0->-r ai4se-hse-course-24-25/01-toxic-review-classification/requirements.txt (line 1)) (4.0.3)\nRequirement already satisfied: typing-extensions>=3.7.4.3 in /opt/conda/lib/python3.10/site-packages (from huggingface-hub>=0.21.2->datasets==2.20.0->-r ai4se-hse-course-24-25/01-toxic-review-classification/requirements.txt (line 1)) (4.12.2)\nRequirement already satisfied: pyparsing!=3.0.5,>=2.0.2 in /opt/conda/lib/python3.10/site-packages (from packaging->datasets==2.20.0->-r ai4se-hse-course-24-25/01-toxic-review-classification/requirements.txt (line 1)) (3.1.2)\nRequirement already satisfied: charset-normalizer<4,>=2 in /opt/conda/lib/python3.10/site-packages (from requests>=2.32.2->datasets==2.20.0->-r ai4se-hse-course-24-25/01-toxic-review-classification/requirements.txt (line 1)) (3.3.2)\nRequirement already satisfied: idna<4,>=2.5 in /opt/conda/lib/python3.10/site-packages (from requests>=2.32.2->datasets==2.20.0->-r ai4se-hse-course-24-25/01-toxic-review-classification/requirements.txt (line 1)) (3.7)\nRequirement already satisfied: urllib3<3,>=1.21.1 in /opt/conda/lib/python3.10/site-packages (from requests>=2.32.2->datasets==2.20.0->-r ai4se-hse-course-24-25/01-toxic-review-classification/requirements.txt (line 1)) (1.26.18)\nRequirement already satisfied: certifi>=2017.4.17 in /opt/conda/lib/python3.10/site-packages (from requests>=2.32.2->datasets==2.20.0->-r ai4se-hse-course-24-25/01-toxic-review-classification/requirements.txt (line 1)) (2024.8.30)\nRequirement already satisfied: python-dateutil>=2.8.2 in /opt/conda/lib/python3.10/site-packages (from pandas->datasets==2.20.0->-r ai4se-hse-course-24-25/01-toxic-review-classification/requirements.txt (line 1)) (2.9.0.post0)\nRequirement already satisfied: pytz>=2020.1 in /opt/conda/lib/python3.10/site-packages (from pandas->datasets==2.20.0->-r ai4se-hse-course-24-25/01-toxic-review-classification/requirements.txt (line 1)) (2024.1)\nRequirement already satisfied: tzdata>=2022.7 in /opt/conda/lib/python3.10/site-packages (from pandas->datasets==2.20.0->-r ai4se-hse-course-24-25/01-toxic-review-classification/requirements.txt (line 1)) (2024.1)\nRequirement already satisfied: six>=1.5 in /opt/conda/lib/python3.10/site-packages (from python-dateutil>=2.8.2->pandas->datasets==2.20.0->-r ai4se-hse-course-24-25/01-toxic-review-classification/requirements.txt (line 1)) (1.16.0)\nRequirement already satisfied: black==22.3.0 in /opt/conda/lib/python3.10/site-packages (from -r ai4se-hse-course-24-25/01-toxic-review-classification/requirements_dev.txt (line 1)) (22.3.0)\nRequirement already satisfied: flake8==4.0.1 in /opt/conda/lib/python3.10/site-packages (from -r ai4se-hse-course-24-25/01-toxic-review-classification/requirements_dev.txt (line 2)) (4.0.1)\nRequirement already satisfied: flake8-builtins==1.5.3 in /opt/conda/lib/python3.10/site-packages (from -r ai4se-hse-course-24-25/01-toxic-review-classification/requirements_dev.txt (line 3)) (1.5.3)\nRequirement already satisfied: flake8-comprehensions==3.10.0 in /opt/conda/lib/python3.10/site-packages (from -r ai4se-hse-course-24-25/01-toxic-review-classification/requirements_dev.txt (line 4)) (3.10.0)\nRequirement already satisfied: flake8-docstrings==1.5.0 in /opt/conda/lib/python3.10/site-packages (from -r ai4se-hse-course-24-25/01-toxic-review-classification/requirements_dev.txt (line 5)) (1.5.0)\nRequirement already satisfied: flake8-import-order==0.18.1 in /opt/conda/lib/python3.10/site-packages (from -r ai4se-hse-course-24-25/01-toxic-review-classification/requirements_dev.txt (line 6)) (0.18.1)\nRequirement already satisfied: flake8-pep585==0.1.5.1 in /opt/conda/lib/python3.10/site-packages (from -r ai4se-hse-course-24-25/01-toxic-review-classification/requirements_dev.txt (line 7)) (0.1.5.1)\nRequirement already satisfied: flake8-quotes==2.1.1 in /opt/conda/lib/python3.10/site-packages (from -r ai4se-hse-course-24-25/01-toxic-review-classification/requirements_dev.txt (line 8)) (2.1.1)\nRequirement already satisfied: flakeheaven==3.0.0 in /opt/conda/lib/python3.10/site-packages (from -r ai4se-hse-course-24-25/01-toxic-review-classification/requirements_dev.txt (line 9)) (3.0.0)\nRequirement already satisfied: click>=8.0.0 in /opt/conda/lib/python3.10/site-packages (from black==22.3.0->-r ai4se-hse-course-24-25/01-toxic-review-classification/requirements_dev.txt (line 1)) (8.1.7)\nRequirement already satisfied: platformdirs>=2 in /opt/conda/lib/python3.10/site-packages (from black==22.3.0->-r ai4se-hse-course-24-25/01-toxic-review-classification/requirements_dev.txt (line 1)) (3.11.0)\nRequirement already satisfied: pathspec>=0.9.0 in /opt/conda/lib/python3.10/site-packages (from black==22.3.0->-r ai4se-hse-course-24-25/01-toxic-review-classification/requirements_dev.txt (line 1)) (0.12.1)\nRequirement already satisfied: mypy-extensions>=0.4.3 in /opt/conda/lib/python3.10/site-packages (from black==22.3.0->-r ai4se-hse-course-24-25/01-toxic-review-classification/requirements_dev.txt (line 1)) (1.0.0)\nRequirement already satisfied: tomli>=1.1.0 in /opt/conda/lib/python3.10/site-packages (from black==22.3.0->-r ai4se-hse-course-24-25/01-toxic-review-classification/requirements_dev.txt (line 1)) (2.0.1)\nRequirement already satisfied: mccabe<0.7.0,>=0.6.0 in /opt/conda/lib/python3.10/site-packages (from flake8==4.0.1->-r ai4se-hse-course-24-25/01-toxic-review-classification/requirements_dev.txt (line 2)) (0.6.1)\nRequirement already satisfied: pycodestyle<2.9.0,>=2.8.0 in /opt/conda/lib/python3.10/site-packages (from flake8==4.0.1->-r ai4se-hse-course-24-25/01-toxic-review-classification/requirements_dev.txt (line 2)) (2.8.0)\nRequirement already satisfied: pyflakes<2.5.0,>=2.4.0 in /opt/conda/lib/python3.10/site-packages (from flake8==4.0.1->-r ai4se-hse-course-24-25/01-toxic-review-classification/requirements_dev.txt (line 2)) (2.4.0)\nRequirement already satisfied: pydocstyle>=2.1 in /opt/conda/lib/python3.10/site-packages (from flake8-docstrings==1.5.0->-r ai4se-hse-course-24-25/01-toxic-review-classification/requirements_dev.txt (line 5)) (6.3.0)\nRequirement already satisfied: setuptools in /opt/conda/lib/python3.10/site-packages (from flake8-import-order==0.18.1->-r ai4se-hse-course-24-25/01-toxic-review-classification/requirements_dev.txt (line 6)) (70.0.0)\nRequirement already satisfied: colorama in /opt/conda/lib/python3.10/site-packages (from flakeheaven==3.0.0->-r ai4se-hse-course-24-25/01-toxic-review-classification/requirements_dev.txt (line 9)) (0.4.6)\nRequirement already satisfied: entrypoints in /opt/conda/lib/python3.10/site-packages (from flakeheaven==3.0.0->-r ai4se-hse-course-24-25/01-toxic-review-classification/requirements_dev.txt (line 9)) (0.4)\nRequirement already satisfied: pygments in /opt/conda/lib/python3.10/site-packages (from flakeheaven==3.0.0->-r ai4se-hse-course-24-25/01-toxic-review-classification/requirements_dev.txt (line 9)) (2.18.0)\nRequirement already satisfied: toml in /opt/conda/lib/python3.10/site-packages (from flakeheaven==3.0.0->-r ai4se-hse-course-24-25/01-toxic-review-classification/requirements_dev.txt (line 9)) (0.10.2)\nRequirement already satisfied: urllib3 in /opt/conda/lib/python3.10/site-packages (from flakeheaven==3.0.0->-r ai4se-hse-course-24-25/01-toxic-review-classification/requirements_dev.txt (line 9)) (1.26.18)\nRequirement already satisfied: snowballstemmer>=2.2.0 in /opt/conda/lib/python3.10/site-packages (from pydocstyle>=2.1->flake8-docstrings==1.5.0->-r ai4se-hse-course-24-25/01-toxic-review-classification/requirements_dev.txt (line 5)) (2.2.0)\n",
          "output_type": "stream"
        }
      ]
    },
    {
      "cell_type": "code",
      "source": [
        "# from google.colab import drive\n",
        "# drive.mount('/content/drive/')\n",
        "# %cd /content/drive/MyDrive/ml/"
      ],
      "metadata": {
        "id": "U7EbM5A5sLq0",
        "execution": {
          "iopub.status.busy": "2024-10-07T09:27:06.765942Z",
          "iopub.execute_input": "2024-10-07T09:27:06.766290Z",
          "iopub.status.idle": "2024-10-07T09:27:06.772163Z",
          "shell.execute_reply.started": "2024-10-07T09:27:06.766255Z",
          "shell.execute_reply": "2024-10-07T09:27:06.770907Z"
        },
        "trusted": true
      },
      "execution_count": null,
      "outputs": []
    },
    {
      "cell_type": "code",
      "source": [
        "!ls"
      ],
      "metadata": {
        "execution": {
          "iopub.status.busy": "2024-10-07T09:27:06.773227Z",
          "iopub.execute_input": "2024-10-07T09:27:06.773489Z",
          "iopub.status.idle": "2024-10-07T09:27:07.809390Z",
          "shell.execute_reply.started": "2024-10-07T09:27:06.773460Z",
          "shell.execute_reply": "2024-10-07T09:27:07.808244Z"
        },
        "trusted": true,
        "id": "mQSbN3j9bBAN",
        "outputId": "0cbe09e4-d4ca-4d11-feb9-b816671662fc"
      },
      "execution_count": null,
      "outputs": [
        {
          "name": "stdout",
          "text": "ai4se-hse-course-24-25\tcheckpoint-1816  prepared_data.csv\ncheckpoint-113\t\tcheckpoint-56\t runs\ncheckpoint-168\t\tcheckpoint-908\t wandb\n",
          "output_type": "stream"
        }
      ]
    },
    {
      "cell_type": "code",
      "source": [
        "import pandas as pd\n",
        "df = pd.read_excel('code-review-dataset-full.xlsx')\n",
        "# df = pd.read_excel('/kaggle/input/code-review-dataset-full-xlsx/code-review-dataset-full.xlsx')"
      ],
      "metadata": {
        "id": "qL9-4qsusb1Z",
        "execution": {
          "iopub.status.busy": "2024-10-07T09:27:09.683346Z",
          "iopub.execute_input": "2024-10-07T09:27:09.683635Z",
          "iopub.status.idle": "2024-10-07T09:27:11.070864Z",
          "shell.execute_reply.started": "2024-10-07T09:27:09.683604Z",
          "shell.execute_reply": "2024-10-07T09:27:11.069967Z"
        },
        "trusted": true
      },
      "execution_count": null,
      "outputs": []
    },
    {
      "cell_type": "markdown",
      "source": [
        "- Проведите очистку набора данных, устраняя пропущенные значения и дубликаты.\n"
      ],
      "metadata": {
        "id": "zEslUFqV2Hev"
      }
    },
    {
      "cell_type": "code",
      "source": [
        "df = df.dropna()\n",
        "df = df.drop_duplicates()"
      ],
      "metadata": {
        "id": "rVGp0vQt0E4a",
        "execution": {
          "iopub.status.busy": "2024-10-07T09:27:11.072646Z",
          "iopub.execute_input": "2024-10-07T09:27:11.073001Z",
          "iopub.status.idle": "2024-10-07T09:27:11.092751Z",
          "shell.execute_reply.started": "2024-10-07T09:27:11.072968Z",
          "shell.execute_reply": "2024-10-07T09:27:11.091721Z"
        },
        "trusted": true
      },
      "execution_count": null,
      "outputs": []
    },
    {
      "cell_type": "markdown",
      "source": [
        "- Удаление URL-ссылок, например ссылок на документацию, посты Stackoverflow\n"
      ],
      "metadata": {
        "id": "YVzvDv582JlU"
      }
    },
    {
      "cell_type": "code",
      "source": [
        "import re\n",
        "df['message'] = df['message'].apply(lambda x: re.sub(r'http\\S+', '\\'link\\'', x))"
      ],
      "metadata": {
        "id": "0WHVDUtO2uqv",
        "execution": {
          "iopub.status.busy": "2024-10-07T09:27:13.799890Z",
          "iopub.execute_input": "2024-10-07T09:27:13.800288Z",
          "iopub.status.idle": "2024-10-07T09:27:13.828891Z",
          "shell.execute_reply.started": "2024-10-07T09:27:13.800252Z",
          "shell.execute_reply": "2024-10-07T09:27:13.828119Z"
        },
        "trusted": true
      },
      "execution_count": null,
      "outputs": []
    },
    {
      "cell_type": "markdown",
      "source": [
        "- Исправление сокращений слов, например doesn’t -> does not и we’re -> we are для унификации токенов. (готовый словарь можно найти в репозитории ToxiCR)\n"
      ],
      "metadata": {
        "id": "yfoKnmIm2Nmh"
      }
    },
    {
      "cell_type": "code",
      "source": [
        "contraction_mapping = {\"ain't\": \"is not\", \"aren't\": \"are not\",\n",
        "                       \"can't\": \"cannot\", \"'cause\": \"because\",\n",
        "                       \"could've\": \"could have\", \"couldn't\": \"could not\",\n",
        "                       \"didn't\": \"did not\", \"doesn't\": \"does not\",\n",
        "                       \"don't\": \"do not\", \"hadn't\": \"had not\", \"hasn't\": \"has not\",\n",
        "                       \"haven't\": \"have not\", \"he'd\": \"he would\", \"he'll\": \"he will\",\n",
        "                       \"he's\": \"he is\", \"how'd\": \"how did\", \"how'd'y\": \"how do you\",\n",
        "                       \"how'll\": \"how will\", \"how's\": \"how is\", \"I'd\": \"I would\",\n",
        "                       \"I'd've\": \"I would have\", \"I'll\": \"I will\", \"I'll've\": \"I will have\",\n",
        "                       \"I'm\": \"I am\", \"I've\": \"I have\", \"i'd\": \"i would\", \"i'd've\": \"i would have\",\n",
        "                       \"i'll\": \"i will\", \"i'll've\": \"i will have\", \"i'm\": \"i am\",\n",
        "                       \"i've\": \"i have\", \"isn't\": \"is not\", \"it'd\": \"it would\",\n",
        "                       \"it'd've\": \"it would have\", \"it'll\": \"it will\", \"it'll've\": \"it will have\",\n",
        "                       \"it's\": \"it is\", \"let's\": \"let us\", \"ma'am\": \"madam\", \"mayn't\": \"may not\",\n",
        "                       \"might've\": \"might have\", \"mightn't\": \"might not\",\n",
        "                       \"mightn't've\": \"might not have\", \"must've\": \"must have\",\n",
        "                       \"mustn't\": \"must not\", \"mustn't've\": \"must not have\",\n",
        "                       \"needn't\": \"need not\", \"needn't've\": \"need not have\",\n",
        "                       \"o'clock\": \"of the clock\", \"oughtn't\": \"ought not\",\n",
        "                       \"oughtn't've\": \"ought not have\", \"shan't\": \"shall not\",\n",
        "                       \"sha'n't\": \"shall not\", \"shan't've\": \"shall not have\",\n",
        "                       \"she'd\": \"she would\", \"she'd've\": \"she would have\",\n",
        "                       \"she'll\": \"she will\", \"she'll've\": \"she will have\",\n",
        "                       \"she's\": \"she is\", \"should've\": \"should have\", \"shouldn't\": \"should not\",\n",
        "                       \"shouldn't've\": \"should not have\", \"so've\": \"so have\", \"so's\": \"so as\",\n",
        "                       \"this's\": \"this is\", \"that'd\": \"that would\", \"that'd've\": \"that would have\",\n",
        "                       \"that's\": \"that is\", \"there'd\": \"there would\",\n",
        "                       \"there'd've\": \"there would have\", \"there's\": \"there is\",\n",
        "                       \"here's\": \"here is\", \"they'd\": \"they would\", \"they'd've\": \"they would have\",\n",
        "                       \"they'll\": \"they will\", \"they'll've\": \"they will have\", \"they're\": \"they are\",\n",
        "                       \"they've\": \"they have\", \"to've\": \"to have\", \"wasn't\": \"was not\", \"we'd\": \"we would\",\n",
        "                       \"we'd've\": \"we would have\", \"we'll\": \"we will\", \"we'll've\": \"we will have\",\n",
        "                       \"we're\": \"we are\", \"we've\": \"we have\", \"weren't\": \"were not\",\n",
        "                       \"what'll\": \"what will\",\n",
        "                       \"what'll've\": \"what will have\", \"what're\": \"what are\", \"what's\": \"what is\",\n",
        "                       \"what've\": \"what have\", \"when's\": \"when is\", \"when've\": \"when have\",\n",
        "                       \"where'd\": \"where did\", \"where's\": \"where is\", \"where've\": \"where have\",\n",
        "                       \"who'll\": \"who will\", \"who'll've\": \"who will have\", \"who's\": \"who is\",\n",
        "                       \"who've\": \"who have\", \"why's\": \"why is\", \"why've\": \"why have\",\n",
        "                       \"will've\": \"will have\", \"won't\": \"will not\", \"won't've\": \"will not have\",\n",
        "                       \"would've\": \"would have\", \"wouldn't\": \"would not\", \"wouldn't've\": \"would not have\",\n",
        "                       \"y'all\": \"you all\", \"y'all'd\": \"you all would\", \"y'all'd've\": \"you all would have\",\n",
        "                       \"y'all're\": \"you all are\", \"y'all've\": \"you all have\", \"you'd\": \"you would\",\n",
        "                       \"you'd've\": \"you would have\", \"you'll\": \"you will\", \"you'll've\": \"you will have\",\n",
        "                       \"you're\": \"you are\", \"you've\": \"you have\", \"aint\": \"is not\", \"arent\": \"are not\",\n",
        "                       \"cant\": \"cannot\", \"cause\": \"because\",\n",
        "                       \"couldve\": \"could have\", \"couldnt\": \"could not\",\n",
        "                       \"didnt\": \"did not\", \"doesnt\": \"does not\",\n",
        "                       \"dont\": \"do not\", \"hadnt\": \"had not\", \"hasnt\": \"has not\",\n",
        "                       \"havent\": \"have not\", \"howdy\": \"how do you\",\n",
        "                       \"its\": \"it is\", \"lets\": \"let us\", \"maam\": \"madam\", \"maynt\": \"may not\",\n",
        "                       \"mightve\": \"might have\", \"mightnt\": \"might not\",\n",
        "                       \"mightntve\": \"might not have\", \"mustve\": \"must have\",\n",
        "                       \"mustnt\": \"must not\", \"mustntve\": \"must not have\",\n",
        "                       \"neednt\": \"need not\", \"needntve\": \"need not have\",\n",
        "                       \"oclock\": \"of the clock\", \"oughtnt\": \"ought not\",\n",
        "                       \"shouldve\": \"should have\", \"shouldnt\": \"should not\",\n",
        "                       \"werent\": \"were not\", \"yall\": \"you all\", \"youre\": \"you are\",\n",
        "                       \"youve\": \"you have\"}\n",
        "\n",
        "def expand_contraction(text):\n",
        "    specials = [\"’\", \"‘\", \"´\", \"`\", \"'\"]\n",
        "\n",
        "    for s in specials:\n",
        "        text = text.replace(s, \"'\")\n",
        "        text = ' '.join([contraction_mapping[t] if t in contraction_mapping else t for t in text.split(\" \")])\n",
        "    return text\n",
        "\n",
        "df['message'] = df['message'].apply(lambda x: x.lower())\n",
        "df['message'] = df['message'].apply(expand_contraction)"
      ],
      "metadata": {
        "id": "cOB1FFENhj3x",
        "execution": {
          "iopub.status.busy": "2024-10-07T09:27:16.401265Z",
          "iopub.execute_input": "2024-10-07T09:27:16.401639Z",
          "iopub.status.idle": "2024-10-07T09:27:16.732725Z",
          "shell.execute_reply.started": "2024-10-07T09:27:16.401603Z",
          "shell.execute_reply": "2024-10-07T09:27:16.731719Z"
        },
        "trusted": true
      },
      "execution_count": null,
      "outputs": []
    },
    {
      "cell_type": "markdown",
      "source": [
        "- Удаление повторяющихся символов: “You’re duumbbbb!,” -> “you are dumb”\n"
      ],
      "metadata": {
        "id": "REhFWaNS2PNr"
      }
    },
    {
      "cell_type": "code",
      "source": [
        "from itertools import groupby\n",
        "\n",
        "def remove_duplicate(dup_string):\n",
        "  return ''.join([x for x,y in groupby(dup_string)])\n",
        "\n",
        "df['message'] = df['message'].apply(remove_duplicate)"
      ],
      "metadata": {
        "id": "4yn4JxRUj1wj",
        "execution": {
          "iopub.status.busy": "2024-10-07T09:27:22.105874Z",
          "iopub.execute_input": "2024-10-07T09:27:22.106268Z",
          "iopub.status.idle": "2024-10-07T09:27:22.389599Z",
          "shell.execute_reply.started": "2024-10-07T09:27:22.106226Z",
          "shell.execute_reply": "2024-10-07T09:27:22.388184Z"
        },
        "trusted": true
      },
      "execution_count": null,
      "outputs": []
    },
    {
      "cell_type": "markdown",
      "source": [
        "- Удаление специальных символов &, #, ^, *...\n"
      ],
      "metadata": {
        "id": "DVEZZDEm2Qud"
      }
    },
    {
      "cell_type": "code",
      "source": [
        "def rem_special_sym(text):\n",
        "    pattern = re.compile('([^\\s\\w]|_|\\\\n)+')\n",
        "    return pattern.sub(' ', text)\n",
        "\n",
        "df['message'] = df['message'].apply(rem_special_sym)"
      ],
      "metadata": {
        "id": "IOdCQEPfk_1I",
        "execution": {
          "iopub.status.busy": "2024-10-07T09:27:20.376442Z",
          "iopub.execute_input": "2024-10-07T09:27:20.377190Z",
          "iopub.status.idle": "2024-10-07T09:27:20.680137Z",
          "shell.execute_reply.started": "2024-10-07T09:27:20.377147Z",
          "shell.execute_reply": "2024-10-07T09:27:20.679112Z"
        },
        "trusted": true
      },
      "execution_count": null,
      "outputs": []
    },
    {
      "cell_type": "markdown",
      "source": [
        "- Исправление специально испорченных ругательных слов (словарь с регулярными выражениями также можно найти в репозитории ToxiCR)\n"
      ],
      "metadata": {
        "id": "DKhWSaGg2Rdo"
      }
    },
    {
      "cell_type": "code",
      "source": [
        "RE_PATTERNS = {\n",
        "    ' fuck ':\n",
        "        [\n",
        "            '(f)(u|[^a-z0-9 ])(c|[^a-z0-9 ])(k|[^a-z0-9 ])([^ ])*',\n",
        "            '(f)([^a-z]*)(u)([^a-z]*)(c)([^a-z]*)(k)',\n",
        "            ' f[!@#\\$%\\^\\&\\*]*u[!@#\\$%\\^&\\*]*k', 'f u u c',\n",
        "            '(f)(c|[^a-z ])(u|[^a-z ])(k)', r'f\\*',\n",
        "            'feck ', ' fux ', 'f\\*\\*',\n",
        "            'f\\-ing', 'f\\.u\\.', 'f###', ' fu ', 'f@ck', 'f u c k', 'f uck', 'f ck'\n",
        "\n",
        "        ],\n",
        "\n",
        "    ' crap ':\n",
        "        [\n",
        "            ' (c)(r|[^a-z0-9 ])(a|[^a-z0-9 ])(p|[^a-z0-9 ])([^ ])*',\n",
        "            ' (c)([^a-z]*)(r)([^a-z]*)(a)([^a-z]*)(p)',\n",
        "            ' c[!@#\\$%\\^\\&\\*]*r[!@#\\$%\\^&\\*]*p', 'cr@p', ' c r a p',\n",
        "\n",
        "        ],\n",
        "\n",
        "    ' ass ':\n",
        "        [\n",
        "            '[^a-z]ass ', '[^a-z]azz ', 'arrse', ' arse ', '@\\$\\$'\n",
        "                                                           '[^a-z]anus', ' a\\*s\\*s', '[^a-z]ass[^a-z ]',\n",
        "            'a[@#\\$%\\^&\\*][@#\\$%\\^&\\*]', '[^a-z]anal ', 'a s s'\n",
        "        ],\n",
        "\n",
        "    ' ass hole ':\n",
        "        [\n",
        "            ' a[s|z]*wipe', 'a[s|z]*[w]*h[o|0]+[l]*e', '@\\$\\$hole'\n",
        "        ],\n",
        "\n",
        "    ' bitch ':\n",
        "        [\n",
        "            'bitches', ' b[w]*i[t]*ch', ' b!tch',\n",
        "            ' bi\\+ch', ' b!\\+ch', ' (b)([^a-z]*)(i)([^a-z]*)(t)([^a-z]*)(c)([^a-z]*)(h)',\n",
        "            ' biatch', ' bi\\*\\*h', ' bytch', 'b i t c h'\n",
        "        ],\n",
        "\n",
        "    ' bastard ':\n",
        "        [\n",
        "            'ba[s|z]+t[e|a]+rd'\n",
        "        ],\n",
        "\n",
        "    ' transgender':\n",
        "        [\n",
        "            'transgender'\n",
        "        ],\n",
        "\n",
        "    ' gay ':\n",
        "        [\n",
        "            'gay', 'homo'\n",
        "        ],\n",
        "\n",
        "    ' cock ':\n",
        "        [\n",
        "            '[^a-z]cock', 'c0ck', '[^a-z]cok ', 'c0k', '[^a-z]cok[^aeiou]', ' cawk',\n",
        "            '(c)([^a-z ])(o)([^a-z ]*)(c)([^a-z ]*)(k)', 'c o c k'\n",
        "        ],\n",
        "\n",
        "    ' dick ':\n",
        "        [\n",
        "            ' dick[^aeiou]', 'd i c k'\n",
        "        ],\n",
        "\n",
        "    ' suck ':\n",
        "        [\n",
        "            'sucker', 'sucks', '(s)([^a-z ]*)(u)([^a-z ]*)(c)([^a-z ]*)(k)', '5uck', 's u c k'\n",
        "        ],\n",
        "\n",
        "    ' cunt ':\n",
        "        [\n",
        "            'cunt', 'c u n t'\n",
        "        ],\n",
        "\n",
        "    ' bull shit ':\n",
        "        [\n",
        "            'bullsh\\*t', 'bull\\$hit', 'bull sh.t'\n",
        "        ],\n",
        "\n",
        "    ' jerk ':\n",
        "        [\n",
        "            'jerk'\n",
        "        ],\n",
        "\n",
        "    ' idiot ':\n",
        "        [\n",
        "            'i[d]+io[t]+', '(i)([^a-z ]*)(d)([^a-z ]*)(i)([^a-z ]*)(o)([^a-z ]*)(t)', 'idiots' 'i d i o t'\n",
        "        ],\n",
        "\n",
        "    ' dumb ':\n",
        "        [\n",
        "            '(d)([^a-z ]*)(u)([^a-z ]*)(m)([^a-z ]*)(b)'\n",
        "        ],\n",
        "\n",
        "    ' shit ':\n",
        "        [\n",
        "            'shitty', '(s)([^a-z ]*)(h)([^a-z ]*)(i)([^a-z ]*)(t)', 'shite', '\\$hit', 's h i t', 'sh\\*tty',\n",
        "            'sh\\*ty', 'sh\\*t'\n",
        "        ],\n",
        "\n",
        "    ' shit hole ':\n",
        "        [\n",
        "            'shythole', 'sh.thole'\n",
        "        ],\n",
        "\n",
        "    ' retard ':\n",
        "        [\n",
        "            'returd', 'retad', 'retard', 'wiktard', 'wikitud'\n",
        "        ],\n",
        "\n",
        "    ' rape ':\n",
        "        [\n",
        "            'raped'\n",
        "        ],\n",
        "\n",
        "    ' dumb ass':\n",
        "        [\n",
        "            'dumbass', 'dubass'\n",
        "        ],\n",
        "\n",
        "    ' ass head':\n",
        "        [\n",
        "            'butthead'\n",
        "        ],\n",
        "\n",
        "    ' sex ':\n",
        "        [\n",
        "            'sexy', 's3x', 'sexuality'\n",
        "        ],\n",
        "\n",
        "    ' nigger ':\n",
        "        [\n",
        "            'nigger', 'ni[g]+a', ' nigr ', 'negrito', 'niguh', 'n3gr', 'n i g g e r'\n",
        "        ],\n",
        "\n",
        "    ' shut the fuck up':\n",
        "        [\n",
        "            ' stfu' '^stfu'\n",
        "        ],\n",
        "\n",
        "    ' for your fucking information':\n",
        "        [\n",
        "            ' fyfi', '^fyfi'\n",
        "        ],\n",
        "    ' get the fuck off':\n",
        "        [\n",
        "            'gtfo', '^gtfo'\n",
        "        ],\n",
        "\n",
        "    ' oh my fucking god ':\n",
        "        [\n",
        "            ' omfg', '^omfg'\n",
        "        ],\n",
        "\n",
        "    ' what the hell ':\n",
        "        [\n",
        "            ' wth', '^wth'\n",
        "        ],\n",
        "\n",
        "    ' what the fuck ':\n",
        "        [\n",
        "            ' wtf', '^wtf'\n",
        "        ],\n",
        "    ' son of bitch ':\n",
        "        [\n",
        "            ' sob ', '^sob '\n",
        "        ],\n",
        "\n",
        "    ' pussy ':\n",
        "        [\n",
        "            'pussy[^c]', 'pusy', 'pussi[^l]', 'pusses', '(p)(u|[^a-z0-9 ])(s|[^a-z0-9 ])(s|[^a-z0-9 ])(y)',\n",
        "        ],\n",
        "\n",
        "    ' faggot ':\n",
        "        [\n",
        "            'faggot', ' fa[g]+[s]*[^a-z ]', 'fagot', 'f a g g o t', 'faggit',\n",
        "            '(f)([^a-z ]*)(a)([^a-z ]*)([g]+)([^a-z ]*)(o)([^a-z ]*)(t)', 'fau[g]+ot', 'fae[g]+ot',\n",
        "        ],\n",
        "\n",
        "    ' mother fucker':\n",
        "        [\n",
        "            ' motha f', ' mother f', 'motherucker', ' mofo', ' mf ',\n",
        "        ],\n",
        "\n",
        "    ' whore ':\n",
        "        [\n",
        "            'wh\\*\\*\\*', 'w h o r e'\n",
        "        ],\n",
        "\n",
        "    ' haha ':\n",
        "        [\n",
        "            'ha\\*\\*\\*ha',\n",
        "        ],\n",
        "}\n",
        "\n",
        "def process_text(text):\n",
        "    for target, patterns in RE_PATTERNS.items():\n",
        "        for pat in patterns:\n",
        "            text = re.sub(pat, target, text)\n",
        "    text = re.sub(r\"[^a-z' ]\", ' ', text)\n",
        "    return text\n",
        "\n",
        "df['message'] = df['message'].apply(process_text)"
      ],
      "metadata": {
        "id": "cwNumg_2hYuh",
        "execution": {
          "iopub.status.busy": "2024-10-07T09:27:24.521027Z",
          "iopub.execute_input": "2024-10-07T09:27:24.521413Z",
          "iopub.status.idle": "2024-10-07T09:27:27.589128Z",
          "shell.execute_reply.started": "2024-10-07T09:27:24.521377Z",
          "shell.execute_reply": "2024-10-07T09:27:27.587964Z"
        },
        "trusted": true
      },
      "execution_count": null,
      "outputs": []
    },
    {
      "cell_type": "markdown",
      "source": [
        "- После предобработки сохраните подготовленные данные для дальнейшего использования\n"
      ],
      "metadata": {
        "id": "W4986YPA2S3B"
      }
    },
    {
      "cell_type": "code",
      "source": [
        "df.to_csv('prepared_data.csv', index=False)"
      ],
      "metadata": {
        "id": "uEEQU6mjpdU8",
        "execution": {
          "iopub.status.busy": "2024-10-07T09:27:27.590823Z",
          "iopub.execute_input": "2024-10-07T09:27:27.591159Z",
          "iopub.status.idle": "2024-10-07T09:27:27.666825Z",
          "shell.execute_reply.started": "2024-10-07T09:27:27.591125Z",
          "shell.execute_reply": "2024-10-07T09:27:27.665842Z"
        },
        "trusted": true
      },
      "execution_count": null,
      "outputs": []
    },
    {
      "cell_type": "markdown",
      "source": [
        "Использование классических методов машинного обучения (библиотека scikit-learn)\n"
      ],
      "metadata": {
        "id": "hWSaa5npp71e"
      }
    },
    {
      "cell_type": "code",
      "source": [
        "df = pd.read_csv('prepared_data.csv')\n",
        "df.head()"
      ],
      "metadata": {
        "colab": {
          "base_uri": "https://localhost:8080/",
          "height": 206
        },
        "id": "mMBPmyfxpkWz",
        "outputId": "8fa25995-438d-45d8-ec4c-0ea35fdac966",
        "execution": {
          "iopub.status.busy": "2024-10-07T09:27:28.903128Z",
          "iopub.execute_input": "2024-10-07T09:27:28.903918Z",
          "iopub.status.idle": "2024-10-07T09:27:28.938919Z",
          "shell.execute_reply.started": "2024-10-07T09:27:28.903876Z",
          "shell.execute_reply": "2024-10-07T09:27:28.937933Z"
        },
        "trusted": true
      },
      "execution_count": null,
      "outputs": [
        {
          "execution_count": 176,
          "output_type": "execute_result",
          "data": {
            "text/plain": "                                             message  is_toxic\n0   this and below asignments also should be removed         0\n1            this should be flavor id self flavor id         0\n2                          bol sesion adopted false          0\n3  nit starting c   this could be done directly i...         0\n4  i am confused this is the tar proces we are ch...         0",
            "text/html": "<div>\n<style scoped>\n    .dataframe tbody tr th:only-of-type {\n        vertical-align: middle;\n    }\n\n    .dataframe tbody tr th {\n        vertical-align: top;\n    }\n\n    .dataframe thead th {\n        text-align: right;\n    }\n</style>\n<table border=\"1\" class=\"dataframe\">\n  <thead>\n    <tr style=\"text-align: right;\">\n      <th></th>\n      <th>message</th>\n      <th>is_toxic</th>\n    </tr>\n  </thead>\n  <tbody>\n    <tr>\n      <th>0</th>\n      <td>this and below asignments also should be removed</td>\n      <td>0</td>\n    </tr>\n    <tr>\n      <th>1</th>\n      <td>this should be flavor id self flavor id</td>\n      <td>0</td>\n    </tr>\n    <tr>\n      <th>2</th>\n      <td>bol sesion adopted false</td>\n      <td>0</td>\n    </tr>\n    <tr>\n      <th>3</th>\n      <td>nit starting c   this could be done directly i...</td>\n      <td>0</td>\n    </tr>\n    <tr>\n      <th>4</th>\n      <td>i am confused this is the tar proces we are ch...</td>\n      <td>0</td>\n    </tr>\n  </tbody>\n</table>\n</div>"
          },
          "metadata": {}
        }
      ]
    },
    {
      "cell_type": "markdown",
      "source": [
        "- Для преобразования в числовое представление ранее подготовленных текстов используйте CountVectorizer\n"
      ],
      "metadata": {
        "id": "hoHGDZSep-QO"
      }
    },
    {
      "cell_type": "code",
      "source": [
        "from sklearn.feature_extraction.text import CountVectorizer"
      ],
      "metadata": {
        "id": "Pq1Dj6wYvewo",
        "execution": {
          "iopub.status.busy": "2024-10-07T09:27:31.595829Z",
          "iopub.execute_input": "2024-10-07T09:27:31.596369Z",
          "iopub.status.idle": "2024-10-07T09:27:31.602126Z",
          "shell.execute_reply.started": "2024-10-07T09:27:31.596328Z",
          "shell.execute_reply": "2024-10-07T09:27:31.601176Z"
        },
        "trusted": true
      },
      "execution_count": null,
      "outputs": []
    },
    {
      "cell_type": "code",
      "source": [
        "from sklearn.model_selection import train_test_split\n",
        "X, X_eval, y, y_eval = train_test_split(list(df[\"message\"]), list(df[\"is_toxic\"]), train_size=0.75, random_state=42)\n",
        "X_train, X_test, y_train, y_test = train_test_split(X, y, train_size=0.75, random_state=42)"
      ],
      "metadata": {
        "id": "63eTZ4v52ayH",
        "execution": {
          "iopub.status.busy": "2024-10-07T09:27:32.865771Z",
          "iopub.execute_input": "2024-10-07T09:27:32.866741Z",
          "iopub.status.idle": "2024-10-07T09:27:32.892173Z",
          "shell.execute_reply.started": "2024-10-07T09:27:32.866698Z",
          "shell.execute_reply": "2024-10-07T09:27:32.891280Z"
        },
        "trusted": true
      },
      "execution_count": null,
      "outputs": []
    },
    {
      "cell_type": "code",
      "source": [
        "count_vect = CountVectorizer()\n",
        "\n",
        "cv=count_vect.fit_transform(X)\n",
        "\n",
        "cv_eval=count_vect.transform(X_eval)"
      ],
      "metadata": {
        "id": "MO5RdLHcxdph",
        "execution": {
          "iopub.status.busy": "2024-10-07T09:27:34.695794Z",
          "iopub.execute_input": "2024-10-07T09:27:34.696199Z",
          "iopub.status.idle": "2024-10-07T09:27:35.033498Z",
          "shell.execute_reply.started": "2024-10-07T09:27:34.696162Z",
          "shell.execute_reply": "2024-10-07T09:27:35.032677Z"
        },
        "trusted": true
      },
      "execution_count": null,
      "outputs": []
    },
    {
      "cell_type": "code",
      "source": [
        "eval=pd.DataFrame(cv_eval.todense(),columns=count_vect.get_feature_names_out())\n",
        "\n",
        "full = pd.DataFrame(cv.todense(),columns=count_vect.get_feature_names_out())"
      ],
      "metadata": {
        "id": "5MqMq-aN3Vuq",
        "execution": {
          "iopub.status.busy": "2024-10-07T09:27:36.113243Z",
          "iopub.execute_input": "2024-10-07T09:27:36.113873Z",
          "iopub.status.idle": "2024-10-07T09:27:36.457502Z",
          "shell.execute_reply.started": "2024-10-07T09:27:36.113807Z",
          "shell.execute_reply": "2024-10-07T09:27:36.456475Z"
        },
        "trusted": true
      },
      "execution_count": null,
      "outputs": []
    },
    {
      "cell_type": "markdown",
      "source": [
        "- Обучите модели Random Forest на полученных CountVectorizer\n"
      ],
      "metadata": {
        "id": "WZUeeD-NqBB4"
      }
    },
    {
      "cell_type": "code",
      "source": [
        "from sklearn.ensemble import RandomForestClassifier"
      ],
      "metadata": {
        "id": "gwxF7y_l3ROt",
        "execution": {
          "iopub.status.busy": "2024-10-07T09:27:39.543056Z",
          "iopub.execute_input": "2024-10-07T09:27:39.543941Z",
          "iopub.status.idle": "2024-10-07T09:27:39.634647Z",
          "shell.execute_reply.started": "2024-10-07T09:27:39.543897Z",
          "shell.execute_reply": "2024-10-07T09:27:39.633880Z"
        },
        "trusted": true
      },
      "execution_count": null,
      "outputs": []
    },
    {
      "cell_type": "code",
      "source": [
        "rf=RandomForestClassifier()"
      ],
      "metadata": {
        "id": "QOBN4tq_4R9M",
        "execution": {
          "iopub.status.busy": "2024-10-07T09:32:21.745808Z",
          "iopub.execute_input": "2024-10-07T09:32:21.746222Z",
          "iopub.status.idle": "2024-10-07T09:32:21.752007Z",
          "shell.execute_reply.started": "2024-10-07T09:32:21.746184Z",
          "shell.execute_reply": "2024-10-07T09:32:21.750904Z"
        },
        "trusted": true
      },
      "execution_count": null,
      "outputs": []
    },
    {
      "cell_type": "code",
      "source": [
        "rf.fit(full,y)"
      ],
      "metadata": {
        "id": "7vz7UyAV4VU8",
        "colab": {
          "base_uri": "https://localhost:8080/",
          "height": 80
        },
        "outputId": "5f593668-b2e4-49f7-8b90-77563f753718",
        "execution": {
          "iopub.status.busy": "2024-10-07T09:32:22.855871Z",
          "iopub.execute_input": "2024-10-07T09:32:22.856270Z",
          "iopub.status.idle": "2024-10-07T09:33:27.594763Z",
          "shell.execute_reply.started": "2024-10-07T09:32:22.856232Z",
          "shell.execute_reply": "2024-10-07T09:33:27.593646Z"
        },
        "trusted": true
      },
      "execution_count": null,
      "outputs": [
        {
          "execution_count": 190,
          "output_type": "execute_result",
          "data": {
            "text/plain": "RandomForestClassifier()",
            "text/html": "<style>#sk-container-id-2 {\n  /* Definition of color scheme common for light and dark mode */\n  --sklearn-color-text: black;\n  --sklearn-color-line: gray;\n  /* Definition of color scheme for unfitted estimators */\n  --sklearn-color-unfitted-level-0: #fff5e6;\n  --sklearn-color-unfitted-level-1: #f6e4d2;\n  --sklearn-color-unfitted-level-2: #ffe0b3;\n  --sklearn-color-unfitted-level-3: chocolate;\n  /* Definition of color scheme for fitted estimators */\n  --sklearn-color-fitted-level-0: #f0f8ff;\n  --sklearn-color-fitted-level-1: #d4ebff;\n  --sklearn-color-fitted-level-2: #b3dbfd;\n  --sklearn-color-fitted-level-3: cornflowerblue;\n\n  /* Specific color for light theme */\n  --sklearn-color-text-on-default-background: var(--sg-text-color, var(--theme-code-foreground, var(--jp-content-font-color1, black)));\n  --sklearn-color-background: var(--sg-background-color, var(--theme-background, var(--jp-layout-color0, white)));\n  --sklearn-color-border-box: var(--sg-text-color, var(--theme-code-foreground, var(--jp-content-font-color1, black)));\n  --sklearn-color-icon: #696969;\n\n  @media (prefers-color-scheme: dark) {\n    /* Redefinition of color scheme for dark theme */\n    --sklearn-color-text-on-default-background: var(--sg-text-color, var(--theme-code-foreground, var(--jp-content-font-color1, white)));\n    --sklearn-color-background: var(--sg-background-color, var(--theme-background, var(--jp-layout-color0, #111)));\n    --sklearn-color-border-box: var(--sg-text-color, var(--theme-code-foreground, var(--jp-content-font-color1, white)));\n    --sklearn-color-icon: #878787;\n  }\n}\n\n#sk-container-id-2 {\n  color: var(--sklearn-color-text);\n}\n\n#sk-container-id-2 pre {\n  padding: 0;\n}\n\n#sk-container-id-2 input.sk-hidden--visually {\n  border: 0;\n  clip: rect(1px 1px 1px 1px);\n  clip: rect(1px, 1px, 1px, 1px);\n  height: 1px;\n  margin: -1px;\n  overflow: hidden;\n  padding: 0;\n  position: absolute;\n  width: 1px;\n}\n\n#sk-container-id-2 div.sk-dashed-wrapped {\n  border: 1px dashed var(--sklearn-color-line);\n  margin: 0 0.4em 0.5em 0.4em;\n  box-sizing: border-box;\n  padding-bottom: 0.4em;\n  background-color: var(--sklearn-color-background);\n}\n\n#sk-container-id-2 div.sk-container {\n  /* jupyter's `normalize.less` sets `[hidden] { display: none; }`\n     but bootstrap.min.css set `[hidden] { display: none !important; }`\n     so we also need the `!important` here to be able to override the\n     default hidden behavior on the sphinx rendered scikit-learn.org.\n     See: https://github.com/scikit-learn/scikit-learn/issues/21755 */\n  display: inline-block !important;\n  position: relative;\n}\n\n#sk-container-id-2 div.sk-text-repr-fallback {\n  display: none;\n}\n\ndiv.sk-parallel-item,\ndiv.sk-serial,\ndiv.sk-item {\n  /* draw centered vertical line to link estimators */\n  background-image: linear-gradient(var(--sklearn-color-text-on-default-background), var(--sklearn-color-text-on-default-background));\n  background-size: 2px 100%;\n  background-repeat: no-repeat;\n  background-position: center center;\n}\n\n/* Parallel-specific style estimator block */\n\n#sk-container-id-2 div.sk-parallel-item::after {\n  content: \"\";\n  width: 100%;\n  border-bottom: 2px solid var(--sklearn-color-text-on-default-background);\n  flex-grow: 1;\n}\n\n#sk-container-id-2 div.sk-parallel {\n  display: flex;\n  align-items: stretch;\n  justify-content: center;\n  background-color: var(--sklearn-color-background);\n  position: relative;\n}\n\n#sk-container-id-2 div.sk-parallel-item {\n  display: flex;\n  flex-direction: column;\n}\n\n#sk-container-id-2 div.sk-parallel-item:first-child::after {\n  align-self: flex-end;\n  width: 50%;\n}\n\n#sk-container-id-2 div.sk-parallel-item:last-child::after {\n  align-self: flex-start;\n  width: 50%;\n}\n\n#sk-container-id-2 div.sk-parallel-item:only-child::after {\n  width: 0;\n}\n\n/* Serial-specific style estimator block */\n\n#sk-container-id-2 div.sk-serial {\n  display: flex;\n  flex-direction: column;\n  align-items: center;\n  background-color: var(--sklearn-color-background);\n  padding-right: 1em;\n  padding-left: 1em;\n}\n\n\n/* Toggleable style: style used for estimator/Pipeline/ColumnTransformer box that is\nclickable and can be expanded/collapsed.\n- Pipeline and ColumnTransformer use this feature and define the default style\n- Estimators will overwrite some part of the style using the `sk-estimator` class\n*/\n\n/* Pipeline and ColumnTransformer style (default) */\n\n#sk-container-id-2 div.sk-toggleable {\n  /* Default theme specific background. It is overwritten whether we have a\n  specific estimator or a Pipeline/ColumnTransformer */\n  background-color: var(--sklearn-color-background);\n}\n\n/* Toggleable label */\n#sk-container-id-2 label.sk-toggleable__label {\n  cursor: pointer;\n  display: block;\n  width: 100%;\n  margin-bottom: 0;\n  padding: 0.5em;\n  box-sizing: border-box;\n  text-align: center;\n}\n\n#sk-container-id-2 label.sk-toggleable__label-arrow:before {\n  /* Arrow on the left of the label */\n  content: \"▸\";\n  float: left;\n  margin-right: 0.25em;\n  color: var(--sklearn-color-icon);\n}\n\n#sk-container-id-2 label.sk-toggleable__label-arrow:hover:before {\n  color: var(--sklearn-color-text);\n}\n\n/* Toggleable content - dropdown */\n\n#sk-container-id-2 div.sk-toggleable__content {\n  max-height: 0;\n  max-width: 0;\n  overflow: hidden;\n  text-align: left;\n  /* unfitted */\n  background-color: var(--sklearn-color-unfitted-level-0);\n}\n\n#sk-container-id-2 div.sk-toggleable__content.fitted {\n  /* fitted */\n  background-color: var(--sklearn-color-fitted-level-0);\n}\n\n#sk-container-id-2 div.sk-toggleable__content pre {\n  margin: 0.2em;\n  border-radius: 0.25em;\n  color: var(--sklearn-color-text);\n  /* unfitted */\n  background-color: var(--sklearn-color-unfitted-level-0);\n}\n\n#sk-container-id-2 div.sk-toggleable__content.fitted pre {\n  /* unfitted */\n  background-color: var(--sklearn-color-fitted-level-0);\n}\n\n#sk-container-id-2 input.sk-toggleable__control:checked~div.sk-toggleable__content {\n  /* Expand drop-down */\n  max-height: 200px;\n  max-width: 100%;\n  overflow: auto;\n}\n\n#sk-container-id-2 input.sk-toggleable__control:checked~label.sk-toggleable__label-arrow:before {\n  content: \"▾\";\n}\n\n/* Pipeline/ColumnTransformer-specific style */\n\n#sk-container-id-2 div.sk-label input.sk-toggleable__control:checked~label.sk-toggleable__label {\n  color: var(--sklearn-color-text);\n  background-color: var(--sklearn-color-unfitted-level-2);\n}\n\n#sk-container-id-2 div.sk-label.fitted input.sk-toggleable__control:checked~label.sk-toggleable__label {\n  background-color: var(--sklearn-color-fitted-level-2);\n}\n\n/* Estimator-specific style */\n\n/* Colorize estimator box */\n#sk-container-id-2 div.sk-estimator input.sk-toggleable__control:checked~label.sk-toggleable__label {\n  /* unfitted */\n  background-color: var(--sklearn-color-unfitted-level-2);\n}\n\n#sk-container-id-2 div.sk-estimator.fitted input.sk-toggleable__control:checked~label.sk-toggleable__label {\n  /* fitted */\n  background-color: var(--sklearn-color-fitted-level-2);\n}\n\n#sk-container-id-2 div.sk-label label.sk-toggleable__label,\n#sk-container-id-2 div.sk-label label {\n  /* The background is the default theme color */\n  color: var(--sklearn-color-text-on-default-background);\n}\n\n/* On hover, darken the color of the background */\n#sk-container-id-2 div.sk-label:hover label.sk-toggleable__label {\n  color: var(--sklearn-color-text);\n  background-color: var(--sklearn-color-unfitted-level-2);\n}\n\n/* Label box, darken color on hover, fitted */\n#sk-container-id-2 div.sk-label.fitted:hover label.sk-toggleable__label.fitted {\n  color: var(--sklearn-color-text);\n  background-color: var(--sklearn-color-fitted-level-2);\n}\n\n/* Estimator label */\n\n#sk-container-id-2 div.sk-label label {\n  font-family: monospace;\n  font-weight: bold;\n  display: inline-block;\n  line-height: 1.2em;\n}\n\n#sk-container-id-2 div.sk-label-container {\n  text-align: center;\n}\n\n/* Estimator-specific */\n#sk-container-id-2 div.sk-estimator {\n  font-family: monospace;\n  border: 1px dotted var(--sklearn-color-border-box);\n  border-radius: 0.25em;\n  box-sizing: border-box;\n  margin-bottom: 0.5em;\n  /* unfitted */\n  background-color: var(--sklearn-color-unfitted-level-0);\n}\n\n#sk-container-id-2 div.sk-estimator.fitted {\n  /* fitted */\n  background-color: var(--sklearn-color-fitted-level-0);\n}\n\n/* on hover */\n#sk-container-id-2 div.sk-estimator:hover {\n  /* unfitted */\n  background-color: var(--sklearn-color-unfitted-level-2);\n}\n\n#sk-container-id-2 div.sk-estimator.fitted:hover {\n  /* fitted */\n  background-color: var(--sklearn-color-fitted-level-2);\n}\n\n/* Specification for estimator info (e.g. \"i\" and \"?\") */\n\n/* Common style for \"i\" and \"?\" */\n\n.sk-estimator-doc-link,\na:link.sk-estimator-doc-link,\na:visited.sk-estimator-doc-link {\n  float: right;\n  font-size: smaller;\n  line-height: 1em;\n  font-family: monospace;\n  background-color: var(--sklearn-color-background);\n  border-radius: 1em;\n  height: 1em;\n  width: 1em;\n  text-decoration: none !important;\n  margin-left: 1ex;\n  /* unfitted */\n  border: var(--sklearn-color-unfitted-level-1) 1pt solid;\n  color: var(--sklearn-color-unfitted-level-1);\n}\n\n.sk-estimator-doc-link.fitted,\na:link.sk-estimator-doc-link.fitted,\na:visited.sk-estimator-doc-link.fitted {\n  /* fitted */\n  border: var(--sklearn-color-fitted-level-1) 1pt solid;\n  color: var(--sklearn-color-fitted-level-1);\n}\n\n/* On hover */\ndiv.sk-estimator:hover .sk-estimator-doc-link:hover,\n.sk-estimator-doc-link:hover,\ndiv.sk-label-container:hover .sk-estimator-doc-link:hover,\n.sk-estimator-doc-link:hover {\n  /* unfitted */\n  background-color: var(--sklearn-color-unfitted-level-3);\n  color: var(--sklearn-color-background);\n  text-decoration: none;\n}\n\ndiv.sk-estimator.fitted:hover .sk-estimator-doc-link.fitted:hover,\n.sk-estimator-doc-link.fitted:hover,\ndiv.sk-label-container:hover .sk-estimator-doc-link.fitted:hover,\n.sk-estimator-doc-link.fitted:hover {\n  /* fitted */\n  background-color: var(--sklearn-color-fitted-level-3);\n  color: var(--sklearn-color-background);\n  text-decoration: none;\n}\n\n/* Span, style for the box shown on hovering the info icon */\n.sk-estimator-doc-link span {\n  display: none;\n  z-index: 9999;\n  position: relative;\n  font-weight: normal;\n  right: .2ex;\n  padding: .5ex;\n  margin: .5ex;\n  width: min-content;\n  min-width: 20ex;\n  max-width: 50ex;\n  color: var(--sklearn-color-text);\n  box-shadow: 2pt 2pt 4pt #999;\n  /* unfitted */\n  background: var(--sklearn-color-unfitted-level-0);\n  border: .5pt solid var(--sklearn-color-unfitted-level-3);\n}\n\n.sk-estimator-doc-link.fitted span {\n  /* fitted */\n  background: var(--sklearn-color-fitted-level-0);\n  border: var(--sklearn-color-fitted-level-3);\n}\n\n.sk-estimator-doc-link:hover span {\n  display: block;\n}\n\n/* \"?\"-specific style due to the `<a>` HTML tag */\n\n#sk-container-id-2 a.estimator_doc_link {\n  float: right;\n  font-size: 1rem;\n  line-height: 1em;\n  font-family: monospace;\n  background-color: var(--sklearn-color-background);\n  border-radius: 1rem;\n  height: 1rem;\n  width: 1rem;\n  text-decoration: none;\n  /* unfitted */\n  color: var(--sklearn-color-unfitted-level-1);\n  border: var(--sklearn-color-unfitted-level-1) 1pt solid;\n}\n\n#sk-container-id-2 a.estimator_doc_link.fitted {\n  /* fitted */\n  border: var(--sklearn-color-fitted-level-1) 1pt solid;\n  color: var(--sklearn-color-fitted-level-1);\n}\n\n/* On hover */\n#sk-container-id-2 a.estimator_doc_link:hover {\n  /* unfitted */\n  background-color: var(--sklearn-color-unfitted-level-3);\n  color: var(--sklearn-color-background);\n  text-decoration: none;\n}\n\n#sk-container-id-2 a.estimator_doc_link.fitted:hover {\n  /* fitted */\n  background-color: var(--sklearn-color-fitted-level-3);\n}\n</style><div id=\"sk-container-id-2\" class=\"sk-top-container\"><div class=\"sk-text-repr-fallback\"><pre>RandomForestClassifier()</pre><b>In a Jupyter environment, please rerun this cell to show the HTML representation or trust the notebook. <br />On GitHub, the HTML representation is unable to render, please try loading this page with nbviewer.org.</b></div><div class=\"sk-container\" hidden><div class=\"sk-item\"><div class=\"sk-estimator fitted sk-toggleable\"><input class=\"sk-toggleable__control sk-hidden--visually\" id=\"sk-estimator-id-2\" type=\"checkbox\" checked><label for=\"sk-estimator-id-2\" class=\"sk-toggleable__label fitted sk-toggleable__label-arrow fitted\">&nbsp;&nbsp;RandomForestClassifier<a class=\"sk-estimator-doc-link fitted\" rel=\"noreferrer\" target=\"_blank\" href=\"https://scikit-learn.org/1.5/modules/generated/sklearn.ensemble.RandomForestClassifier.html\">?<span>Documentation for RandomForestClassifier</span></a><span class=\"sk-estimator-doc-link fitted\">i<span>Fitted</span></span></label><div class=\"sk-toggleable__content fitted\"><pre>RandomForestClassifier()</pre></div> </div></div></div></div>"
          },
          "metadata": {}
        }
      ]
    },
    {
      "cell_type": "markdown",
      "source": [
        "- Проведите оценку качества моделей путем 10-фолдовой кросс-валидации (KFold cross-validation)\n"
      ],
      "metadata": {
        "id": "4qNvBERMqFLl"
      }
    },
    {
      "cell_type": "code",
      "source": [
        "from sklearn.model_selection import cross_val_score\n",
        "scores = cross_val_score(RandomForestClassifier(), full, y, cv=10, verbose=1)\n",
        "scores"
      ],
      "metadata": {
        "id": "P4iegUEx4zfg",
        "colab": {
          "base_uri": "https://localhost:8080/"
        },
        "outputId": "354650b0-24dc-4d20-a3e5-4b5c9353d5fc",
        "execution": {
          "iopub.status.busy": "2024-10-06T21:27:34.672947Z",
          "iopub.execute_input": "2024-10-06T21:27:34.673338Z",
          "iopub.status.idle": "2024-10-06T21:36:42.769186Z",
          "shell.execute_reply.started": "2024-10-06T21:27:34.673293Z",
          "shell.execute_reply": "2024-10-06T21:36:42.768220Z"
        },
        "trusted": true
      },
      "execution_count": null,
      "outputs": [
        {
          "execution_count": 24,
          "output_type": "execute_result",
          "data": {
            "text/plain": "array([0.92458678, 0.9018595 , 0.90909091, 0.90082645, 0.91115702,\n       0.90495868, 0.91115702, 0.90082645, 0.91106515, 0.90589452])"
          },
          "metadata": {}
        }
      ]
    },
    {
      "cell_type": "code",
      "source": [
        "scores.mean()"
      ],
      "metadata": {
        "colab": {
          "base_uri": "https://localhost:8080/"
        },
        "id": "vfwGAQV52FlA",
        "outputId": "b8ec5bc5-6394-48c9-8e02-e81f525ff1e5",
        "execution": {
          "iopub.status.busy": "2024-10-06T21:36:42.770702Z",
          "iopub.execute_input": "2024-10-06T21:36:42.771392Z",
          "iopub.status.idle": "2024-10-06T21:36:42.777971Z",
          "shell.execute_reply.started": "2024-10-06T21:36:42.771341Z",
          "shell.execute_reply": "2024-10-06T21:36:42.777029Z"
        },
        "trusted": true
      },
      "execution_count": null,
      "outputs": [
        {
          "execution_count": 25,
          "output_type": "execute_result",
          "data": {
            "text/plain": "0.9081422478996982"
          },
          "metadata": {}
        }
      ]
    },
    {
      "cell_type": "markdown",
      "source": [
        "- Постройте и проанализируйте матрицу несоответствия (confusion matrix).\n"
      ],
      "metadata": {
        "id": "jM-swXPzqGoi"
      }
    },
    {
      "cell_type": "code",
      "source": [
        "import numpy as np\n",
        "def compute_confusion_matrix(true, pred):\n",
        "  K = len(np.unique(true))\n",
        "  result = np.zeros((K, K))\n",
        "  for i in range(len(true)):\n",
        "    result[true[i]][pred[i]] += 1\n",
        "  return result"
      ],
      "metadata": {
        "id": "0touuqsMSHqz",
        "execution": {
          "iopub.status.busy": "2024-10-07T09:27:46.063766Z",
          "iopub.execute_input": "2024-10-07T09:27:46.065305Z",
          "iopub.status.idle": "2024-10-07T09:27:46.071948Z",
          "shell.execute_reply.started": "2024-10-07T09:27:46.065243Z",
          "shell.execute_reply": "2024-10-07T09:27:46.071017Z"
        },
        "trusted": true
      },
      "execution_count": null,
      "outputs": []
    },
    {
      "cell_type": "code",
      "source": [
        "results = rf.predict(eval)\n",
        "compute_confusion_matrix(y_eval, results)\n",
        "# TP FP\n",
        "# FN TN"
      ],
      "metadata": {
        "id": "k9tpy6J3SOIj",
        "colab": {
          "base_uri": "https://localhost:8080/"
        },
        "outputId": "73e5b22c-d98e-4b8f-9cbf-83016d068d90",
        "execution": {
          "iopub.status.busy": "2024-10-07T09:33:27.596482Z",
          "iopub.execute_input": "2024-10-07T09:33:27.596819Z",
          "iopub.status.idle": "2024-10-07T09:33:28.218722Z",
          "shell.execute_reply.started": "2024-10-07T09:33:27.596782Z",
          "shell.execute_reply": "2024-10-07T09:33:28.217706Z"
        },
        "trusted": true
      },
      "execution_count": null,
      "outputs": [
        {
          "execution_count": 191,
          "output_type": "execute_result",
          "data": {
            "text/plain": "array([[2536.,   56.],\n       [ 280.,  354.]])"
          },
          "metadata": {}
        }
      ]
    },
    {
      "cell_type": "markdown",
      "source": [
        "Доля FN получилось сильно выше, чем доля FP. То есть модель склонна недооценивать токсичность комментариев\n"
      ],
      "metadata": {
        "id": "sFPliO7JbO1W"
      }
    },
    {
      "cell_type": "markdown",
      "source": [
        "- Попробуйте улучшить качество классификации путем экспериментов с гипер-параметрами моделей и методов для извлечения признаков.\n",
        "\n"
      ],
      "metadata": {
        "id": "b0z3mzJRqIHC"
      }
    },
    {
      "cell_type": "code",
      "source": [
        "from sklearn.model_selection import GridSearchCV\n",
        "\n",
        "param_grid = {\n",
        "    'n_estimators': [50, 100, 150],\n",
        "    'max_depth': [None, 10, 20],\n",
        "    'min_samples_leaf': [1, 2, 4]\n",
        "}\n",
        "\n",
        "rf_model = RandomForestClassifier()\n",
        "grid_search = GridSearchCV(rf_model, param_grid, cv=10)\n",
        "grid_search.fit(full, y)\n",
        "\n",
        "print(\"Best Hyperparameters:\", grid_search.best_params_)\n",
        "print(\"Best Cross-Validation Score:\", grid_search.best_score_)"
      ],
      "metadata": {
        "id": "7278GLWT2eCP",
        "execution": {
          "iopub.status.busy": "2024-10-06T21:36:43.476718Z",
          "iopub.execute_input": "2024-10-06T21:36:43.477006Z",
          "iopub.status.idle": "2024-10-06T23:09:57.473521Z",
          "shell.execute_reply.started": "2024-10-06T21:36:43.476976Z",
          "shell.execute_reply": "2024-10-06T23:09:57.472550Z"
        },
        "trusted": true,
        "outputId": "4ceaf64c-0ae5-46b1-f1ab-195cc8fa4899"
      },
      "execution_count": null,
      "outputs": [
        {
          "name": "stdout",
          "text": "Best Hyperparameters: {'max_depth': None, 'min_samples_leaf': 1, 'n_estimators': 100}\nBest Cross-Validation Score: 0.9105189219448409\n",
          "output_type": "stream"
        }
      ]
    },
    {
      "cell_type": "code",
      "source": [
        "rf_best=RandomForestClassifier(n_estimators=100, max_depth=None, min_samples_leaf=1)\n",
        "rf_best.fit(full,y)"
      ],
      "metadata": {
        "execution": {
          "iopub.status.busy": "2024-10-07T09:27:50.963707Z",
          "iopub.execute_input": "2024-10-07T09:27:50.964627Z",
          "iopub.status.idle": "2024-10-07T09:28:54.753002Z",
          "shell.execute_reply.started": "2024-10-07T09:27:50.964581Z",
          "shell.execute_reply": "2024-10-07T09:28:54.752095Z"
        },
        "trusted": true,
        "id": "a590MxsjbBAR",
        "outputId": "d7f164c0-f106-4866-9cec-06d97807e36e"
      },
      "execution_count": null,
      "outputs": [
        {
          "execution_count": 183,
          "output_type": "execute_result",
          "data": {
            "text/plain": "RandomForestClassifier()",
            "text/html": "<style>#sk-container-id-1 {\n  /* Definition of color scheme common for light and dark mode */\n  --sklearn-color-text: black;\n  --sklearn-color-line: gray;\n  /* Definition of color scheme for unfitted estimators */\n  --sklearn-color-unfitted-level-0: #fff5e6;\n  --sklearn-color-unfitted-level-1: #f6e4d2;\n  --sklearn-color-unfitted-level-2: #ffe0b3;\n  --sklearn-color-unfitted-level-3: chocolate;\n  /* Definition of color scheme for fitted estimators */\n  --sklearn-color-fitted-level-0: #f0f8ff;\n  --sklearn-color-fitted-level-1: #d4ebff;\n  --sklearn-color-fitted-level-2: #b3dbfd;\n  --sklearn-color-fitted-level-3: cornflowerblue;\n\n  /* Specific color for light theme */\n  --sklearn-color-text-on-default-background: var(--sg-text-color, var(--theme-code-foreground, var(--jp-content-font-color1, black)));\n  --sklearn-color-background: var(--sg-background-color, var(--theme-background, var(--jp-layout-color0, white)));\n  --sklearn-color-border-box: var(--sg-text-color, var(--theme-code-foreground, var(--jp-content-font-color1, black)));\n  --sklearn-color-icon: #696969;\n\n  @media (prefers-color-scheme: dark) {\n    /* Redefinition of color scheme for dark theme */\n    --sklearn-color-text-on-default-background: var(--sg-text-color, var(--theme-code-foreground, var(--jp-content-font-color1, white)));\n    --sklearn-color-background: var(--sg-background-color, var(--theme-background, var(--jp-layout-color0, #111)));\n    --sklearn-color-border-box: var(--sg-text-color, var(--theme-code-foreground, var(--jp-content-font-color1, white)));\n    --sklearn-color-icon: #878787;\n  }\n}\n\n#sk-container-id-1 {\n  color: var(--sklearn-color-text);\n}\n\n#sk-container-id-1 pre {\n  padding: 0;\n}\n\n#sk-container-id-1 input.sk-hidden--visually {\n  border: 0;\n  clip: rect(1px 1px 1px 1px);\n  clip: rect(1px, 1px, 1px, 1px);\n  height: 1px;\n  margin: -1px;\n  overflow: hidden;\n  padding: 0;\n  position: absolute;\n  width: 1px;\n}\n\n#sk-container-id-1 div.sk-dashed-wrapped {\n  border: 1px dashed var(--sklearn-color-line);\n  margin: 0 0.4em 0.5em 0.4em;\n  box-sizing: border-box;\n  padding-bottom: 0.4em;\n  background-color: var(--sklearn-color-background);\n}\n\n#sk-container-id-1 div.sk-container {\n  /* jupyter's `normalize.less` sets `[hidden] { display: none; }`\n     but bootstrap.min.css set `[hidden] { display: none !important; }`\n     so we also need the `!important` here to be able to override the\n     default hidden behavior on the sphinx rendered scikit-learn.org.\n     See: https://github.com/scikit-learn/scikit-learn/issues/21755 */\n  display: inline-block !important;\n  position: relative;\n}\n\n#sk-container-id-1 div.sk-text-repr-fallback {\n  display: none;\n}\n\ndiv.sk-parallel-item,\ndiv.sk-serial,\ndiv.sk-item {\n  /* draw centered vertical line to link estimators */\n  background-image: linear-gradient(var(--sklearn-color-text-on-default-background), var(--sklearn-color-text-on-default-background));\n  background-size: 2px 100%;\n  background-repeat: no-repeat;\n  background-position: center center;\n}\n\n/* Parallel-specific style estimator block */\n\n#sk-container-id-1 div.sk-parallel-item::after {\n  content: \"\";\n  width: 100%;\n  border-bottom: 2px solid var(--sklearn-color-text-on-default-background);\n  flex-grow: 1;\n}\n\n#sk-container-id-1 div.sk-parallel {\n  display: flex;\n  align-items: stretch;\n  justify-content: center;\n  background-color: var(--sklearn-color-background);\n  position: relative;\n}\n\n#sk-container-id-1 div.sk-parallel-item {\n  display: flex;\n  flex-direction: column;\n}\n\n#sk-container-id-1 div.sk-parallel-item:first-child::after {\n  align-self: flex-end;\n  width: 50%;\n}\n\n#sk-container-id-1 div.sk-parallel-item:last-child::after {\n  align-self: flex-start;\n  width: 50%;\n}\n\n#sk-container-id-1 div.sk-parallel-item:only-child::after {\n  width: 0;\n}\n\n/* Serial-specific style estimator block */\n\n#sk-container-id-1 div.sk-serial {\n  display: flex;\n  flex-direction: column;\n  align-items: center;\n  background-color: var(--sklearn-color-background);\n  padding-right: 1em;\n  padding-left: 1em;\n}\n\n\n/* Toggleable style: style used for estimator/Pipeline/ColumnTransformer box that is\nclickable and can be expanded/collapsed.\n- Pipeline and ColumnTransformer use this feature and define the default style\n- Estimators will overwrite some part of the style using the `sk-estimator` class\n*/\n\n/* Pipeline and ColumnTransformer style (default) */\n\n#sk-container-id-1 div.sk-toggleable {\n  /* Default theme specific background. It is overwritten whether we have a\n  specific estimator or a Pipeline/ColumnTransformer */\n  background-color: var(--sklearn-color-background);\n}\n\n/* Toggleable label */\n#sk-container-id-1 label.sk-toggleable__label {\n  cursor: pointer;\n  display: block;\n  width: 100%;\n  margin-bottom: 0;\n  padding: 0.5em;\n  box-sizing: border-box;\n  text-align: center;\n}\n\n#sk-container-id-1 label.sk-toggleable__label-arrow:before {\n  /* Arrow on the left of the label */\n  content: \"▸\";\n  float: left;\n  margin-right: 0.25em;\n  color: var(--sklearn-color-icon);\n}\n\n#sk-container-id-1 label.sk-toggleable__label-arrow:hover:before {\n  color: var(--sklearn-color-text);\n}\n\n/* Toggleable content - dropdown */\n\n#sk-container-id-1 div.sk-toggleable__content {\n  max-height: 0;\n  max-width: 0;\n  overflow: hidden;\n  text-align: left;\n  /* unfitted */\n  background-color: var(--sklearn-color-unfitted-level-0);\n}\n\n#sk-container-id-1 div.sk-toggleable__content.fitted {\n  /* fitted */\n  background-color: var(--sklearn-color-fitted-level-0);\n}\n\n#sk-container-id-1 div.sk-toggleable__content pre {\n  margin: 0.2em;\n  border-radius: 0.25em;\n  color: var(--sklearn-color-text);\n  /* unfitted */\n  background-color: var(--sklearn-color-unfitted-level-0);\n}\n\n#sk-container-id-1 div.sk-toggleable__content.fitted pre {\n  /* unfitted */\n  background-color: var(--sklearn-color-fitted-level-0);\n}\n\n#sk-container-id-1 input.sk-toggleable__control:checked~div.sk-toggleable__content {\n  /* Expand drop-down */\n  max-height: 200px;\n  max-width: 100%;\n  overflow: auto;\n}\n\n#sk-container-id-1 input.sk-toggleable__control:checked~label.sk-toggleable__label-arrow:before {\n  content: \"▾\";\n}\n\n/* Pipeline/ColumnTransformer-specific style */\n\n#sk-container-id-1 div.sk-label input.sk-toggleable__control:checked~label.sk-toggleable__label {\n  color: var(--sklearn-color-text);\n  background-color: var(--sklearn-color-unfitted-level-2);\n}\n\n#sk-container-id-1 div.sk-label.fitted input.sk-toggleable__control:checked~label.sk-toggleable__label {\n  background-color: var(--sklearn-color-fitted-level-2);\n}\n\n/* Estimator-specific style */\n\n/* Colorize estimator box */\n#sk-container-id-1 div.sk-estimator input.sk-toggleable__control:checked~label.sk-toggleable__label {\n  /* unfitted */\n  background-color: var(--sklearn-color-unfitted-level-2);\n}\n\n#sk-container-id-1 div.sk-estimator.fitted input.sk-toggleable__control:checked~label.sk-toggleable__label {\n  /* fitted */\n  background-color: var(--sklearn-color-fitted-level-2);\n}\n\n#sk-container-id-1 div.sk-label label.sk-toggleable__label,\n#sk-container-id-1 div.sk-label label {\n  /* The background is the default theme color */\n  color: var(--sklearn-color-text-on-default-background);\n}\n\n/* On hover, darken the color of the background */\n#sk-container-id-1 div.sk-label:hover label.sk-toggleable__label {\n  color: var(--sklearn-color-text);\n  background-color: var(--sklearn-color-unfitted-level-2);\n}\n\n/* Label box, darken color on hover, fitted */\n#sk-container-id-1 div.sk-label.fitted:hover label.sk-toggleable__label.fitted {\n  color: var(--sklearn-color-text);\n  background-color: var(--sklearn-color-fitted-level-2);\n}\n\n/* Estimator label */\n\n#sk-container-id-1 div.sk-label label {\n  font-family: monospace;\n  font-weight: bold;\n  display: inline-block;\n  line-height: 1.2em;\n}\n\n#sk-container-id-1 div.sk-label-container {\n  text-align: center;\n}\n\n/* Estimator-specific */\n#sk-container-id-1 div.sk-estimator {\n  font-family: monospace;\n  border: 1px dotted var(--sklearn-color-border-box);\n  border-radius: 0.25em;\n  box-sizing: border-box;\n  margin-bottom: 0.5em;\n  /* unfitted */\n  background-color: var(--sklearn-color-unfitted-level-0);\n}\n\n#sk-container-id-1 div.sk-estimator.fitted {\n  /* fitted */\n  background-color: var(--sklearn-color-fitted-level-0);\n}\n\n/* on hover */\n#sk-container-id-1 div.sk-estimator:hover {\n  /* unfitted */\n  background-color: var(--sklearn-color-unfitted-level-2);\n}\n\n#sk-container-id-1 div.sk-estimator.fitted:hover {\n  /* fitted */\n  background-color: var(--sklearn-color-fitted-level-2);\n}\n\n/* Specification for estimator info (e.g. \"i\" and \"?\") */\n\n/* Common style for \"i\" and \"?\" */\n\n.sk-estimator-doc-link,\na:link.sk-estimator-doc-link,\na:visited.sk-estimator-doc-link {\n  float: right;\n  font-size: smaller;\n  line-height: 1em;\n  font-family: monospace;\n  background-color: var(--sklearn-color-background);\n  border-radius: 1em;\n  height: 1em;\n  width: 1em;\n  text-decoration: none !important;\n  margin-left: 1ex;\n  /* unfitted */\n  border: var(--sklearn-color-unfitted-level-1) 1pt solid;\n  color: var(--sklearn-color-unfitted-level-1);\n}\n\n.sk-estimator-doc-link.fitted,\na:link.sk-estimator-doc-link.fitted,\na:visited.sk-estimator-doc-link.fitted {\n  /* fitted */\n  border: var(--sklearn-color-fitted-level-1) 1pt solid;\n  color: var(--sklearn-color-fitted-level-1);\n}\n\n/* On hover */\ndiv.sk-estimator:hover .sk-estimator-doc-link:hover,\n.sk-estimator-doc-link:hover,\ndiv.sk-label-container:hover .sk-estimator-doc-link:hover,\n.sk-estimator-doc-link:hover {\n  /* unfitted */\n  background-color: var(--sklearn-color-unfitted-level-3);\n  color: var(--sklearn-color-background);\n  text-decoration: none;\n}\n\ndiv.sk-estimator.fitted:hover .sk-estimator-doc-link.fitted:hover,\n.sk-estimator-doc-link.fitted:hover,\ndiv.sk-label-container:hover .sk-estimator-doc-link.fitted:hover,\n.sk-estimator-doc-link.fitted:hover {\n  /* fitted */\n  background-color: var(--sklearn-color-fitted-level-3);\n  color: var(--sklearn-color-background);\n  text-decoration: none;\n}\n\n/* Span, style for the box shown on hovering the info icon */\n.sk-estimator-doc-link span {\n  display: none;\n  z-index: 9999;\n  position: relative;\n  font-weight: normal;\n  right: .2ex;\n  padding: .5ex;\n  margin: .5ex;\n  width: min-content;\n  min-width: 20ex;\n  max-width: 50ex;\n  color: var(--sklearn-color-text);\n  box-shadow: 2pt 2pt 4pt #999;\n  /* unfitted */\n  background: var(--sklearn-color-unfitted-level-0);\n  border: .5pt solid var(--sklearn-color-unfitted-level-3);\n}\n\n.sk-estimator-doc-link.fitted span {\n  /* fitted */\n  background: var(--sklearn-color-fitted-level-0);\n  border: var(--sklearn-color-fitted-level-3);\n}\n\n.sk-estimator-doc-link:hover span {\n  display: block;\n}\n\n/* \"?\"-specific style due to the `<a>` HTML tag */\n\n#sk-container-id-1 a.estimator_doc_link {\n  float: right;\n  font-size: 1rem;\n  line-height: 1em;\n  font-family: monospace;\n  background-color: var(--sklearn-color-background);\n  border-radius: 1rem;\n  height: 1rem;\n  width: 1rem;\n  text-decoration: none;\n  /* unfitted */\n  color: var(--sklearn-color-unfitted-level-1);\n  border: var(--sklearn-color-unfitted-level-1) 1pt solid;\n}\n\n#sk-container-id-1 a.estimator_doc_link.fitted {\n  /* fitted */\n  border: var(--sklearn-color-fitted-level-1) 1pt solid;\n  color: var(--sklearn-color-fitted-level-1);\n}\n\n/* On hover */\n#sk-container-id-1 a.estimator_doc_link:hover {\n  /* unfitted */\n  background-color: var(--sklearn-color-unfitted-level-3);\n  color: var(--sklearn-color-background);\n  text-decoration: none;\n}\n\n#sk-container-id-1 a.estimator_doc_link.fitted:hover {\n  /* fitted */\n  background-color: var(--sklearn-color-fitted-level-3);\n}\n</style><div id=\"sk-container-id-1\" class=\"sk-top-container\"><div class=\"sk-text-repr-fallback\"><pre>RandomForestClassifier()</pre><b>In a Jupyter environment, please rerun this cell to show the HTML representation or trust the notebook. <br />On GitHub, the HTML representation is unable to render, please try loading this page with nbviewer.org.</b></div><div class=\"sk-container\" hidden><div class=\"sk-item\"><div class=\"sk-estimator fitted sk-toggleable\"><input class=\"sk-toggleable__control sk-hidden--visually\" id=\"sk-estimator-id-1\" type=\"checkbox\" checked><label for=\"sk-estimator-id-1\" class=\"sk-toggleable__label fitted sk-toggleable__label-arrow fitted\">&nbsp;&nbsp;RandomForestClassifier<a class=\"sk-estimator-doc-link fitted\" rel=\"noreferrer\" target=\"_blank\" href=\"https://scikit-learn.org/1.5/modules/generated/sklearn.ensemble.RandomForestClassifier.html\">?<span>Documentation for RandomForestClassifier</span></a><span class=\"sk-estimator-doc-link fitted\">i<span>Fitted</span></span></label><div class=\"sk-toggleable__content fitted\"><pre>RandomForestClassifier()</pre></div> </div></div></div></div>"
          },
          "metadata": {}
        }
      ]
    },
    {
      "cell_type": "markdown",
      "source": [
        "Использование предобученных моделей (библиотека transformers)\n"
      ],
      "metadata": {
        "id": "IGwLnzBRQxB0"
      }
    },
    {
      "cell_type": "markdown",
      "source": [
        "- Используйте токенизатор RoBERTa для преобразования текстовых данных в формат, понятный модели.\n"
      ],
      "metadata": {
        "id": "GgKmvvX33SDO"
      }
    },
    {
      "cell_type": "code",
      "source": [
        "from transformers import RobertaTokenizerFast\n",
        "tokenizer = RobertaTokenizerFast.from_pretrained('roberta-base', max_length = 512)"
      ],
      "metadata": {
        "id": "-utdwUvvQwiT",
        "execution": {
          "iopub.status.busy": "2024-10-07T09:03:08.503136Z",
          "iopub.execute_input": "2024-10-07T09:03:08.503888Z",
          "iopub.status.idle": "2024-10-07T09:03:08.801703Z",
          "shell.execute_reply.started": "2024-10-07T09:03:08.503846Z",
          "shell.execute_reply": "2024-10-07T09:03:08.800888Z"
        },
        "trusted": true
      },
      "execution_count": null,
      "outputs": []
    },
    {
      "cell_type": "code",
      "source": [
        "from datasets import Dataset\n",
        "train_dataset = Dataset.from_dict({\"text\": X_train, \"label\": y_train})\n",
        "test_dataset = Dataset.from_dict({\"text\": X_test, \"label\": y_test})\n",
        "eval_dataset = Dataset.from_dict({\"text\": X_eval, \"label\": y_eval})"
      ],
      "metadata": {
        "id": "z7_MrmLnhe-y",
        "execution": {
          "iopub.status.busy": "2024-10-07T09:03:10.028432Z",
          "iopub.execute_input": "2024-10-07T09:03:10.028854Z",
          "iopub.status.idle": "2024-10-07T09:03:10.064274Z",
          "shell.execute_reply.started": "2024-10-07T09:03:10.028802Z",
          "shell.execute_reply": "2024-10-07T09:03:10.063516Z"
        },
        "trusted": true
      },
      "execution_count": null,
      "outputs": []
    },
    {
      "cell_type": "code",
      "source": [
        "def tokenization(text):\n",
        "    return tokenizer(text[\"text\"], truncation=True)\n",
        "\n",
        "train_data = train_dataset.map(tokenization)\n",
        "test_data = test_dataset.map(tokenization)\n",
        "eval_data = eval_dataset.map(tokenization)"
      ],
      "metadata": {
        "id": "yV-SGUMlT5nx",
        "colab": {
          "base_uri": "https://localhost:8080/",
          "height": 113,
          "referenced_widgets": [
            "adbb94103cdf4151ad70baa5686baffe",
            "f02c4935d6de47e78aa3be47245381cb",
            "3b532ef65b114c4dbbb82c13e513615c",
            "365f246932ee496cad6ee18e31cc0c73",
            "fcab6733e1b8449786293dc01373502b",
            "66ef0d3e5d0942759e9088a01811d588",
            "c7be41e8afd241f9adbcc5b3ac1c63ca",
            "01285c5314dd446d8585b4c840187649",
            "07083cbca00b4eb4916fdda6137733c6",
            "609430af98104ec982eadb84d6e5dabc",
            "04e15ff028284c489b9e184db365c601",
            "9475e6ec7fa04b2390b4093da3b1dcf1",
            "3ab5e1d7aa264a32b2e4c282aabd4757",
            "94ffdca7818f48859f369b83f67c1b5b",
            "d9a1ab2738314b17a71dc986425a3de6",
            "dab0d0a414154c4c830cf467f7fe693c",
            "1f487d2852374517bab84009bb3cf6bf",
            "ab377e9bec234054ba964be47511df31",
            "599616570891486db44c11c14ff7149e",
            "57b4c2eeba7e4a8fa3ac5c31b91d42ff",
            "fe8d603953bc4acf9dc79218e17adb93",
            "0a51a086fc7b4343b94fd49e9f994ee5",
            "e9e7521aea7d41628bc078f1a5d23185",
            "1cbfc9e8d7444434bb4196c538f5a493",
            "008c429fe3dc460e80474778556f9b5d",
            "47ff0d394e0940d9b0f5cec8a908aaf6",
            "56f74e30372344c1942ab83a06e4bd15",
            "fc158e0bb7204f12bf611c40ba96dfa8",
            "91789fb676d945f8916b34354edf8bf3",
            "5012e8bd78c84e6d90758b5001de10a0",
            "75ce766e34424d04937661b385b9f4f3",
            "429487d5abf64356becaf9d626f07d10",
            "06c97767d05b49d5830b747fe0ca8561",
            "fa5675b2996a4c4692cf9b311ddd7043",
            "e12632498c8641bc9329016ef941bd0d",
            "b662090247504b84b75a3d8ae636d522"
          ]
        },
        "outputId": "80318683-550b-418b-a3b0-5c208cea2a35",
        "execution": {
          "iopub.status.busy": "2024-10-07T09:03:11.297310Z",
          "iopub.execute_input": "2024-10-07T09:03:11.297665Z",
          "iopub.status.idle": "2024-10-07T09:03:14.959553Z",
          "shell.execute_reply.started": "2024-10-07T09:03:11.297633Z",
          "shell.execute_reply": "2024-10-07T09:03:14.958645Z"
        },
        "trusted": true
      },
      "execution_count": null,
      "outputs": [
        {
          "output_type": "display_data",
          "data": {
            "text/plain": "Map:   0%|          | 0/7258 [00:00<?, ? examples/s]",
            "application/vnd.jupyter.widget-view+json": {
              "version_major": 2,
              "version_minor": 0,
              "model_id": "fa5675b2996a4c4692cf9b311ddd7043"
            }
          },
          "metadata": {}
        },
        {
          "output_type": "display_data",
          "data": {
            "text/plain": "Map:   0%|          | 0/2420 [00:00<?, ? examples/s]",
            "application/vnd.jupyter.widget-view+json": {
              "version_major": 2,
              "version_minor": 0,
              "model_id": "e12632498c8641bc9329016ef941bd0d"
            }
          },
          "metadata": {}
        },
        {
          "output_type": "display_data",
          "data": {
            "text/plain": "Map:   0%|          | 0/3226 [00:00<?, ? examples/s]",
            "application/vnd.jupyter.widget-view+json": {
              "version_major": 2,
              "version_minor": 0,
              "model_id": "b662090247504b84b75a3d8ae636d522"
            }
          },
          "metadata": {}
        }
      ]
    },
    {
      "cell_type": "code",
      "source": [
        "train_data.set_format('torch', columns=['input_ids', 'attention_mask', 'label'])\n",
        "test_data.set_format('torch', columns=['input_ids', 'attention_mask', 'label'])\n",
        "eval_data.set_format('torch', columns=['input_ids', 'attention_mask', 'label'])"
      ],
      "metadata": {
        "id": "NGEa2YLZVH3F",
        "execution": {
          "iopub.status.busy": "2024-10-07T09:03:21.715659Z",
          "iopub.execute_input": "2024-10-07T09:03:21.716403Z",
          "iopub.status.idle": "2024-10-07T09:03:21.724156Z",
          "shell.execute_reply.started": "2024-10-07T09:03:21.716363Z",
          "shell.execute_reply": "2024-10-07T09:03:21.723154Z"
        },
        "trusted": true
      },
      "execution_count": null,
      "outputs": []
    },
    {
      "cell_type": "markdown",
      "source": [
        "- Инициализируйте модель RoBERTa/CodeBERT (AutoModelForSequenceClassification) и объект Trainer, который будет управлять процессом обучения. Определите параметры обучения, такие как количество эпох, размер батча и скорость обучения. Запустите процесс обучения модели на обучающих данных.\n"
      ],
      "metadata": {
        "id": "ljwcWa-j3Tm0"
      }
    },
    {
      "cell_type": "code",
      "source": [
        "from transformers import AutoModelForSequenceClassification\n",
        "model = AutoModelForSequenceClassification.from_pretrained('roberta-base', num_labels=2)"
      ],
      "metadata": {
        "id": "rYqVZnRKliG0",
        "colab": {
          "base_uri": "https://localhost:8080/",
          "height": 104,
          "referenced_widgets": [
            "f55f676eab7c47bbae81d648f0844544",
            "ad9e1fbff5d34034af453f77212efbc0",
            "3ad3f18fe2954f4d93befdea56835df6",
            "a960ba400521459fbd6f59217ed37da4",
            "c71f33b2056440f796f9d9a80e2e6b79",
            "0a669e29f03a497289b65136776307bd",
            "2830f22502404ff8a24c4dc8955762d3",
            "3559e206c7684acb9b5e9fc9c60082ff",
            "56b893bf9f8d445895db2b1e050b06ee",
            "561b16cdd8a64bf3a90b7bc84524157a",
            "63f7e8ea1d064b9b8b9520305cff5736"
          ]
        },
        "outputId": "c5aecf1c-ec90-444a-b3a4-29f8eca2cc71",
        "execution": {
          "iopub.status.busy": "2024-10-07T09:16:17.967485Z",
          "iopub.execute_input": "2024-10-07T09:16:17.967945Z",
          "iopub.status.idle": "2024-10-07T09:16:18.240862Z",
          "shell.execute_reply.started": "2024-10-07T09:16:17.967904Z",
          "shell.execute_reply": "2024-10-07T09:16:18.240096Z"
        },
        "trusted": true
      },
      "execution_count": null,
      "outputs": [
        {
          "name": "stderr",
          "text": "Some weights of RobertaForSequenceClassification were not initialized from the model checkpoint at roberta-base and are newly initialized: ['classifier.dense.bias', 'classifier.dense.weight', 'classifier.out_proj.bias', 'classifier.out_proj.weight']\nYou should probably TRAIN this model on a down-stream task to be able to use it for predictions and inference.\n",
          "output_type": "stream"
        }
      ]
    },
    {
      "cell_type": "code",
      "source": [
        "from transformers import TrainingArguments\n",
        "\n",
        "training_args = TrainingArguments(\n",
        "    output_dir = '.',\n",
        "    num_train_epochs=3,\n",
        "    gradient_accumulation_steps = 16,\n",
        "    per_device_train_batch_size = 4,\n",
        "    per_device_eval_batch_size= 8,\n",
        "    eval_strategy = \"epoch\",\n",
        "    save_strategy=\"epoch\",\n",
        "    load_best_model_at_end=True,\n",
        "    warmup_steps=500,\n",
        "    logging_steps = 8,\n",
        "    dataloader_num_workers = 4,\n",
        "    run_name = 'roberta-classification'\n",
        ")"
      ],
      "metadata": {
        "id": "EkZLo54wWVlb",
        "execution": {
          "iopub.status.busy": "2024-10-07T09:16:21.330098Z",
          "iopub.execute_input": "2024-10-07T09:16:21.330999Z",
          "iopub.status.idle": "2024-10-07T09:16:21.368064Z",
          "shell.execute_reply.started": "2024-10-07T09:16:21.330957Z",
          "shell.execute_reply": "2024-10-07T09:16:21.367082Z"
        },
        "trusted": true
      },
      "execution_count": null,
      "outputs": []
    },
    {
      "cell_type": "markdown",
      "source": [
        "- Оцените качество модели метриками accuracy, precision_recall_fscore_support, добавив в Trainer параметр compute_metrics, реализовав соответствующие метрики.\n"
      ],
      "metadata": {
        "id": "NAvQhcdS3WbC"
      }
    },
    {
      "cell_type": "code",
      "source": [
        "from sklearn.metrics import accuracy_score, precision_recall_fscore_support\n",
        "import numpy as np\n",
        "\n",
        "def compute_metrics(eval_pred):\n",
        "    predictions, labels = eval_pred\n",
        "    predictions = np.argmax(predictions, axis=1)\n",
        "    precision, recall, f1, _ = precision_recall_fscore_support(labels, predictions, average='binary')\n",
        "    acc = accuracy_score(labels, predictions)\n",
        "    return {\n",
        "        'accuracy': acc,\n",
        "        'f1': f1,\n",
        "        'precision': precision,\n",
        "        'recall': recall\n",
        "    }"
      ],
      "metadata": {
        "id": "JzO5qJdUWYgN",
        "execution": {
          "iopub.status.busy": "2024-10-07T09:16:22.966873Z",
          "iopub.execute_input": "2024-10-07T09:16:22.967253Z",
          "iopub.status.idle": "2024-10-07T09:16:22.974424Z",
          "shell.execute_reply.started": "2024-10-07T09:16:22.967220Z",
          "shell.execute_reply": "2024-10-07T09:16:22.973487Z"
        },
        "trusted": true
      },
      "execution_count": null,
      "outputs": []
    },
    {
      "cell_type": "code",
      "source": [
        "from transformers import Trainer\n",
        "import torch\n",
        "\n",
        "trainer = Trainer(\n",
        "    model=model,\n",
        "    args=training_args,\n",
        "    compute_metrics=compute_metrics,\n",
        "    tokenizer=tokenizer,\n",
        "    train_dataset=train_data,\n",
        "    eval_dataset=test_data\n",
        ")\n",
        "\n",
        "device = 'cuda' if torch.cuda.is_available() else 'cpu'\n",
        "device"
      ],
      "metadata": {
        "id": "HAxcPS8TWL_i",
        "colab": {
          "base_uri": "https://localhost:8080/",
          "height": 35
        },
        "outputId": "ea28a04e-1152-4923-a43f-2d4d06526067",
        "execution": {
          "iopub.status.busy": "2024-10-07T09:16:24.471198Z",
          "iopub.execute_input": "2024-10-07T09:16:24.471599Z",
          "iopub.status.idle": "2024-10-07T09:16:24.646522Z",
          "shell.execute_reply.started": "2024-10-07T09:16:24.471563Z",
          "shell.execute_reply": "2024-10-07T09:16:24.645572Z"
        },
        "trusted": true
      },
      "execution_count": null,
      "outputs": [
        {
          "execution_count": 150,
          "output_type": "execute_result",
          "data": {
            "text/plain": "'cuda'"
          },
          "metadata": {}
        }
      ]
    },
    {
      "cell_type": "code",
      "source": [
        "trainer.train()"
      ],
      "metadata": {
        "execution": {
          "iopub.status.busy": "2024-10-07T09:16:26.711777Z",
          "iopub.execute_input": "2024-10-07T09:16:26.712935Z",
          "iopub.status.idle": "2024-10-07T09:25:04.247360Z",
          "shell.execute_reply.started": "2024-10-07T09:16:26.712895Z",
          "shell.execute_reply": "2024-10-07T09:25:04.246388Z"
        },
        "trusted": true,
        "id": "dmZZCTMNbBAS",
        "outputId": "a1fc3806-0d5b-4531-85c6-a07ece6a962c"
      },
      "execution_count": null,
      "outputs": [
        {
          "output_type": "display_data",
          "data": {
            "text/plain": "<IPython.core.display.HTML object>",
            "text/html": "\n    <div>\n      \n      <progress value='168' max='168' style='width:300px; height:20px; vertical-align: middle;'></progress>\n      [168/168 08:33, Epoch 2/3]\n    </div>\n    <table border=\"1\" class=\"dataframe\">\n  <thead>\n <tr style=\"text-align: left;\">\n      <th>Epoch</th>\n      <th>Training Loss</th>\n      <th>Validation Loss</th>\n      <th>Accuracy</th>\n      <th>F1</th>\n      <th>Precision</th>\n      <th>Recall</th>\n    </tr>\n  </thead>\n  <tbody>\n    <tr>\n      <td>0</td>\n      <td>0.486100</td>\n      <td>0.432318</td>\n      <td>0.820248</td>\n      <td>0.000000</td>\n      <td>0.000000</td>\n      <td>0.000000</td>\n    </tr>\n    <tr>\n      <td>1</td>\n      <td>0.310700</td>\n      <td>0.273545</td>\n      <td>0.885124</td>\n      <td>0.668258</td>\n      <td>0.694789</td>\n      <td>0.643678</td>\n    </tr>\n    <tr>\n      <td>2</td>\n      <td>0.195400</td>\n      <td>0.202052</td>\n      <td>0.922314</td>\n      <td>0.794311</td>\n      <td>0.757829</td>\n      <td>0.834483</td>\n    </tr>\n  </tbody>\n</table><p>"
          },
          "metadata": {}
        },
        {
          "execution_count": 151,
          "output_type": "execute_result",
          "data": {
            "text/plain": "TrainOutput(global_step=168, training_loss=0.4245387131259555, metrics={'train_runtime': 516.854, 'train_samples_per_second': 42.128, 'train_steps_per_second': 0.325, 'total_flos': 914162917407360.0, 'train_loss': 0.4245387131259555, 'epoch': 2.960352422907489})"
          },
          "metadata": {}
        }
      ]
    },
    {
      "cell_type": "code",
      "source": [
        "trainer.evaluate()"
      ],
      "metadata": {
        "id": "jk4Sp3kEqYaf",
        "execution": {
          "iopub.status.busy": "2024-10-07T09:25:04.249154Z",
          "iopub.execute_input": "2024-10-07T09:25:04.249479Z",
          "iopub.status.idle": "2024-10-07T09:25:19.037700Z",
          "shell.execute_reply.started": "2024-10-07T09:25:04.249445Z",
          "shell.execute_reply": "2024-10-07T09:25:19.036787Z"
        },
        "trusted": true,
        "outputId": "138bceb5-5ac8-44aa-ef5a-1ee187958913"
      },
      "execution_count": null,
      "outputs": [
        {
          "output_type": "display_data",
          "data": {
            "text/plain": "<IPython.core.display.HTML object>",
            "text/html": ""
          },
          "metadata": {}
        },
        {
          "execution_count": 152,
          "output_type": "execute_result",
          "data": {
            "text/plain": "{'eval_loss': 0.2020522505044937,\n 'eval_accuracy': 0.9223140495867769,\n 'eval_f1': 0.7943107221006565,\n 'eval_precision': 0.7578288100208769,\n 'eval_recall': 0.8344827586206897,\n 'eval_runtime': 14.7739,\n 'eval_samples_per_second': 163.802,\n 'eval_steps_per_second': 10.288,\n 'epoch': 2.960352422907489}"
          },
          "metadata": {}
        }
      ]
    },
    {
      "cell_type": "code",
      "source": [
        "predictions=trainer.predict(eval_data).predictions\n",
        "predictions = np.argmax(predictions, axis=1)\n",
        "predictions"
      ],
      "metadata": {
        "id": "Zb6bpBQ_qY8w",
        "execution": {
          "iopub.status.busy": "2024-10-07T09:25:19.039288Z",
          "iopub.execute_input": "2024-10-07T09:25:19.039679Z",
          "iopub.status.idle": "2024-10-07T09:25:38.979098Z",
          "shell.execute_reply.started": "2024-10-07T09:25:19.039633Z",
          "shell.execute_reply": "2024-10-07T09:25:38.978148Z"
        },
        "trusted": true,
        "outputId": "0aecb6dc-d08e-460c-f902-f656bbd58a40"
      },
      "execution_count": null,
      "outputs": [
        {
          "execution_count": 153,
          "output_type": "execute_result",
          "data": {
            "text/plain": "array([0, 1, 1, ..., 1, 1, 0])"
          },
          "metadata": {}
        }
      ]
    },
    {
      "cell_type": "code",
      "source": [
        "compute_confusion_matrix(y_eval, list(predictions))\n",
        "# TP FP\n",
        "# FN TN"
      ],
      "metadata": {
        "id": "9GPHUa85sCSF",
        "execution": {
          "iopub.status.busy": "2024-10-07T09:25:38.981151Z",
          "iopub.execute_input": "2024-10-07T09:25:38.981465Z",
          "iopub.status.idle": "2024-10-07T09:25:38.992242Z",
          "shell.execute_reply.started": "2024-10-07T09:25:38.981432Z",
          "shell.execute_reply": "2024-10-07T09:25:38.991254Z"
        },
        "trusted": true,
        "outputId": "02912ade-3ad6-460a-8177-1cb3070f45ad"
      },
      "execution_count": null,
      "outputs": [
        {
          "execution_count": 154,
          "output_type": "execute_result",
          "data": {
            "text/plain": "array([[2389.,  203.],\n       [ 129.,  505.]])"
          },
          "metadata": {}
        }
      ]
    },
    {
      "cell_type": "markdown",
      "source": [
        "В данном случае доля FP выше доли FN, модель склона немного перееоценивать токсичность комментариев\n"
      ],
      "metadata": {
        "id": "LFmmlxh5b5Zl"
      }
    },
    {
      "cell_type": "markdown",
      "source": [
        "- Подготовьте краткий (1-2 стр.) отчет, который будет включать сравнение по метрикам accuracy, precision, recall, f1-score всех реализованных моделей на отложенном eval наборе данных."
      ],
      "metadata": {
        "id": "AP5iEb1_3ZyA"
      }
    },
    {
      "cell_type": "code",
      "source": [
        "def print_metrics_on_eval(predictions):\n",
        "    precision, recall, f1, _ = precision_recall_fscore_support(y_eval, predictions, average='binary')\n",
        "    acc = accuracy_score(y_eval, predictions)\n",
        "    print(f\"accuracy: {acc}\")\n",
        "    print(f\"precision: {precision}\")\n",
        "    print(f\"recall: {recall}\")\n",
        "    print(f\"f1: {f1}\")\n"
      ],
      "metadata": {
        "id": "bA5ZuR7DPy_M",
        "execution": {
          "iopub.status.busy": "2024-10-07T09:25:38.993557Z",
          "iopub.execute_input": "2024-10-07T09:25:38.993978Z",
          "iopub.status.idle": "2024-10-07T09:25:39.001185Z",
          "shell.execute_reply.started": "2024-10-07T09:25:38.993931Z",
          "shell.execute_reply": "2024-10-07T09:25:39.000294Z"
        },
        "trusted": true
      },
      "execution_count": null,
      "outputs": []
    },
    {
      "cell_type": "code",
      "source": [
        "predictions = rf_best.predict(eval)\n",
        "print_metrics_on_eval(predictions)"
      ],
      "metadata": {
        "execution": {
          "iopub.status.busy": "2024-10-07T09:31:55.063807Z",
          "iopub.execute_input": "2024-10-07T09:31:55.064819Z",
          "iopub.status.idle": "2024-10-07T09:31:55.682023Z",
          "shell.execute_reply.started": "2024-10-07T09:31:55.064774Z",
          "shell.execute_reply": "2024-10-07T09:31:55.680950Z"
        },
        "trusted": true,
        "id": "CafHupn7bBAT",
        "outputId": "14eae956-facd-468b-dc46-4098a956f124"
      },
      "execution_count": null,
      "outputs": [
        {
          "name": "stdout",
          "text": "accuracy: 0.8952262864228147\nprecision: 0.8609756097560975\nrecall: 0.556782334384858\nf1: 0.6762452107279694\n",
          "output_type": "stream"
        }
      ]
    },
    {
      "cell_type": "code",
      "source": [
        "predictions = np.argmax(trainer.predict(eval_data).predictions, axis=1)\n",
        "print_metrics_on_eval(predictions)"
      ],
      "metadata": {
        "id": "H46X2o03H3AT",
        "execution": {
          "iopub.status.busy": "2024-10-07T09:25:52.276794Z",
          "iopub.execute_input": "2024-10-07T09:25:52.277656Z",
          "iopub.status.idle": "2024-10-07T09:26:11.445671Z",
          "shell.execute_reply.started": "2024-10-07T09:25:52.277615Z",
          "shell.execute_reply": "2024-10-07T09:26:11.444630Z"
        },
        "trusted": true,
        "outputId": "53e63d40-6a0d-4b07-ba7a-f25fb7f0463a"
      },
      "execution_count": null,
      "outputs": [
        {
          "output_type": "display_data",
          "data": {
            "text/plain": "<IPython.core.display.HTML object>",
            "text/html": ""
          },
          "metadata": {}
        },
        {
          "name": "stdout",
          "text": "accuracy: 0.8970861748295103\nprecision: 0.713276836158192\nrecall: 0.7965299684542587\nf1: 0.7526080476900149\n",
          "output_type": "stream"
        }
      ]
    },
    {
      "cell_type": "markdown",
      "source": [
        "Видим, что результат трансформера получился в целом немного лучше по всем метрикам, чем классической модели машинного обучения"
      ],
      "metadata": {
        "id": "ix66GaAQcf9a"
      }
    },
    {
      "cell_type": "markdown",
      "source": [
        "В отчете опишите все проблемы, с которыми вы столкнулись, и как вы их решили."
      ],
      "metadata": {
        "id": "q1XvxzkmcsGg"
      }
    },
    {
      "cell_type": "markdown",
      "source": [
        "Проблемы\n",
        "- С непривычки долго по времени (заняло все выходные) занимает гуглить примерно на каждую строку кода\n",
        "- Не хватает знаний, на какие параметры стоит смотреть и подкручивать, а какие не помогут, не стала в это углубляться, чтобы совсем не застрять\n",
        "- Не хватает публичных мощностей, в какой-то момент кончилась квота google colab, пришлось переезжать на kaggle, что отразилось в некоторых частях ноутбука"
      ],
      "metadata": {
        "id": "g4FPOKHg0Nij"
      }
    }
  ]
}